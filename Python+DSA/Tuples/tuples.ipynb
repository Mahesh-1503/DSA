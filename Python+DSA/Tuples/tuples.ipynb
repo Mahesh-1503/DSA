{
 "cells": [
  {
   "cell_type": "markdown",
   "id": "8de0737c",
   "metadata": {},
   "source": [
    "#### Tuple:\n",
    "* A tuple is a collection which is ordered and unchangeable. Allows duplicate members.\n",
    "* Tuples are written with round brackets.\n",
    "* Tuples are unchangeable, meaning that we cannot change, add or remove items once the tuple is created.\n",
    "* Tuples are used to write-protect data and they are usually used for heterogenous (different) data types, while lists are used for homogenous (similar) data types.\n",
    "* Tuples are faster than lists.\n",
    "* Tuples are immutable, so we cannot change its content without creating a new tuple.\n",
    "* Tuples allows duplicate members.\n",
    "* Tuples are written with round brackets.\n",
    "* Tuples are ordered, so we can access items by referring to their index.\n",
    "* Tuples are immutable, so we cannot change its content without creating a new tuple.\n",
    "* Tuples allows duplicate members."
   ]
  },
  {
   "cell_type": "code",
   "execution_count": 1,
   "id": "c89c5afc",
   "metadata": {},
   "outputs": [
    {
     "name": "stdout",
     "output_type": "stream",
     "text": [
      "()\n",
      "<class 'tuple'>\n"
     ]
    }
   ],
   "source": [
    "## creating tuple\n",
    "empty_tuple = ()\n",
    "print(empty_tuple)\n",
    "print(type(empty_tuple))"
   ]
  },
  {
   "cell_type": "code",
   "execution_count": 2,
   "id": "7e9271ee",
   "metadata": {},
   "outputs": [
    {
     "name": "stdout",
     "output_type": "stream",
     "text": [
      "<class 'list'>\n",
      "<class 'tuple'>\n"
     ]
    }
   ],
   "source": [
    "lst = list()\n",
    "print(type(lst))\n",
    "tpl = tuple()\n",
    "print(type(tpl))"
   ]
  },
  {
   "cell_type": "code",
   "execution_count": null,
   "id": "904baf18",
   "metadata": {},
   "outputs": [
    {
     "name": "stdout",
     "output_type": "stream",
     "text": [
      "([1, 2, 3, 4, 5], [6, 7, 8, 9, 10])\n"
     ]
    }
   ],
   "source": [
    "numbers = ([1, 2, 3, 4, 5], [6, 7, 8, 9, 10])\n",
    "print(numbers)"
   ]
  },
  {
   "cell_type": "code",
   "execution_count": 11,
   "id": "170a429a",
   "metadata": {},
   "outputs": [
    {
     "name": "stdout",
     "output_type": "stream",
     "text": [
      "[(1, 2), (3, 4), (5, 6)]\n",
      "<class 'list'>\n"
     ]
    }
   ],
   "source": [
    "list_of_tuples = [(1, 2), (3, 4), (5, 6)]\n",
    "print(list_of_tuples)\n",
    "print(type(list_of_tuples))"
   ]
  },
  {
   "cell_type": "code",
   "execution_count": 12,
   "id": "a49a898f",
   "metadata": {},
   "outputs": [
    {
     "name": "stdout",
     "output_type": "stream",
     "text": [
      "(1, 'hello', 3.14, True)\n"
     ]
    }
   ],
   "source": [
    "mixed_tuple = (1, \"hello\", 3.14, True)\n",
    "print(mixed_tuple)"
   ]
  },
  {
   "cell_type": "markdown",
   "id": "e30cd6a6",
   "metadata": {},
   "source": [
    "* Accessing Tuple Elements"
   ]
  },
  {
   "cell_type": "code",
   "execution_count": 16,
   "id": "21e5b5cb",
   "metadata": {},
   "outputs": [
    {
     "name": "stdout",
     "output_type": "stream",
     "text": [
      "(1, 2, 3, 4, 5)\n",
      "<class 'tuple'>\n",
      "1\n",
      "2\n",
      "5\n",
      "4\n",
      "(2, 3)\n",
      "(2, 4)\n",
      "(1, 2, 3)\n",
      "(3, 4, 5)\n"
     ]
    }
   ],
   "source": [
    "numbers = (1, 2, 3, 4, 5)\n",
    "print(numbers)\n",
    "print(type(numbers))\n",
    "# Accessing Tuple Elements\n",
    "print(numbers[0])  # Accessing the first element\n",
    "print(numbers[1])  # Accessing the second element\n",
    "print(numbers[-1])  # Accessing the last element\n",
    "print(numbers[-2])  # Accessing the second last element\n",
    "print(numbers[1:3])  # Accessing a slice of the tuple\n",
    "print(numbers[1:5:2])  # Accessing every second element from the second to the fifth element\n",
    "print(numbers[:3])  # Accessing the first three elements\n",
    "print(numbers[2:])  # Accessing the elements from the third element to the end"
   ]
  },
  {
   "cell_type": "code",
   "execution_count": 19,
   "id": "f8bd96c7",
   "metadata": {},
   "outputs": [
    {
     "name": "stdout",
     "output_type": "stream",
     "text": [
      "(1, 2, 3, 4, 5)\n",
      "(5, 4, 3, 2, 1)\n"
     ]
    }
   ],
   "source": [
    "numbers[::] # Accessing all elements (equivalent to the original tuple)\n",
    "print(numbers[::])  # Printing all elements\n",
    "numbers[::-1]  # Reversing the tuple\n",
    "print(numbers[::-1])  # Printing the reversed tuple"
   ]
  },
  {
   "cell_type": "markdown",
   "id": "55d7edaa",
   "metadata": {},
   "source": [
    "##### Tuple Operations"
   ]
  },
  {
   "cell_type": "markdown",
   "id": "0513a499",
   "metadata": {},
   "source": [
    "* Concatenation"
   ]
  },
  {
   "cell_type": "code",
   "execution_count": 23,
   "id": "499663aa",
   "metadata": {},
   "outputs": [
    {
     "name": "stdout",
     "output_type": "stream",
     "text": [
      "(1, 2, 3, 4, 5, 6)\n",
      "(1, 2, 3, 1, 2, 3)\n",
      "(1, 2, 3, 1, 2, 3, 1, 2, 3)\n"
     ]
    }
   ],
   "source": [
    "tupleOne = (1, 2, 3)\n",
    "tupleTwo = (4, 5, 6)\n",
    "# Concatenation\n",
    "concatenated_tuple = tupleOne + tupleTwo\n",
    "print(concatenated_tuple)  # Output: (1, 2, 3, 4, 5, 6)\n",
    "# Repetition\n",
    "print(tupleOne*2)  # Output: (1, 2, 3, 1, 2, 3)\n",
    "print(tupleOne*3)  # Output: (1, 2, 3, 1, 2, 3, 1, 2, 3)"
   ]
  },
  {
   "cell_type": "markdown",
   "id": "42d7f593",
   "metadata": {},
   "source": [
    "### Immutable Nature Of Tuples"
   ]
  },
  {
   "cell_type": "markdown",
   "id": "a91d1c11",
   "metadata": {},
   "source": [
    "* Meaning that we cannot change the elements of a tuple once it is created."
   ]
  },
  {
   "cell_type": "code",
   "execution_count": 24,
   "id": "eb2610b5",
   "metadata": {},
   "outputs": [
    {
     "name": "stdout",
     "output_type": "stream",
     "text": [
      "(1, 2, 3, 4, 5)\n",
      "<class 'tuple'>\n"
     ]
    },
    {
     "ename": "TypeError",
     "evalue": "'tuple' object does not support item assignment",
     "output_type": "error",
     "traceback": [
      "\u001b[1;31m---------------------------------------------------------------------------\u001b[0m",
      "\u001b[1;31mTypeError\u001b[0m                                 Traceback (most recent call last)",
      "Cell \u001b[1;32mIn[24], line 5\u001b[0m\n\u001b[0;32m      3\u001b[0m \u001b[38;5;28mprint\u001b[39m(\u001b[38;5;28mtype\u001b[39m(numbers))\n\u001b[0;32m      4\u001b[0m \u001b[38;5;66;03m# Immutable Nature Of Tuples\u001b[39;00m\n\u001b[1;32m----> 5\u001b[0m \u001b[43mnumbers\u001b[49m\u001b[43m[\u001b[49m\u001b[38;5;241;43m0\u001b[39;49m\u001b[43m]\u001b[49m \u001b[38;5;241m=\u001b[39m \u001b[38;5;241m10\u001b[39m  \u001b[38;5;66;03m# This will raise an error\u001b[39;00m\n\u001b[0;32m      6\u001b[0m \u001b[38;5;28mprint\u001b[39m(numbers)\n",
      "\u001b[1;31mTypeError\u001b[0m: 'tuple' object does not support item assignment"
     ]
    }
   ],
   "source": [
    "numbers = (1, 2, 3, 4, 5)\n",
    "print(numbers)\n",
    "print(type(numbers))\n",
    "# Immutable Nature Of Tuples\n",
    "numbers[0] = 10  # This will raise an error\n",
    "print(numbers)\n"
   ]
  },
  {
   "cell_type": "markdown",
   "id": "ea337ad0",
   "metadata": {},
   "source": [
    "* Tuple Methods"
   ]
  },
  {
   "cell_type": "code",
   "execution_count": 43,
   "id": "bb9f7eb7",
   "metadata": {},
   "outputs": [
    {
     "name": "stdout",
     "output_type": "stream",
     "text": [
      "(1, 2, 3, 4, 5, 'hello', 3.14, True, 1, 2, 3)\n",
      "3\n",
      "2\n",
      "5\n",
      "True\n",
      "False\n",
      "True\n"
     ]
    }
   ],
   "source": [
    "Tuple= (1, 2, 3, 4, 5, 'hello', 3.14, True, 1, 2, 3)\n",
    "print(Tuple)\n",
    "print(Tuple.count(1))  # Count occurrences of 1\n",
    "print(Tuple.index(3))  # Find the index of the first occurrence of 3\n",
    "print(Tuple.index('hello'))  # Find the index of the first occurrence of 'hello'\n",
    "print(2 in Tuple)\n",
    "print(2 not in Tuple)\n",
    "print(66 not in Tuple)"
   ]
  },
  {
   "cell_type": "code",
   "execution_count": 29,
   "id": "56c03187",
   "metadata": {},
   "outputs": [
    {
     "ename": "TypeError",
     "evalue": "'<' not supported between instances of 'str' and 'int'",
     "output_type": "error",
     "traceback": [
      "\u001b[1;31m---------------------------------------------------------------------------\u001b[0m",
      "\u001b[1;31mTypeError\u001b[0m                                 Traceback (most recent call last)",
      "Cell \u001b[1;32mIn[29], line 1\u001b[0m\n\u001b[1;32m----> 1\u001b[0m \u001b[38;5;28mprint\u001b[39m(\u001b[38;5;28;43mmin\u001b[39;49m\u001b[43m(\u001b[49m\u001b[43mTuple\u001b[49m\u001b[43m)\u001b[49m)  \u001b[38;5;66;03m# Find the minimum value in the tuple\u001b[39;00m\n\u001b[0;32m      2\u001b[0m \u001b[38;5;28mprint\u001b[39m(\u001b[38;5;28mmax\u001b[39m(Tuple))  \u001b[38;5;66;03m# Find the maximum value in the tuple\u001b[39;00m\n",
      "\u001b[1;31mTypeError\u001b[0m: '<' not supported between instances of 'str' and 'int'"
     ]
    }
   ],
   "source": [
    "print(min(Tuple))  # Find the minimum value in the tuple\n",
    "print(max(Tuple))  # Find the maximum value in the tuple"
   ]
  },
  {
   "cell_type": "code",
   "execution_count": 52,
   "id": "0b9ef3be",
   "metadata": {},
   "outputs": [
    {
     "name": "stdout",
     "output_type": "stream",
     "text": [
      "1\n",
      "50\n",
      "103\n",
      "9\n"
     ]
    }
   ],
   "source": [
    "otherTuple = (1,2,1,3,5,16,22,50,3)\n",
    "print(min(otherTuple))\n",
    "print(max(otherTuple))\n",
    "print(sum(otherTuple))\n",
    "print(len(otherTuple))"
   ]
  },
  {
   "cell_type": "code",
   "execution_count": 51,
   "id": "3f459295",
   "metadata": {},
   "outputs": [
    {
     "name": "stdout",
     "output_type": "stream",
     "text": [
      "True\n",
      "False\n"
     ]
    }
   ],
   "source": [
    "t1 = (1,2,3)\n",
    "t2 = (1,2,3)\n",
    "print(t1 == t2)\n",
    "print(t1 != t2)"
   ]
  },
  {
   "cell_type": "markdown",
   "id": "56b3284a",
   "metadata": {},
   "source": [
    "##### Packing and Unpacking"
   ]
  },
  {
   "cell_type": "code",
   "execution_count": 4,
   "id": "a6c65e99",
   "metadata": {},
   "outputs": [
    {
     "name": "stdout",
     "output_type": "stream",
     "text": [
      "packed_tuple: (1, 'Hello', 3.14, True)\n",
      "<class 'tuple'>\n",
      "a: 1\n",
      "b: Hello\n",
      "c: 3.14\n",
      "d: True\n"
     ]
    }
   ],
   "source": [
    "## Packing\n",
    "packed_tuple=1, \"Hello\", 3.14, True\n",
    "print(\"packed_tuple:\", packed_tuple)\n",
    "print(type(packed_tuple))\n",
    "## Unpacking\n",
    "a, b, c, d = packed_tuple\n",
    "print(\"a:\", a)\n",
    "print(\"b:\", b)\n",
    "print(\"c:\", c)\n",
    "print(\"d:\", d)"
   ]
  },
  {
   "cell_type": "code",
   "execution_count": 6,
   "id": "2a13b994",
   "metadata": {},
   "outputs": [
    {
     "name": "stdout",
     "output_type": "stream",
     "text": [
      "first: 1\n",
      "middle: [2, 3, 4, 5]\n",
      "last: 6\n"
     ]
    }
   ],
   "source": [
    "## unpacking tuple with *\n",
    "numbers = (1, 2, 3, 4, 5,6)\n",
    "first,*middle,last=numbers\n",
    "print(\"first:\", first)\n",
    "print(\"middle:\", middle)\n",
    "print(\"last:\", last)"
   ]
  },
  {
   "cell_type": "markdown",
   "id": "42e35ce6",
   "metadata": {},
   "source": [
    "#### Nested Tuple"
   ]
  },
  {
   "cell_type": "code",
   "execution_count": 12,
   "id": "7f46f734",
   "metadata": {},
   "outputs": [
    {
     "name": "stdout",
     "output_type": "stream",
     "text": [
      "nested_tuple: (1, 2, (3, 4), (5, 6))\n",
      "Accessing nested tuple: (3, 4)\n",
      "Accessing element in nested tuple: 3\n"
     ]
    }
   ],
   "source": [
    "## Nested Tuple\n",
    "nested_tuple = (1, 2, (3, 4), (5, 6))\n",
    "print(\"nested_tuple:\", nested_tuple)\n",
    "print(\"Accessing nested tuple:\", nested_tuple[2])  # Accessing the third element which is a tuple\n",
    "print(\"Accessing element in nested tuple:\", nested_tuple[2][0])  # Accessing the first element of the nested tuple"
   ]
  },
  {
   "cell_type": "markdown",
   "id": "5a697ca6",
   "metadata": {},
   "source": [
    "#### Iterating over nested tuple:"
   ]
  },
  {
   "cell_type": "code",
   "execution_count": 16,
   "id": "f2c49db4",
   "metadata": {},
   "outputs": [
    {
     "name": "stdout",
     "output_type": "stream",
     "text": [
      "nested_tuple: ((1, 2, 3), ('a', 'b', 'c'), (True, False))\n",
      "1 2 3 \n",
      "a b c \n",
      "True False \n"
     ]
    }
   ],
   "source": [
    "nested_tuple = ((1,2,3),(\"a\",\"b\",\"c\"),(True,False))\n",
    "print(\"nested_tuple:\", nested_tuple)\n",
    "for sub_tuple in nested_tuple:\n",
    "    for element in sub_tuple:\n",
    "        print(element, end=' ')\n",
    "    print()"
   ]
  }
 ],
 "metadata": {
  "kernelspec": {
   "display_name": "Python 3",
   "language": "python",
   "name": "python3"
  },
  "language_info": {
   "codemirror_mode": {
    "name": "ipython",
    "version": 3
   },
   "file_extension": ".py",
   "mimetype": "text/x-python",
   "name": "python",
   "nbconvert_exporter": "python",
   "pygments_lexer": "ipython3",
   "version": "3.13.5"
  }
 },
 "nbformat": 4,
 "nbformat_minor": 5
}
