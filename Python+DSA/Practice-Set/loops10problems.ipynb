{
 "cells": [
  {
   "cell_type": "markdown",
   "id": "507a4d2d",
   "metadata": {},
   "source": [
    "#### Count the +ve numbers from the list"
   ]
  },
  {
   "cell_type": "code",
   "execution_count": 11,
   "metadata": {},
   "outputs": [
    {
     "name": "stdout",
     "output_type": "stream",
     "text": [
      "Count of positive numbers: 6\n"
     ]
    }
   ],
   "source": [
    "numbers = [1, -2, 3, -4, 5, 6, -7, -8, 9, 10]\n",
    "positive_numbers_count = 0\n",
    "# Count the number of positive numbers in the list\n",
    "for num in numbers:\n",
    "    if num > 0:\n",
    "        positive_numbers_count += 1\n",
    "print(\"Count of positive numbers:\", positive_numbers_count)"
   ]
  },
  {
   "cell_type": "markdown",
   "id": "4565adf1",
   "metadata": {},
   "source": [
    "#### Calculate the sum of even numbers up to a given number"
   ]
  },
  {
   "cell_type": "code",
   "execution_count": null,
   "id": "9e7bc515",
   "metadata": {},
   "outputs": [
    {
     "name": "stdout",
     "output_type": "stream",
     "text": [
      "Sum of even numbers up to 10 is: 30\n"
     ]
    }
   ],
   "source": [
    "n = int(input(\"Enter a number: \"))\n",
    "# Calculate the sum of even numbers up to a given number\n",
    "sum_even = 0\n",
    "for i in range(1, n+1):\n",
    "    if i%2 == 0:\n",
    "        sum_even += i\n",
    "print(\"Sum of even numbers up to\", n, \"is:\", sum_even)"
   ]
  },
  {
   "cell_type": "markdown",
   "id": "5c491a38",
   "metadata": {},
   "source": [
    "#### Print the multiplication table of a given number up to 10. but skip the fifth iteration."
   ]
  },
  {
   "cell_type": "code",
   "execution_count": 15,
   "id": "ecb6158f",
   "metadata": {},
   "outputs": [
    {
     "name": "stdout",
     "output_type": "stream",
     "text": [
      "9 x 1 = 9\n",
      "9 x 2 = 18\n",
      "9 x 3 = 27\n",
      "9 x 4 = 36\n",
      "9 x 6 = 54\n",
      "9 x 7 = 63\n",
      "9 x 8 = 72\n",
      "9 x 9 = 81\n",
      "9 x 10 = 90\n"
     ]
    }
   ],
   "source": [
    "number = int(input(\"Enter a number: \"))\n",
    "n = int(input(\"Enter start range of multiplication table: \"))\n",
    "m = int(input(\"Enter end range of multiplication table: \"))\n",
    "# Print the multiplication table of a given number up to 10. but skip the fifth iteration.\n",
    "for i in range(n,m+1):\n",
    "    if i == 5:\n",
    "        continue\n",
    "    print(f\"{number} x {i} = {number * i}\")"
   ]
  },
  {
   "cell_type": "markdown",
   "id": "5b5b2ec8",
   "metadata": {},
   "source": [
    "#### Reverse a string using a Loop"
   ]
  },
  {
   "cell_type": "code",
   "execution_count": 19,
   "id": "ac8d0f72",
   "metadata": {},
   "outputs": [
    {
     "name": "stdout",
     "output_type": "stream",
     "text": [
      "Original string: Mahesh\n",
      "Reversed string: hsehaM\n"
     ]
    }
   ],
   "source": [
    "string=input(\"Enter a string: \")\n",
    "print(\"Original string:\", string)\n",
    "# Reverse a string using slicing\n",
    "# print(string[::-1])\n",
    "# Reverse a string using a Loop\n",
    "reversed_string = \"\"\n",
    "for char in string:\n",
    "    reversed_string = char + reversed_string\n",
    "print(\"Reversed string:\", reversed_string)"
   ]
  },
  {
   "cell_type": "markdown",
   "id": "c97f6fd8",
   "metadata": {},
   "source": [
    "#### Find the 1st non-repeated character in a string\n",
    "* Given a string, find the first non-repeated character in it."
   ]
  },
  {
   "cell_type": "code",
   "execution_count": 23,
   "id": "94fe90a8",
   "metadata": {},
   "outputs": [
    {
     "name": "stdout",
     "output_type": "stream",
     "text": [
      "first non-repeated character is: C\n"
     ]
    }
   ],
   "source": [
    "input_string = \"ChidyaGhar\"\n",
    "for char in input_string:\n",
    "    if input_string.count(char) == 1:\n",
    "        print(f\"first non-repeated character is: {char}\")\n",
    "        break"
   ]
  },
  {
   "cell_type": "markdown",
   "id": "3b03075b",
   "metadata": {},
   "source": [
    "#### Factorial Calculator\n",
    "* Compute the factorial of a given number using a loop."
   ]
  },
  {
   "cell_type": "code",
   "execution_count": 28,
   "id": "90cf469b",
   "metadata": {},
   "outputs": [
    {
     "name": "stdout",
     "output_type": "stream",
     "text": [
      "The factorial of 1 is 720\n"
     ]
    }
   ],
   "source": [
    "number = int(input(\"Enter a number: \"))\n",
    "factorial = 1\n",
    "while number > 1:\n",
    "    factorial *= number\n",
    "    number -= 1\n",
    "print(f\"The factorial of {number} is {factorial}\")"
   ]
  },
  {
   "cell_type": "markdown",
   "id": "1e7acd8f",
   "metadata": {},
   "source": [
    "#### Validate Input\n",
    "* Keep asking the user for input until they enter a number between 1 and 10."
   ]
  },
  {
   "cell_type": "code",
   "execution_count": 32,
   "id": "0d48177c",
   "metadata": {},
   "outputs": [
    {
     "name": "stdout",
     "output_type": "stream",
     "text": [
      "25 Invalid input. Enter number b/w 1 to 10 Please try again.\n",
      "96 Invalid input. Enter number b/w 1 to 10 Please try again.\n",
      "33 Invalid input. Enter number b/w 1 to 10 Please try again.\n",
      "65 Invalid input. Enter number b/w 1 to 10 Please try again.\n",
      "Valid input: Unlocked\n"
     ]
    }
   ],
   "source": [
    "while True:\n",
    "    number = int(input(\"Enter a number between 1 and 10: \"))\n",
    "    if 1 <= number <= 10:\n",
    "        print(\"Valid input: Unlocked\")\n",
    "        break\n",
    "    else:\n",
    "        print(f\"{number} Invalid input. Enter number b/w 1 to 10 Please try again.\")"
   ]
  },
  {
   "cell_type": "markdown",
   "id": "82ea2914",
   "metadata": {},
   "source": [
    "#### Prime number checker"
   ]
  },
  {
   "cell_type": "code",
   "execution_count": 36,
   "id": "65a7b907",
   "metadata": {},
   "outputs": [
    {
     "name": "stdout",
     "output_type": "stream",
     "text": [
      "4 is not a prime number\n"
     ]
    }
   ],
   "source": [
    "number = int(input(\"Enter a number to check if it's prime: \"))\n",
    "# Check if a number is prime\n",
    "is_prime = True\n",
    "if number > 1:\n",
    "    for i in range(2,number):\n",
    "        if number % i == 0:\n",
    "            is_prime = False\n",
    "            break\n",
    "    if is_prime:\n",
    "        print(f\"{number} is a prime number\")\n",
    "    else:\n",
    "        print(f\"{number} is not a prime number\")"
   ]
  },
  {
   "cell_type": "markdown",
   "id": "bb9066e8",
   "metadata": {},
   "source": [
    "#### List uniqueness checker\n",
    "* Check if all the elements in a list are unique. If a duplicate is found, print a message and exit the program."
   ]
  },
  {
   "cell_type": "code",
   "execution_count": 47,
   "id": "3fa9e563",
   "metadata": {},
   "outputs": [
    {
     "name": "stdout",
     "output_type": "stream",
     "text": [
      "['apple', 'banana', 'orange', 'apple']\n",
      "Duplicate item found: apple\n",
      "{'orange', 'apple', 'banana'}\n"
     ]
    }
   ],
   "source": [
    "items = ['apple', 'banana', 'orange', 'apple']\n",
    "print(items)\n",
    "# Check if all elements in a list are unique\n",
    "unique_item = set()\n",
    "for item in items:\n",
    "    if item in unique_item:\n",
    "        print(f\"Duplicate item found: {item}\")\n",
    "        break\n",
    "    unique_item.add(item)\n",
    "print(unique_item)\n",
    "\n"
   ]
  }
 ],
 "metadata": {
  "kernelspec": {
   "display_name": "Python 3",
   "language": "python",
   "name": "python3"
  },
  "language_info": {
   "codemirror_mode": {
    "name": "ipython",
    "version": 3
   },
   "file_extension": ".py",
   "mimetype": "text/x-python",
   "name": "python",
   "nbconvert_exporter": "python",
   "pygments_lexer": "ipython3",
   "version": "3.13.5"
  }
 },
 "nbformat": 4,
 "nbformat_minor": 5
}
