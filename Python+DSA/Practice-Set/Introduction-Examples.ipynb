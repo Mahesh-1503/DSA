{
 "cells": [
  {
   "cell_type": "code",
   "execution_count": 1,
   "id": "05685ef3",
   "metadata": {},
   "outputs": [
    {
     "name": "stdout",
     "output_type": "stream",
     "text": [
      "Hello, World!\n"
     ]
    }
   ],
   "source": [
    "print(\"Hello, World!\")"
   ]
  },
  {
   "cell_type": "code",
   "execution_count": null,
   "id": "a76d91b0",
   "metadata": {},
   "outputs": [
    {
     "name": "stdout",
     "output_type": "stream",
     "text": [
      "Sum of 20 and 22 is 42\n"
     ]
    }
   ],
   "source": [
    "# Add Two Numbers\n",
    "num1=int(input(\"Enter first number: \"))\n",
    "num2=int(input(\"Enter second number: \"))\n",
    "sum=num1+num2\n",
    "print(f\"Sum of {num1} and {num2} is {sum}\")"
   ]
  },
  {
   "cell_type": "code",
   "execution_count": 3,
   "id": "d70ca8eb",
   "metadata": {},
   "outputs": [
    {
     "name": "stdout",
     "output_type": "stream",
     "text": [
      "The square root of 36.0 is 6.0\n"
     ]
    }
   ],
   "source": [
    "# Python Program to Find the Square Root\n",
    "num = float(input(\"Enter a number: \"))\n",
    "num_sqrt = num ** 0.5\n",
    "print(f\"The square root of {num} is {num_sqrt}\")"
   ]
  },
  {
   "cell_type": "code",
   "execution_count": 10,
   "id": "291f1b7c",
   "metadata": {},
   "outputs": [
    {
     "name": "stdout",
     "output_type": "stream",
     "text": [
      "The square root of (1+2j) is (1.272019649514069+0.7861513777574233j)\n",
      "The square root of (1+2j) is 1.272+0.786j\n"
     ]
    }
   ],
   "source": [
    "# Find square root of real or complex numbers\n",
    "# Importing the complex math module\n",
    "import cmath\n",
    "num=eval(input(\"Enter a number: \"))\n",
    "# Finding square root\n",
    "num_sqrt = cmath.sqrt(num)\n",
    "print(f\"The square root of {num} is {num_sqrt}\") \n",
    "# print only 2 decimal places\n",
    "print(f\"The square root of {num} is {num_sqrt:.3f}\")"
   ]
  },
  {
   "cell_type": "code",
   "execution_count": 12,
   "id": "314db0c2",
   "metadata": {},
   "outputs": [
    {
     "name": "stdout",
     "output_type": "stream",
     "text": [
      "The area of triangle with sides 5.0, 6.0, and 7.0 is 14.70\n"
     ]
    }
   ],
   "source": [
    "# Python Program to Calculate the Area of a Triangle\n",
    "a = float(input(\"Enter first side: \"))\n",
    "b = float(input(\"Enter second side: \"))\n",
    "c = float(input(\"Enter third side: \"))\n",
    "# calculate the semi-perimeter\n",
    "s = (a + b + c) / 2\n",
    "# calculate the area using Heron's formula\n",
    "area=(s*(s-a)*(s-b)*(s-c))**0.5\n",
    "print(f\"The area of triangle with sides {a}, {b}, and {c} is {area:.2f}\")"
   ]
  },
  {
   "cell_type": "code",
   "execution_count": 13,
   "id": "a9debcb2",
   "metadata": {},
   "outputs": [
    {
     "name": "stdout",
     "output_type": "stream",
     "text": [
      "The area of the right-angled triangle with base 5.0 and height 6.0 is 15.00\n"
     ]
    }
   ],
   "source": [
    "# program to calculate the area of right angled triangle\n",
    "base = float(input(\"Enter the base of the triangle: \"))\n",
    "height = float(input(\"Enter the height of the triangle: \")) \n",
    "area = 0.5 * base * height\n",
    "print(f\"The area of the right-angled triangle with base {base} and height {height} is {area:.2f}\")"
   ]
  },
  {
   "cell_type": "markdown",
   "id": "a90e8531",
   "metadata": {},
   "source": [
    "#### Python Program to Solve Quadratic Equation\n"
   ]
  },
  {
   "cell_type": "markdown",
   "id": "234f7532",
   "metadata": {},
   "source": [
    "* The standard form of a quadratic equation is:\n",
    "\n",
    "* ax2 + bx + c = 0, where\n",
    "* a, b and c are real numbers and\n",
    "* a ≠ 0"
   ]
  },
  {
   "cell_type": "markdown",
   "id": "20198a13",
   "metadata": {},
   "source": [
    "* The solutions of this quadratic equation is given by:\n",
    "\n",
    "* (-b ± (b ** 2 - 4 * a * c) ** 0.5) / (2 * a)"
   ]
  },
  {
   "cell_type": "code",
   "execution_count": 18,
   "id": "18ca5c47",
   "metadata": {},
   "outputs": [
    {
     "name": "stdout",
     "output_type": "stream",
     "text": [
      "The solutions are -2.0 and -3.0\n"
     ]
    }
   ],
   "source": [
    "import cmath\n",
    "a = float(input(\"Enter coefficient a: \"))\n",
    "b = float(input(\"Enter coefficient b: \"))\n",
    "c = float(input(\"Enter coefficient c: \"))\n",
    "# calculate the discriminant\n",
    "d = (b**2)-(4*a*c)\n",
    "# find two solutions\n",
    "sol1 = (-b+(d**0.5))/(2*a)\n",
    "sol2 = (-b-(d**0.5))/(2*a)\n",
    "# sol1 = (-b+cmath.sqrt(d))/(2*a)\n",
    "# sol2 = (-b-cmath.sqrt(d))/(2*a)\n",
    "print(f\"The solutions are {sol1} and {sol2}\")"
   ]
  },
  {
   "cell_type": "code",
   "execution_count": 21,
   "id": "16b95c80",
   "metadata": {},
   "outputs": [
    {
     "name": "stdout",
     "output_type": "stream",
     "text": [
      "Before Swapping values are a: 10 and b: 20\n",
      "After Swapping values are a: 20 and b: 10\n"
     ]
    }
   ],
   "source": [
    "# swapping two numbers using a temporary variable\n",
    "a = int(input(\"Enter first number: \"))\n",
    "b = int(input(\"Enter second number: \"))\n",
    "print(f\"Before Swapping values are a: {a} and b: {b}\")\n",
    "# using a temporary variable to swap\n",
    "temp = a\n",
    "a = b\n",
    "b = temp\n",
    "print(f\"After Swapping values are a: {a} and b: {b}\")"
   ]
  },
  {
   "cell_type": "code",
   "execution_count": 25,
   "id": "84c3b871",
   "metadata": {},
   "outputs": [
    {
     "name": "stdout",
     "output_type": "stream",
     "text": [
      "before swapping x: 5, y: Mahesh\n",
      "After swapping\n",
      "x: Mahesh, y: 5\n"
     ]
    }
   ],
   "source": [
    "# Without Using Temporary Variable\n",
    "x = input(\"Enter x:\")\n",
    "y = input(\"Enter y:\")\n",
    "print(f\"before swapping x: {x}, y: {y}\")\n",
    "x,y = y, x\n",
    "print(\"After swapping\")\n",
    "print(f\"x: {x}, y: {y}\")"
   ]
  },
  {
   "cell_type": "code",
   "execution_count": 32,
   "id": "79f095f0",
   "metadata": {},
   "outputs": [
    {
     "name": "stdout",
     "output_type": "stream",
     "text": [
      "1\n"
     ]
    }
   ],
   "source": [
    "# generate a random number\n",
    "import random\n",
    "print(random.randint(1,4))"
   ]
  },
  {
   "cell_type": "code",
   "execution_count": 35,
   "id": "0f053cc6",
   "metadata": {},
   "outputs": [
    {
     "name": "stdout",
     "output_type": "stream",
     "text": [
      "125.0 kilometers is equal to 77.67 miles\n"
     ]
    }
   ],
   "source": [
    "# Kilometers to Miles\n",
    "# 1 kilometer is equal to 0.621371 miles\n",
    "km = float(input(\"Enter distance in kilometers: \"))\n",
    "miles = km * 0.621371\n",
    "print(f\"{km} kilometers is equal to {miles:.2f} miles\")"
   ]
  },
  {
   "cell_type": "code",
   "execution_count": 37,
   "id": "f0d3746d",
   "metadata": {},
   "outputs": [
    {
     "name": "stdout",
     "output_type": "stream",
     "text": [
      "77.67 miles is equal to 125.00 kilometers\n"
     ]
    }
   ],
   "source": [
    "# miles to kilometers\n",
    "# 1 mile is equal to 1.60934 kilometers\n",
    "miles = float(input(\"Enter distance in miles: \"))\n",
    "km = miles / 0.621371\n",
    "# or km = miles * 1.60934\n",
    "print(f\"{miles} miles is equal to {km:.2f} kilometers\")"
   ]
  },
  {
   "cell_type": "markdown",
   "id": "8b0147af",
   "metadata": {},
   "source": [
    "#### Python Program to Convert Celsius To Fahrenheit\n",
    "* Fahrenheit = (Celsius * 1.8) + 32"
   ]
  },
  {
   "cell_type": "code",
   "execution_count": 38,
   "id": "d73fcff5",
   "metadata": {},
   "outputs": [
    {
     "name": "stdout",
     "output_type": "stream",
     "text": [
      "37.5 Celsius is equal to 99.50 Fahrenheit\n"
     ]
    }
   ],
   "source": [
    "celsius = float(input(\"Enter temperature in Celsius: \"))\n",
    "fahrenheit=(celsius*1.8)+32\n",
    "print(f\"{celsius} Celsius is equal to {fahrenheit:.2f} Fahrenheit\")"
   ]
  },
  {
   "cell_type": "markdown",
   "id": "e6fcc04e",
   "metadata": {},
   "source": [
    "* celsius = (fahrenheit - 32)/1.8"
   ]
  },
  {
   "cell_type": "code",
   "execution_count": 40,
   "id": "6bc215ea",
   "metadata": {},
   "outputs": [
    {
     "name": "stdout",
     "output_type": "stream",
     "text": [
      "99.50 Fahrenheit is equal to 37.50 Celsius\n"
     ]
    }
   ],
   "source": [
    "fahrenheit=float(input(\"Enter temperature in Fahrenheit: \"))\n",
    "celsius=(fahrenheit-32)/1.8\n",
    "print(f\"{fahrenheit:.2f} Fahrenheit is equal to {celsius:.2f} Celsius\")"
   ]
  },
  {
   "cell_type": "markdown",
   "id": "b3992710",
   "metadata": {},
   "source": [
    "##### Using end keyword\n"
   ]
  },
  {
   "cell_type": "code",
   "execution_count": 41,
   "id": "db9af882",
   "metadata": {},
   "outputs": [
    {
     "name": "stdout",
     "output_type": "stream",
     "text": [
      "Hello, World! Its me Mahesh😇\n"
     ]
    }
   ],
   "source": [
    "print(\"Hello, World!\", end=\" \")\n",
    "print(\"Its me Mahesh😇\")"
   ]
  }
 ],
 "metadata": {
  "kernelspec": {
   "display_name": "Python 3",
   "language": "python",
   "name": "python3"
  },
  "language_info": {
   "codemirror_mode": {
    "name": "ipython",
    "version": 3
   },
   "file_extension": ".py",
   "mimetype": "text/x-python",
   "name": "python",
   "nbconvert_exporter": "python",
   "pygments_lexer": "ipython3",
   "version": "3.13.5"
  }
 },
 "nbformat": 4,
 "nbformat_minor": 5
}
