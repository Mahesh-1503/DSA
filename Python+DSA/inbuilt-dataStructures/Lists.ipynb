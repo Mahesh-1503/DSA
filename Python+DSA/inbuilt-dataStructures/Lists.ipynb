{
 "cells": [
  {
   "cell_type": "markdown",
   "id": "62121940",
   "metadata": {},
   "source": [
    "* Lists are ordered, mutable collections of items.\n",
    "* They can contain items of different data types.\n",
    "* 1.Creating lists\n",
    "* 2.Accessing list elements\n",
    "* 3.Modifying list elements\n",
    "* 4.List methods\n",
    "* 5.Slicing lists\n",
    "* 6.Iterating over lists\n",
    "* 7.List comprehensions\n",
    "* 8.Nested lists\n",
    "* 9.Practical examples and common errors"
   ]
  }
 ],
 "metadata": {
  "language_info": {
   "name": "python"
  }
 },
 "nbformat": 4,
 "nbformat_minor": 5
}
