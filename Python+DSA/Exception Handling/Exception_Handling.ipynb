{
 "cells": [
  {
   "cell_type": "markdown",
   "id": "99ea4d8f",
   "metadata": {},
   "source": [
    "#### Understanding Exceptions"
   ]
  },
  {
   "cell_type": "markdown",
   "id": "45e300cb",
   "metadata": {},
   "source": [
    "Exception handling in python allows you to handle errors gracefully and take corrective action without terminating the program abruptly. This lesson will cover the basics of exceptions, including how to use try, except, else, and finally blocks."
   ]
  },
  {
   "cell_type": "markdown",
   "id": "704bb48e",
   "metadata": {},
   "source": [
    "#### What are Exceptions ?"
   ]
  },
  {
   "cell_type": "markdown",
   "id": "aed8690a",
   "metadata": {},
   "source": [
    "1. Exceptions are events that disrupt the normal flow of a program. They occur when an error is encountered during program execution. Common exceptions include:\n",
    "    - ZeroDivisionError: occurs when you try to divide a number by zero.\n",
    "    - FileNotFoundError: occurs when you try to open a file that does not exist.\n",
    "    - ValueError: occurs when you pass a value of the wrong type to a function or method.\n",
    "    - TypeError: occurs when you try to perform an operation on a value of the wrong type.\n",
    "    "
   ]
  },
  {
   "cell_type": "code",
   "execution_count": 1,
   "id": "1525e852",
   "metadata": {},
   "outputs": [],
   "source": [
    "a=10"
   ]
  },
  {
   "cell_type": "code",
   "execution_count": 2,
   "id": "d0c7df5f",
   "metadata": {},
   "outputs": [
    {
     "ename": "NameError",
     "evalue": "name 'b' is not defined",
     "output_type": "error",
     "traceback": [
      "\u001b[1;31m---------------------------------------------------------------------------\u001b[0m",
      "\u001b[1;31mNameError\u001b[0m                                 Traceback (most recent call last)",
      "Cell \u001b[1;32mIn[2], line 1\u001b[0m\n\u001b[1;32m----> 1\u001b[0m a\u001b[38;5;241m=\u001b[39m\u001b[43mb\u001b[49m\n",
      "\u001b[1;31mNameError\u001b[0m: name 'b' is not defined"
     ]
    }
   ],
   "source": [
    "a=b"
   ]
  },
  {
   "cell_type": "code",
   "execution_count": 4,
   "id": "98c5b7f2",
   "metadata": {},
   "outputs": [
    {
     "name": "stdout",
     "output_type": "stream",
     "text": [
      "name 'b' is not defined\n"
     ]
    }
   ],
   "source": [
    "## Exception Handling try, except block\n",
    "try:\n",
    "    a=b\n",
    "except NameError as e:\n",
    "    print(e)"
   ]
  },
  {
   "cell_type": "code",
   "execution_count": 6,
   "id": "92c765cd",
   "metadata": {},
   "outputs": [
    {
     "name": "stdout",
     "output_type": "stream",
     "text": [
      "name 'b' is not defined\n"
     ]
    }
   ],
   "source": [
    "## Exception Handling try, except block\n",
    "try:\n",
    "    a=b\n",
    "except Exception as e:\n",
    "    print(e)"
   ]
  },
  {
   "cell_type": "code",
   "execution_count": 7,
   "id": "e6a666cc",
   "metadata": {},
   "outputs": [
    {
     "ename": "ZeroDivisionError",
     "evalue": "division by zero",
     "output_type": "error",
     "traceback": [
      "\u001b[1;31m---------------------------------------------------------------------------\u001b[0m",
      "\u001b[1;31mZeroDivisionError\u001b[0m                         Traceback (most recent call last)",
      "Cell \u001b[1;32mIn[7], line 1\u001b[0m\n\u001b[1;32m----> 1\u001b[0m result\u001b[38;5;241m=\u001b[39m\u001b[38;5;241;43m10\u001b[39;49m\u001b[38;5;241;43m/\u001b[39;49m\u001b[38;5;241;43m0\u001b[39;49m\n",
      "\u001b[1;31mZeroDivisionError\u001b[0m: division by zero"
     ]
    }
   ],
   "source": [
    "result=10/0"
   ]
  },
  {
   "cell_type": "code",
   "execution_count": 9,
   "id": "03fda314",
   "metadata": {},
   "outputs": [
    {
     "name": "stdout",
     "output_type": "stream",
     "text": [
      "Error:  division by zero\n"
     ]
    }
   ],
   "source": [
    "try:\n",
    "    result=10/0\n",
    "except ZeroDivisionError as e:\n",
    "    print(\"Error: \",e)"
   ]
  },
  {
   "cell_type": "code",
   "execution_count": 24,
   "id": "ac56163d",
   "metadata": {},
   "outputs": [
    {
     "name": "stdout",
     "output_type": "stream",
     "text": [
      "Error:  division by zero\n",
      "<class 'ZeroDivisionError'>\n"
     ]
    }
   ],
   "source": [
    "try:\n",
    "    result=10/0\n",
    "    b=5\n",
    "    a=b\n",
    "except Exception as e:\n",
    "    print(\"Error: \",e)\n",
    "    print(type(e))"
   ]
  },
  {
   "cell_type": "code",
   "execution_count": 27,
   "id": "d9a9ea94",
   "metadata": {},
   "outputs": [
    {
     "ename": "ZeroDivisionError",
     "evalue": "division by zero",
     "output_type": "error",
     "traceback": [
      "\u001b[1;31m---------------------------------------------------------------------------\u001b[0m",
      "\u001b[1;31mZeroDivisionError\u001b[0m                         Traceback (most recent call last)",
      "Cell \u001b[1;32mIn[27], line 3\u001b[0m\n\u001b[0;32m      1\u001b[0m \u001b[38;5;28;01mtry\u001b[39;00m:\n\u001b[0;32m      2\u001b[0m     num\u001b[38;5;241m=\u001b[39m\u001b[38;5;28mint\u001b[39m(\u001b[38;5;28minput\u001b[39m(\u001b[38;5;124m\"\u001b[39m\u001b[38;5;124mEnter a number: \u001b[39m\u001b[38;5;124m\"\u001b[39m))\n\u001b[1;32m----> 3\u001b[0m     result\u001b[38;5;241m=\u001b[39m\u001b[38;5;241;43m10\u001b[39;49m\u001b[38;5;241;43m/\u001b[39;49m\u001b[43mnum\u001b[49m\n\u001b[0;32m      4\u001b[0m     \u001b[38;5;28mprint\u001b[39m(\u001b[38;5;124m\"\u001b[39m\u001b[38;5;124mResult is: \u001b[39m\u001b[38;5;124m\"\u001b[39m,result)\n\u001b[0;32m      5\u001b[0m \u001b[38;5;28;01mexcept\u001b[39;00m \u001b[38;5;167;01mValueError\u001b[39;00m \u001b[38;5;28;01mas\u001b[39;00m e:\n",
      "\u001b[1;31mZeroDivisionError\u001b[0m: division by zero"
     ]
    }
   ],
   "source": [
    "try:\n",
    "    num=int(input(\"Enter a number: \"))\n",
    "    result=10/num\n",
    "    print(\"Result is: \",result)\n",
    "except ValueError as e:\n",
    "    print(\"Invalid Input\")"
   ]
  },
  {
   "cell_type": "code",
   "execution_count": 31,
   "id": "e6873039",
   "metadata": {},
   "outputs": [
    {
     "name": "stdout",
     "output_type": "stream",
     "text": [
      "division by zero\n"
     ]
    }
   ],
   "source": [
    "try:\n",
    "    num=int(input(\"Enter a number: \"))\n",
    "    result=10/num\n",
    "    print(\"Result is: \",result)\n",
    "except Exception as e:\n",
    "    print(e)"
   ]
  },
  {
   "cell_type": "markdown",
   "id": "5f496fac",
   "metadata": {},
   "source": [
    "- try, except, else: blocks"
   ]
  },
  {
   "cell_type": "code",
   "execution_count": 41,
   "id": "4c035730",
   "metadata": {},
   "outputs": [
    {
     "name": "stdout",
     "output_type": "stream",
     "text": [
      "ValueError: invalid literal for int() with base 10: 'k'\n"
     ]
    }
   ],
   "source": [
    "## try, except, else: blocks\n",
    "try:\n",
    "    num=int(input(\"Enter a number: \"))\n",
    "    result=10/num\n",
    "except Exception as e:\n",
    "    print(f\"{type(e).__name__}: {e}\")\n",
    "else:\n",
    "    print(f\"Result is: {result:.2f}\")"
   ]
  },
  {
   "cell_type": "markdown",
   "id": "e600784b",
   "metadata": {},
   "source": [
    "- File Handling and Exception Handling"
   ]
  },
  {
   "cell_type": "code",
   "execution_count": 56,
   "id": "ff3fc42b",
   "metadata": {},
   "outputs": [
    {
     "name": "stdout",
     "output_type": "stream",
     "text": [
      "Hi, I'm Mahesh\n"
     ]
    }
   ],
   "source": [
    "try:\n",
    "    with open(\"file.txt\",\"r\") as f:\n",
    "        content=f.read()\n",
    "        print(content)\n",
    "except FileNotFoundError as e:\n",
    "    print(f\"{e}\")"
   ]
  },
  {
   "cell_type": "code",
   "execution_count": 57,
   "id": "2c4c0582",
   "metadata": {},
   "outputs": [
    {
     "name": "stdout",
     "output_type": "stream",
     "text": [
      "FileNotFoundError :[Errno 2] No such file or directory: 'file3.txt'\n",
      "Execution completed\n"
     ]
    }
   ],
   "source": [
    "try:\n",
    "    with open(\"file3.txt\",\"r\") as f:\n",
    "        content=f.read()\n",
    "        print(content)\n",
    "except Exception as e:\n",
    "    print(f\"{type(e).__name__} :{e}\")\n",
    "finally:\n",
    "    print(\"Execution completed\")"
   ]
  },
  {
   "cell_type": "markdown",
   "id": "3b2a0bac",
   "metadata": {},
   "source": [
    "The file does not need to be explicitly closed — it's already closed automatically.\n",
    "\n",
    "Why?\n",
    "\n",
    "Because you're using the with statement (context manager), which:\n",
    "\n",
    "Automatically opens the file.\n",
    "\n",
    "Automatically closes the file when the block is exited — even if an exception occurs.\n",
    "\n",
    "Summary:\n",
    "\n",
    "✅ File is automatically closed after the with block ends.\n",
    "🚫 You do not need to call f.close()."
   ]
  },
  {
   "cell_type": "code",
   "execution_count": 62,
   "id": "c07e9d5d",
   "metadata": {},
   "outputs": [
    {
     "name": "stdout",
     "output_type": "stream",
     "text": [
      "Hi, I'm Mahesh\n",
      "Inside 'with' block — is file closed? False\n",
      "Outside 'with' block — is file closed? True\n"
     ]
    }
   ],
   "source": [
    "try:\n",
    "    with open(\"file.txt\", \"r\") as f:\n",
    "        content = f.read()\n",
    "        print(content)\n",
    "        print(f\"Inside 'with' block — is file closed? {f.closed}\")\n",
    "except Exception as e:\n",
    "    print(f\"{type(e).__name__} :{e}\")\n",
    "finally:\n",
    "    if 'f' in locals():\n",
    "        print(f\"Outside 'with' block — is file closed? {f.closed}\")\n"
   ]
  },
  {
   "cell_type": "code",
   "execution_count": 69,
   "id": "c7c9b4b4",
   "metadata": {},
   "outputs": [
    {
     "name": "stdout",
     "output_type": "stream",
     "text": [
      "Hi, I'm Mahesh\n",
      "File closed inside 'with'? True\n",
      "Execution completed\n"
     ]
    }
   ],
   "source": [
    "try:\n",
    "    with open(\"file.txt\", \"r\") as file:\n",
    "        content = file.read()\n",
    "        print(content)\n",
    "    print(f\"File closed inside 'with'? {file.closed}\")\n",
    "except Exception as e:\n",
    "    print(f\"{type(e).__name__} :{e}\")\n",
    "finally:\n",
    "    print(\"Execution completed\")\n",
    "# Can't access file.closed here – file is out of scope\n"
   ]
  }
 ],
 "metadata": {
  "kernelspec": {
   "display_name": "Python 3",
   "language": "python",
   "name": "python3"
  },
  "language_info": {
   "codemirror_mode": {
    "name": "ipython",
    "version": 3
   },
   "file_extension": ".py",
   "mimetype": "text/x-python",
   "name": "python",
   "nbconvert_exporter": "python",
   "pygments_lexer": "ipython3",
   "version": "3.13.5"
  }
 },
 "nbformat": 4,
 "nbformat_minor": 5
}
