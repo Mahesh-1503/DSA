{
 "cells": [
  {
   "cell_type": "markdown",
   "id": "01fe13be",
   "metadata": {},
   "source": [
    "* Sets: \n",
    "Sets are an unordered collection of unique elements. They are used to eliminate duplicate elements and perform mathematical set operations like union, intersection, difference, and symmetric difference.\n",
    "Sets are useful for membership testing, removing duplicates from a list, and performing set operations.\n",
    "* Syntax for creating a set:\n",
    "```python\n",
    "   my_set = {1, 2, 3, 4, 5}\n",
    "```\n",
    "* Sets are mutable, meaning we can add or remove elements from them.\n",
    "```python\n",
    "   my_set.add(6)\n",
    "   my_set.remove(3)\n",
    "```\n",
    "* Sets can be used to perform set operations like union, intersection, difference, and symmetric difference.\n",
    "```python"
   ]
  },
  {
   "cell_type": "code",
   "execution_count": 3,
   "id": "c2dd57da",
   "metadata": {},
   "outputs": [
    {
     "name": "stdout",
     "output_type": "stream",
     "text": [
      "{1, 2, 3, 4, 5}\n",
      "<class 'set'>\n"
     ]
    }
   ],
   "source": [
    "## Create a Set\n",
    "my_set = {1, 2, 3, 4, 5}\n",
    "print(my_set)\n",
    "print(type(my_set))"
   ]
  },
  {
   "cell_type": "code",
   "execution_count": 4,
   "id": "b7761231",
   "metadata": {},
   "outputs": [
    {
     "name": "stdout",
     "output_type": "stream",
     "text": [
      "set()\n",
      "<class 'set'>\n"
     ]
    }
   ],
   "source": [
    "my_empty_set = set()\n",
    "print(my_empty_set)\n",
    "print(type(my_empty_set))"
   ]
  },
  {
   "cell_type": "code",
   "execution_count": 7,
   "id": "3105a554",
   "metadata": {},
   "outputs": [
    {
     "name": "stdout",
     "output_type": "stream",
     "text": [
      "{1, 2, 3, 4, 5, 6}\n"
     ]
    }
   ],
   "source": [
    "my_set = set([1, 2, 3, 4, 5,6,1,2,3])\n",
    "print(my_set)"
   ]
  },
  {
   "cell_type": "code",
   "execution_count": 8,
   "id": "ffecfd42",
   "metadata": {},
   "outputs": [
    {
     "name": "stdout",
     "output_type": "stream",
     "text": [
      "{1, 2, 3, 4, 5, 6}\n",
      "{1, 2, 3, 5, 6}\n",
      "set()\n"
     ]
    }
   ],
   "source": [
    "## Basic set operations\n",
    "# Adding elements\n",
    "my_set.add(6)\n",
    "print(my_set)\n",
    "\n",
    "# Removing elements\n",
    "my_set.remove(4)\n",
    "print(my_set)\n",
    "\n",
    "# Clearing the entire set\n",
    "my_set.clear()\n",
    "print(my_set) "
   ]
  },
  {
   "cell_type": "code",
   "execution_count": 13,
   "id": "d057d437",
   "metadata": {},
   "outputs": [
    {
     "name": "stdout",
     "output_type": "stream",
     "text": [
      "{1, 2, 3, 4, 6, 7, 8, 9}\n"
     ]
    },
    {
     "ename": "KeyError",
     "evalue": "10",
     "output_type": "error",
     "traceback": [
      "\u001b[1;31m---------------------------------------------------------------------------\u001b[0m",
      "\u001b[1;31mKeyError\u001b[0m                                  Traceback (most recent call last)",
      "Cell \u001b[1;32mIn[13], line 4\u001b[0m\n\u001b[0;32m      2\u001b[0m Set\u001b[38;5;241m.\u001b[39mremove(\u001b[38;5;241m5\u001b[39m)\n\u001b[0;32m      3\u001b[0m \u001b[38;5;28mprint\u001b[39m(Set)\n\u001b[1;32m----> 4\u001b[0m \u001b[43mSet\u001b[49m\u001b[38;5;241;43m.\u001b[39;49m\u001b[43mremove\u001b[49m\u001b[43m(\u001b[49m\u001b[38;5;241;43m10\u001b[39;49m\u001b[43m)\u001b[49m\n",
      "\u001b[1;31mKeyError\u001b[0m: 10"
     ]
    }
   ],
   "source": [
    "Set={1, 2, 3, 4, 5, 6, 7, 8, 9}\n",
    "Set.remove(5)\n",
    "print(Set)\n",
    "Set.remove(10)"
   ]
  },
  {
   "cell_type": "code",
   "execution_count": 14,
   "id": "008033eb",
   "metadata": {},
   "outputs": [
    {
     "name": "stdout",
     "output_type": "stream",
     "text": [
      "{1, 2, 4, 5}\n",
      "{1, 2, 4, 5}\n"
     ]
    }
   ],
   "source": [
    "# discard : removes an element if it exists, does nothing if it doesn't\n",
    "my_set = {1, 2, 3, 4, 5}\n",
    "my_set.discard(3)\n",
    "print(my_set)\n",
    "my_set.discard(10)\n",
    "print(my_set)"
   ]
  },
  {
   "cell_type": "code",
   "execution_count": 15,
   "id": "ab62faa1",
   "metadata": {},
   "outputs": [
    {
     "name": "stdout",
     "output_type": "stream",
     "text": [
      "1\n",
      "{2, 3, 4, 5}\n"
     ]
    }
   ],
   "source": [
    "## pop method\n",
    "# pop : removes and returns an arbitrary element from the set\n",
    "my_set = {1, 2, 3, 4, 5}\n",
    "element = my_set.pop()\n",
    "print(element)\n",
    "print(my_set)\n"
   ]
  },
  {
   "cell_type": "code",
   "execution_count": 16,
   "id": "5cf7b609",
   "metadata": {},
   "outputs": [
    {
     "name": "stdout",
     "output_type": "stream",
     "text": [
      "set()\n"
     ]
    }
   ],
   "source": [
    "## clear method\n",
    "# clear : removes all elements from the set\n",
    "my_set = {1, 2, 3, 4, 5}\n",
    "my_set.clear()\n",
    "print(my_set)\n"
   ]
  },
  {
   "cell_type": "code",
   "execution_count": 18,
   "id": "73d6969f",
   "metadata": {},
   "outputs": [
    {
     "name": "stdout",
     "output_type": "stream",
     "text": [
      "True\n",
      "False\n",
      "True\n",
      "False\n"
     ]
    }
   ],
   "source": [
    "## Set membership\n",
    "# in : checks if an element is in the set\n",
    "my_set = {1, 2, 3, 4, 5}\n",
    "print(3 in my_set)\n",
    "print(6 in my_set)\n",
    "# not in : checks if an element is not in the set\n",
    "print(6 not in my_set)\n",
    "print(3 not in my_set)"
   ]
  },
  {
   "cell_type": "markdown",
   "id": "ebf66932",
   "metadata": {},
   "source": [
    "### set mathematical operations"
   ]
  },
  {
   "cell_type": "code",
   "execution_count": null,
   "id": "5284a39d",
   "metadata": {},
   "outputs": [
    {
     "name": "stdout",
     "output_type": "stream",
     "text": [
      "{1, 2, 3, 4, 5}\n"
     ]
    }
   ],
   "source": [
    "# union : combines two sets, removing duplicates\n",
    "set1 = {1, 2, 3}\n",
    "set2 = {3, 4, 5,2,3}\n",
    "set3 = set1.union(set2)\n",
    "print(set3)"
   ]
  },
  {
   "cell_type": "code",
   "execution_count": 22,
   "id": "e7cecf1b",
   "metadata": {},
   "outputs": [
    {
     "name": "stdout",
     "output_type": "stream",
     "text": [
      "{1, 3}\n"
     ]
    }
   ],
   "source": [
    "## intersection\n",
    "# intersection : returns a new set with elements common to both sets\n",
    "set1 = {1, 2, 3}\n",
    "set2 = {3, 4, 5,1}\n",
    "set3 = set1.intersection(set2)\n",
    "print(set3)"
   ]
  },
  {
   "cell_type": "code",
   "execution_count": 24,
   "id": "a62eaea6",
   "metadata": {},
   "outputs": [
    {
     "name": "stdout",
     "output_type": "stream",
     "text": [
      "{1, 3}\n"
     ]
    }
   ],
   "source": [
    "## intersection_update\n",
    "# intersection_update : updates the set with elements common to both sets\n",
    "set1 = {1, 2, 3}\n",
    "set2 = {3, 4, 5,1}\n",
    "set1.intersection_update(set2)\n",
    "print(set1)"
   ]
  },
  {
   "cell_type": "code",
   "execution_count": 30,
   "id": "284ddf47",
   "metadata": {},
   "outputs": [
    {
     "name": "stdout",
     "output_type": "stream",
     "text": [
      "{2, 7}\n",
      "{9, 11}\n"
     ]
    }
   ],
   "source": [
    "## difference\n",
    "# difference : returns a new set with elements in the first set but not in the second\n",
    "set1 = {1, 2, 3,4,5,7}\n",
    "set2 = {3, 4, 5,1,9,11}\n",
    "set3 = set1.difference(set2)\n",
    "print(set3)\n",
    "set4 = set2.difference(set1)\n",
    "print(set4)"
   ]
  },
  {
   "cell_type": "markdown",
   "id": "d6342adb",
   "metadata": {},
   "source": [
    "#### Symmetric difference\n"
   ]
  },
  {
   "cell_type": "code",
   "execution_count": null,
   "id": "1163c0d3",
   "metadata": {},
   "outputs": [
    {
     "name": "stdout",
     "output_type": "stream",
     "text": [
      "{2, 7, 9, 11}\n"
     ]
    }
   ],
   "source": [
    "## Symmetric difference\n",
    "# symmetric_difference : returns a new set with elements in either set but not in both simply removes the common elements\n",
    "# symmetric_difference can also be used as a method or an operator\n",
    "set1 = {1, 2, 3,4,5,7}\n",
    "set2 = {3, 4, 5,1,9,11}\n",
    "set3 = set1.symmetric_difference(set2)\n",
    "print(set3)"
   ]
  },
  {
   "cell_type": "code",
   "execution_count": 35,
   "id": "44ae407a",
   "metadata": {},
   "outputs": [
    {
     "name": "stdout",
     "output_type": "stream",
     "text": [
      "True\n",
      "False\n",
      "False\n",
      "True\n"
     ]
    }
   ],
   "source": [
    "## Sets methods\n",
    "set1={1, 2, 3}\n",
    "set2={1,2,3,4,5,6}\n",
    "\n",
    "##issubset\n",
    "# issubset : checks if all elements of set1 are in set2\n",
    "print(set1.issubset(set2))\n",
    "print(set2.issubset(set1)) # False, because set2 has elements not in set1\n",
    "\n",
    "##issuperset\n",
    "# issuperset : checks if all elements of set2 are in set1\n",
    "print(set1.issuperset(set2))\n",
    "print(set2.issuperset(set1))"
   ]
  },
  {
   "cell_type": "code",
   "execution_count": 37,
   "id": "d120aa17",
   "metadata": {},
   "outputs": [
    {
     "name": "stdout",
     "output_type": "stream",
     "text": [
      "[1, 2, 3, 4, 4, 5]\n",
      "{1, 2, 3, 4, 5}\n"
     ]
    }
   ],
   "source": [
    "lt=[1, 2, 3, 4,4, 5]\n",
    "set_from_list = set(lt)\n",
    "print(lt) # original list\n",
    "print(set_from_list) # converts list to set, removing duplicates"
   ]
  },
  {
   "cell_type": "code",
   "execution_count": 39,
   "id": "f2c85677",
   "metadata": {},
   "outputs": [
    {
     "name": "stdout",
     "output_type": "stream",
     "text": [
      "{'blind', 'python', 'programming', 'welcome', 'to', 'of', 'hello', 'the', 'world'}\n",
      "9\n"
     ]
    }
   ],
   "source": [
    "## Counting Unique words in text\n",
    "text = \"hello world welcome to the blind world of python programming\"\n",
    "words = text.split()\n",
    "unique_words=set(words)\n",
    "print(unique_words) # prints unique words in the text\n",
    "print(len(unique_words)) # prints the number of unique words in the text"
   ]
  }
 ],
 "metadata": {
  "kernelspec": {
   "display_name": "base",
   "language": "python",
   "name": "python3"
  },
  "language_info": {
   "codemirror_mode": {
    "name": "ipython",
    "version": 3
   },
   "file_extension": ".py",
   "mimetype": "text/x-python",
   "name": "python",
   "nbconvert_exporter": "python",
   "pygments_lexer": "ipython3",
   "version": "3.12.7"
  }
 },
 "nbformat": 4,
 "nbformat_minor": 5
}
