{
 "cells": [
  {
   "cell_type": "markdown",
   "id": "8cc02449",
   "metadata": {},
   "source": [
    "* Day One Tasks"
   ]
  },
  {
   "cell_type": "code",
   "execution_count": 2,
   "id": "2fdfe97b",
   "metadata": {},
   "outputs": [
    {
     "name": "stdout",
     "output_type": "stream",
     "text": [
      "BCA Sunstone\n",
      "BCA Sunstone  2025\n",
      "10 20 30\n",
      "Java python C++\n",
      "30\n",
      "Java_python_C++\n",
      "Hello\tWorld\n",
      "bca sunstone 2025\n",
      "bca sunstone 2025\n"
     ]
    }
   ],
   "source": [
    "print(\"BCA Sunstone\")\n",
    "year = 2025\n",
    "print(\"BCA Sunstone \", year)\n",
    "special=\"DS\"\n",
    "print(10, 20, 30)\n",
    "print(\"Java\", \"python\", \"C++\")\n",
    "print(10+20)\n",
    "print(\"Java\", \"python\", \"C++\", sep=\"_\")\n",
    "print(\"Hello\", end=\"\\t\")\n",
    "print(\"World\")\n",
    "print(f\"bca sunstone {year}\")\n",
    "print(\"bca sunstone {}\".format(year))"
   ]
  },
  {
   "cell_type": "code",
   "execution_count": 3,
   "id": "a996cecc",
   "metadata": {},
   "outputs": [
    {
     "ename": "ValueError",
     "evalue": "invalid literal for int() with base 10: ''",
     "output_type": "error",
     "traceback": [
      "\u001b[1;31m---------------------------------------------------------------------------\u001b[0m",
      "\u001b[1;31mValueError\u001b[0m                                Traceback (most recent call last)",
      "Cell \u001b[1;32mIn[3], line 2\u001b[0m\n\u001b[0;32m      1\u001b[0m name \u001b[38;5;241m=\u001b[39m \u001b[38;5;28minput\u001b[39m(\u001b[38;5;124m\"\u001b[39m\u001b[38;5;124mEnter name: \u001b[39m\u001b[38;5;124m\"\u001b[39m)\n\u001b[1;32m----> 2\u001b[0m age \u001b[38;5;241m=\u001b[39m \u001b[38;5;28;43mint\u001b[39;49m\u001b[43m(\u001b[49m\u001b[38;5;28;43minput\u001b[39;49m\u001b[43m(\u001b[49m\u001b[38;5;124;43m\"\u001b[39;49m\u001b[38;5;124;43mEnter age: \u001b[39;49m\u001b[38;5;124;43m\"\u001b[39;49m\u001b[43m)\u001b[49m\u001b[43m)\u001b[49m\n\u001b[0;32m      3\u001b[0m \u001b[38;5;28mprint\u001b[39m(\u001b[38;5;124mf\u001b[39m\u001b[38;5;124m\"\u001b[39m\u001b[38;5;124mHello \u001b[39m\u001b[38;5;132;01m{\u001b[39;00mname\u001b[38;5;132;01m}\u001b[39;00m\u001b[38;5;124m, you will be \u001b[39m\u001b[38;5;132;01m{\u001b[39;00mage\u001b[38;5;241m+\u001b[39m\u001b[38;5;241m1\u001b[39m\u001b[38;5;132;01m}\u001b[39;00m\u001b[38;5;124m next year\u001b[39m\u001b[38;5;124m\"\u001b[39m)\n",
      "\u001b[1;31mValueError\u001b[0m: invalid literal for int() with base 10: ''"
     ]
    }
   ],
   "source": [
    "name = input(\"Enter name: \")\n",
    "age = int(input(\"Enter age: \"))\n",
    "print(f\"Hello {name}, you will be {age+1} next year\")"
   ]
  },
  {
   "cell_type": "code",
   "execution_count": null,
   "id": "a5cb5845",
   "metadata": {},
   "outputs": [
    {
     "name": "stdout",
     "output_type": "stream",
     "text": [
      "Sum: 42\n",
      "Product: 440\n",
      "Average: 21.0\n"
     ]
    }
   ],
   "source": [
    "n1 = int(input(\"Enter number 1: \"))\n",
    "n2 = int(input(\"Enter number 2: \"))\n",
    "print(f\"Sum: {n1+n2}\")\n",
    "print(f\"Product: {n1*n2}\")\n",
    "print(f\"Average: {(n1+n2)/2}\")"
   ]
  },
  {
   "cell_type": "code",
   "execution_count": null,
   "id": "e8daa2e4",
   "metadata": {},
   "outputs": [
    {
     "name": "stdout",
     "output_type": "stream",
     "text": [
      "2\n",
      "<class 'list'>\n",
      "[10, 20, 30, 40]\n",
      "['Raju', 'Python', 2025]\n",
      "[True, 1, 'BCA']\n",
      "[40, 30, 20, 10]\n",
      "[202, 10, 20, 30, 40, 50]\n",
      "[202, 10, 20, 30, 40]\n",
      "[10, 20, 30, 40]\n"
     ]
    }
   ],
   "source": [
    "li=[10, 20, 30, 40]\n",
    "print(li.index(30))\n",
    "print(type(li))\n",
    "li2=['Raju', 'Python', 2025]\n",
    "l3=[True, 1, 'BCA']\n",
    "print(li)\n",
    "print(li2)\n",
    "print(l3)\n",
    "lir=li[::-1]\n",
    "print(lir)\n",
    "li.append(50)\n",
    "li.insert(0,202)\n",
    "print(li)\n",
    "li.pop()\n",
    "print(li)\n",
    "li.pop(0)\n",
    "print(li)"
   ]
  },
  {
   "cell_type": "code",
   "execution_count": null,
   "id": "7045a7f7",
   "metadata": {},
   "outputs": [
    {
     "name": "stdout",
     "output_type": "stream",
     "text": [
      "[2, 4, 6, 8]\n"
     ]
    }
   ],
   "source": [
    "numbers = [1, 2, 3, 4, 5, 6, 7, 8, 9] # Take input from user\n",
    "even_numbers = [x for x in numbers if x % 2 == 0]\n",
    "print(even_numbers)"
   ]
  },
  {
   "cell_type": "code",
   "execution_count": null,
   "id": "36d53d77",
   "metadata": {},
   "outputs": [
    {
     "name": "stdout",
     "output_type": "stream",
     "text": [
      "[0, 4, 16, 36, 64]\n"
     ]
    }
   ],
   "source": [
    "n=int(input('Enter No.of values: '))\n",
    "numbers = []\n",
    "for i in range(0,n):\n",
    "    if i % 2 == 0:\n",
    "        numbers.append(i**2)\n",
    "print(numbers)"
   ]
  },
  {
   "cell_type": "code",
   "execution_count": null,
   "id": "312a929e",
   "metadata": {},
   "outputs": [
    {
     "name": "stdout",
     "output_type": "stream",
     "text": [
      "*\n",
      "**\n",
      "***\n",
      "****\n",
      "*****\n"
     ]
    }
   ],
   "source": [
    "n=int(input(\"Enter number: \"))\n",
    "for i in range(1, n+1):\n",
    "    print('*' * i)"
   ]
  },
  {
   "cell_type": "code",
   "execution_count": null,
   "id": "16a0fd5c",
   "metadata": {},
   "outputs": [
    {
     "name": "stdout",
     "output_type": "stream",
     "text": [
      "0 \n",
      "0 1 \n",
      "0 1 2 \n",
      "0 1 2 3 \n",
      "0 1 2 3 4 \n"
     ]
    }
   ],
   "source": [
    "n=int(input(\"Enter number: \"))\n",
    "for i in range(n):\n",
    "    for j in range(i + 1):\n",
    "        print(j, end=\" \")\n",
    "    print()"
   ]
  },
  {
   "cell_type": "code",
   "execution_count": null,
   "id": "618c1b05",
   "metadata": {},
   "outputs": [
    {
     "name": "stdout",
     "output_type": "stream",
     "text": [
      "0 1 2 3 4 "
     ]
    }
   ],
   "source": [
    "n=int(input(\"Enter number: \"))\n",
    "for i in range(n):\n",
    "    print(f'{i}',end=' ')"
   ]
  },
  {
   "cell_type": "code",
   "execution_count": null,
   "id": "38a26781",
   "metadata": {},
   "outputs": [
    {
     "name": "stdout",
     "output_type": "stream",
     "text": [
      "                    * \n",
      "                  * * * \n",
      "                * * * * * \n",
      "              * * * * * * * \n",
      "            * * * * * * * * * \n",
      "          * * * * * * * * * * * \n",
      "        * * * * * * * * * * * * * \n",
      "      * * * * * * * * * * * * * * * \n",
      "    * * * * * * * * * * * * * * * * * \n",
      "  * * * * * * * * * * * * * * * * * * * \n"
     ]
    }
   ],
   "source": [
    "n=int(input('Enter Number Of Rows: '))\n",
    "for i in range(n):\n",
    "    for j in range(i,n):\n",
    "        print(' ',end=' ')\n",
    "    for j in range(i+1):\n",
    "        print('*',end=' ')\n",
    "    for j in range(i):\n",
    "        print('*',end=' ')\n",
    "    print()"
   ]
  },
  {
   "cell_type": "code",
   "execution_count": null,
   "id": "825452f4",
   "metadata": {},
   "outputs": [
    {
     "name": "stdout",
     "output_type": "stream",
     "text": [
      "*  *  *  *  *  *  *  *  *  *  \n",
      "*  *  *  *  *  *  *  *  *  *  *  \n",
      "*  *  *  *  *  *  *  *  *  *  *  *  \n",
      "*  *  *  *  *  *  *  *  *  *  *  *  *  \n",
      "*  *  *  *  *  *  *  *  *  *  *  *  *  *  \n",
      "*  *  *  *  *  *  *  *  *  *  *  *  *  *  *  \n",
      "*  *  *  *  *  *  *  *  *  *  *  *  *  *  *  *  \n",
      "*  *  *  *  *  *  *  *  *  *  *  *  *  *  *  *  *  \n",
      "*  *  *  *  *  *  *  *  *  *  *  *  *  *  *  *  *  *  \n",
      "*  *  *  *  *  *  *  *  *  *  *  *  *  *  *  *  *  *  *  \n"
     ]
    }
   ],
   "source": [
    "n=10\n",
    "for i in range(n):\n",
    "    for j in range(i+n):\n",
    "        print('*',end='  ')\n",
    "    print()"
   ]
  },
  {
   "cell_type": "code",
   "execution_count": null,
   "id": "f1c52cff",
   "metadata": {},
   "outputs": [
    {
     "name": "stdout",
     "output_type": "stream",
     "text": [
      "Rows Entered: 10\n",
      "                    * \n",
      "                  * * * \n",
      "                * * * * * \n",
      "              * * * * * * * \n",
      "            * * * * * * * * * \n",
      "          * * * * * * * * * * * \n",
      "        * * * * * * * * * * * * * \n",
      "      * * * * * * * * * * * * * * * \n",
      "    * * * * * * * * * * * * * * * * * \n",
      "  * * * * * * * * * * * * * * * * * * * \n"
     ]
    }
   ],
   "source": [
    "n=int(input('Enter Number Of Rows: '))\n",
    "print(f\"Rows Entered: {n}\")\n",
    "for i in range(n):\n",
    "    for j in range(i,n):\n",
    "        print(' ',end=' ')\n",
    "    for j in range(i+1):\n",
    "        print('*',end=' ')\n",
    "    for j in range(i):\n",
    "        print('*',end=' ')\n",
    "    print()"
   ]
  },
  {
   "cell_type": "code",
   "execution_count": null,
   "id": "7c8fae6b",
   "metadata": {},
   "outputs": [
    {
     "name": "stdout",
     "output_type": "stream",
     "text": [
      "Rows Entered: 10\n",
      "* * * * * * * * * * * * * * * * * * * \n",
      "  * * * * * * * * * * * * * * * * * \n",
      "    * * * * * * * * * * * * * * * \n",
      "      * * * * * * * * * * * * * \n",
      "        * * * * * * * * * * * \n",
      "          * * * * * * * * * \n",
      "            * * * * * * * \n",
      "              * * * * * \n",
      "                * * * \n",
      "                  * \n"
     ]
    }
   ],
   "source": [
    "n=int(input('Enter Number Of Rows: '))\n",
    "print(f\"Rows Entered: {n}\")\n",
    "for i in range(n):\n",
    "    for j in range(i):\n",
    "        print(' ',end=' ')\n",
    "    for j in range(i,n):\n",
    "        print('*',end=' ')\n",
    "    for j in range(i,n-1):\n",
    "        print('*',end=' ')\n",
    "    print()"
   ]
  },
  {
   "cell_type": "code",
   "execution_count": null,
   "id": "8f6ee5eb",
   "metadata": {},
   "outputs": [
    {
     "name": "stdout",
     "output_type": "stream",
     "text": [
      "          * \n",
      "        * * \n",
      "      * * * \n",
      "    * * * * \n",
      "  * * * * * \n"
     ]
    }
   ],
   "source": [
    "n=5\n",
    "for i in range(n):\n",
    "    for j in range(i,n):\n",
    "        print(' ',end=' ')\n",
    "    for j in range(i+1):\n",
    "        print('*',end=' ')\n",
    "    print()"
   ]
  },
  {
   "cell_type": "code",
   "execution_count": null,
   "id": "54111922",
   "metadata": {},
   "outputs": [
    {
     "name": "stdout",
     "output_type": "stream",
     "text": [
      "* \n",
      "* * \n",
      "* * * \n",
      "* * * * \n",
      "* * * * * \n",
      "     * \n",
      "    * * \n",
      "   * * * \n",
      "  * * * * \n",
      " * * * * * \n",
      "          * \n",
      "        * * \n",
      "      * * * \n",
      "    * * * * \n",
      "  * * * * * \n"
     ]
    }
   ],
   "source": [
    "n=5\n",
    "for i in range(n):\n",
    "    print('' * (n-i) + '* ' * (i+1))\n",
    "for i in range(n):\n",
    "    print(' ' * (n-i) + '* ' * (i+1))\n",
    "for i in range(n):\n",
    "    print('  ' * (n-i) + '* ' * (i+1))"
   ]
  },
  {
   "cell_type": "code",
   "execution_count": null,
   "id": "65e8f926",
   "metadata": {},
   "outputs": [
    {
     "name": "stdout",
     "output_type": "stream",
     "text": [
      "                    * \n",
      "                  * * * \n",
      "                * * * * * \n",
      "              * * * * * * * \n",
      "            * * * * * * * * * \n",
      "          * * * * * * * * * * * \n",
      "        * * * * * * * * * * * * * \n",
      "      * * * * * * * * * * * * * * * \n",
      "    * * * * * * * * * * * * * * * * * \n",
      "  * * * * * * * * * * * * * * * * * * * \n"
     ]
    }
   ],
   "source": [
    "n=10\n",
    "for i in range(n):\n",
    "    for j in range(i,n):\n",
    "        print(' ',end=' ')\n",
    "    for j in range(i+1):\n",
    "        print('*',end=' ')\n",
    "    for j in range(i):\n",
    "        print('*',end=' ')\n",
    "    print()"
   ]
  },
  {
   "cell_type": "code",
   "execution_count": null,
   "id": "42d34c83",
   "metadata": {},
   "outputs": [
    {
     "name": "stdout",
     "output_type": "stream",
     "text": [
      "* * * * * * * * * \n",
      "  * * * * * * * \n",
      "    * * * * * \n",
      "      * * * \n",
      "        * \n",
      "      * * * \n",
      "    * * * * * \n",
      "  * * * * * * * \n",
      "* * * * * * * * * \n"
     ]
    }
   ],
   "source": [
    "n=5\n",
    "for i in range(n-1):\n",
    "    for j in range(i):\n",
    "        print(' ',end=' ')\n",
    "    for j in range(i,n):\n",
    "        print('*',end=' ')\n",
    "    for j in range(i,n-1):\n",
    "        print('*',end=' ')\n",
    "    print()\n",
    "for i in range(n):\n",
    "    for j in range(i,n-1):\n",
    "        print(' ',end=' ')\n",
    "    for j in range(i+1):\n",
    "        print('*',end=' ')\n",
    "    for j in range(i):\n",
    "        print('*',end=' ')\n",
    "    print()"
   ]
  },
  {
   "cell_type": "code",
   "execution_count": null,
   "id": "7de1a7bb",
   "metadata": {},
   "outputs": [
    {
     "name": "stdout",
     "output_type": "stream",
     "text": [
      "5 5 5 5 5 5 5 5 5 \n",
      "  4 4 4 4 4 4 4 \n",
      "    3 3 3 3 3 \n",
      "      2 2 2 \n",
      "        1 \n",
      "      2 2 2 \n",
      "    3 3 3 3 3 \n",
      "  4 4 4 4 4 4 4 \n",
      "5 5 5 5 5 5 5 5 5 \n"
     ]
    }
   ],
   "source": [
    "n=5\n",
    "p=5\n",
    "for i in range(n-1):\n",
    "    for j in range(i):\n",
    "        print(' ',end=' ')\n",
    "    for j in range(i,n):\n",
    "        print(p,end=' ')\n",
    "    for j in range(i,n-1):\n",
    "        print(p,end=' ')\n",
    "    p-=1\n",
    "    print()\n",
    "for i in range(n):\n",
    "    for j in range(i,n-1):\n",
    "        print(' ',end=' ')\n",
    "    for j in range(i+1):\n",
    "        print(p,end=' ')\n",
    "    for j in range(i):\n",
    "        print(p,end=' ')\n",
    "    p+=1\n",
    "    print()"
   ]
  },
  {
   "cell_type": "code",
   "execution_count": null,
   "id": "78aa0e8f",
   "metadata": {},
   "outputs": [
    {
     "name": "stdout",
     "output_type": "stream",
     "text": [
      "0 \n",
      "1 1 \n",
      "2 2 2 \n",
      "3 3 3 3 \n",
      "4 4 4 4 4 \n",
      "5 5 5 5 5 5 \n",
      "6 6 6 6 6 6 6 \n",
      "7 7 7 7 7 7 7 7 \n",
      "8 8 8 8 8 8 8 8 8 \n"
     ]
    }
   ],
   "source": [
    "n=9\n",
    "p=0\n",
    "for i in range(n):\n",
    "    for j in range(i+1):\n",
    "        print(p,end=' ')\n",
    "    p+=1\n",
    "    print()"
   ]
  },
  {
   "cell_type": "code",
   "execution_count": null,
   "id": "d4ef02fd",
   "metadata": {},
   "outputs": [
    {
     "name": "stdout",
     "output_type": "stream",
     "text": [
      "5 \n",
      "4 4 \n",
      "3 3 3 \n",
      "2 2 2 2 \n",
      "1 1 1 1 1 \n"
     ]
    }
   ],
   "source": [
    "n=5\n",
    "p=5\n",
    "for i in range(n):\n",
    "    for j in range(i+1):\n",
    "        print(p,end=' ')\n",
    "    p-=1\n",
    "    print()"
   ]
  },
  {
   "cell_type": "code",
   "execution_count": null,
   "id": "a180385e",
   "metadata": {},
   "outputs": [
    {
     "name": "stdout",
     "output_type": "stream",
     "text": [
      "0 \n",
      "2 2 \n",
      "4 4 4 \n",
      "6 6 6 6 \n",
      "8 8 8 8 8 \n"
     ]
    }
   ],
   "source": [
    "n=5\n",
    "p=0\n",
    "for i in range(n):\n",
    "    for j in range(i+1):\n",
    "        print(p,end=' ')\n",
    "    p+=2\n",
    "    print()"
   ]
  },
  {
   "cell_type": "code",
   "execution_count": null,
   "id": "c6321ca8",
   "metadata": {},
   "outputs": [
    {
     "name": "stdout",
     "output_type": "stream",
     "text": [
      "1 \n",
      "2 2 \n",
      "1 1 1 \n",
      "2 2 2 2 \n",
      "1 1 1 1 1 \n"
     ]
    }
   ],
   "source": [
    "n=5\n",
    "p=1\n",
    "for i in range(n):\n",
    "    for j in range(i+1):\n",
    "        if i%2==0:\n",
    "            print('1',end=' ')\n",
    "        else:\n",
    "            print('2',end=' ')\n",
    "    print()"
   ]
  },
  {
   "cell_type": "code",
   "execution_count": null,
   "id": "90a52c3d",
   "metadata": {},
   "outputs": [
    {
     "name": "stdout",
     "output_type": "stream",
     "text": [
      "          # \n",
      "        $ $ $ \n",
      "      # # # # # \n",
      "    $ $ $ $ $ $ $ \n",
      "  # # # # # # # # # \n"
     ]
    }
   ],
   "source": [
    "n=5\n",
    "p=1\n",
    "for i in range(n):\n",
    "    for j in range(i,n):\n",
    "        print(' ',end=' ')\n",
    "    for j in range(i+1):\n",
    "        if i%2==0:\n",
    "            print('#',end=' ')\n",
    "        else:\n",
    "            print('$',end=' ')\n",
    "    for j in range(i):\n",
    "        if i%2==0:\n",
    "            print('#',end=' ')\n",
    "        else:\n",
    "            print('$',end=' ')\n",
    "    print()"
   ]
  },
  {
   "cell_type": "code",
   "execution_count": null,
   "id": "7d3f4577",
   "metadata": {},
   "outputs": [
    {
     "name": "stdout",
     "output_type": "stream",
     "text": [
      "          1 \n",
      "        2 2 2 \n",
      "      3 3 3 3 3 \n",
      "    4 4 4 4 4 4 4 \n",
      "  5 5 5 5 5 5 5 5 5 \n",
      "    6 6 6 6 6 6 6 \n",
      "      7 7 7 7 7 \n",
      "        8 8 8 \n",
      "          9 \n"
     ]
    }
   ],
   "source": [
    "n=5\n",
    "p=1\n",
    "for i in range(n-1): # n+1 also works\n",
    "    for j in range(i,n):\n",
    "        print(' ',end=' ')\n",
    "    for j in range(i+1):\n",
    "        print(p,end=' ')\n",
    "    for j in range(i):\n",
    "        print(p,end=' ')\n",
    "    p+=1\n",
    "    print()\n",
    "for i in range(n):\n",
    "    for j in range(i+1):\n",
    "        print(' ',end=' ')\n",
    "    for j in range(i,n):\n",
    "        print(p,end=' ')\n",
    "    for j in range(i,n-1):\n",
    "        print(p,end=' ')\n",
    "    p+=1\n",
    "    print()"
   ]
  },
  {
   "cell_type": "code",
   "execution_count": null,
   "id": "c5c54d0f",
   "metadata": {},
   "outputs": [
    {
     "name": "stdout",
     "output_type": "stream",
     "text": [
      "          1 \n",
      "        2 2 2 \n",
      "      3 3 3 3 3 \n",
      "    4 4 4 4 4 4 4 \n",
      "  5 5 5 5 5 5 5 5 5 \n",
      "    4 4 4 4 4 4 4 \n",
      "      3 3 3 3 3 \n",
      "        2 2 2 \n",
      "          1 \n"
     ]
    }
   ],
   "source": [
    "n=5\n",
    "p=1\n",
    "for i in range(n-1): # n+1 also works\n",
    "    for j in range(i,n):\n",
    "        print(' ',end=' ')\n",
    "    for j in range(i+1):\n",
    "        print(p,end=' ')\n",
    "    for j in range(i):\n",
    "        print(p,end=' ')\n",
    "    p+=1\n",
    "    print()\n",
    "for i in range(n):\n",
    "    for j in range(i+1):\n",
    "        print(' ',end=' ')\n",
    "    for j in range(i,n):\n",
    "        print(p,end=' ')\n",
    "    for j in range(i,n-1):\n",
    "        print(p,end=' ')\n",
    "    p-=1\n",
    "    print()"
   ]
  },
  {
   "cell_type": "code",
   "execution_count": null,
   "id": "005d5dc0",
   "metadata": {},
   "outputs": [
    {
     "name": "stdout",
     "output_type": "stream",
     "text": [
      "1 \n",
      "1 2 \n",
      "1 2 3 \n",
      "1 2 3 4 \n",
      "1 2 3 4 5 \n"
     ]
    }
   ],
   "source": [
    "n=5\n",
    "for i in range(n):\n",
    "    p=1\n",
    "    for j in range(i+1):\n",
    "        print(p,end=' ')\n",
    "        p+=1\n",
    "    print()"
   ]
  },
  {
   "cell_type": "markdown",
   "id": "cdc70386",
   "metadata": {},
   "source": [
    "### Number Pattern Programs"
   ]
  },
  {
   "cell_type": "code",
   "execution_count": null,
   "id": "f66e9ad5",
   "metadata": {},
   "outputs": [
    {
     "name": "stdout",
     "output_type": "stream",
     "text": [
      "                  * \n",
      "                * * \n",
      "              * * * \n",
      "            * * * * \n",
      "          * * * * * \n",
      "        * * * * * * \n",
      "      * * * * * * * \n",
      "    * * * * * * * * \n",
      "  * * * * * * * * * \n",
      "* * * * * * * * * * \n"
     ]
    }
   ],
   "source": [
    "## Increasing Triangle\n",
    "n=int(input('Enter Number Of Rows: '))\n",
    "for i in range(n):\n",
    "    for j in range(i,n-1):\n",
    "        print(' ',end=' ')\n",
    "    for j in range(i+1):\n",
    "        print('*',end=' ')\n",
    "    print()\n",
    "# for i in range(n):\n",
    "#     for j in range(i):\n",
    "#         print(' ',end=' ')\n",
    "#     for j in range(i,n):\n",
    "#         print('*',end=' ')\n",
    "#     print()"
   ]
  },
  {
   "cell_type": "code",
   "execution_count": null,
   "id": "47af8106",
   "metadata": {},
   "outputs": [
    {
     "name": "stdout",
     "output_type": "stream",
     "text": [
      "                  * \n",
      "                * * \n",
      "              * * * \n",
      "            * * * * \n",
      "          * * * * * \n",
      "        * * * * * * \n",
      "      * * * * * * * \n",
      "    * * * * * * * * \n",
      "  * * * * * * * * * \n",
      "* * * * * * * * * * \n",
      "  * * * * * * * * * \n",
      "    * * * * * * * * \n",
      "      * * * * * * * \n",
      "        * * * * * * \n",
      "          * * * * * \n",
      "            * * * * \n",
      "              * * * \n",
      "                * * \n",
      "                  * \n"
     ]
    }
   ],
   "source": [
    "## Increasing Triangle\n",
    "n=int(input('Enter Number Of Rows: '))\n",
    "for i in range(n-1):\n",
    "    for j in range(i,n-1):\n",
    "        print(' ',end=' ')\n",
    "    for j in range(i+1):\n",
    "        print('*',end=' ')\n",
    "    print()\n",
    "for i in range(n):\n",
    "    for j in range(i):\n",
    "        print(' ',end=' ')\n",
    "    for j in range(i,n):\n",
    "        print('*',end=' ')\n",
    "    print()"
   ]
  },
  {
   "cell_type": "code",
   "execution_count": null,
   "id": "0e5e3512",
   "metadata": {},
   "outputs": [
    {
     "name": "stdout",
     "output_type": "stream",
     "text": [
      "* * * * * * * * * * \n",
      "  * * * * * * * * * \n",
      "    * * * * * * * * \n",
      "      * * * * * * * \n",
      "        * * * * * * \n",
      "          * * * * * \n",
      "            * * * * \n",
      "              * * * \n",
      "                * * \n",
      "                  * \n"
     ]
    }
   ],
   "source": [
    "## Decreasing Triangle\n",
    "n=int(input('Enter Number Of Rows: '))\n",
    "for i in range(n):\n",
    "    for j in range(i):\n",
    "        print(' ',end=' ')\n",
    "    for j in range(i,n):\n",
    "        print('*',end=' ')\n",
    "    print()"
   ]
  },
  {
   "cell_type": "code",
   "execution_count": null,
   "id": "bc85f413",
   "metadata": {},
   "outputs": [
    {
     "name": "stdout",
     "output_type": "stream",
     "text": [
      "* \n",
      "* * \n",
      "* * * \n",
      "* * * * \n",
      "* * * * * \n",
      "* * * * * * \n",
      "* * * * * * * \n",
      "* * * * * * * * \n",
      "* * * * * * * * * \n",
      "* * * * * * * * * * \n"
     ]
    }
   ],
   "source": [
    "n=int(input('Enter Number Of Rows: '))\n",
    "for i in range(n):\n",
    "    for j in range(i+1):\n",
    "        print('*',end=' ')\n",
    "    print()"
   ]
  },
  {
   "cell_type": "code",
   "execution_count": null,
   "id": "763179f3",
   "metadata": {},
   "outputs": [
    {
     "name": "stdout",
     "output_type": "stream",
     "text": [
      "* * * * * * * * * * \n",
      "* * * * * * * * * \n",
      "* * * * * * * * \n",
      "* * * * * * * \n",
      "* * * * * * \n",
      "* * * * * \n",
      "* * * * \n",
      "* * * \n",
      "* * \n",
      "* \n"
     ]
    }
   ],
   "source": [
    "n=int(input('Enter Number Of Rows: '))\n",
    "for i in range(n):\n",
    "    for j in range(i,n):\n",
    "        print('*',end=' ')\n",
    "    print()"
   ]
  },
  {
   "cell_type": "code",
   "execution_count": null,
   "id": "4e43ac5c",
   "metadata": {},
   "outputs": [
    {
     "name": "stdout",
     "output_type": "stream",
     "text": [
      "* \n",
      "* * \n",
      "* * * \n",
      "* * * * \n",
      "* * * * * \n",
      "* * * * * * \n",
      "* * * * * * * \n",
      "* * * * * * * * \n",
      "* * * * * * * * * \n",
      "* * * * * * * * * * \n",
      "* * * * * * * * * * * \n",
      "* * * * * * * * * * \n",
      "* * * * * * * * * \n",
      "* * * * * * * * \n",
      "* * * * * * * \n",
      "* * * * * * \n",
      "* * * * * \n",
      "* * * * \n",
      "* * * \n",
      "* * \n",
      "* \n"
     ]
    }
   ],
   "source": [
    "n=int(input('Enter Number Of Rows: '))\n",
    "for i in range(n+1):# n-1 also works\n",
    "    for j in range(i+1):\n",
    "        print('*',end=' ')\n",
    "    print()\n",
    "for i in range(n):\n",
    "    for j in range(i,n):# same consider\n",
    "        print('*',end=' ')\n",
    "    print()"
   ]
  },
  {
   "cell_type": "code",
   "execution_count": null,
   "id": "08218796",
   "metadata": {},
   "outputs": [
    {
     "name": "stdout",
     "output_type": "stream",
     "text": [
      "                    * \n",
      "                  * * \n",
      "                * * * \n",
      "              * * * * \n",
      "            * * * * * \n",
      "          * * * * * * \n",
      "        * * * * * * * \n",
      "      * * * * * * * * \n",
      "    * * * * * * * * * \n",
      "  * * * * * * * * * * \n"
     ]
    }
   ],
   "source": [
    "n=int(input('Enter Number Of Rows: '))\n",
    "for i in range(n):\n",
    "    for j in range(i,n):\n",
    "        print(' ',end=' ')\n",
    "    for j in range(i+1):\n",
    "        print('*',end=' ')\n",
    "    print()"
   ]
  },
  {
   "cell_type": "code",
   "execution_count": null,
   "id": "49a2b9aa",
   "metadata": {},
   "outputs": [
    {
     "name": "stdout",
     "output_type": "stream",
     "text": [
      "* \n",
      "* * \n",
      "* * * \n",
      "* * * * \n",
      "* * * * * \n",
      "* * * * * * \n",
      "* * * * * * * \n",
      "* * * * * * * * \n",
      "* * * * * * * * * \n",
      "* * * * * * * * * * \n"
     ]
    }
   ],
   "source": [
    "n=int(input('Enter Number Of Rows: '))\n",
    "for i in range(n):\n",
    "    for j in range(i+1):\n",
    "        print('*',end=' ')\n",
    "    print()"
   ]
  },
  {
   "cell_type": "code",
   "execution_count": null,
   "id": "552627d0",
   "metadata": {},
   "outputs": [
    {
     "name": "stdout",
     "output_type": "stream",
     "text": [
      "                    * \n",
      "                  * * * \n",
      "                * * * * * \n",
      "              * * * * * * * \n",
      "            * * * * * * * * * \n",
      "          * * * * * * * * * * * \n",
      "        * * * * * * * * * * * * * \n",
      "      * * * * * * * * * * * * * * * \n",
      "    * * * * * * * * * * * * * * * * * \n",
      "  * * * * * * * * * * * * * * * * * * * \n"
     ]
    }
   ],
   "source": [
    "n=int(input('Enter Number Of Rows: '))\n",
    "for i in range(n):\n",
    "    for j in range(i,n):\n",
    "        print(' ',end=' ')\n",
    "    for j in range(i):  #changed i+1 to i\n",
    "        print('*',end=' ')\n",
    "    for j in range(i+1): #else do here \n",
    "        print('*',end=' ')\n",
    "    print()"
   ]
  },
  {
   "cell_type": "markdown",
   "id": "1dd206d6",
   "metadata": {},
   "source": [
    "#### Above are basic patterns must aware to move with number pattern"
   ]
  },
  {
   "cell_type": "code",
   "execution_count": null,
   "id": "a2b65d76",
   "metadata": {},
   "outputs": [
    {
     "name": "stdout",
     "output_type": "stream",
     "text": [
      "1 \n",
      "1 1 \n",
      "1 1 1 \n",
      "1 1 1 1 \n",
      "1 1 1 1 1 \n",
      "1 1 1 1 1 1 \n",
      "1 1 1 1 1 1 1 \n",
      "1 1 1 1 1 1 1 1 \n",
      "1 1 1 1 1 1 1 1 1 \n",
      "1 1 1 1 1 1 1 1 1 1 \n"
     ]
    }
   ],
   "source": [
    "n=int(input('Enter Number Of Rows: '))\n",
    "p=1\n",
    "for i in range(n):\n",
    "    for j in range(i+1):\n",
    "        print(p,end=' ')\n",
    "    print()"
   ]
  },
  {
   "cell_type": "code",
   "execution_count": null,
   "id": "ecdfc599",
   "metadata": {},
   "outputs": [
    {
     "name": "stdout",
     "output_type": "stream",
     "text": [
      "1 \n",
      "1 1 \n",
      "1 1 1 \n",
      "1 1 1 1 \n",
      "1 1 1 1 1 \n",
      "1 1 1 1 1 1 \n",
      "1 1 1 1 1 1 1 \n",
      "1 1 1 1 1 1 1 1 \n",
      "1 1 1 1 1 1 1 1 1 \n",
      "1 1 1 1 1 1 1 1 1 1 \n",
      "1 1 1 1 1 1 1 1 1 1 1 \n",
      "1 1 1 1 1 1 1 1 1 1 \n",
      "1 1 1 1 1 1 1 1 1 \n",
      "1 1 1 1 1 1 1 1 \n",
      "1 1 1 1 1 1 1 \n",
      "1 1 1 1 1 1 \n",
      "1 1 1 1 1 \n",
      "1 1 1 1 \n",
      "1 1 1 \n",
      "1 1 \n",
      "1 \n"
     ]
    }
   ],
   "source": [
    "n=int(input('Enter Number Of Rows: '))\n",
    "p=1\n",
    "for i in range(n+1):# n-1 also works\n",
    "    for j in range(i+1):\n",
    "        print(p,end=' ')\n",
    "    print()\n",
    "for i in range(n):\n",
    "    for j in range(i,n):# same consider\n",
    "        print(p,end=' ')\n",
    "    print()"
   ]
  },
  {
   "cell_type": "code",
   "execution_count": null,
   "id": "756a92d4",
   "metadata": {},
   "outputs": [
    {
     "name": "stdout",
     "output_type": "stream",
     "text": [
      "                    1 \n",
      "                  1 1 1 \n",
      "                1 1 1 1 1 \n",
      "              1 1 1 1 1 1 1 \n",
      "            1 1 1 1 1 1 1 1 1 \n",
      "          1 1 1 1 1 1 1 1 1 1 1 \n",
      "        1 1 1 1 1 1 1 1 1 1 1 1 1 \n",
      "      1 1 1 1 1 1 1 1 1 1 1 1 1 1 1 \n",
      "    1 1 1 1 1 1 1 1 1 1 1 1 1 1 1 1 1 \n",
      "  1 1 1 1 1 1 1 1 1 1 1 1 1 1 1 1 1 1 1 \n"
     ]
    }
   ],
   "source": [
    "n=int(input('Enter Number Of Rows: '))\n",
    "p=1\n",
    "for i in range(n):\n",
    "    for j in range(i,n):\n",
    "        print(' ',end=' ')\n",
    "    for j in range(i):  #changed i+1 to i\n",
    "        print(p,end=' ')\n",
    "    for j in range(i+1): #else do here \n",
    "        print(p,end=' ')\n",
    "    print()"
   ]
  },
  {
   "cell_type": "code",
   "execution_count": null,
   "id": "b426a382",
   "metadata": {},
   "outputs": [
    {
     "name": "stdout",
     "output_type": "stream",
     "text": [
      "1 \n",
      "2 2 \n",
      "3 3 3 \n",
      "4 4 4 4 \n",
      "5 5 5 5 5 \n"
     ]
    }
   ],
   "source": [
    "## Increasing Triangle\n",
    "## Incrementing Triangle\n",
    "n=int(input('Enter Number Of Rows: '))\n",
    "p=1\n",
    "for i in range(n):\n",
    "    for j in range(i+1):\n",
    "        print(p,end=' ')\n",
    "    p+=1\n",
    "    print()"
   ]
  },
  {
   "cell_type": "code",
   "execution_count": null,
   "id": "81f05402",
   "metadata": {},
   "outputs": [
    {
     "name": "stdout",
     "output_type": "stream",
     "text": [
      "1 \n",
      "1 2 \n",
      "1 2 3 \n",
      "1 2 3 4 \n",
      "1 2 3 4 5 \n"
     ]
    }
   ],
   "source": [
    "n=5\n",
    "for i in range(n):\n",
    "    p=1\n",
    "    for j in range(i+1):\n",
    "        print(p,end=' ')\n",
    "        p+=1\n",
    "    print()"
   ]
  },
  {
   "cell_type": "code",
   "execution_count": null,
   "id": "e9eff6d8",
   "metadata": {},
   "outputs": [
    {
     "name": "stdout",
     "output_type": "stream",
     "text": [
      "1 2 3 4 5 \n",
      "  1 2 3 4 \n",
      "    1 2 3 \n",
      "      1 2 \n",
      "        1 \n"
     ]
    }
   ],
   "source": [
    "n=5\n",
    "for i in range(n):\n",
    "    p=1\n",
    "    for j in range(i):\n",
    "        print(' ',end=' ')\n",
    "    for j in range(i,n):\n",
    "        print(p,end=' ')\n",
    "        p+=1\n",
    "    print()"
   ]
  },
  {
   "cell_type": "code",
   "execution_count": null,
   "id": "61c9fec9",
   "metadata": {},
   "outputs": [
    {
     "name": "stdout",
     "output_type": "stream",
     "text": [
      "  1 2 3 4 5 4 3 2 1 \n",
      "    1 2 3 4 3 2 1 \n",
      "      1 2 3 2 1 \n",
      "        1 2 1 \n",
      "          1 \n"
     ]
    }
   ],
   "source": [
    "n=5\n",
    "for i in range(n):\n",
    "    p=1\n",
    "    for j in range(i+1):\n",
    "        print(' ',end=' ')\n",
    "    for j in range(i,n-1):\n",
    "        print(p,end=' ')\n",
    "        p+=1\n",
    "    for j in range(i,n):\n",
    "        print(p,end=' ')\n",
    "        p-=1\n",
    "    print()"
   ]
  },
  {
   "cell_type": "code",
   "execution_count": null,
   "id": "433c3fff",
   "metadata": {},
   "outputs": [
    {
     "name": "stdout",
     "output_type": "stream",
     "text": [
      "          1 \n",
      "        1 2 3 \n",
      "      1 2 3 4 5 \n",
      "    1 2 3 4 5 6 7 \n",
      "  1 2 3 4 5 6 7 8 9 \n"
     ]
    }
   ],
   "source": [
    "n=int(input('Enter Number Of Rows: '))\n",
    "for i in range(n):\n",
    "    p=1\n",
    "    for j in range(i,n):\n",
    "        print(' ',end=' ')\n",
    "    for j in range(i):  #changed i+1 to i\n",
    "        print(p,end=' ')\n",
    "        p+=1\n",
    "    for j in range(i+1): #else do here \n",
    "        print(p,end=' ')\n",
    "        p+=1\n",
    "    print()"
   ]
  },
  {
   "cell_type": "code",
   "execution_count": null,
   "id": "54e013e9",
   "metadata": {},
   "outputs": [
    {
     "name": "stdout",
     "output_type": "stream",
     "text": [
      "5 4 3 2 1 \n",
      "  4 3 2 1 \n",
      "    3 2 1 \n",
      "      2 1 \n",
      "        1 \n"
     ]
    }
   ],
   "source": [
    "n=5\n",
    "k=5\n",
    "for i in range(n):\n",
    "    p=k\n",
    "    for j in range(i):\n",
    "        print(' ',end=' ')\n",
    "    for j in range(i,n):\n",
    "        print(p,end=' ')\n",
    "        p-=1\n",
    "    k-=1\n",
    "    print()"
   ]
  },
  {
   "cell_type": "code",
   "execution_count": null,
   "id": "9c30f700",
   "metadata": {},
   "outputs": [
    {
     "name": "stdout",
     "output_type": "stream",
     "text": [
      "1 \n",
      "2 3 \n",
      "4 5 6 \n",
      "7 8 9 10 \n"
     ]
    }
   ],
   "source": [
    "n=4\n",
    "p=1\n",
    "for i in range(n):\n",
    "    for j in range(i+1):\n",
    "        print(p,end=' ')\n",
    "        p+=1\n",
    "    print()"
   ]
  },
  {
   "cell_type": "markdown",
   "id": "0fea5fae",
   "metadata": {},
   "source": [
    "#### Character Pattern Programs (Pattern + Characters) do not mix"
   ]
  },
  {
   "cell_type": "markdown",
   "id": "e0a32644",
   "metadata": {},
   "source": [
    "#### ASCII Characters\n",
    "#### A - Z [65 - 90]\n",
    "#### a - z [97 - 122]\n",
    "#### 0 - 9 [48 - 57]"
   ]
  },
  {
   "cell_type": "code",
   "execution_count": null,
   "id": "62da8de5",
   "metadata": {},
   "outputs": [
    {
     "name": "stdout",
     "output_type": "stream",
     "text": [
      "A B C D E F G H I J K L M N O P Q R S T U V W X Y Z "
     ]
    }
   ],
   "source": [
    "for i in range(65,91):\n",
    "    print(chr(i),end=' ')"
   ]
  },
  {
   "cell_type": "code",
   "execution_count": null,
   "id": "6b51989d",
   "metadata": {},
   "outputs": [
    {
     "name": "stdout",
     "output_type": "stream",
     "text": [
      "a b c d e f g h i j k l m n o p q r s t u v w x y z "
     ]
    }
   ],
   "source": [
    "for i in range(97,123):\n",
    "    print(chr(i),end=' ')"
   ]
  },
  {
   "cell_type": "code",
   "execution_count": null,
   "id": "14cdbf0d",
   "metadata": {},
   "outputs": [
    {
     "name": "stdout",
     "output_type": "stream",
     "text": [
      "0 1 2 3 4 5 6 7 8 9 "
     ]
    }
   ],
   "source": [
    "for i in range(48,58):\n",
    "    print(chr(i),end=' ')"
   ]
  },
  {
   "cell_type": "code",
   "execution_count": null,
   "id": "ea3e0f68",
   "metadata": {},
   "outputs": [
    {
     "name": "stdout",
     "output_type": "stream",
     "text": [
      "A \n",
      "A A \n",
      "A A A \n",
      "A A A A \n",
      "A A A A A \n"
     ]
    }
   ],
   "source": [
    "n=5\n",
    "p=65\n",
    "for i in range(n):\n",
    "    for j in range(i+1):\n",
    "        print(chr(p),end=' ')\n",
    "    print()"
   ]
  },
  {
   "cell_type": "code",
   "execution_count": null,
   "id": "e090ba9e",
   "metadata": {},
   "outputs": [
    {
     "name": "stdout",
     "output_type": "stream",
     "text": [
      "A \n",
      "B B \n",
      "C C C \n",
      "D D D D \n",
      "E E E E E \n"
     ]
    }
   ],
   "source": [
    "n=5\n",
    "alp=65\n",
    "for i in range(n):\n",
    "    for j in range(i+1):\n",
    "        print(chr(alp),end=' ')\n",
    "    alp+=1\n",
    "    print()"
   ]
  },
  {
   "cell_type": "code",
   "execution_count": null,
   "id": "8c55adb9",
   "metadata": {},
   "outputs": [
    {
     "name": "stdout",
     "output_type": "stream",
     "text": [
      "A \n",
      "B B \n",
      "A A A \n",
      "B B B B \n",
      "A A A A A \n"
     ]
    }
   ],
   "source": [
    "n=5\n",
    "alp=65\n",
    "for i in range(n):\n",
    "    for j in range(i+1):\n",
    "        if i%2==0:\n",
    "            print(chr(alp),end=' ')\n",
    "        else:\n",
    "            print(chr(alp+1),end=' ')\n",
    "    print()"
   ]
  },
  {
   "cell_type": "code",
   "execution_count": null,
   "id": "6cb6d6f9",
   "metadata": {},
   "outputs": [
    {
     "name": "stdout",
     "output_type": "stream",
     "text": [
      "A \n",
      "C C \n",
      "E E E \n",
      "G G G G \n",
      "I I I I I \n"
     ]
    }
   ],
   "source": [
    "n=5\n",
    "alp=65\n",
    "for i in range(n):\n",
    "    for j in range(i+1):\n",
    "        print(chr(alp),end=' ')\n",
    "    alp+=2\n",
    "    print()"
   ]
  },
  {
   "cell_type": "code",
   "execution_count": null,
   "id": "f8d52685",
   "metadata": {},
   "outputs": [
    {
     "name": "stdout",
     "output_type": "stream",
     "text": [
      "E \n",
      "D D \n",
      "C C C \n",
      "B B B B \n",
      "A A A A A \n"
     ]
    }
   ],
   "source": [
    "n=5\n",
    "p=69\n",
    "for i in range(n):\n",
    "    for j in range(i+1):\n",
    "        print(chr(p),end=' ')\n",
    "    p-=1\n",
    "    print()"
   ]
  },
  {
   "cell_type": "code",
   "execution_count": null,
   "id": "8a8833ce",
   "metadata": {},
   "outputs": [
    {
     "name": "stdout",
     "output_type": "stream",
     "text": [
      "E D C B A \n",
      "  D C B A \n",
      "    C B A \n",
      "      B A \n",
      "        A \n"
     ]
    }
   ],
   "source": [
    "n=5\n",
    "p=69\n",
    "for i in range(n):\n",
    "    k=p\n",
    "    for j in range(i):\n",
    "        print(' ',end=' ')\n",
    "    for j in range(i,n):\n",
    "        print(chr(k),end=' ')\n",
    "        k-=1\n",
    "    p-=1\n",
    "    print()"
   ]
  },
  {
   "cell_type": "code",
   "execution_count": null,
   "id": "fc9e0561",
   "metadata": {},
   "outputs": [
    {
     "name": "stdout",
     "output_type": "stream",
     "text": [
      "          A \n",
      "        B B B \n",
      "      C C C C C \n",
      "    D D D D D D D \n",
      "  E E E E E E E E E \n",
      "    D D D D D D D \n",
      "      C C C C C \n",
      "        B B B \n",
      "          A \n"
     ]
    }
   ],
   "source": [
    "n=5\n",
    "p=65\n",
    "for i in range(n-1):\n",
    "    for j in range(i,n):\n",
    "        print(' ',end=' ')\n",
    "    for j in range(i+1):\n",
    "        print(chr(p),end=' ')\n",
    "    for j in range(i):\n",
    "        print(chr(p),end=' ')\n",
    "    p+=1\n",
    "    print()\n",
    "for i in range(n):\n",
    "    for j in range(i+1):\n",
    "        print(' ',end=' ')\n",
    "    for j in range(i,n):\n",
    "        print(chr(p),end=' ')\n",
    "    for j in range(i,n-1):\n",
    "        print(chr(p),end=' ')\n",
    "    p-=1\n",
    "    print()"
   ]
  },
  {
   "cell_type": "code",
   "execution_count": null,
   "id": "7cde2ed3",
   "metadata": {},
   "outputs": [
    {
     "name": "stdout",
     "output_type": "stream",
     "text": [
      "          A \n",
      "        A B A \n",
      "      A B C B A \n",
      "    A B C D C B A \n",
      "  A B C D E D C B A \n"
     ]
    }
   ],
   "source": [
    "n=5\n",
    "for i in range(n):\n",
    "    p=65\n",
    "    for j in range(i,n):\n",
    "        print(' ',end=' ')\n",
    "    for j in range(i):\n",
    "        print(chr(p),end=' ')\n",
    "        p+=1\n",
    "    for j in range(i+1):\n",
    "        print(chr(p),end=' ')\n",
    "        p-=1\n",
    "    print()"
   ]
  },
  {
   "cell_type": "code",
   "execution_count": null,
   "id": "56dea71b",
   "metadata": {},
   "outputs": [
    {
     "name": "stdout",
     "output_type": "stream",
     "text": [
      "          \n",
      "        R \n",
      "      E E \n",
      "    D D D \n",
      "  O O O O \n",
      "C C C C C \n"
     ]
    }
   ],
   "source": [
    "s='CODER'\n",
    "n=len(s)\n",
    "p=0\n",
    "for i in range(n+1):\n",
    "    for j in range(i,n):\n",
    "        print(' ',end=' ')\n",
    "    for j in range(i):\n",
    "        print(s[p],end=' ')\n",
    "    p-=1\n",
    "    print()"
   ]
  },
  {
   "cell_type": "code",
   "execution_count": null,
   "id": "1c5badc1",
   "metadata": {},
   "outputs": [
    {
     "name": "stdout",
     "output_type": "stream",
     "text": [
      "\n",
      "R \n",
      "E E \n",
      "D D D \n",
      "O O O O \n",
      "C C C C C \n"
     ]
    }
   ],
   "source": [
    "s='CODER'\n",
    "n=len(s)\n",
    "p=0\n",
    "for i in range(n+1):\n",
    "    for j in range(i):\n",
    "        print(s[p],end=' ')\n",
    "    p-=1\n",
    "    print()"
   ]
  },
  {
   "cell_type": "code",
   "execution_count": null,
   "id": "7c9f7c64",
   "metadata": {},
   "outputs": [
    {
     "name": "stdout",
     "output_type": "stream",
     "text": [
      "          \n",
      "        R \n",
      "      E E E \n",
      "    D D D D D \n",
      "  O O O O O O O \n",
      "C C C C C C C C C \n"
     ]
    }
   ],
   "source": [
    "s='CODER'\n",
    "n=len(s)\n",
    "p=0\n",
    "for i in range(n+1):\n",
    "    for j in range(i,n):\n",
    "        print(' ',end=' ')\n",
    "    for j in range(i-1): # i also works if next loop follows i-1\n",
    "        print(s[p],end=' ')\n",
    "    for j in range(i): # i-1 also works if previous loop follows i\n",
    "        print(s[p],end=' ')\n",
    "    p-=1\n",
    "    print()"
   ]
  },
  {
   "cell_type": "code",
   "execution_count": null,
   "id": "abb8b9b1",
   "metadata": {},
   "outputs": [
    {
     "name": "stdout",
     "output_type": "stream",
     "text": [
      "R E D O C \n",
      "  E D O C \n",
      "    D O C \n",
      "      O C \n",
      "        C \n"
     ]
    }
   ],
   "source": [
    "s='CODER'\n",
    "n=len(s)\n",
    "k=n-1\n",
    "for i in range(n):\n",
    "    p=k\n",
    "    for j in range(i):\n",
    "        print(' ',end=' ')\n",
    "    for j in range(i,n):\n",
    "        print(s[p],end=' ')\n",
    "        p-=1\n",
    "    print()\n",
    "    k-=1"
   ]
  },
  {
   "cell_type": "code",
   "execution_count": null,
   "id": "4fc2b3ff",
   "metadata": {},
   "outputs": [
    {
     "name": "stdout",
     "output_type": "stream",
     "text": [
      "C \n",
      "C O \n",
      "C O D \n",
      "C O D E \n",
      "C O D E R \n"
     ]
    }
   ],
   "source": [
    "s='CODER'\n",
    "n=len(s)\n",
    "for i in range(n):\n",
    "    p=0\n",
    "    for j in range(i+1):\n",
    "        print(s[p],end=' ')\n",
    "        p+=1\n",
    "    print()"
   ]
  },
  {
   "cell_type": "code",
   "execution_count": 11,
   "id": "5893930b",
   "metadata": {},
   "outputs": [
    {
     "name": "stdout",
     "output_type": "stream",
     "text": [
      "          C \n",
      "        C O \n",
      "      C O D \n",
      "    C O D E \n",
      "  C O D E R \n"
     ]
    }
   ],
   "source": [
    "s='CODER'\n",
    "n=len(s)\n",
    "for i in range(n):\n",
    "    p=0\n",
    "    for j in range(i,n):\n",
    "        print(' ',end=' ')\n",
    "    for j in range(i+1):\n",
    "        print(s[p],end=' ')\n",
    "        p+=1\n",
    "    print()"
   ]
  },
  {
   "cell_type": "code",
   "execution_count": 2,
   "id": "aa7ef457",
   "metadata": {},
   "outputs": [
    {
     "name": "stdout",
     "output_type": "stream",
     "text": [
      "*  *  *  *  *  \n",
      "*  *  *  *  *  \n",
      "*  *  *  *  *  \n",
      "*  *  *  *  *  \n",
      "*  *  *  *  *  \n"
     ]
    }
   ],
   "source": [
    "n=5\n",
    "for i in range(n):\n",
    "    for j in range(n):\n",
    "        print('* ',end=' ')\n",
    "    print()"
   ]
  },
  {
   "cell_type": "code",
   "execution_count": 9,
   "id": "b042d99b",
   "metadata": {},
   "outputs": [
    {
     "name": "stdout",
     "output_type": "stream",
     "text": [
      "*           *  \n",
      "*           *  \n",
      "*           *  \n",
      "*           *  \n",
      "*           *  \n"
     ]
    }
   ],
   "source": [
    "n=5\n",
    "for i in range(n):\n",
    "    for j in range(n):\n",
    "        if j==0 or j==n-1:\n",
    "            print('* ',end=' ')\n",
    "        else:\n",
    "            print('  ',end=' ')\n",
    "    print()"
   ]
  },
  {
   "cell_type": "code",
   "execution_count": 10,
   "id": "25880d50",
   "metadata": {},
   "outputs": [
    {
     "name": "stdout",
     "output_type": "stream",
     "text": [
      "      *        \n",
      "      *        \n",
      "*  *  *  *  *  \n",
      "      *        \n",
      "      *        \n"
     ]
    }
   ],
   "source": [
    "n=5\n",
    "for i in range(n):\n",
    "    for j in range(n):\n",
    "        if j==n//2 or i==n//2:\n",
    "            print('* ',end=' ')\n",
    "        else:\n",
    "            print('  ',end=' ')\n",
    "    print()"
   ]
  },
  {
   "cell_type": "code",
   "execution_count": 11,
   "id": "1a011c1e",
   "metadata": {},
   "outputs": [
    {
     "name": "stdout",
     "output_type": "stream",
     "text": [
      "*       * \n",
      "  *   *   \n",
      "    *     \n",
      "  *   *   \n",
      "*       * \n"
     ]
    }
   ],
   "source": [
    "n=5\n",
    "for i in range(n):\n",
    "    for j in range(n):\n",
    "        if i==j or i+j==n-1:\n",
    "            print('*',end=' ')\n",
    "        else:\n",
    "            print(' ',end=' ')\n",
    "    print()"
   ]
  },
  {
   "cell_type": "code",
   "execution_count": 4,
   "id": "b53b9e5e",
   "metadata": {},
   "outputs": [
    {
     "name": "stdout",
     "output_type": "stream",
     "text": [
      "* * * * * \n",
      "*       * \n",
      "*       * \n",
      "*       * \n",
      "* * * * * \n"
     ]
    }
   ],
   "source": [
    "n = 5\n",
    "for i in range(n):\n",
    "    for j in range(n):\n",
    "        if i == 0 or i == n-1 or j == 0 or j == n-1:\n",
    "            print('*', end=' ')\n",
    "        else:\n",
    "            print(' ', end=' ')\n",
    "    print()"
   ]
  },
  {
   "cell_type": "code",
   "execution_count": 15,
   "id": "b594ae50",
   "metadata": {},
   "outputs": [
    {
     "name": "stdout",
     "output_type": "stream",
     "text": [
      "* \n",
      "* * \n",
      "*   * \n",
      "*     * \n",
      "* * * * * \n"
     ]
    }
   ],
   "source": [
    "n=5\n",
    "for i in range(n):\n",
    "    for j in range(i+1):\n",
    "        if i==0 or j==0 or i==n-1 or i==j:\n",
    "            print('*',end=' ')\n",
    "        else:\n",
    "            print(' ',end=' ')\n",
    "    print()"
   ]
  },
  {
   "cell_type": "code",
   "execution_count": 23,
   "id": "ee1874f4",
   "metadata": {},
   "outputs": [
    {
     "name": "stdout",
     "output_type": "stream",
     "text": [
      "* * * * * * * * * * \n",
      "*               * \n",
      "*             * \n",
      "*           * \n",
      "*         * \n",
      "*       * \n",
      "*     * \n",
      "*   * \n",
      "* * \n",
      "* \n"
     ]
    }
   ],
   "source": [
    "n=int(input('Enter Rows: '))\n",
    "for i in range(n):\n",
    "    for j in range(i,n):\n",
    "        if i==0 or j==i or j==n-1:\n",
    "            print('*',end=' ')\n",
    "        else:\n",
    "            print(' ',end=' ')\n",
    "    print()"
   ]
  },
  {
   "cell_type": "code",
   "execution_count": null,
   "id": "80f3fba6",
   "metadata": {},
   "outputs": [
    {
     "name": "stdout",
     "output_type": "stream",
     "text": [
      "* * * * * \n",
      "*     * \n",
      "*   * \n",
      "* * \n",
      "* \n"
     ]
    }
   ],
   "source": []
  },
  {
   "cell_type": "code",
   "execution_count": 20,
   "id": "2ab1f27b",
   "metadata": {},
   "outputs": [
    {
     "name": "stdout",
     "output_type": "stream",
     "text": [
      "    *     \n",
      "  *   *   \n",
      "*       * \n",
      "  *   *   \n",
      "    *     \n"
     ]
    }
   ],
   "source": [
    "n=5\n",
    "for i in range(n):\n",
    "    for j in range(n):\n",
    "        if i + j == 2 or j - i == 2 or i - j ==2 or i + j == 6:\n",
    "            print('*',end=' ')\n",
    "        else:\n",
    "            print(' ',end=' ')\n",
    "    print()"
   ]
  },
  {
   "cell_type": "code",
   "execution_count": 34,
   "id": "fbca7167",
   "metadata": {},
   "outputs": [
    {
     "name": "stdout",
     "output_type": "stream",
     "text": [
      "          * \n",
      "        * * \n",
      "      * * * \n",
      "    * * * * \n",
      "  * * * * * \n"
     ]
    }
   ],
   "source": [
    "n=int(input('Enter Number Of Rows: '))\n",
    "for i in range(n):\n",
    "    for j in range(i,n):\n",
    "        print(' ',end=' ')\n",
    "    for j in range(i+1):  #changed i+1 to i\n",
    "        # if i==0 or j==n-1\n",
    "        print('*',end=' ')\n",
    "    # for j in range(i+1): #else do here \n",
    "    #     print('*',end=' ')\n",
    "    print()"
   ]
  },
  {
   "cell_type": "code",
   "execution_count": 20,
   "id": "5980c939",
   "metadata": {},
   "outputs": [
    {
     "name": "stdout",
     "output_type": "stream",
     "text": [
      "                  * \n",
      "                * * \n",
      "              *   * \n",
      "            *     * \n",
      "          *       * \n",
      "        *         * \n",
      "      *           * \n",
      "    *             * \n",
      "  *               * \n",
      "* * * * * * * * * * \n"
     ]
    }
   ],
   "source": [
    "n=int(input('Enter Rows: '))\n",
    "for i in range(n):\n",
    "    for j in range(n):\n",
    "        if j==n-1 or i==n-1 or i+j==n-1:\n",
    "            print('*',end=' ')\n",
    "        else:\n",
    "            print(' ',end=' ')\n",
    "    print()"
   ]
  },
  {
   "cell_type": "code",
   "execution_count": 17,
   "id": "7133a0af",
   "metadata": {},
   "outputs": [
    {
     "name": "stdout",
     "output_type": "stream",
     "text": [
      "*                   \n",
      "* *                 \n",
      "*   *               \n",
      "*     *             \n",
      "*       *           \n",
      "*         *         \n",
      "*           *       \n",
      "*             *     \n",
      "*               *   \n",
      "* * * * * * * * * * \n"
     ]
    }
   ],
   "source": [
    "n=int(input('Enter Rows: '))\n",
    "for i in range(n):\n",
    "    for j in range(n):\n",
    "        if i==n-1 or j==0 or i==j:\n",
    "            print('*',end=' ')\n",
    "        else:\n",
    "            print(' ',end=' ')\n",
    "    print()"
   ]
  },
  {
   "cell_type": "code",
   "execution_count": 28,
   "id": "e4977742",
   "metadata": {},
   "outputs": [
    {
     "name": "stdout",
     "output_type": "stream",
     "text": [
      "                  *                   \n",
      "                *   *                 \n",
      "              *       *               \n",
      "            *           *             \n",
      "          *               *           \n",
      "        *                   *         \n",
      "      *                       *       \n",
      "    *                           *     \n",
      "  *                               *   \n",
      "* * * * * * * * * * * * * * * * * * * \n"
     ]
    }
   ],
   "source": [
    "n=int(input('Enter Rows: '))\n",
    "for i in range(n):\n",
    "    for j in range(n-1):\n",
    "        if j==n-1 or i==n-1 or i+j==n-1:\n",
    "            print('*',end=' ')\n",
    "        else:\n",
    "            print(' ',end=' ')\n",
    "    for j in range(n):\n",
    "        if i==n-1 or i==j:\n",
    "            print('*',end=' ')\n",
    "        else:\n",
    "            print(' ',end=' ')\n",
    "    print()"
   ]
  },
  {
   "cell_type": "code",
   "execution_count": 48,
   "id": "e471f1fb",
   "metadata": {},
   "outputs": [
    {
     "name": "stdout",
     "output_type": "stream",
     "text": [
      "Leap Year\n"
     ]
    }
   ],
   "source": [
    "n=int(input('Enter Year: '))\n",
    "if n%4==0 or n%100==0 or n%400==0:\n",
    "    print(\"Leap Year\")\n",
    "else:\n",
    "    print('Not a Leap Year')"
   ]
  },
  {
   "cell_type": "code",
   "execution_count": 70,
   "id": "5107c46f",
   "metadata": {},
   "outputs": [
    {
     "name": "stdout",
     "output_type": "stream",
     "text": [
      "Factorial of 1 is 1\n"
     ]
    }
   ],
   "source": [
    "num=int(input('Enter Number: '))\n",
    "fact=1\n",
    "if num<0:\n",
    "    print('Invalid Input Factorial of Negative Number Does Not Exist')\n",
    "elif num==0:\n",
    "    print('Factorial of 0 is 1')\n",
    "else:\n",
    "    for i in range(1,num+1):\n",
    "        fact=fact*i\n",
    "print(f'Factorial of {num} is {fact}')"
   ]
  },
  {
   "cell_type": "code",
   "execution_count": 69,
   "id": "77408d3e",
   "metadata": {},
   "outputs": [
    {
     "name": "stdout",
     "output_type": "stream",
     "text": [
      "Invalid Input,Enter +ve Integer\n"
     ]
    }
   ],
   "source": [
    "num=int(input('Enter Number: '))\n",
    "flag=False\n",
    "if num==0 or num==1:\n",
    "    print(f'{num} is neither prime nor composite')\n",
    "elif num<0:\n",
    "    print('Invalid Input,Enter +ve Integer')\n",
    "elif num>1:\n",
    "    for i in range(2,num):\n",
    "        if num%i==0:\n",
    "            flag=True\n",
    "            break\n",
    "    if flag:\n",
    "        print(f'{num} is not a prime number')\n",
    "    else:\n",
    "        print(f'{num} is a prime number')"
   ]
  },
  {
   "cell_type": "markdown",
   "id": "73775be8",
   "metadata": {},
   "source": [
    "### CODEBLOCKS EXAM QUESTION"
   ]
  },
  {
   "cell_type": "markdown",
   "id": "20e6d940",
   "metadata": {},
   "source": [
    "1. Print \"lowercase\" if user enters a character between 'a-z' , Print \"UPPERCASE\" is character lies between 'A-Z' and print \"Invalid\" for all other characters like $,.^# etc."
   ]
  },
  {
   "cell_type": "code",
   "execution_count": 3,
   "id": "52c9dca8",
   "metadata": {},
   "outputs": [
    {
     "name": "stdout",
     "output_type": "stream",
     "text": [
      "Character Entered: a\n",
      "lowercase\n"
     ]
    }
   ],
   "source": [
    "def check_char_type(char):\n",
    "    if 'a'<=char<='z':\n",
    "        return 'lowercase'\n",
    "    elif 'A'<=char<='Z':\n",
    "        return 'UPPERCASE'\n",
    "    else:\n",
    "        return 'Invalid'\n",
    "user_input=input()\n",
    "print(f'Character Entered: {user_input}')\n",
    "print(check_char_type(user_input))"
   ]
  },
  {
   "cell_type": "markdown",
   "id": "91e309aa",
   "metadata": {},
   "source": [
    "2. Input three numbers, print the largest of these numbers\n",
    "\n",
    "\n",
    "Input Format\n",
    "Three numbers (both positive and negative numbers are allowed)"
   ]
  },
  {
   "cell_type": "code",
   "execution_count": null,
   "id": "487bee54",
   "metadata": {},
   "outputs": [
    {
     "name": "stdout",
     "output_type": "stream",
     "text": [
      "7\n"
     ]
    }
   ],
   "source": [
    "def find_largest(num1, num2, num3):\n",
    "  return max(num1, num2, num3)\n",
    "\n",
    "try:\n",
    "  numbers = list(map(int,input().split()))\n",
    "\n",
    "  if len(numbers) == 3:\n",
    "    result = find_largest(numbers[0], numbers[1], numbers[2])\n",
    "    print(result)\n",
    "  else:\n",
    "    print(\"Please enter exactly three numbers.\")\n",
    "except ValueError:\n",
    "  print(\"Invalid input. Please enter numbers separated by spaces.\")"
   ]
  },
  {
   "cell_type": "code",
   "execution_count": 39,
   "id": "a92f7f19",
   "metadata": {},
   "outputs": [
    {
     "name": "stdout",
     "output_type": "stream",
     "text": [
      "Please Enter Exactly Three Numbers\n"
     ]
    }
   ],
   "source": [
    "def checkForLargest(num1, num2, num3):\n",
    "    return max(num1, num2, num3)\n",
    "try:\n",
    "    numbers=list(map(int,input().split()))\n",
    "    # number=map(int,input().split()) # instead of line 4 we can use these 2 lines\n",
    "    # numbers=list(number)\n",
    "    if len(numbers)==3:\n",
    "        result=checkForLargest(numbers[0],numbers[1],numbers[2])\n",
    "        print(result)\n",
    "    else:\n",
    "        print('Please Enter Exactly Three Numbers')\n",
    "except ValueError:\n",
    "    print('Invalid Input. Please Enter Numbers Separated By Spaces')"
   ]
  },
  {
   "cell_type": "markdown",
   "id": "09b4f27c",
   "metadata": {},
   "source": [
    "##### Other method of solving above largest of 3"
   ]
  },
  {
   "cell_type": "code",
   "execution_count": 41,
   "id": "4f78ac2a",
   "metadata": {},
   "outputs": [
    {
     "name": "stdout",
     "output_type": "stream",
     "text": [
      "Please Enter Exactly Three Numbers\n"
     ]
    }
   ],
   "source": [
    "def checkForLargest(number):\n",
    "    return max(number)\n",
    "try:\n",
    "    numbers=list(map(int,input().split()))\n",
    "    # number=map(int,input().split()) # instead of line 4 we can use these 2 lines\n",
    "    # numbers=list(number)\n",
    "    if len(numbers)==3:\n",
    "        result=checkForLargest(numbers)\n",
    "        print(result)\n",
    "    else:\n",
    "        print('Please Enter Exactly Three Numbers')\n",
    "except ValueError:\n",
    "    print('Invalid Input. Please Enter Numbers Separated By Spaces')"
   ]
  },
  {
   "cell_type": "markdown",
   "id": "4994b0bb",
   "metadata": {},
   "source": [
    "3. Read as input 5 Numbers and print the largest out of them\n",
    "\n",
    "\n",
    "Input Format\n",
    "5 Space Separated Numbers (both positive and negative)"
   ]
  },
  {
   "cell_type": "code",
   "execution_count": 49,
   "id": "24ff83e9",
   "metadata": {},
   "outputs": [
    {
     "name": "stdout",
     "output_type": "stream",
     "text": [
      "Numbers Entered: [1, 2, -3, -4, 9]\n",
      "Largest Number:9\n"
     ]
    }
   ],
   "source": [
    "def checkForLargest(numbers):\n",
    "    return max(numbers)\n",
    "try:\n",
    "    numbers=list(map(int, input().split()))\n",
    "    if len(numbers)==5:\n",
    "        result=checkForLargest(numbers)\n",
    "        print(f'Numbers Entered: {numbers}')\n",
    "        print(f'Largest Number:{result}')\n",
    "    else:\n",
    "        print('Enter Exactly 5 Numbers')\n",
    "except ValueError:\n",
    "    print('Invalid Input. Please Enter Numbers Separated By Spaces.')"
   ]
  },
  {
   "cell_type": "markdown",
   "id": "60ab2056",
   "metadata": {},
   "source": [
    "4. You are given a student's marks (an integer between 0 and 100). Your task is to determine the grade of the student based on the following criteria:\n",
    "\n",
    "* If marks are 80 or more but less than 90, grade is B\n",
    "* If marks are greater than or equal to 90, grade is A\n",
    "* If marks are 70 or more but less than 80, grade is C\n",
    "* If marks are 60 or more but less than 70, grade is D\n",
    "* If marks are below 60, grade is F\n",
    "\n",
    "* Input Format\n",
    "* An integer marks (0 ≤ marks ≤ 100)\n",
    "\n",
    "* Constraints\n",
    "* 0 ≤ marks ≤ 100\n",
    "* Use nested if-else for decision-making"
   ]
  },
  {
   "cell_type": "code",
   "execution_count": 52,
   "id": "ebad42d1",
   "metadata": {},
   "outputs": [
    {
     "name": "stdout",
     "output_type": "stream",
     "text": [
      "B\n"
     ]
    }
   ],
   "source": [
    "def get_grade(marks):\n",
    "  if marks >= 90:\n",
    "    return 'A'\n",
    "  else:\n",
    "    if marks >= 80:\n",
    "      return 'B'\n",
    "    else:\n",
    "      if marks >= 70:\n",
    "        return 'C'\n",
    "      else:\n",
    "        if marks >= 60:\n",
    "          return 'D'\n",
    "        else:\n",
    "          return 'F'\n",
    "\n",
    "try:\n",
    "  \n",
    "  student_marks = int(input())\n",
    "\n",
    "  \n",
    "  if 0 <= student_marks <= 100:\n",
    "    grade = get_grade(student_marks)\n",
    "    print(grade)\n",
    "  else:\n",
    "    print(\"Invalid input. Marks should be between 0 and 100.\")\n",
    "except ValueError:\n",
    "  print(\"Invalid input. Please enter an integer.\")"
   ]
  },
  {
   "cell_type": "markdown",
   "id": "975ac7b7",
   "metadata": {},
   "source": [
    "# Coding Tournament Player Status\n",
    "\n",
    "In a coding tournament, players are ranked based on three criteria:\n",
    "\n",
    "- **level** (1 to 5): The level of the match\n",
    "- **score** (0 to 100): The points scored by the player\n",
    "- **penalty** (0 to 10): The number of warnings/penalty strikes received\n",
    "\n",
    "Your task is to determine the player's status based on the following logic:\n",
    "\n",
    "## Logic Rules\n",
    "\n",
    "### If level == 5:\n",
    "- If score >= 90:\n",
    "  - If penalty == 0 → Output \"Champion\"\n",
    "  - Else → Output \"Qualified\"\n",
    "- Else:\n",
    "  - If score >= 70 → Output \"Qualified\"\n",
    "  - Else → Output \"Disqualified\"\n",
    "\n",
    "### If level == 3 or 4:\n",
    "- If score >= 80:\n",
    "  - If penalty <= 2 → Output \"Promoted\"\n",
    "  - Else → Output \"Needs Review\"\n",
    "- Else → Output \"Try Again\"\n",
    "\n",
    "### If level <= 2:\n",
    "- If score >= 60:\n",
    "  - If penalty <= 3 → Output \"Advance\"\n",
    "  - Else → Output \"Warning Issued\"\n",
    "- Else → Output \"Eliminated\"\n",
    "\n",
    "## Input Format\n",
    "Three integers:\n",
    "- level (1 ≤ level ≤ 5)\n",
    "- score (0 ≤ score ≤ 100)\n",
    "- penalty (0 ≤ penalty ≤ 10)\n",
    "\n",
    "## Constraints\n",
    "All input values are integers\n",
    "\n",
    "## Output Format\n",
    "A single line indicating the player's status:\n",
    "- \"Champion\"\n",
    "- \"Qualified\"\n",
    "- \"Disqualified\"\n",
    "- \"Promoted\"\n",
    "- \"Needs Review\"\n",
    "- \"Try Again\"\n",
    "- \"Advance\"\n",
    "- \"Warning Issued\"\n",
    "- \"Eliminated\"\n",
    "\n",
    "## Sample Input\n",
    "-  5\n",
    "-  95\n",
    "-  0\n",
    "\n",
    "## Sample Output\n",
    "- \"Champion\"\n",
    "\n",
    "\n",
    "## Explanation\n",
    "Since level is 5, score is 95 (≥90), and penalty is 0 → the player is a \"Champion\"."
   ]
  },
  {
   "cell_type": "code",
   "execution_count": 61,
   "id": "fb743734",
   "metadata": {},
   "outputs": [
    {
     "name": "stdout",
     "output_type": "stream",
     "text": [
      "None\n"
     ]
    }
   ],
   "source": [
    "def get_player_status(level, score, penalty):\n",
    "    if level==5:\n",
    "        if score>=90:\n",
    "            if penalty==0:\n",
    "                return 'Champion'\n",
    "            else:\n",
    "                return 'Qualified'\n",
    "        else:\n",
    "            if score>=70:\n",
    "                return 'Qualified'\n",
    "            else:\n",
    "                return 'Disqualified'\n",
    "    elif level==3 or level==4:\n",
    "        if score>=80:\n",
    "            if penalty<=2:\n",
    "                return 'Promoted'\n",
    "            else:\n",
    "                return 'Needs Review'\n",
    "        else:\n",
    "            return 'Try Again'\n",
    "    else:\n",
    "        if level<=2:\n",
    "            if score>=60:\n",
    "                if penalty<=3:\n",
    "                    return 'Advance'\n",
    "                else:\n",
    "                    return 'Warning Issued'\n",
    "            else:\n",
    "                return 'Eliminated'\n",
    "try:\n",
    "    level, score, penalty = list(map(int, input().split()))\n",
    "    print(get_player_status(level, score, penalty))\n",
    "except ValueError:\n",
    "    print(\"Invalid input. Please enter three integers separated by spaces.\")"
   ]
  },
  {
   "cell_type": "code",
   "execution_count": null,
   "id": "ee144bac",
   "metadata": {},
   "outputs": [],
   "source": [
    "# If age >= 60:\n",
    "#     If bmi >= 30:  <-- Level 2: BMI check for this age group\n",
    "#         If chronic_conditions >= 2  → Output \"High Risk\"  <-- Level 3: Chronic conditions check\n",
    "#         Else                          → Output \"Moderate Risk\"\n",
    "#     Else (if bmi < 30):  <-- Level 2: BMI check for this age group\n",
    "#         If chronic_conditions >= 1  → Output \"Moderate Risk\"  <-- Level 3: Chronic conditions check\n",
    "#         Else                          → Output \"Low Risk\"\n",
    "\n",
    "\n",
    "# If 40 <= age < 60:\n",
    "#     If bmi >= 25:  <-- Level 2: BMI check for this age group\n",
    "#         If chronic_conditions >= 2  → Output \"Moderate Risk\"  <-- Level 3: Chronic conditions check\n",
    "#         Else                          → Output \"Low Risk\"\n",
    "#     Else (if bmi < 25):  <-- Level 2: BMI check for this age group\n",
    "#         Output \"Low Risk\"  <-- No further chronic condition check needed here; it's always Low Risk\n",
    "\n",
    "\n",
    "# If age < 40:\n",
    "#     If bmi >= 28:  <-- Level 2: BMI check for this age group\n",
    "#         If chronic_conditions >= 1  → Output \"Moderate Risk\"  <-- Level 3: Chronic conditions check\n",
    "#         Else                          → Output \"Low Risk\"\n",
    "#     Else (if bmi < 28):  <-- Level 2: BMI check for this age group\n",
    "#         Output \"Very Low Risk\"  <-- No further chronic condition check needed here; it's always Very Low Risk"
   ]
  },
  {
   "cell_type": "code",
   "execution_count": 63,
   "id": "445db240",
   "metadata": {},
   "outputs": [
    {
     "name": "stdout",
     "output_type": "stream",
     "text": [
      "High Risk\n"
     ]
    }
   ],
   "source": [
    "### Question 6\n",
    "def get_risk_category(age, bmi, chronic_conditions):\n",
    "  # --- Logic for Age >= 60 ---\n",
    "  if age >= 60:\n",
    "    if bmi >= 30 and chronic_conditions >= 2:\n",
    "      return 'High Risk'\n",
    "    elif bmi < 30 and chronic_conditions < 1:\n",
    "      return 'Low Risk'\n",
    "    else:\n",
    "      return 'Moderate Risk'\n",
    "\n",
    "  # --- Logic for 40 <= Age < 60 ---\n",
    "  elif 40 <= age < 60:\n",
    "    if bmi >= 25 and chronic_conditions >= 2:\n",
    "      return 'Moderate Risk'\n",
    "    else:\n",
    "      return 'Low Risk'\n",
    "\n",
    "  # --- Logic for Age < 40 ---\n",
    "  elif age< 40:  # This covers age < 40\n",
    "    if bmi >= 28 and chronic_conditions >= 1:\n",
    "      return 'Moderate Risk'\n",
    "    elif bmi >= 28 and chronic_conditions < 1:\n",
    "      return 'Low Risk'\n",
    "    else:\n",
    "      return 'Very Low Risk'\n",
    "\n",
    "if __name__ == \"__main__\":\n",
    "  try:\n",
    "    age = int(input())\n",
    "    bmi = int(input())\n",
    "    chronic_conditions = int(input())\n",
    "    if not (0 <= age <= 120 and 0 <= bmi <= 60 and 0 <= chronic_conditions <= 10):\n",
    "      print(\"Input values are out of specified constraints.\")\n",
    "    else:\n",
    "      risk_category = get_risk_category(age, bmi, chronic_conditions)\n",
    "      print(risk_category)\n",
    "\n",
    "  except ValueError:\n",
    "    print(\"Invalid input. Please enter integers for age, BMI, and chronic conditions.\")"
   ]
  },
  {
   "cell_type": "code",
   "execution_count": 11,
   "id": "653c85cb",
   "metadata": {},
   "outputs": [
    {
     "name": "stdout",
     "output_type": "stream",
     "text": [
      "List with 4 rows and 5 columns.\n",
      "['*****', '*****', '*****', '*****']\n"
     ]
    }
   ],
   "source": [
    "def generate_rectangle(n,m):\n",
    "    rectangle=[]\n",
    "    for i in range(n):\n",
    "        rows='*'*m\n",
    "        rectangle.append(rows)\n",
    "    return rectangle\n",
    "\n",
    "\n",
    "if __name__=='__main__':\n",
    "    n=int(input())\n",
    "    m=int(input())\n",
    "    try:\n",
    "        if 0<=n<=100 and 0<=m<=100:\n",
    "            print(f'List with {n} rows and {m} columns.')\n",
    "            # print(generate_rectangle(n,m))\n",
    "            result=generate_rectangle(n,m)\n",
    "            print(result)\n",
    "    except ValueError:\n",
    "        print(\"Invalid input. Please enter integers for the number of rows and columns.\")"
   ]
  },
  {
   "cell_type": "code",
   "execution_count": 13,
   "id": "30b56a63",
   "metadata": {},
   "outputs": [
    {
     "name": "stdout",
     "output_type": "stream",
     "text": [
      "* \n",
      "* * \n",
      "* * * \n",
      "* * * * \n",
      "* * * * * \n"
     ]
    }
   ],
   "source": [
    "right= ['* '*(i+1) for i in range(5)]\n",
    "for row in right:\n",
    "    print(row)"
   ]
  },
  {
   "cell_type": "code",
   "execution_count": 17,
   "id": "418e208f",
   "metadata": {},
   "outputs": [
    {
     "name": "stdout",
     "output_type": "stream",
     "text": [
      "                  *                   \n",
      "                * * *                 \n",
      "              * * * * *               \n",
      "            * * * * * * *             \n",
      "          * * * * * * * * *           \n",
      "        * * * * * * * * * * *         \n",
      "      * * * * * * * * * * * * *       \n",
      "    * * * * * * * * * * * * * * *     \n",
      "  * * * * * * * * * * * * * * * * *   \n",
      "* * * * * * * * * * * * * * * * * * * \n"
     ]
    }
   ],
   "source": [
    "n = 10  # You can change this value to control the size of the pyramid\n",
    "\n",
    "for i in range(n):\n",
    "    spaces = '  ' * (n - 1 - i)\n",
    "    stars = '* ' * (2 * i + 1)\n",
    "    row = spaces + stars + spaces\n",
    "    print(row)"
   ]
  },
  {
   "cell_type": "code",
   "execution_count": 39,
   "id": "958ae12b",
   "metadata": {},
   "outputs": [
    {
     "name": "stdout",
     "output_type": "stream",
     "text": [
      "         *         \n",
      "        * *        \n",
      "       *   *       \n",
      "      *     *      \n",
      "     *       *     \n",
      "    *         *    \n",
      "   *           *   \n",
      "  *             *  \n",
      " *               * \n",
      "* * * * * * * * * * \n"
     ]
    }
   ],
   "source": [
    "n = 10  # You can change this value to control the size of the pyramid\n",
    "\n",
    "for i in range(n):\n",
    "    if i == n - 1:\n",
    "        stars = '* ' * n\n",
    "        spaces = ''\n",
    "    else:\n",
    "        spaces = ' ' * (n - 1 - i)\n",
    "        if i == 0:\n",
    "            stars = '*'\n",
    "        else:\n",
    "            inner_spaces = ' ' * (2 * i - 1)\n",
    "            stars = '*' + inner_spaces + '*'\n",
    "    row = spaces + stars + spaces\n",
    "    print(row)"
   ]
  },
  {
   "cell_type": "code",
   "execution_count": 3,
   "id": "5b112c4b",
   "metadata": {},
   "outputs": [
    {
     "name": "stdout",
     "output_type": "stream",
     "text": [
      "1 \n",
      "2 3 \n",
      "4 5 6 \n",
      "7 8 9 10 \n"
     ]
    }
   ],
   "source": [
    "n=4\n",
    "p=1\n",
    "for i in range(n):\n",
    "    for j in range(i+1):\n",
    "        print(p,end=' ')\n",
    "        p+=1\n",
    "    print()"
   ]
  }
 ],
 "metadata": {
  "kernelspec": {
   "display_name": "Python 3",
   "language": "python",
   "name": "python3"
  },
  "language_info": {
   "codemirror_mode": {
    "name": "ipython",
    "version": 3
   },
   "file_extension": ".py",
   "mimetype": "text/x-python",
   "name": "python",
   "nbconvert_exporter": "python",
   "pygments_lexer": "ipython3",
   "version": "3.13.5"
  }
 },
 "nbformat": 4,
 "nbformat_minor": 5
}
