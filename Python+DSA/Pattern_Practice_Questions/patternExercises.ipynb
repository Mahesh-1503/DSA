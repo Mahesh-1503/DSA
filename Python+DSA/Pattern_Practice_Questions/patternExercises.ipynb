{
 "cells": [
  {
   "cell_type": "markdown",
   "id": "11362827",
   "metadata": {},
   "source": [
    "### 1. Square of side 'N'"
   ]
  },
  {
   "cell_type": "code",
   "execution_count": 5,
   "id": "e49ed3f5",
   "metadata": {},
   "outputs": [
    {
     "name": "stdout",
     "output_type": "stream",
     "text": [
      "['***', '***', '***']\n"
     ]
    }
   ],
   "source": [
    "'''\n",
    "Example:\n",
    "\n",
    "Input: 3\n",
    "Output: ['***', '***', '***']\n",
    " \n",
    "Input: 5\n",
    "Output: ['*****', '*****', '*****', '*****', '*****']\n",
    "'''\n",
    "def generate_square(n):\n",
    "    return ['*'*n for _ in range(n)]\n",
    "n=int(input(\"Enter the side of the square: \"))\n",
    "print(generate_square(n))"
   ]
  }
 ],
 "metadata": {
  "kernelspec": {
   "display_name": "Python 3",
   "language": "python",
   "name": "python3"
  },
  "language_info": {
   "codemirror_mode": {
    "name": "ipython",
    "version": 3
   },
   "file_extension": ".py",
   "mimetype": "text/x-python",
   "name": "python",
   "nbconvert_exporter": "python",
   "pygments_lexer": "ipython3",
   "version": "3.13.5"
  }
 },
 "nbformat": 4,
 "nbformat_minor": 5
}
