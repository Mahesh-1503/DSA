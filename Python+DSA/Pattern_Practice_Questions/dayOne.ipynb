{
 "cells": [
  {
   "cell_type": "markdown",
   "id": "8cc02449",
   "metadata": {},
   "source": [
    "* Day One Tasks"
   ]
  },
  {
   "cell_type": "code",
   "execution_count": 2,
   "id": "2fdfe97b",
   "metadata": {},
   "outputs": [
    {
     "name": "stdout",
     "output_type": "stream",
     "text": [
      "BCA Sunstone\n",
      "BCA Sunstone  2025\n",
      "10 20 30\n",
      "Java python C++\n",
      "30\n",
      "Java_python_C++\n",
      "Hello\tWorld\n",
      "bca sunstone 2025\n",
      "bca sunstone 2025\n"
     ]
    }
   ],
   "source": [
    "print(\"BCA Sunstone\")\n",
    "year = 2025\n",
    "print(\"BCA Sunstone \", year)\n",
    "special=\"DS\"\n",
    "print(10, 20, 30)\n",
    "print(\"Java\", \"python\", \"C++\")\n",
    "print(10+20)\n",
    "print(\"Java\", \"python\", \"C++\", sep=\"_\")\n",
    "print(\"Hello\", end=\"\\t\")\n",
    "print(\"World\")\n",
    "print(f\"bca sunstone {year}\")\n",
    "print(\"bca sunstone {}\".format(year))"
   ]
  },
  {
   "cell_type": "code",
   "execution_count": 3,
   "id": "a996cecc",
   "metadata": {},
   "outputs": [
    {
     "ename": "ValueError",
     "evalue": "invalid literal for int() with base 10: ''",
     "output_type": "error",
     "traceback": [
      "\u001b[1;31m---------------------------------------------------------------------------\u001b[0m",
      "\u001b[1;31mValueError\u001b[0m                                Traceback (most recent call last)",
      "Cell \u001b[1;32mIn[3], line 2\u001b[0m\n\u001b[0;32m      1\u001b[0m name \u001b[38;5;241m=\u001b[39m \u001b[38;5;28minput\u001b[39m(\u001b[38;5;124m\"\u001b[39m\u001b[38;5;124mEnter name: \u001b[39m\u001b[38;5;124m\"\u001b[39m)\n\u001b[1;32m----> 2\u001b[0m age \u001b[38;5;241m=\u001b[39m \u001b[38;5;28;43mint\u001b[39;49m\u001b[43m(\u001b[49m\u001b[38;5;28;43minput\u001b[39;49m\u001b[43m(\u001b[49m\u001b[38;5;124;43m\"\u001b[39;49m\u001b[38;5;124;43mEnter age: \u001b[39;49m\u001b[38;5;124;43m\"\u001b[39;49m\u001b[43m)\u001b[49m\u001b[43m)\u001b[49m\n\u001b[0;32m      3\u001b[0m \u001b[38;5;28mprint\u001b[39m(\u001b[38;5;124mf\u001b[39m\u001b[38;5;124m\"\u001b[39m\u001b[38;5;124mHello \u001b[39m\u001b[38;5;132;01m{\u001b[39;00mname\u001b[38;5;132;01m}\u001b[39;00m\u001b[38;5;124m, you will be \u001b[39m\u001b[38;5;132;01m{\u001b[39;00mage\u001b[38;5;241m+\u001b[39m\u001b[38;5;241m1\u001b[39m\u001b[38;5;132;01m}\u001b[39;00m\u001b[38;5;124m next year\u001b[39m\u001b[38;5;124m\"\u001b[39m)\n",
      "\u001b[1;31mValueError\u001b[0m: invalid literal for int() with base 10: ''"
     ]
    }
   ],
   "source": [
    "name = input(\"Enter name: \")\n",
    "age = int(input(\"Enter age: \"))\n",
    "print(f\"Hello {name}, you will be {age+1} next year\")"
   ]
  },
  {
   "cell_type": "code",
   "execution_count": null,
   "id": "a5cb5845",
   "metadata": {},
   "outputs": [
    {
     "name": "stdout",
     "output_type": "stream",
     "text": [
      "Sum: 42\n",
      "Product: 440\n",
      "Average: 21.0\n"
     ]
    }
   ],
   "source": [
    "n1 = int(input(\"Enter number 1: \"))\n",
    "n2 = int(input(\"Enter number 2: \"))\n",
    "print(f\"Sum: {n1+n2}\")\n",
    "print(f\"Product: {n1*n2}\")\n",
    "print(f\"Average: {(n1+n2)/2}\")"
   ]
  },
  {
   "cell_type": "code",
   "execution_count": null,
   "id": "e8daa2e4",
   "metadata": {},
   "outputs": [
    {
     "name": "stdout",
     "output_type": "stream",
     "text": [
      "2\n",
      "<class 'list'>\n",
      "[10, 20, 30, 40]\n",
      "['Raju', 'Python', 2025]\n",
      "[True, 1, 'BCA']\n",
      "[40, 30, 20, 10]\n",
      "[202, 10, 20, 30, 40, 50]\n",
      "[202, 10, 20, 30, 40]\n",
      "[10, 20, 30, 40]\n"
     ]
    }
   ],
   "source": [
    "li=[10, 20, 30, 40]\n",
    "print(li.index(30))\n",
    "print(type(li))\n",
    "li2=['Raju', 'Python', 2025]\n",
    "l3=[True, 1, 'BCA']\n",
    "print(li)\n",
    "print(li2)\n",
    "print(l3)\n",
    "lir=li[::-1]\n",
    "print(lir)\n",
    "li.append(50)\n",
    "li.insert(0,202)\n",
    "print(li)\n",
    "li.pop()\n",
    "print(li)\n",
    "li.pop(0)\n",
    "print(li)"
   ]
  },
  {
   "cell_type": "code",
   "execution_count": null,
   "id": "7045a7f7",
   "metadata": {},
   "outputs": [
    {
     "name": "stdout",
     "output_type": "stream",
     "text": [
      "[2, 4, 6, 8]\n"
     ]
    }
   ],
   "source": [
    "numbers = [1, 2, 3, 4, 5, 6, 7, 8, 9] # Take input from user\n",
    "even_numbers = [x for x in numbers if x % 2 == 0]\n",
    "print(even_numbers)"
   ]
  },
  {
   "cell_type": "code",
   "execution_count": null,
   "id": "36d53d77",
   "metadata": {},
   "outputs": [
    {
     "name": "stdout",
     "output_type": "stream",
     "text": [
      "[0, 4, 16, 36, 64]\n"
     ]
    }
   ],
   "source": [
    "n=int(input('Enter No.of values: '))\n",
    "numbers = []\n",
    "for i in range(0,n):\n",
    "    if i % 2 == 0:\n",
    "        numbers.append(i**2)\n",
    "print(numbers)"
   ]
  },
  {
   "cell_type": "code",
   "execution_count": null,
   "id": "312a929e",
   "metadata": {},
   "outputs": [
    {
     "name": "stdout",
     "output_type": "stream",
     "text": [
      "*\n",
      "**\n",
      "***\n",
      "****\n",
      "*****\n"
     ]
    }
   ],
   "source": [
    "n=int(input(\"Enter number: \"))\n",
    "for i in range(1, n+1):\n",
    "    print('*' * i)"
   ]
  },
  {
   "cell_type": "code",
   "execution_count": null,
   "id": "16a0fd5c",
   "metadata": {},
   "outputs": [
    {
     "name": "stdout",
     "output_type": "stream",
     "text": [
      "0 \n",
      "0 1 \n",
      "0 1 2 \n",
      "0 1 2 3 \n",
      "0 1 2 3 4 \n"
     ]
    }
   ],
   "source": [
    "n=int(input(\"Enter number: \"))\n",
    "for i in range(n):\n",
    "    for j in range(i + 1):\n",
    "        print(j, end=\" \")\n",
    "    print()"
   ]
  },
  {
   "cell_type": "code",
   "execution_count": null,
   "id": "618c1b05",
   "metadata": {},
   "outputs": [
    {
     "name": "stdout",
     "output_type": "stream",
     "text": [
      "0 1 2 3 4 "
     ]
    }
   ],
   "source": [
    "n=int(input(\"Enter number: \"))\n",
    "for i in range(n):\n",
    "    print(f'{i}',end=' ')"
   ]
  },
  {
   "cell_type": "code",
   "execution_count": null,
   "id": "38a26781",
   "metadata": {},
   "outputs": [
    {
     "name": "stdout",
     "output_type": "stream",
     "text": [
      "                    * \n",
      "                  * * * \n",
      "                * * * * * \n",
      "              * * * * * * * \n",
      "            * * * * * * * * * \n",
      "          * * * * * * * * * * * \n",
      "        * * * * * * * * * * * * * \n",
      "      * * * * * * * * * * * * * * * \n",
      "    * * * * * * * * * * * * * * * * * \n",
      "  * * * * * * * * * * * * * * * * * * * \n"
     ]
    }
   ],
   "source": [
    "n=int(input('Enter Number Of Rows: '))\n",
    "for i in range(n):\n",
    "    for j in range(i,n):\n",
    "        print(' ',end=' ')\n",
    "    for j in range(i+1):\n",
    "        print('*',end=' ')\n",
    "    for j in range(i):\n",
    "        print('*',end=' ')\n",
    "    print()"
   ]
  },
  {
   "cell_type": "code",
   "execution_count": null,
   "id": "825452f4",
   "metadata": {},
   "outputs": [
    {
     "name": "stdout",
     "output_type": "stream",
     "text": [
      "*  *  *  *  *  *  *  *  *  *  \n",
      "*  *  *  *  *  *  *  *  *  *  *  \n",
      "*  *  *  *  *  *  *  *  *  *  *  *  \n",
      "*  *  *  *  *  *  *  *  *  *  *  *  *  \n",
      "*  *  *  *  *  *  *  *  *  *  *  *  *  *  \n",
      "*  *  *  *  *  *  *  *  *  *  *  *  *  *  *  \n",
      "*  *  *  *  *  *  *  *  *  *  *  *  *  *  *  *  \n",
      "*  *  *  *  *  *  *  *  *  *  *  *  *  *  *  *  *  \n",
      "*  *  *  *  *  *  *  *  *  *  *  *  *  *  *  *  *  *  \n",
      "*  *  *  *  *  *  *  *  *  *  *  *  *  *  *  *  *  *  *  \n"
     ]
    }
   ],
   "source": [
    "n=10\n",
    "for i in range(n):\n",
    "    for j in range(i+n):\n",
    "        print('*',end='  ')\n",
    "    print()"
   ]
  },
  {
   "cell_type": "code",
   "execution_count": null,
   "id": "f1c52cff",
   "metadata": {},
   "outputs": [
    {
     "name": "stdout",
     "output_type": "stream",
     "text": [
      "Rows Entered: 10\n",
      "                    * \n",
      "                  * * * \n",
      "                * * * * * \n",
      "              * * * * * * * \n",
      "            * * * * * * * * * \n",
      "          * * * * * * * * * * * \n",
      "        * * * * * * * * * * * * * \n",
      "      * * * * * * * * * * * * * * * \n",
      "    * * * * * * * * * * * * * * * * * \n",
      "  * * * * * * * * * * * * * * * * * * * \n"
     ]
    }
   ],
   "source": [
    "n=int(input('Enter Number Of Rows: '))\n",
    "print(f\"Rows Entered: {n}\")\n",
    "for i in range(n):\n",
    "    for j in range(i,n):\n",
    "        print(' ',end=' ')\n",
    "    for j in range(i+1):\n",
    "        print('*',end=' ')\n",
    "    for j in range(i):\n",
    "        print('*',end=' ')\n",
    "    print()"
   ]
  },
  {
   "cell_type": "code",
   "execution_count": null,
   "id": "7c8fae6b",
   "metadata": {},
   "outputs": [
    {
     "name": "stdout",
     "output_type": "stream",
     "text": [
      "Rows Entered: 10\n",
      "* * * * * * * * * * * * * * * * * * * \n",
      "  * * * * * * * * * * * * * * * * * \n",
      "    * * * * * * * * * * * * * * * \n",
      "      * * * * * * * * * * * * * \n",
      "        * * * * * * * * * * * \n",
      "          * * * * * * * * * \n",
      "            * * * * * * * \n",
      "              * * * * * \n",
      "                * * * \n",
      "                  * \n"
     ]
    }
   ],
   "source": [
    "n=int(input('Enter Number Of Rows: '))\n",
    "print(f\"Rows Entered: {n}\")\n",
    "for i in range(n):\n",
    "    for j in range(i):\n",
    "        print(' ',end=' ')\n",
    "    for j in range(i,n):\n",
    "        print('*',end=' ')\n",
    "    for j in range(i,n-1):\n",
    "        print('*',end=' ')\n",
    "    print()"
   ]
  },
  {
   "cell_type": "code",
   "execution_count": null,
   "id": "8f6ee5eb",
   "metadata": {},
   "outputs": [
    {
     "name": "stdout",
     "output_type": "stream",
     "text": [
      "          * \n",
      "        * * \n",
      "      * * * \n",
      "    * * * * \n",
      "  * * * * * \n"
     ]
    }
   ],
   "source": [
    "n=5\n",
    "for i in range(n):\n",
    "    for j in range(i,n):\n",
    "        print(' ',end=' ')\n",
    "    for j in range(i+1):\n",
    "        print('*',end=' ')\n",
    "    print()"
   ]
  },
  {
   "cell_type": "code",
   "execution_count": null,
   "id": "54111922",
   "metadata": {},
   "outputs": [
    {
     "name": "stdout",
     "output_type": "stream",
     "text": [
      "* \n",
      "* * \n",
      "* * * \n",
      "* * * * \n",
      "* * * * * \n",
      "     * \n",
      "    * * \n",
      "   * * * \n",
      "  * * * * \n",
      " * * * * * \n",
      "          * \n",
      "        * * \n",
      "      * * * \n",
      "    * * * * \n",
      "  * * * * * \n"
     ]
    }
   ],
   "source": [
    "n=5\n",
    "for i in range(n):\n",
    "    print('' * (n-i) + '* ' * (i+1))\n",
    "for i in range(n):\n",
    "    print(' ' * (n-i) + '* ' * (i+1))\n",
    "for i in range(n):\n",
    "    print('  ' * (n-i) + '* ' * (i+1))"
   ]
  },
  {
   "cell_type": "code",
   "execution_count": null,
   "id": "65e8f926",
   "metadata": {},
   "outputs": [
    {
     "name": "stdout",
     "output_type": "stream",
     "text": [
      "                    * \n",
      "                  * * * \n",
      "                * * * * * \n",
      "              * * * * * * * \n",
      "            * * * * * * * * * \n",
      "          * * * * * * * * * * * \n",
      "        * * * * * * * * * * * * * \n",
      "      * * * * * * * * * * * * * * * \n",
      "    * * * * * * * * * * * * * * * * * \n",
      "  * * * * * * * * * * * * * * * * * * * \n"
     ]
    }
   ],
   "source": [
    "n=10\n",
    "for i in range(n):\n",
    "    for j in range(i,n):\n",
    "        print(' ',end=' ')\n",
    "    for j in range(i+1):\n",
    "        print('*',end=' ')\n",
    "    for j in range(i):\n",
    "        print('*',end=' ')\n",
    "    print()"
   ]
  },
  {
   "cell_type": "code",
   "execution_count": null,
   "id": "42d34c83",
   "metadata": {},
   "outputs": [
    {
     "name": "stdout",
     "output_type": "stream",
     "text": [
      "* * * * * * * * * \n",
      "  * * * * * * * \n",
      "    * * * * * \n",
      "      * * * \n",
      "        * \n",
      "      * * * \n",
      "    * * * * * \n",
      "  * * * * * * * \n",
      "* * * * * * * * * \n"
     ]
    }
   ],
   "source": [
    "n=5\n",
    "for i in range(n-1):\n",
    "    for j in range(i):\n",
    "        print(' ',end=' ')\n",
    "    for j in range(i,n):\n",
    "        print('*',end=' ')\n",
    "    for j in range(i,n-1):\n",
    "        print('*',end=' ')\n",
    "    print()\n",
    "for i in range(n):\n",
    "    for j in range(i,n-1):\n",
    "        print(' ',end=' ')\n",
    "    for j in range(i+1):\n",
    "        print('*',end=' ')\n",
    "    for j in range(i):\n",
    "        print('*',end=' ')\n",
    "    print()"
   ]
  },
  {
   "cell_type": "code",
   "execution_count": null,
   "id": "7de1a7bb",
   "metadata": {},
   "outputs": [
    {
     "name": "stdout",
     "output_type": "stream",
     "text": [
      "5 5 5 5 5 5 5 5 5 \n",
      "  4 4 4 4 4 4 4 \n",
      "    3 3 3 3 3 \n",
      "      2 2 2 \n",
      "        1 \n",
      "      2 2 2 \n",
      "    3 3 3 3 3 \n",
      "  4 4 4 4 4 4 4 \n",
      "5 5 5 5 5 5 5 5 5 \n"
     ]
    }
   ],
   "source": [
    "n=5\n",
    "p=5\n",
    "for i in range(n-1):\n",
    "    for j in range(i):\n",
    "        print(' ',end=' ')\n",
    "    for j in range(i,n):\n",
    "        print(p,end=' ')\n",
    "    for j in range(i,n-1):\n",
    "        print(p,end=' ')\n",
    "    p-=1\n",
    "    print()\n",
    "for i in range(n):\n",
    "    for j in range(i,n-1):\n",
    "        print(' ',end=' ')\n",
    "    for j in range(i+1):\n",
    "        print(p,end=' ')\n",
    "    for j in range(i):\n",
    "        print(p,end=' ')\n",
    "    p+=1\n",
    "    print()"
   ]
  },
  {
   "cell_type": "code",
   "execution_count": null,
   "id": "78aa0e8f",
   "metadata": {},
   "outputs": [
    {
     "name": "stdout",
     "output_type": "stream",
     "text": [
      "0 \n",
      "1 1 \n",
      "2 2 2 \n",
      "3 3 3 3 \n",
      "4 4 4 4 4 \n",
      "5 5 5 5 5 5 \n",
      "6 6 6 6 6 6 6 \n",
      "7 7 7 7 7 7 7 7 \n",
      "8 8 8 8 8 8 8 8 8 \n"
     ]
    }
   ],
   "source": [
    "n=9\n",
    "p=0\n",
    "for i in range(n):\n",
    "    for j in range(i+1):\n",
    "        print(p,end=' ')\n",
    "    p+=1\n",
    "    print()"
   ]
  },
  {
   "cell_type": "code",
   "execution_count": null,
   "id": "d4ef02fd",
   "metadata": {},
   "outputs": [
    {
     "name": "stdout",
     "output_type": "stream",
     "text": [
      "5 \n",
      "4 4 \n",
      "3 3 3 \n",
      "2 2 2 2 \n",
      "1 1 1 1 1 \n"
     ]
    }
   ],
   "source": [
    "n=5\n",
    "p=5\n",
    "for i in range(n):\n",
    "    for j in range(i+1):\n",
    "        print(p,end=' ')\n",
    "    p-=1\n",
    "    print()"
   ]
  },
  {
   "cell_type": "code",
   "execution_count": null,
   "id": "a180385e",
   "metadata": {},
   "outputs": [
    {
     "name": "stdout",
     "output_type": "stream",
     "text": [
      "0 \n",
      "2 2 \n",
      "4 4 4 \n",
      "6 6 6 6 \n",
      "8 8 8 8 8 \n"
     ]
    }
   ],
   "source": [
    "n=5\n",
    "p=0\n",
    "for i in range(n):\n",
    "    for j in range(i+1):\n",
    "        print(p,end=' ')\n",
    "    p+=2\n",
    "    print()"
   ]
  },
  {
   "cell_type": "code",
   "execution_count": null,
   "id": "c6321ca8",
   "metadata": {},
   "outputs": [
    {
     "name": "stdout",
     "output_type": "stream",
     "text": [
      "1 \n",
      "2 2 \n",
      "1 1 1 \n",
      "2 2 2 2 \n",
      "1 1 1 1 1 \n"
     ]
    }
   ],
   "source": [
    "n=5\n",
    "p=1\n",
    "for i in range(n):\n",
    "    for j in range(i+1):\n",
    "        if i%2==0:\n",
    "            print('1',end=' ')\n",
    "        else:\n",
    "            print('2',end=' ')\n",
    "    print()"
   ]
  },
  {
   "cell_type": "code",
   "execution_count": null,
   "id": "90a52c3d",
   "metadata": {},
   "outputs": [
    {
     "name": "stdout",
     "output_type": "stream",
     "text": [
      "          # \n",
      "        $ $ $ \n",
      "      # # # # # \n",
      "    $ $ $ $ $ $ $ \n",
      "  # # # # # # # # # \n"
     ]
    }
   ],
   "source": [
    "n=5\n",
    "p=1\n",
    "for i in range(n):\n",
    "    for j in range(i,n):\n",
    "        print(' ',end=' ')\n",
    "    for j in range(i+1):\n",
    "        if i%2==0:\n",
    "            print('#',end=' ')\n",
    "        else:\n",
    "            print('$',end=' ')\n",
    "    for j in range(i):\n",
    "        if i%2==0:\n",
    "            print('#',end=' ')\n",
    "        else:\n",
    "            print('$',end=' ')\n",
    "    print()"
   ]
  },
  {
   "cell_type": "code",
   "execution_count": null,
   "id": "7d3f4577",
   "metadata": {},
   "outputs": [
    {
     "name": "stdout",
     "output_type": "stream",
     "text": [
      "          1 \n",
      "        2 2 2 \n",
      "      3 3 3 3 3 \n",
      "    4 4 4 4 4 4 4 \n",
      "  5 5 5 5 5 5 5 5 5 \n",
      "    6 6 6 6 6 6 6 \n",
      "      7 7 7 7 7 \n",
      "        8 8 8 \n",
      "          9 \n"
     ]
    }
   ],
   "source": [
    "n=5\n",
    "p=1\n",
    "for i in range(n-1): # n+1 also works\n",
    "    for j in range(i,n):\n",
    "        print(' ',end=' ')\n",
    "    for j in range(i+1):\n",
    "        print(p,end=' ')\n",
    "    for j in range(i):\n",
    "        print(p,end=' ')\n",
    "    p+=1\n",
    "    print()\n",
    "for i in range(n):\n",
    "    for j in range(i+1):\n",
    "        print(' ',end=' ')\n",
    "    for j in range(i,n):\n",
    "        print(p,end=' ')\n",
    "    for j in range(i,n-1):\n",
    "        print(p,end=' ')\n",
    "    p+=1\n",
    "    print()"
   ]
  },
  {
   "cell_type": "code",
   "execution_count": null,
   "id": "c5c54d0f",
   "metadata": {},
   "outputs": [
    {
     "name": "stdout",
     "output_type": "stream",
     "text": [
      "          1 \n",
      "        2 2 2 \n",
      "      3 3 3 3 3 \n",
      "    4 4 4 4 4 4 4 \n",
      "  5 5 5 5 5 5 5 5 5 \n",
      "    4 4 4 4 4 4 4 \n",
      "      3 3 3 3 3 \n",
      "        2 2 2 \n",
      "          1 \n"
     ]
    }
   ],
   "source": [
    "n=5\n",
    "p=1\n",
    "for i in range(n-1): # n+1 also works\n",
    "    for j in range(i,n):\n",
    "        print(' ',end=' ')\n",
    "    for j in range(i+1):\n",
    "        print(p,end=' ')\n",
    "    for j in range(i):\n",
    "        print(p,end=' ')\n",
    "    p+=1\n",
    "    print()\n",
    "for i in range(n):\n",
    "    for j in range(i+1):\n",
    "        print(' ',end=' ')\n",
    "    for j in range(i,n):\n",
    "        print(p,end=' ')\n",
    "    for j in range(i,n-1):\n",
    "        print(p,end=' ')\n",
    "    p-=1\n",
    "    print()"
   ]
  },
  {
   "cell_type": "code",
   "execution_count": null,
   "id": "005d5dc0",
   "metadata": {},
   "outputs": [
    {
     "name": "stdout",
     "output_type": "stream",
     "text": [
      "1 \n",
      "1 2 \n",
      "1 2 3 \n",
      "1 2 3 4 \n",
      "1 2 3 4 5 \n"
     ]
    }
   ],
   "source": [
    "n=5\n",
    "for i in range(n):\n",
    "    p=1\n",
    "    for j in range(i+1):\n",
    "        print(p,end=' ')\n",
    "        p+=1\n",
    "    print()"
   ]
  },
  {
   "cell_type": "markdown",
   "id": "cdc70386",
   "metadata": {},
   "source": [
    "### Number Pattern Programs"
   ]
  },
  {
   "cell_type": "code",
   "execution_count": null,
   "id": "f66e9ad5",
   "metadata": {},
   "outputs": [
    {
     "name": "stdout",
     "output_type": "stream",
     "text": [
      "                  * \n",
      "                * * \n",
      "              * * * \n",
      "            * * * * \n",
      "          * * * * * \n",
      "        * * * * * * \n",
      "      * * * * * * * \n",
      "    * * * * * * * * \n",
      "  * * * * * * * * * \n",
      "* * * * * * * * * * \n"
     ]
    }
   ],
   "source": [
    "## Increasing Triangle\n",
    "n=int(input('Enter Number Of Rows: '))\n",
    "for i in range(n):\n",
    "    for j in range(i,n-1):\n",
    "        print(' ',end=' ')\n",
    "    for j in range(i+1):\n",
    "        print('*',end=' ')\n",
    "    print()\n",
    "# for i in range(n):\n",
    "#     for j in range(i):\n",
    "#         print(' ',end=' ')\n",
    "#     for j in range(i,n):\n",
    "#         print('*',end=' ')\n",
    "#     print()"
   ]
  },
  {
   "cell_type": "code",
   "execution_count": null,
   "id": "47af8106",
   "metadata": {},
   "outputs": [
    {
     "name": "stdout",
     "output_type": "stream",
     "text": [
      "                  * \n",
      "                * * \n",
      "              * * * \n",
      "            * * * * \n",
      "          * * * * * \n",
      "        * * * * * * \n",
      "      * * * * * * * \n",
      "    * * * * * * * * \n",
      "  * * * * * * * * * \n",
      "* * * * * * * * * * \n",
      "  * * * * * * * * * \n",
      "    * * * * * * * * \n",
      "      * * * * * * * \n",
      "        * * * * * * \n",
      "          * * * * * \n",
      "            * * * * \n",
      "              * * * \n",
      "                * * \n",
      "                  * \n"
     ]
    }
   ],
   "source": [
    "## Increasing Triangle\n",
    "n=int(input('Enter Number Of Rows: '))\n",
    "for i in range(n-1):\n",
    "    for j in range(i,n-1):\n",
    "        print(' ',end=' ')\n",
    "    for j in range(i+1):\n",
    "        print('*',end=' ')\n",
    "    print()\n",
    "for i in range(n):\n",
    "    for j in range(i):\n",
    "        print(' ',end=' ')\n",
    "    for j in range(i,n):\n",
    "        print('*',end=' ')\n",
    "    print()"
   ]
  },
  {
   "cell_type": "code",
   "execution_count": null,
   "id": "0e5e3512",
   "metadata": {},
   "outputs": [
    {
     "name": "stdout",
     "output_type": "stream",
     "text": [
      "* * * * * * * * * * \n",
      "  * * * * * * * * * \n",
      "    * * * * * * * * \n",
      "      * * * * * * * \n",
      "        * * * * * * \n",
      "          * * * * * \n",
      "            * * * * \n",
      "              * * * \n",
      "                * * \n",
      "                  * \n"
     ]
    }
   ],
   "source": [
    "## Decreasing Triangle\n",
    "n=int(input('Enter Number Of Rows: '))\n",
    "for i in range(n):\n",
    "    for j in range(i):\n",
    "        print(' ',end=' ')\n",
    "    for j in range(i,n):\n",
    "        print('*',end=' ')\n",
    "    print()"
   ]
  },
  {
   "cell_type": "code",
   "execution_count": null,
   "id": "bc85f413",
   "metadata": {},
   "outputs": [
    {
     "name": "stdout",
     "output_type": "stream",
     "text": [
      "* \n",
      "* * \n",
      "* * * \n",
      "* * * * \n",
      "* * * * * \n",
      "* * * * * * \n",
      "* * * * * * * \n",
      "* * * * * * * * \n",
      "* * * * * * * * * \n",
      "* * * * * * * * * * \n"
     ]
    }
   ],
   "source": [
    "n=int(input('Enter Number Of Rows: '))\n",
    "for i in range(n):\n",
    "    for j in range(i+1):\n",
    "        print('*',end=' ')\n",
    "    print()"
   ]
  },
  {
   "cell_type": "code",
   "execution_count": null,
   "id": "763179f3",
   "metadata": {},
   "outputs": [
    {
     "name": "stdout",
     "output_type": "stream",
     "text": [
      "* * * * * * * * * * \n",
      "* * * * * * * * * \n",
      "* * * * * * * * \n",
      "* * * * * * * \n",
      "* * * * * * \n",
      "* * * * * \n",
      "* * * * \n",
      "* * * \n",
      "* * \n",
      "* \n"
     ]
    }
   ],
   "source": [
    "n=int(input('Enter Number Of Rows: '))\n",
    "for i in range(n):\n",
    "    for j in range(i,n):\n",
    "        print('*',end=' ')\n",
    "    print()"
   ]
  },
  {
   "cell_type": "code",
   "execution_count": null,
   "id": "4e43ac5c",
   "metadata": {},
   "outputs": [
    {
     "name": "stdout",
     "output_type": "stream",
     "text": [
      "* \n",
      "* * \n",
      "* * * \n",
      "* * * * \n",
      "* * * * * \n",
      "* * * * * * \n",
      "* * * * * * * \n",
      "* * * * * * * * \n",
      "* * * * * * * * * \n",
      "* * * * * * * * * * \n",
      "* * * * * * * * * * * \n",
      "* * * * * * * * * * \n",
      "* * * * * * * * * \n",
      "* * * * * * * * \n",
      "* * * * * * * \n",
      "* * * * * * \n",
      "* * * * * \n",
      "* * * * \n",
      "* * * \n",
      "* * \n",
      "* \n"
     ]
    }
   ],
   "source": [
    "n=int(input('Enter Number Of Rows: '))\n",
    "for i in range(n+1):# n-1 also works\n",
    "    for j in range(i+1):\n",
    "        print('*',end=' ')\n",
    "    print()\n",
    "for i in range(n):\n",
    "    for j in range(i,n):# same consider\n",
    "        print('*',end=' ')\n",
    "    print()"
   ]
  },
  {
   "cell_type": "code",
   "execution_count": null,
   "id": "08218796",
   "metadata": {},
   "outputs": [
    {
     "name": "stdout",
     "output_type": "stream",
     "text": [
      "                    * \n",
      "                  * * \n",
      "                * * * \n",
      "              * * * * \n",
      "            * * * * * \n",
      "          * * * * * * \n",
      "        * * * * * * * \n",
      "      * * * * * * * * \n",
      "    * * * * * * * * * \n",
      "  * * * * * * * * * * \n"
     ]
    }
   ],
   "source": [
    "n=int(input('Enter Number Of Rows: '))\n",
    "for i in range(n):\n",
    "    for j in range(i,n):\n",
    "        print(' ',end=' ')\n",
    "    for j in range(i+1):\n",
    "        print('*',end=' ')\n",
    "    print()"
   ]
  },
  {
   "cell_type": "code",
   "execution_count": null,
   "id": "49a2b9aa",
   "metadata": {},
   "outputs": [
    {
     "name": "stdout",
     "output_type": "stream",
     "text": [
      "* \n",
      "* * \n",
      "* * * \n",
      "* * * * \n",
      "* * * * * \n",
      "* * * * * * \n",
      "* * * * * * * \n",
      "* * * * * * * * \n",
      "* * * * * * * * * \n",
      "* * * * * * * * * * \n"
     ]
    }
   ],
   "source": [
    "n=int(input('Enter Number Of Rows: '))\n",
    "for i in range(n):\n",
    "    for j in range(i+1):\n",
    "        print('*',end=' ')\n",
    "    print()"
   ]
  },
  {
   "cell_type": "code",
   "execution_count": null,
   "id": "552627d0",
   "metadata": {},
   "outputs": [
    {
     "name": "stdout",
     "output_type": "stream",
     "text": [
      "                    * \n",
      "                  * * * \n",
      "                * * * * * \n",
      "              * * * * * * * \n",
      "            * * * * * * * * * \n",
      "          * * * * * * * * * * * \n",
      "        * * * * * * * * * * * * * \n",
      "      * * * * * * * * * * * * * * * \n",
      "    * * * * * * * * * * * * * * * * * \n",
      "  * * * * * * * * * * * * * * * * * * * \n"
     ]
    }
   ],
   "source": [
    "n=int(input('Enter Number Of Rows: '))\n",
    "for i in range(n):\n",
    "    for j in range(i,n):\n",
    "        print(' ',end=' ')\n",
    "    for j in range(i):  #changed i+1 to i\n",
    "        print('*',end=' ')\n",
    "    for j in range(i+1): #else do here \n",
    "        print('*',end=' ')\n",
    "    print()"
   ]
  },
  {
   "cell_type": "markdown",
   "id": "1dd206d6",
   "metadata": {},
   "source": [
    "#### Above are basic patterns must aware to move with number pattern"
   ]
  },
  {
   "cell_type": "code",
   "execution_count": null,
   "id": "a2b65d76",
   "metadata": {},
   "outputs": [
    {
     "name": "stdout",
     "output_type": "stream",
     "text": [
      "1 \n",
      "1 1 \n",
      "1 1 1 \n",
      "1 1 1 1 \n",
      "1 1 1 1 1 \n",
      "1 1 1 1 1 1 \n",
      "1 1 1 1 1 1 1 \n",
      "1 1 1 1 1 1 1 1 \n",
      "1 1 1 1 1 1 1 1 1 \n",
      "1 1 1 1 1 1 1 1 1 1 \n"
     ]
    }
   ],
   "source": [
    "n=int(input('Enter Number Of Rows: '))\n",
    "p=1\n",
    "for i in range(n):\n",
    "    for j in range(i+1):\n",
    "        print(p,end=' ')\n",
    "    print()"
   ]
  },
  {
   "cell_type": "code",
   "execution_count": null,
   "id": "ecdfc599",
   "metadata": {},
   "outputs": [
    {
     "name": "stdout",
     "output_type": "stream",
     "text": [
      "1 \n",
      "1 1 \n",
      "1 1 1 \n",
      "1 1 1 1 \n",
      "1 1 1 1 1 \n",
      "1 1 1 1 1 1 \n",
      "1 1 1 1 1 1 1 \n",
      "1 1 1 1 1 1 1 1 \n",
      "1 1 1 1 1 1 1 1 1 \n",
      "1 1 1 1 1 1 1 1 1 1 \n",
      "1 1 1 1 1 1 1 1 1 1 1 \n",
      "1 1 1 1 1 1 1 1 1 1 \n",
      "1 1 1 1 1 1 1 1 1 \n",
      "1 1 1 1 1 1 1 1 \n",
      "1 1 1 1 1 1 1 \n",
      "1 1 1 1 1 1 \n",
      "1 1 1 1 1 \n",
      "1 1 1 1 \n",
      "1 1 1 \n",
      "1 1 \n",
      "1 \n"
     ]
    }
   ],
   "source": [
    "n=int(input('Enter Number Of Rows: '))\n",
    "p=1\n",
    "for i in range(n+1):# n-1 also works\n",
    "    for j in range(i+1):\n",
    "        print(p,end=' ')\n",
    "    print()\n",
    "for i in range(n):\n",
    "    for j in range(i,n):# same consider\n",
    "        print(p,end=' ')\n",
    "    print()"
   ]
  },
  {
   "cell_type": "code",
   "execution_count": null,
   "id": "756a92d4",
   "metadata": {},
   "outputs": [
    {
     "name": "stdout",
     "output_type": "stream",
     "text": [
      "                    1 \n",
      "                  1 1 1 \n",
      "                1 1 1 1 1 \n",
      "              1 1 1 1 1 1 1 \n",
      "            1 1 1 1 1 1 1 1 1 \n",
      "          1 1 1 1 1 1 1 1 1 1 1 \n",
      "        1 1 1 1 1 1 1 1 1 1 1 1 1 \n",
      "      1 1 1 1 1 1 1 1 1 1 1 1 1 1 1 \n",
      "    1 1 1 1 1 1 1 1 1 1 1 1 1 1 1 1 1 \n",
      "  1 1 1 1 1 1 1 1 1 1 1 1 1 1 1 1 1 1 1 \n"
     ]
    }
   ],
   "source": [
    "n=int(input('Enter Number Of Rows: '))\n",
    "p=1\n",
    "for i in range(n):\n",
    "    for j in range(i,n):\n",
    "        print(' ',end=' ')\n",
    "    for j in range(i):  #changed i+1 to i\n",
    "        print(p,end=' ')\n",
    "    for j in range(i+1): #else do here \n",
    "        print(p,end=' ')\n",
    "    print()"
   ]
  },
  {
   "cell_type": "code",
   "execution_count": null,
   "id": "b426a382",
   "metadata": {},
   "outputs": [
    {
     "name": "stdout",
     "output_type": "stream",
     "text": [
      "1 \n",
      "2 2 \n",
      "3 3 3 \n",
      "4 4 4 4 \n",
      "5 5 5 5 5 \n"
     ]
    }
   ],
   "source": [
    "## Increasing Triangle\n",
    "## Incrementing Triangle\n",
    "n=int(input('Enter Number Of Rows: '))\n",
    "p=1\n",
    "for i in range(n):\n",
    "    for j in range(i+1):\n",
    "        print(p,end=' ')\n",
    "    p+=1\n",
    "    print()"
   ]
  },
  {
   "cell_type": "code",
   "execution_count": null,
   "id": "81f05402",
   "metadata": {},
   "outputs": [
    {
     "name": "stdout",
     "output_type": "stream",
     "text": [
      "1 \n",
      "1 2 \n",
      "1 2 3 \n",
      "1 2 3 4 \n",
      "1 2 3 4 5 \n"
     ]
    }
   ],
   "source": [
    "n=5\n",
    "for i in range(n):\n",
    "    p=1\n",
    "    for j in range(i+1):\n",
    "        print(p,end=' ')\n",
    "        p+=1\n",
    "    print()"
   ]
  },
  {
   "cell_type": "code",
   "execution_count": null,
   "id": "e9eff6d8",
   "metadata": {},
   "outputs": [
    {
     "name": "stdout",
     "output_type": "stream",
     "text": [
      "1 2 3 4 5 \n",
      "  1 2 3 4 \n",
      "    1 2 3 \n",
      "      1 2 \n",
      "        1 \n"
     ]
    }
   ],
   "source": [
    "n=5\n",
    "for i in range(n):\n",
    "    p=1\n",
    "    for j in range(i):\n",
    "        print(' ',end=' ')\n",
    "    for j in range(i,n):\n",
    "        print(p,end=' ')\n",
    "        p+=1\n",
    "    print()"
   ]
  },
  {
   "cell_type": "code",
   "execution_count": null,
   "id": "61c9fec9",
   "metadata": {},
   "outputs": [
    {
     "name": "stdout",
     "output_type": "stream",
     "text": [
      "  1 2 3 4 5 4 3 2 1 \n",
      "    1 2 3 4 3 2 1 \n",
      "      1 2 3 2 1 \n",
      "        1 2 1 \n",
      "          1 \n"
     ]
    }
   ],
   "source": [
    "n=5\n",
    "for i in range(n):\n",
    "    p=1\n",
    "    for j in range(i+1):\n",
    "        print(' ',end=' ')\n",
    "    for j in range(i,n-1):\n",
    "        print(p,end=' ')\n",
    "        p+=1\n",
    "    for j in range(i,n):\n",
    "        print(p,end=' ')\n",
    "        p-=1\n",
    "    print()"
   ]
  },
  {
   "cell_type": "code",
   "execution_count": null,
   "id": "433c3fff",
   "metadata": {},
   "outputs": [
    {
     "name": "stdout",
     "output_type": "stream",
     "text": [
      "          1 \n",
      "        1 2 3 \n",
      "      1 2 3 4 5 \n",
      "    1 2 3 4 5 6 7 \n",
      "  1 2 3 4 5 6 7 8 9 \n"
     ]
    }
   ],
   "source": [
    "n=int(input('Enter Number Of Rows: '))\n",
    "for i in range(n):\n",
    "    p=1\n",
    "    for j in range(i,n):\n",
    "        print(' ',end=' ')\n",
    "    for j in range(i):  #changed i+1 to i\n",
    "        print(p,end=' ')\n",
    "        p+=1\n",
    "    for j in range(i+1): #else do here \n",
    "        print(p,end=' ')\n",
    "        p+=1\n",
    "    print()"
   ]
  },
  {
   "cell_type": "code",
   "execution_count": null,
   "id": "54e013e9",
   "metadata": {},
   "outputs": [
    {
     "name": "stdout",
     "output_type": "stream",
     "text": [
      "5 4 3 2 1 \n",
      "  4 3 2 1 \n",
      "    3 2 1 \n",
      "      2 1 \n",
      "        1 \n"
     ]
    }
   ],
   "source": [
    "n=5\n",
    "k=5\n",
    "for i in range(n):\n",
    "    p=k\n",
    "    for j in range(i):\n",
    "        print(' ',end=' ')\n",
    "    for j in range(i,n):\n",
    "        print(p,end=' ')\n",
    "        p-=1\n",
    "    k-=1\n",
    "    print()"
   ]
  },
  {
   "cell_type": "code",
   "execution_count": null,
   "id": "9c30f700",
   "metadata": {},
   "outputs": [
    {
     "name": "stdout",
     "output_type": "stream",
     "text": [
      "1 \n",
      "2 3 \n",
      "4 5 6 \n",
      "7 8 9 10 \n"
     ]
    }
   ],
   "source": [
    "n=4\n",
    "p=1\n",
    "for i in range(n):\n",
    "    for j in range(i+1):\n",
    "        print(p,end=' ')\n",
    "        p+=1\n",
    "    print()"
   ]
  },
  {
   "cell_type": "markdown",
   "id": "0fea5fae",
   "metadata": {},
   "source": [
    "#### Character Pattern Programs (Pattern + Characters) do not mix"
   ]
  },
  {
   "cell_type": "markdown",
   "id": "e0a32644",
   "metadata": {},
   "source": [
    "#### ASCII Characters\n",
    "#### A - Z [65 - 90]\n",
    "#### a - z [97 - 122]\n",
    "#### 0 - 9 [48 - 57]"
   ]
  },
  {
   "cell_type": "code",
   "execution_count": null,
   "id": "62da8de5",
   "metadata": {},
   "outputs": [
    {
     "name": "stdout",
     "output_type": "stream",
     "text": [
      "A B C D E F G H I J K L M N O P Q R S T U V W X Y Z "
     ]
    }
   ],
   "source": [
    "for i in range(65,91):\n",
    "    print(chr(i),end=' ')"
   ]
  },
  {
   "cell_type": "code",
   "execution_count": null,
   "id": "6b51989d",
   "metadata": {},
   "outputs": [
    {
     "name": "stdout",
     "output_type": "stream",
     "text": [
      "a b c d e f g h i j k l m n o p q r s t u v w x y z "
     ]
    }
   ],
   "source": [
    "for i in range(97,123):\n",
    "    print(chr(i),end=' ')"
   ]
  },
  {
   "cell_type": "code",
   "execution_count": null,
   "id": "14cdbf0d",
   "metadata": {},
   "outputs": [
    {
     "name": "stdout",
     "output_type": "stream",
     "text": [
      "0 1 2 3 4 5 6 7 8 9 "
     ]
    }
   ],
   "source": [
    "for i in range(48,58):\n",
    "    print(chr(i),end=' ')"
   ]
  },
  {
   "cell_type": "code",
   "execution_count": null,
   "id": "ea3e0f68",
   "metadata": {},
   "outputs": [
    {
     "name": "stdout",
     "output_type": "stream",
     "text": [
      "A \n",
      "A A \n",
      "A A A \n",
      "A A A A \n",
      "A A A A A \n"
     ]
    }
   ],
   "source": [
    "n=5\n",
    "p=65\n",
    "for i in range(n):\n",
    "    for j in range(i+1):\n",
    "        print(chr(p),end=' ')\n",
    "    print()"
   ]
  },
  {
   "cell_type": "code",
   "execution_count": null,
   "id": "e090ba9e",
   "metadata": {},
   "outputs": [
    {
     "name": "stdout",
     "output_type": "stream",
     "text": [
      "A \n",
      "B B \n",
      "C C C \n",
      "D D D D \n",
      "E E E E E \n"
     ]
    }
   ],
   "source": [
    "n=5\n",
    "alp=65\n",
    "for i in range(n):\n",
    "    for j in range(i+1):\n",
    "        print(chr(alp),end=' ')\n",
    "    alp+=1\n",
    "    print()"
   ]
  },
  {
   "cell_type": "code",
   "execution_count": null,
   "id": "8c55adb9",
   "metadata": {},
   "outputs": [
    {
     "name": "stdout",
     "output_type": "stream",
     "text": [
      "A \n",
      "B B \n",
      "A A A \n",
      "B B B B \n",
      "A A A A A \n"
     ]
    }
   ],
   "source": [
    "n=5\n",
    "alp=65\n",
    "for i in range(n):\n",
    "    for j in range(i+1):\n",
    "        if i%2==0:\n",
    "            print(chr(alp),end=' ')\n",
    "        else:\n",
    "            print(chr(alp+1),end=' ')\n",
    "    print()"
   ]
  },
  {
   "cell_type": "code",
   "execution_count": null,
   "id": "6cb6d6f9",
   "metadata": {},
   "outputs": [
    {
     "name": "stdout",
     "output_type": "stream",
     "text": [
      "A \n",
      "C C \n",
      "E E E \n",
      "G G G G \n",
      "I I I I I \n"
     ]
    }
   ],
   "source": [
    "n=5\n",
    "alp=65\n",
    "for i in range(n):\n",
    "    for j in range(i+1):\n",
    "        print(chr(alp),end=' ')\n",
    "    alp+=2\n",
    "    print()"
   ]
  },
  {
   "cell_type": "code",
   "execution_count": null,
   "id": "f8d52685",
   "metadata": {},
   "outputs": [
    {
     "name": "stdout",
     "output_type": "stream",
     "text": [
      "E \n",
      "D D \n",
      "C C C \n",
      "B B B B \n",
      "A A A A A \n"
     ]
    }
   ],
   "source": [
    "n=5\n",
    "p=69\n",
    "for i in range(n):\n",
    "    for j in range(i+1):\n",
    "        print(chr(p),end=' ')\n",
    "    p-=1\n",
    "    print()"
   ]
  },
  {
   "cell_type": "code",
   "execution_count": null,
   "id": "8a8833ce",
   "metadata": {},
   "outputs": [
    {
     "name": "stdout",
     "output_type": "stream",
     "text": [
      "E D C B A \n",
      "  D C B A \n",
      "    C B A \n",
      "      B A \n",
      "        A \n"
     ]
    }
   ],
   "source": [
    "n=5\n",
    "p=69\n",
    "for i in range(n):\n",
    "    k=p\n",
    "    for j in range(i):\n",
    "        print(' ',end=' ')\n",
    "    for j in range(i,n):\n",
    "        print(chr(k),end=' ')\n",
    "        k-=1\n",
    "    p-=1\n",
    "    print()"
   ]
  },
  {
   "cell_type": "code",
   "execution_count": null,
   "id": "fc9e0561",
   "metadata": {},
   "outputs": [
    {
     "name": "stdout",
     "output_type": "stream",
     "text": [
      "          A \n",
      "        B B B \n",
      "      C C C C C \n",
      "    D D D D D D D \n",
      "  E E E E E E E E E \n",
      "    D D D D D D D \n",
      "      C C C C C \n",
      "        B B B \n",
      "          A \n"
     ]
    }
   ],
   "source": [
    "n=5\n",
    "p=65\n",
    "for i in range(n-1):\n",
    "    for j in range(i,n):\n",
    "        print(' ',end=' ')\n",
    "    for j in range(i+1):\n",
    "        print(chr(p),end=' ')\n",
    "    for j in range(i):\n",
    "        print(chr(p),end=' ')\n",
    "    p+=1\n",
    "    print()\n",
    "for i in range(n):\n",
    "    for j in range(i+1):\n",
    "        print(' ',end=' ')\n",
    "    for j in range(i,n):\n",
    "        print(chr(p),end=' ')\n",
    "    for j in range(i,n-1):\n",
    "        print(chr(p),end=' ')\n",
    "    p-=1\n",
    "    print()"
   ]
  },
  {
   "cell_type": "code",
   "execution_count": null,
   "id": "7cde2ed3",
   "metadata": {},
   "outputs": [
    {
     "name": "stdout",
     "output_type": "stream",
     "text": [
      "          A \n",
      "        A B A \n",
      "      A B C B A \n",
      "    A B C D C B A \n",
      "  A B C D E D C B A \n"
     ]
    }
   ],
   "source": [
    "n=5\n",
    "for i in range(n):\n",
    "    p=65\n",
    "    for j in range(i,n):\n",
    "        print(' ',end=' ')\n",
    "    for j in range(i):\n",
    "        print(chr(p),end=' ')\n",
    "        p+=1\n",
    "    for j in range(i+1):\n",
    "        print(chr(p),end=' ')\n",
    "        p-=1\n",
    "    print()"
   ]
  },
  {
   "cell_type": "code",
   "execution_count": null,
   "id": "56dea71b",
   "metadata": {},
   "outputs": [
    {
     "name": "stdout",
     "output_type": "stream",
     "text": [
      "          \n",
      "        R \n",
      "      E E \n",
      "    D D D \n",
      "  O O O O \n",
      "C C C C C \n"
     ]
    }
   ],
   "source": [
    "s='CODER'\n",
    "n=len(s)\n",
    "p=0\n",
    "for i in range(n+1):\n",
    "    for j in range(i,n):\n",
    "        print(' ',end=' ')\n",
    "    for j in range(i):\n",
    "        print(s[p],end=' ')\n",
    "    p-=1\n",
    "    print()"
   ]
  },
  {
   "cell_type": "code",
   "execution_count": null,
   "id": "1c5badc1",
   "metadata": {},
   "outputs": [
    {
     "name": "stdout",
     "output_type": "stream",
     "text": [
      "\n",
      "R \n",
      "E E \n",
      "D D D \n",
      "O O O O \n",
      "C C C C C \n"
     ]
    }
   ],
   "source": [
    "s='CODER'\n",
    "n=len(s)\n",
    "p=0\n",
    "for i in range(n+1):\n",
    "    for j in range(i):\n",
    "        print(s[p],end=' ')\n",
    "    p-=1\n",
    "    print()"
   ]
  },
  {
   "cell_type": "code",
   "execution_count": null,
   "id": "7c9f7c64",
   "metadata": {},
   "outputs": [
    {
     "name": "stdout",
     "output_type": "stream",
     "text": [
      "          \n",
      "        R \n",
      "      E E E \n",
      "    D D D D D \n",
      "  O O O O O O O \n",
      "C C C C C C C C C \n"
     ]
    }
   ],
   "source": [
    "s='CODER'\n",
    "n=len(s)\n",
    "p=0\n",
    "for i in range(n+1):\n",
    "    for j in range(i,n):\n",
    "        print(' ',end=' ')\n",
    "    for j in range(i-1): # i also works if next loop follows i-1\n",
    "        print(s[p],end=' ')\n",
    "    for j in range(i): # i-1 also works if previous loop follows i\n",
    "        print(s[p],end=' ')\n",
    "    p-=1\n",
    "    print()"
   ]
  },
  {
   "cell_type": "code",
   "execution_count": null,
   "id": "abb8b9b1",
   "metadata": {},
   "outputs": [
    {
     "name": "stdout",
     "output_type": "stream",
     "text": [
      "R E D O C \n",
      "  E D O C \n",
      "    D O C \n",
      "      O C \n",
      "        C \n"
     ]
    }
   ],
   "source": [
    "s='CODER'\n",
    "n=len(s)\n",
    "k=n-1\n",
    "for i in range(n):\n",
    "    p=k\n",
    "    for j in range(i):\n",
    "        print(' ',end=' ')\n",
    "    for j in range(i,n):\n",
    "        print(s[p],end=' ')\n",
    "        p-=1\n",
    "    print()\n",
    "    k-=1"
   ]
  },
  {
   "cell_type": "code",
   "execution_count": null,
   "id": "4fc2b3ff",
   "metadata": {},
   "outputs": [
    {
     "name": "stdout",
     "output_type": "stream",
     "text": [
      "C \n",
      "C O \n",
      "C O D \n",
      "C O D E \n",
      "C O D E R \n"
     ]
    }
   ],
   "source": [
    "s='CODER'\n",
    "n=len(s)\n",
    "for i in range(n):\n",
    "    p=0\n",
    "    for j in range(i+1):\n",
    "        print(s[p],end=' ')\n",
    "        p+=1\n",
    "    print()"
   ]
  },
  {
   "cell_type": "code",
   "execution_count": 11,
   "id": "5893930b",
   "metadata": {},
   "outputs": [
    {
     "name": "stdout",
     "output_type": "stream",
     "text": [
      "          C \n",
      "        C O \n",
      "      C O D \n",
      "    C O D E \n",
      "  C O D E R \n"
     ]
    }
   ],
   "source": [
    "s='CODER'\n",
    "n=len(s)\n",
    "for i in range(n):\n",
    "    p=0\n",
    "    for j in range(i,n):\n",
    "        print(' ',end=' ')\n",
    "    for j in range(i+1):\n",
    "        print(s[p],end=' ')\n",
    "        p+=1\n",
    "    print()"
   ]
  },
  {
   "cell_type": "code",
   "execution_count": 12,
   "id": "b53b9e5e",
   "metadata": {},
   "outputs": [
    {
     "name": "stdout",
     "output_type": "stream",
     "text": [
      "* * * * * \n",
      "*       * \n",
      "*       * \n",
      "*       * \n",
      "* * * * * \n"
     ]
    }
   ],
   "source": [
    "n = 5\n",
    "for i in range(n):\n",
    "    for j in range(n):\n",
    "        if i == 0 or i == n-1 or j == 0 or j == n-1:\n",
    "            print('*', end=' ')\n",
    "        else:\n",
    "            print(' ', end=' ')\n",
    "    print()"
   ]
  }
 ],
 "metadata": {
  "kernelspec": {
   "display_name": "base",
   "language": "python",
   "name": "python3"
  },
  "language_info": {
   "codemirror_mode": {
    "name": "ipython",
    "version": 3
   },
   "file_extension": ".py",
   "mimetype": "text/x-python",
   "name": "python",
   "nbconvert_exporter": "python",
   "pygments_lexer": "ipython3",
   "version": "3.12.7"
  }
 },
 "nbformat": 4,
 "nbformat_minor": 5
}
