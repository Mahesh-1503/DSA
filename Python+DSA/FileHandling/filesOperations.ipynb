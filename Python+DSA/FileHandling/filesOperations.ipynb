{
 "cells": [
  {
   "cell_type": "markdown",
   "id": "d883f077",
   "metadata": {},
   "source": [
    "#### File operation- Read and Write Files"
   ]
  },
  {
   "cell_type": "markdown",
   "id": "1de33a29",
   "metadata": {},
   "source": [
    "File handling is a crucial part of any programming language. python provides built-in functions and methods to read from and write to files. both text and binary files can be read and written using python."
   ]
  },
  {
   "cell_type": "markdown",
   "id": "4e35a033",
   "metadata": {},
   "source": [
    "1. Read a whole file"
   ]
  },
  {
   "cell_type": "code",
   "execution_count": 15,
   "id": "fc756e8c",
   "metadata": {},
   "outputs": [
    {
     "name": "stdout",
     "output_type": "stream",
     "text": [
      "Hello Dolly How Are You?\n",
      "Dolly: I'm Fine Mahesh\n",
      "Okay, Fine GOOD NIGHT BYE\n",
      "Dolly: Good Night and Good Bye, Mahesh\n"
     ]
    }
   ],
   "source": [
    "with open('example.txt', 'r') as file:\n",
    "    content = file.read()\n",
    "    print(content)"
   ]
  },
  {
   "cell_type": "markdown",
   "id": "f9d60da6",
   "metadata": {},
   "source": [
    "2. Read file line by line"
   ]
  },
  {
   "cell_type": "code",
   "execution_count": 16,
   "id": "89641185",
   "metadata": {},
   "outputs": [
    {
     "name": "stdout",
     "output_type": "stream",
     "text": [
      "Hello Dolly How Are You?\n",
      "Dolly: I'm Fine Mahesh\n",
      "Okay, Fine GOOD NIGHT BYE\n",
      "Dolly: Good Night and Good Bye, Mahesh\n"
     ]
    }
   ],
   "source": [
    "with open('example.txt', 'r') as file:\n",
    "    for line in file:\n",
    "        print(line.strip()) ## here strip() removes the newline character"
   ]
  },
  {
   "cell_type": "markdown",
   "id": "cbe61512",
   "metadata": {},
   "source": [
    "3. Writing a file(Overwrite)\n",
    "- if the file does not exist, it will be created.\n",
    "- if the file exists, it will be overwritten."
   ]
  },
  {
   "cell_type": "code",
   "execution_count": null,
   "id": "b610d0fb",
   "metadata": {},
   "outputs": [],
   "source": [
    "with open('example.txt', 'w') as file:\n",
    "    file.write(\"This is a new line.\\n\")\n",
    "    file.write(\"This will overwrite the existing content.\\n\")"
   ]
  },
  {
   "cell_type": "markdown",
   "id": "727840b9",
   "metadata": {},
   "source": [
    "4. Write a file without overwriting"
   ]
  },
  {
   "cell_type": "code",
   "execution_count": 21,
   "id": "7c66909a",
   "metadata": {},
   "outputs": [],
   "source": [
    "with open('example.text', 'a') as file:\n",
    "    file.write(\"This line will be appended to the file.\\n\")\n",
    "    file.write(\"Appending another line.\\n\")"
   ]
  },
  {
   "cell_type": "markdown",
   "id": "fd79e64e",
   "metadata": {},
   "source": [
    "5. Writing a list of lines to a file"
   ]
  },
  {
   "cell_type": "code",
   "execution_count": 1,
   "id": "ca700b16",
   "metadata": {},
   "outputs": [],
   "source": [
    "lines = [\"First line\\n\", \"Second line\\n\", \"Third line\\n\"]\n",
    "with open('example.txt', 'a') as file:\n",
    "    file.writelines(lines)"
   ]
  },
  {
   "cell_type": "markdown",
   "id": "50beb63d",
   "metadata": {},
   "source": [
    "6. Read the content from source text file and write to a destination file"
   ]
  },
  {
   "cell_type": "code",
   "execution_count": 5,
   "id": "08936efb",
   "metadata": {},
   "outputs": [],
   "source": [
    "with open('example.txt', 'r') as source_file:\n",
    "    content = source_file.read()\n",
    "with open('destination.txt', 'w')as destination_file:\n",
    "    destination_file.write(content)"
   ]
  },
  {
   "cell_type": "markdown",
   "id": "1e448a93",
   "metadata": {},
   "source": [
    "8. Read a text file and count the number of lines, words, and characters.\n"
   ]
  },
  {
   "cell_type": "code",
   "execution_count": 6,
   "id": "46364d9d",
   "metadata": {},
   "outputs": [
    {
     "name": "stdout",
     "output_type": "stream",
     "text": [
      "Lines: 5, Words: 20, Characters: 116\n"
     ]
    }
   ],
   "source": [
    "def count_text_file(file_path):\n",
    "    with open(file_path, 'r') as file:\n",
    "        lines=file.readlines()\n",
    "        line_count=len(lines)\n",
    "        word_count=sum(len(line.split()) for line in lines)\n",
    "        char_count=sum(len(line) for line in lines)\n",
    "    return line_count, word_count, char_count\n",
    "lines, words, chars = count_text_file('example.txt')\n",
    "print(f\"Lines: {lines}, Words: {words}, Characters: {chars}\")"
   ]
  },
  {
   "cell_type": "markdown",
   "id": "99d2d707",
   "metadata": {},
   "source": [
    "9. w+ mode in python is used to open a file for both reading and writing. If the file does not exist, it will be created. If the file exists, it will be overwritten."
   ]
  },
  {
   "cell_type": "code",
   "execution_count": 8,
   "id": "b8cad890",
   "metadata": {},
   "outputs": [
    {
     "name": "stdout",
     "output_type": "stream",
     "text": [
      "\n"
     ]
    }
   ],
   "source": [
    "with open('example.txt', 'w+') as file:\n",
    "    file.write('hello world of dark\\n')\n",
    "    file.write('hello world of light\\n')\n",
    "    # file.seek(0)  # Move the cursor to the beginning of the file\n",
    "    content = file.read()\n",
    "    print(content)"
   ]
  },
  {
   "cell_type": "code",
   "execution_count": 7,
   "id": "e4b9c5db",
   "metadata": {},
   "outputs": [
    {
     "name": "stdout",
     "output_type": "stream",
     "text": [
      "hello world of dark\n",
      "hello world of light\n",
      "\n"
     ]
    }
   ],
   "source": [
    "with open('example.txt', 'w+') as file:\n",
    "    file.write('hello world of dark\\n')\n",
    "    file.write('hello world of light\\n')\n",
    "    file.seek(0)  # Move the cursor to the beginning of the file\n",
    "    content = file.read()\n",
    "    print(content)"
   ]
  },
  {
   "cell_type": "markdown",
   "id": "59d4b44f",
   "metadata": {},
   "source": [
    "- tell() method returns the current position of the file pointer."
   ]
  },
  {
   "cell_type": "code",
   "execution_count": 1,
   "id": "d202e75a",
   "metadata": {},
   "outputs": [
    {
     "name": "stdout",
     "output_type": "stream",
     "text": [
      "Initial cursor position: 0\n",
      "Content read: hello worl\n",
      "Cursor position after reading 10 characters: 10\n",
      "Cursor position after seek(0): 0\n",
      "Content read after seek: hello\n",
      "Final cursor position: 5\n"
     ]
    }
   ],
   "source": [
    "# tell() and seek() example\n",
    "with open('example.txt', 'r') as file:\n",
    "    print(\"Initial cursor position:\", file.tell())  # Should be 0\n",
    "    content = file.read(10)  # Read first 10 characters\n",
    "    print(\"Content read:\", content)\n",
    "    print(\"Cursor position after reading 10 characters:\", file.tell())\n",
    "    file.seek(0)  # Move cursor back to the beginning\n",
    "    print(\"Cursor position after seek(0):\", file.tell())\n",
    "    content = file.read(5)  # Read first 5 characters\n",
    "    print(\"Content read after seek:\", content)\n",
    "    print(\"Final cursor position:\", file.tell())"
   ]
  },
  {
   "cell_type": "markdown",
   "id": "79c3cbe0",
   "metadata": {},
   "source": [
    "#### Practice Tasks"
   ]
  },
  {
   "cell_type": "markdown",
   "id": "42a91dc6",
   "metadata": {},
   "source": [
    "1. Write a program to read a text file and count the number of words."
   ]
  },
  {
   "cell_type": "code",
   "execution_count": 5,
   "id": "a878fd7e",
   "metadata": {},
   "outputs": [
    {
     "name": "stdout",
     "output_type": "stream",
     "text": [
      "['WsCube', 'mentorship', 'Programs', 'are', 'designed', 'and', 'developed', 'for', 'Gen-Z', 'career', 'aspirants', 'with', 'absolute', 'focus', 'on', 'job-readiness.', 'The', 'programs', 'aim', 'to', 'equip', 'the', 'learners', 'with', 'industry-ready,', 'hands-on', 'skills', 'and', 'facilitate', 'a', 'confident', 'career', 'kick-off.']\n",
      "Word count: 33\n"
     ]
    }
   ],
   "source": [
    "with open('task1.txt', 'r') as file:\n",
    "    content = file.read().split()\n",
    "    print(content)\n",
    "    print('Word count:', len(content))"
   ]
  },
  {
   "cell_type": "markdown",
   "id": "05028c57",
   "metadata": {},
   "source": [
    "2. Create a program to copy the content o one file into another."
   ]
  },
  {
   "cell_type": "code",
   "execution_count": 7,
   "id": "5b7d9fd9",
   "metadata": {},
   "outputs": [],
   "source": [
    "with open('task1.txt','r') as file:\n",
    "    content=file.read()\n",
    "with open('task2.txt','w') as file2: \n",
    "    file2.write(content)# Copying content from task1.txt to task2.txt"
   ]
  },
  {
   "cell_type": "markdown",
   "id": "6018f3ce",
   "metadata": {},
   "source": [
    "3. Write a function to find how many times a word appears in a file."
   ]
  },
  {
   "cell_type": "code",
   "execution_count": 12,
   "id": "a613f835",
   "metadata": {},
   "outputs": [
    {
     "name": "stdout",
     "output_type": "stream",
     "text": [
      "5\n"
     ]
    }
   ],
   "source": [
    "def getMyWord(fileName, word):\n",
    "    try:\n",
    "        with open(fileName, 'r') as source_file:\n",
    "            # Read the file content, convert to lowercase, and split into a list of words.\n",
    "            content = source_file.read().lower().split()\n",
    "            # Convert the search word to lowercase for a case-insensitive count.\n",
    "            search_word = word.lower()\n",
    "            countMyword = content.count(search_word)\n",
    "        return countMyword\n",
    "    except FileNotFoundError:\n",
    "        print(f\"Error: The file '{fileName}' was not found.\")\n",
    "        return 0\n",
    "\n",
    "# Example usage:\n",
    "result = getMyWord('task1.txt', 'WsCube')\n",
    "print(result)"
   ]
  },
  {
   "cell_type": "markdown",
   "id": "1e150942",
   "metadata": {},
   "source": [
    "4. write a function to read a text file and count the number of characters."
   ]
  },
  {
   "cell_type": "code",
   "execution_count": 33,
   "id": "4f9a2fa8",
   "metadata": {},
   "outputs": [
    {
     "name": "stdout",
     "output_type": "stream",
     "text": [
      "Number of characters: 6\n"
     ]
    }
   ],
   "source": [
    "def count_characters(file_path):\n",
    "    try:\n",
    "        with open(file_path, 'r') as file:\n",
    "            content=file.read().replace(\" \",\"\")\n",
    "            return len(content)\n",
    "    except FileNotFoundError:\n",
    "        print(f\"Error: The file '{file_path}' was not found.\")\n",
    "        return 0\n",
    "# Example usage:\n",
    "char_count = count_characters('task5.txt')\n",
    "print(f\"Number of characters: {char_count}\")"
   ]
  },
  {
   "cell_type": "markdown",
   "id": "95c6958e",
   "metadata": {},
   "source": [
    "5. Create a file and store 5 lines using writelines()."
   ]
  },
  {
   "cell_type": "code",
   "execution_count": 34,
   "id": "5e9fe1dc",
   "metadata": {},
   "outputs": [],
   "source": [
    "with open('dummy.txt', 'w') as file:\n",
    "    lines = [\n",
    "        \"This is the first line.\\n\",\n",
    "        \"This is the second line.\\n\",\n",
    "        \"This is the third line.\\n\",\n",
    "        \"This is the fourth line.\\n\",\n",
    "        \"This is the fifth line.\\n\"\n",
    "    ]\n",
    "    file.writelines(lines)"
   ]
  },
  {
   "cell_type": "markdown",
   "id": "bd8bdfe8",
   "metadata": {},
   "source": [
    "#### Binary files"
   ]
  },
  {
   "cell_type": "code",
   "execution_count": 3,
   "id": "5f4954f0",
   "metadata": {},
   "outputs": [],
   "source": [
    "data=b'\\x00\\x01\\x02\\x03\\x04\\x05'\n",
    "with open('example.bin', 'wb') as file:\n",
    "    file.write(data)"
   ]
  }
 ],
 "metadata": {
  "kernelspec": {
   "display_name": "Python 3",
   "language": "python",
   "name": "python3"
  },
  "language_info": {
   "codemirror_mode": {
    "name": "ipython",
    "version": 3
   },
   "file_extension": ".py",
   "mimetype": "text/x-python",
   "name": "python",
   "nbconvert_exporter": "python",
   "pygments_lexer": "ipython3",
   "version": "3.13.5"
  }
 },
 "nbformat": 4,
 "nbformat_minor": 5
}
