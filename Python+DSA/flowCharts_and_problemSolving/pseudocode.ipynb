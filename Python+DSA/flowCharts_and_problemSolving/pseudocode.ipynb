{
 "cells": [
  {
   "cell_type": "markdown",
   "id": "690c382b",
   "metadata": {},
   "source": [
    "### Pseudocode"
   ]
  },
  {
   "cell_type": "markdown",
   "id": "f1f1b910",
   "metadata": {},
   "source": [
    "1. A Pseudocode is a simple way of describing an algorithm in plain language or a mix of code like and natural language instructions.\n",
    "2. It does't follow any specific programming language syntax. Making it easier to understand, even for those without programming knowledge.\n",
    "3. Pseudocode is often used as a step before writing actual code."
   ]
  },
  {
   "cell_type": "markdown",
   "id": "95819650",
   "metadata": {},
   "source": [
    "#### Pseudocode to find sum of 2 numbers"
   ]
  },
  {
   "cell_type": "code",
   "execution_count": 1,
   "id": "29e914e4",
   "metadata": {},
   "outputs": [
    {
     "data": {
      "text/plain": [
       "'\\nBEGIN\\n    Input FirstNumber\\n    Input SecondNumber\\n    Sum = FirstNumber + SecondNumber\\n    Print Sum\\nEND\\n'"
      ]
     },
     "execution_count": 1,
     "metadata": {},
     "output_type": "execute_result"
    }
   ],
   "source": [
    "'''\n",
    "BEGIN\n",
    "    Input FirstNumber\n",
    "    Input SecondNumber\n",
    "    Sum = FirstNumber + SecondNumber\n",
    "    Print Sum\n",
    "END\n",
    "'''"
   ]
  },
  {
   "cell_type": "code",
   "execution_count": null,
   "id": "4ebb61cc",
   "metadata": {},
   "outputs": [],
   "source": []
  }
 ],
 "metadata": {
  "kernelspec": {
   "display_name": "Python 3",
   "language": "python",
   "name": "python3"
  },
  "language_info": {
   "codemirror_mode": {
    "name": "ipython",
    "version": 3
   },
   "file_extension": ".py",
   "mimetype": "text/x-python",
   "name": "python",
   "nbconvert_exporter": "python",
   "pygments_lexer": "ipython3",
   "version": "3.13.5"
  }
 },
 "nbformat": 4,
 "nbformat_minor": 5
}
