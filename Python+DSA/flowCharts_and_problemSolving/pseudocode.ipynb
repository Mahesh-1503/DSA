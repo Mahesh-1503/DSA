{
 "cells": [
  {
   "cell_type": "markdown",
   "id": "690c382b",
   "metadata": {},
   "source": [
    "### Pseudocode"
   ]
  },
  {
   "cell_type": "markdown",
   "id": "f1f1b910",
   "metadata": {},
   "source": [
    "1. A Pseudocode is a simple way of describing an algorithm in plain language or a mix of code like and natural language instructions.\n",
    "2. It does't follow any specific programming language syntax. Making it easier to understand, even for those without programming knowledge.\n",
    "3. Pseudocode is often used as a step before writing actual code."
   ]
  },
  {
   "cell_type": "markdown",
   "id": "95819650",
   "metadata": {},
   "source": []
  }
 ],
 "metadata": {
  "language_info": {
   "name": "python"
  }
 },
 "nbformat": 4,
 "nbformat_minor": 5
}
