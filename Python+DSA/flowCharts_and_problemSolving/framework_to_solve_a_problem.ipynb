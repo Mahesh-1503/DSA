{
 "cells": [
  {
   "cell_type": "markdown",
   "id": "b2da6d02",
   "metadata": {},
   "source": [
    "#### Process to solve a problem"
   ]
  },
  {
   "cell_type": "markdown",
   "id": "a93d0a51",
   "metadata": {},
   "source": [
    "1. Analyze the problem (input, output, constraints)\n",
    "2. Breakdown problem into smaller sub-problems\n",
    "3. Remember/Enlist the concepts\n",
    "4. Take 2-3 Examples (clear out the problem confusions/gaps)\n",
    "5. Write the Pseudo code on a paper\n",
    "6. Dry run it\n",
    "7. Write down the solution\n",
    "8. Look out for edge cases,Boundary conditions***"
   ]
  }
 ],
 "metadata": {
  "kernelspec": {
   "display_name": "Python 3",
   "language": "python",
   "name": "python3"
  },
  "language_info": {
   "name": "python",
   "version": "3.13.5"
  }
 },
 "nbformat": 4,
 "nbformat_minor": 5
}
