{
 "cells": [
  {
   "cell_type": "markdown",
   "id": "cd5150b6",
   "metadata": {},
   "source": [
    "#### Create a new directory"
   ]
  },
  {
   "cell_type": "code",
   "execution_count": 2,
   "id": "e96fcbcb",
   "metadata": {},
   "outputs": [
    {
     "name": "stdout",
     "output_type": "stream",
     "text": [
      "Directory 'package' created\n"
     ]
    }
   ],
   "source": [
    "import os\n",
    "new_directory = \"package\"\n",
    "os.mkdir(new_directory)\n",
    "print(f\"Directory '{new_directory}' created\")"
   ]
  },
  {
   "cell_type": "markdown",
   "id": "57061e7a",
   "metadata": {},
   "source": [
    "#### Listing Files And Directories"
   ]
  },
  {
   "cell_type": "code",
   "execution_count": 3,
   "id": "97dc41ab",
   "metadata": {},
   "outputs": [
    {
     "name": "stdout",
     "output_type": "stream",
     "text": [
      "['package', 'working_with_filePaths.ipynb']\n"
     ]
    }
   ],
   "source": [
    "items=os.listdir()\n",
    "print(items)"
   ]
  },
  {
   "cell_type": "markdown",
   "id": "6885ee6e",
   "metadata": {},
   "source": [
    "#### Joining Paths"
   ]
  },
  {
   "cell_type": "code",
   "execution_count": 4,
   "id": "c457086f",
   "metadata": {},
   "outputs": [
    {
     "name": "stdout",
     "output_type": "stream",
     "text": [
      "folder\\file.txt\n"
     ]
    }
   ],
   "source": [
    "dir_name=\"folder\"\n",
    "file_name=\"file.txt\"\n",
    "full_path=os.path.join(dir_name,file_name)\n",
    "print(full_path)"
   ]
  },
  {
   "cell_type": "code",
   "execution_count": 5,
   "id": "3caeb3c3",
   "metadata": {},
   "outputs": [
    {
     "name": "stdout",
     "output_type": "stream",
     "text": [
      "e:\\DSA\\Python+DSA\\Working_with_filePaths\\folder\\file.txt\n"
     ]
    }
   ],
   "source": [
    "dir_name=\"folder\"\n",
    "file_name=\"file.txt\"\n",
    "full_path=os.path.join(os.getcwd(),dir_name,file_name)\n",
    "print(full_path)"
   ]
  },
  {
   "cell_type": "code",
   "execution_count": 10,
   "id": "8d62dc24",
   "metadata": {},
   "outputs": [
    {
     "name": "stdout",
     "output_type": "stream",
     "text": [
      "The path 'package' exists.\n"
     ]
    }
   ],
   "source": [
    "path='package'\n",
    "if os.path.exists(path):\n",
    "    print(f\"The path '{path}' exists.\")\n",
    "else:\n",
    "    print(f\"The path '{path}' does not exist.\")"
   ]
  },
  {
   "cell_type": "markdown",
   "id": "2dfd096a",
   "metadata": {},
   "source": [
    "#### Checking If A Path Is A File Or Directory"
   ]
  },
  {
   "cell_type": "code",
   "execution_count": 13,
   "id": "07e94654",
   "metadata": {},
   "outputs": [
    {
     "name": "stdout",
     "output_type": "stream",
     "text": [
      "The path 'package/demo.txt' is a file.\n"
     ]
    }
   ],
   "source": [
    "import os\n",
    "path = 'package/demo.txt'\n",
    "if os.path.isfile(path):\n",
    "    print(f\"The path '{path}' is a file.\")\n",
    "elif os.path.isdir(path):\n",
    "    print(f\"The path '{path}' is a directory.\")\n",
    "else:\n",
    "    print(f\"The path '{path}' is neither a file nor a directory.\")"
   ]
  },
  {
   "cell_type": "markdown",
   "id": "e9aedba7",
   "metadata": {},
   "source": [
    "#### Getting Absolute Path"
   ]
  },
  {
   "cell_type": "code",
   "execution_count": 17,
   "id": "becf944b",
   "metadata": {},
   "outputs": [
    {
     "name": "stdout",
     "output_type": "stream",
     "text": [
      "Absolute path: e:\\DSA\\Python+DSA\\Working_with_filePaths\\example.txt\n"
     ]
    }
   ],
   "source": [
    "relative_path = 'example.txt'\n",
    "absolute_path = os.path.abspath(relative_path)\n",
    "print(f\"Absolute path: {absolute_path}\")"
   ]
  }
 ],
 "metadata": {
  "kernelspec": {
   "display_name": "Python 3",
   "language": "python",
   "name": "python3"
  },
  "language_info": {
   "codemirror_mode": {
    "name": "ipython",
    "version": 3
   },
   "file_extension": ".py",
   "mimetype": "text/x-python",
   "name": "python",
   "nbconvert_exporter": "python",
   "pygments_lexer": "ipython3",
   "version": "3.13.5"
  }
 },
 "nbformat": 4,
 "nbformat_minor": 5
}
