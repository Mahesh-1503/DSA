{
 "cells": [
  {
   "cell_type": "markdown",
   "id": "62121940",
   "metadata": {},
   "source": [
    "* Lists are ordered, mutable collections of items.\n",
    "* They can contain items of different data types.\n",
    "* 1.Creating lists\n",
    "* 2.Accessing list elements\n",
    "* 3.Modifying list elements\n",
    "* 4.List methods\n",
    "* 5.Slicing lists\n",
    "* 6.Iterating over lists\n",
    "* 7.List comprehensions\n",
    "* 8.Nested lists\n",
    "* 9.Practical examples and common errors"
   ]
  },
  {
   "cell_type": "code",
   "execution_count": 20,
   "id": "feb411d8",
   "metadata": {},
   "outputs": [
    {
     "name": "stdout",
     "output_type": "stream",
     "text": [
      "<class 'list'>\n"
     ]
    }
   ],
   "source": [
    "lst=[]\n",
    "print(type(lst))"
   ]
  },
  {
   "cell_type": "code",
   "execution_count": 21,
   "id": "a7424935",
   "metadata": {},
   "outputs": [
    {
     "name": "stdout",
     "output_type": "stream",
     "text": [
      "['Mahesh', 'Ramesh', 'Suresh', 1, 2, 3, 4]\n"
     ]
    }
   ],
   "source": [
    "names=['Mahesh','Ramesh','Suresh',1,2,3,4]\n",
    "print(names)"
   ]
  },
  {
   "cell_type": "code",
   "execution_count": 2,
   "id": "31ba1ceb",
   "metadata": {},
   "outputs": [
    {
     "name": "stdout",
     "output_type": "stream",
     "text": [
      "apple\n",
      "orange\n"
     ]
    }
   ],
   "source": [
    "## Accessing list elements\n",
    "fruits=['apple','banana','cherry','orange']\n",
    "print(fruits[0])  # First element\n",
    "print(fruits[-1]) # Last element"
   ]
  },
  {
   "cell_type": "code",
   "execution_count": 23,
   "id": "3f22fe53",
   "metadata": {},
   "outputs": [
    {
     "name": "stdout",
     "output_type": "stream",
     "text": [
      "['banana', 'cherry']\n",
      "['apple', 'banana']\n",
      "['cherry', 'orange']\n",
      "['cherry', 'orange']\n",
      "['banana', 'cherry']\n",
      "['apple', 'blueberry', 'cherry', 'orange']\n"
     ]
    }
   ],
   "source": [
    "fruits = ['apple', 'banana', 'cherry', 'orange']\n",
    "print(fruits[1:3])  # Slicing from index 1 to 2 (3 is not included)\n",
    "print(fruits[:2])   # Slicing from start to index 1\n",
    "print(fruits[2:])   # Slicing from index 2 to the end\n",
    "print(fruits[-2:])  # Slicing from the second last element to the end\n",
    "print(fruits[-3:-1]) # Slicing from the third last to the second last element\n",
    "## Modifying list elements\n",
    "fruits[1] = 'blueberry'  # Change 'banana' to 'blueberry'\n",
    "print(fruits)"
   ]
  },
  {
   "cell_type": "code",
   "execution_count": 24,
   "id": "d43dda49",
   "metadata": {},
   "outputs": [],
   "source": [
    "fruits[1:]=\"watermelon\""
   ]
  },
  {
   "cell_type": "code",
   "execution_count": 25,
   "id": "2c2ed634",
   "metadata": {},
   "outputs": [
    {
     "data": {
      "text/plain": [
       "['apple', 'w', 'a', 't', 'e', 'r', 'm', 'e', 'l', 'o', 'n']"
      ]
     },
     "execution_count": 25,
     "metadata": {},
     "output_type": "execute_result"
    }
   ],
   "source": [
    "fruits"
   ]
  },
  {
   "cell_type": "code",
   "execution_count": 26,
   "id": "05a961b7",
   "metadata": {},
   "outputs": [
    {
     "name": "stdout",
     "output_type": "stream",
     "text": [
      "['apple', 'banana', 'cherry', 'kiwi']\n",
      "['apple', 'orange', 'banana', 'cherry', 'kiwi']\n",
      "['apple', 'orange', 'cherry', 'kiwi']\n",
      "Popped fruit: kiwi\n",
      "['apple', 'orange', 'cherry']\n",
      "Index of 'cherry': 2\n"
     ]
    }
   ],
   "source": [
    "## List Methods\n",
    "fruits = ['apple', 'banana', 'cherry']\n",
    "fruits.append('kiwi')  # Add 'kiwi' to the end of the list\n",
    "print(fruits)\n",
    "fruits.insert(1, 'orange')  # Insert 'orange' at index 1\n",
    "print(fruits)\n",
    "fruits.remove('banana')  # Remove 'banana' from the list\n",
    "print(fruits)\n",
    "popped_fruit = fruits.pop()  # Remove the last element and return it\n",
    "print(f\"Popped fruit: {popped_fruit}\")\n",
    "print(fruits)\n",
    "index = fruits.index('cherry')  # Find the index of 'cherry'\n",
    "print(f\"Index of 'cherry': {index}\")\n"
   ]
  },
  {
   "cell_type": "code",
   "execution_count": 27,
   "id": "5e69055b",
   "metadata": {},
   "outputs": [
    {
     "name": "stdout",
     "output_type": "stream",
     "text": [
      "['apple', 'banana', 'cherry', 'kiwi', 'mango']\n",
      "['apple', 'banana', 'cherry', 'kiwi', 'mango']\n",
      "['mango', 'kiwi', 'cherry', 'banana', 'apple']\n",
      "['apple', 'banana', 'cherry', 'kiwi', 'mango']\n",
      "[]\n"
     ]
    }
   ],
   "source": [
    "fruits = ['apple', 'banana', 'cherry']\n",
    "fruits.extend(['kiwi', 'mango'])  # Extend the list with another list\n",
    "print(fruits)\n",
    "fruits.sort()  # Sort the list in ascending order\n",
    "print(fruits)\n",
    "fruits.sort(reverse=True)  # Sort the list in descending order\n",
    "print(fruits)\n",
    "fruits.reverse()  # Reverse the order of the list\n",
    "print(fruits)\n",
    "fruits.clear()  # Remove all elements from the list\n",
    "print(fruits)"
   ]
  },
  {
   "cell_type": "code",
   "execution_count": 28,
   "id": "2d3ce9bd",
   "metadata": {},
   "outputs": [
    {
     "name": "stdout",
     "output_type": "stream",
     "text": [
      "[1, 2, 3]\n",
      "[3, 4, 5, 6, 7, 8, 9]\n",
      "[1, 2]\n",
      "[7, 8]\n",
      "[9, 8, 7, 6, 5, 4, 3, 2, 1]\n",
      "[1, 3, 5, 7, 9]\n",
      "apple\n",
      "banana\n",
      "cherry\n",
      "[1, 4, 9, 16, 25]\n",
      "2\n",
      "1 2 3 \n",
      "4 5 6 \n",
      "7 8 9 \n"
     ]
    }
   ],
   "source": [
    "## Slicing Lists\n",
    "numbers = [1, 2, 3, 4, 5, 6, 7, 8, 9]\n",
    "print(numbers[0:3])  # Slicing from index 0 to 2 (3 is not included)\n",
    "print(numbers[2:])   # Slicing from index 2 to the end\n",
    "print(numbers[:2])   # Slicing from start to index 1\n",
    "print(numbers[-3:-1]) # Slicing from the third last to the second last element\n",
    "print(numbers[::-1])  # Reverse the list\n",
    "print(numbers[::2])   # Print every second element of the list\n",
    "## Iterating over lists\n",
    "fruits = ['apple', 'banana', 'cherry']\n",
    "for fruit in fruits:\n",
    "    print(fruit)\n",
    "## List comprehensions\n",
    "numbers = [1, 2, 3, 4, 5]\n",
    "squares = [x**2 for x in numbers]\n",
    "print(squares)\n",
    "## Nested lists\n",
    "matrix = [[1, 2, 3], [4, 5, 6], [7, 8, 9]]\n",
    "print(matrix[0][1])  # Access the element at row 0, column 1\n",
    "nested_list = [[1, 2, 3], [4, 5, 6], [7, 8, 9]]\n",
    "for row in nested_list:\n",
    "    for element in row:\n",
    "        print(element, end=' ')\n",
    "    print()  # New line after each row \n"
   ]
  },
  {
   "cell_type": "code",
   "execution_count": 29,
   "id": "87afdc1a",
   "metadata": {},
   "outputs": [
    {
     "name": "stdout",
     "output_type": "stream",
     "text": [
      "Index: 0, Fruit: apple\n",
      "Index: 1, Fruit: banana\n",
      "Index: 2, Fruit: cherry\n"
     ]
    }
   ],
   "source": [
    "## Iterating over a list with index\n",
    "fruits = ['apple', 'banana', 'cherry']\n",
    "for index, fruit in enumerate(fruits):\n",
    "    print(f\"Index: {index}, Fruit: {fruit}\")"
   ]
  },
  {
   "cell_type": "code",
   "execution_count": 30,
   "id": "3aea674b",
   "metadata": {},
   "outputs": [
    {
     "name": "stdout",
     "output_type": "stream",
     "text": [
      "[2, 4, 6, 8]\n"
     ]
    }
   ],
   "source": [
    "## list comprehensions with conditions\n",
    "numbers = [1, 2, 3, 4, 5, 6, 7, 8, 9]\n",
    "even_numbers = [x for x in numbers if x % 2 == 0]\n",
    "print(even_numbers)"
   ]
  },
  {
   "cell_type": "code",
   "execution_count": 31,
   "id": "6001ca1c",
   "metadata": {},
   "outputs": [
    {
     "name": "stdout",
     "output_type": "stream",
     "text": [
      "[0, 1, 4, 9, 16, 25, 36, 49, 64, 81]\n"
     ]
    }
   ],
   "source": [
    "numbers = []\n",
    "for num in range(10):\n",
    "    numbers.append(num**2)\n",
    "print(numbers)"
   ]
  },
  {
   "cell_type": "code",
   "execution_count": 32,
   "id": "83cb285e",
   "metadata": {},
   "outputs": [
    {
     "name": "stdout",
     "output_type": "stream",
     "text": [
      "[0, 4, 16, 36, 64]\n"
     ]
    }
   ],
   "source": [
    "numbers = []\n",
    "for i in range(10):\n",
    "    if i % 2 == 0:\n",
    "        numbers.append(i**2)\n",
    "print(numbers)"
   ]
  },
  {
   "cell_type": "code",
   "execution_count": 33,
   "id": "1856b9e6",
   "metadata": {},
   "outputs": [
    {
     "name": "stdout",
     "output_type": "stream",
     "text": [
      "[0, 4, 16, 36, 64]\n",
      "[0, 1, 4, 9, 16, 25, 36, 49, 64, 81]\n"
     ]
    }
   ],
   "source": [
    "## List comprehensions with conditions in one line\n",
    "numbers = [x**2 for x in range(10) if x % 2 == 0]\n",
    "print(numbers)\n",
    "numbersTwo = [x**2 for x in range(10)]\n",
    "print(numbersTwo)"
   ]
  },
  {
   "cell_type": "markdown",
   "id": "edac9eed",
   "metadata": {},
   "source": [
    "#### list comprehensions syntax\n",
    "* Basic syntax: [expression for item in iterable]\n",
    "* with condition: [expression for item in iterable if condition]\n",
    "* Nested list comprehensions: [expression for item in iterable for item in iterable]\n"
   ]
  },
  {
   "cell_type": "code",
   "execution_count": 34,
   "id": "920f8ef9",
   "metadata": {},
   "outputs": [
    {
     "name": "stdout",
     "output_type": "stream",
     "text": [
      "[[0, 1, 2], [0, 1, 2], [0, 1, 2]]\n"
     ]
    }
   ],
   "source": [
    "## nested list comprehensions\n",
    "matrix = [[j for j in range(3)] for i in range(3)]\n",
    "print(matrix)"
   ]
  },
  {
   "cell_type": "code",
   "execution_count": 35,
   "id": "fa177282",
   "metadata": {},
   "outputs": [
    {
     "name": "stdout",
     "output_type": "stream",
     "text": [
      "[[1, 'a'], [1, 'b'], [1, 'c'], [1, 'd'], [2, 'a'], [2, 'b'], [2, 'c'], [2, 'd'], [3, 'a'], [3, 'b'], [3, 'c'], [3, 'd']]\n"
     ]
    }
   ],
   "source": [
    "## nested list comprehensions\n",
    "lst1 = [1, 2, 3]\n",
    "lst2 = ['a', 'b', 'c', 'd']\n",
    "nested_list = [[x, y] for x in lst1 for y in lst2]\n",
    "print(nested_list)"
   ]
  },
  {
   "cell_type": "code",
   "execution_count": 37,
   "id": "de729a4f",
   "metadata": {},
   "outputs": [
    {
     "name": "stdout",
     "output_type": "stream",
     "text": [
      "[5, 5, 6, 11]\n"
     ]
    }
   ],
   "source": [
    "## list comprehensions with functions(will learn in functions section later)\n",
    "words= ['hello', 'world', 'python', 'programming']\n",
    "lengths = [len(word) for word in words]\n",
    "print(lengths)"
   ]
  },
  {
   "cell_type": "code",
   "execution_count": 3,
   "id": "252ee22e",
   "metadata": {},
   "outputs": [
    {
     "name": "stdout",
     "output_type": "stream",
     "text": [
      "['Hello', 'World', 'Python', 'Programming']\n",
      "['HELLO', 'WORLD', 'PYTHON', 'PROGRAMMING']\n",
      "['hello', 'world', 'python', 'programming']\n"
     ]
    }
   ],
   "source": [
    "words = ['hello', 'world', 'python', 'programming']\n",
    "capitalize = [word.capitalize() for word in words]\n",
    "print(capitalize)\n",
    "upperCase = [word.upper() for word in words]\n",
    "print(upperCase)\n",
    "lowerCase = [word.lower() for word in words]\n",
    "print(lowerCase)"
   ]
  },
  {
   "cell_type": "code",
   "execution_count": 1,
   "id": "b038f646",
   "metadata": {},
   "outputs": [
    {
     "name": "stdout",
     "output_type": "stream",
     "text": [
      "[1, 3, 5, 7, 9]\n"
     ]
    }
   ],
   "source": [
    "odd=[x for x in range(10) if x%2!=0]\n",
    "print(odd)"
   ]
  },
  {
   "cell_type": "markdown",
   "id": "8c064055",
   "metadata": {},
   "source": [
    "* Conclusion\n",
    "* Lists are mutable, ordered, and can contain elements of different data types\n",
    "* Lists can be accessed, modified, and manipulated using various methods and operations\n",
    "* List comprehensions provide a concise way to create lists based on existing lists or other iterable objects\n",
    "* Nested list comprehensions can be used to create lists of lists\n",
    "* Lists can be iterated over using loops and comprehensions\n",
    "* Lists can be used to store and manipulate collections of data efficiently"
   ]
  },
  {
   "cell_type": "markdown",
   "id": "2eac2c58",
   "metadata": {},
   "source": [
    "#### Real World use cases of list"
   ]
  },
  {
   "cell_type": "markdown",
   "id": "4dad8529",
   "metadata": {},
   "source": [
    "* Example 1. Manage a to do list\n",
    "* Create a to do list to keep track of tasks"
   ]
  },
  {
   "cell_type": "code",
   "execution_count": 4,
   "id": "dc49092d",
   "metadata": {},
   "outputs": [
    {
     "name": "stdout",
     "output_type": "stream",
     "text": [
      "Don't forget to clean the house!\n",
      "To Do List Remaining\n",
      "- Clean the house\n",
      "- Study DSA\n",
      "- Intern Meeting\n",
      "- Go for a walk\n"
     ]
    }
   ],
   "source": [
    "to_do_list=[\"Buy groceries\", \"Clean the house\",\"Study DSA\"]\n",
    "# Adding a new task\n",
    "to_do_list.append(\"Intern Meeting\")\n",
    "to_do_list.append(\"Go for a walk\")\n",
    "# Removing completed tasks\n",
    "to_do_list.remove(\"Buy groceries\")\n",
    "# checking if a task is in the list\n",
    "if \"Clean the house\" in to_do_list:\n",
    "    print(\"Don't forget to clean the house!\")\n",
    "print(\"To Do List Remaining\")\n",
    "for task in to_do_list:\n",
    "    print(f\"- {task}\")"
   ]
  },
  {
   "cell_type": "markdown",
   "id": "e6996e8d",
   "metadata": {},
   "source": [
    "#### Example 2. Organizing Student Grades\n",
    "* Create a list to store and calculate average grades for students"
   ]
  },
  {
   "cell_type": "code",
   "execution_count": 1,
   "id": "c62907fc",
   "metadata": {},
   "outputs": [
    {
     "name": "stdout",
     "output_type": "stream",
     "text": [
      "Average grade: 88.00\n",
      "Highest grade: 95\n",
      "Lowest grade: 78\n"
     ]
    }
   ],
   "source": [
    "# Organizing student grades\n",
    "grades=[85, 92, 78, 90, 88]\n",
    "# Adding a new grade\n",
    "grades.append(95)\n",
    "#calculating the average grade\n",
    "average_grade = sum(grades) / len(grades)\n",
    "print(f\"Average grade: {average_grade:.2f}\")\n",
    "# Finding the highest and lowest grades\n",
    "highest_grade = max(grades)\n",
    "lowest_grade = min(grades)\n",
    "print(f\"Highest grade: {highest_grade}\")\n",
    "print(f\"Lowest grade: {lowest_grade}\")"
   ]
  },
  {
   "cell_type": "markdown",
   "id": "93fe545b",
   "metadata": {},
   "source": [
    "#### Example 3: Managing An Inventory\n",
    "* Use a list to manage inventory items in a store"
   ]
  },
  {
   "cell_type": "code",
   "execution_count": 4,
   "id": "ceb0b2b4",
   "metadata": {},
   "outputs": [
    {
     "name": "stdout",
     "output_type": "stream",
     "text": [
      "['Apples', 'Oranges', 'Grapes']\n",
      "Oranges is available in stock.\n",
      "Current Inventory:\n",
      "- Apples\n",
      "- Oranges\n",
      "- Grapes\n"
     ]
    }
   ],
   "source": [
    "# managing an inventory\n",
    "inventory = [\"Apples\", \"Bananas\", \"Oranges\"]\n",
    "# Adding a new item\n",
    "inventory.append('Grapes')\n",
    "# Removing an item that is out of stock\n",
    "if 'Bananas' in inventory:\n",
    "    inventory.remove('Bananas')\n",
    "print(inventory)\n",
    "# checking if an item is in the stock\n",
    "item='Oranges'\n",
    "if item in inventory:\n",
    "    print(f\"{item} is available in stock.\")\n",
    "else:\n",
    "    print(f\"{item} is not available in stock.\")\n",
    "# Displaying the current inventory\n",
    "print(\"Current Inventory:\")\n",
    "for item in inventory:\n",
    "    print(f\"- {item}\")"
   ]
  },
  {
   "cell_type": "markdown",
   "id": "f4379f49",
   "metadata": {},
   "source": [
    "#### Example 4: Collecting User Feedback\n",
    "* Use a list to collect and analyze user feedback."
   ]
  },
  {
   "cell_type": "code",
   "execution_count": 1,
   "id": "f729506a",
   "metadata": {},
   "outputs": [
    {
     "name": "stdout",
     "output_type": "stream",
     "text": [
      "Number of positive feedbacks: 2\n",
      "User Feedback:\n",
      "- Great product!\n",
      "- Needs improvement\n",
      "- Excellent service\n",
      "- Very user-friendly\n"
     ]
    }
   ],
   "source": [
    "# Collecting user feedback\n",
    "feedback = ['Great product!', 'Needs improvement', 'Excellent service']\n",
    "\n",
    "# Adding new feedback\n",
    "feedback.append('Very user-friendly')\n",
    "\n",
    "# Counting specific feedback\n",
    "positive_feedback_count = sum(1 for f in feedback if 'great' in f.lower() or 'excellent' in f.lower() or 'good' in f.lower())\n",
    "print(f\"Number of positive feedbacks: {positive_feedback_count}\")\n",
    "\n",
    "# Displaying all feedback\n",
    "print(\"User Feedback:\")\n",
    "for f in feedback:\n",
    "    print(f\"- {f}\")"
   ]
  },
  {
   "cell_type": "markdown",
   "id": "5d6b43a7",
   "metadata": {},
   "source": []
  }
 ],
 "metadata": {
  "kernelspec": {
   "display_name": "Python 3",
   "language": "python",
   "name": "python3"
  },
  "language_info": {
   "codemirror_mode": {
    "name": "ipython",
    "version": 3
   },
   "file_extension": ".py",
   "mimetype": "text/x-python",
   "name": "python",
   "nbconvert_exporter": "python",
   "pygments_lexer": "ipython3",
   "version": "3.13.5"
  }
 },
 "nbformat": 4,
 "nbformat_minor": 5
}
