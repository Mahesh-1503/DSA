{
 "cells": [
  {
   "cell_type": "markdown",
   "id": "b433e587",
   "metadata": {
    "id": "b433e587"
   },
   "source": [
    "#### List CRUD operations"
   ]
  },
  {
   "cell_type": "markdown",
   "id": "7b43ec14",
   "metadata": {
    "id": "7b43ec14"
   },
   "source": [
    "1. Create a Python List"
   ]
  },
  {
   "cell_type": "code",
   "execution_count": 1,
   "id": "802298f3",
   "metadata": {
    "id": "802298f3",
    "outputId": "a524d73b-66f3-4ac1-da00-da78c2c87a45"
   },
   "outputs": [
    {
     "name": "stdout",
     "output_type": "stream",
     "text": [
      "[24, 25, 26, 27, 28, 29, 30]\n"
     ]
    }
   ],
   "source": [
    "## Integer List Example\n",
    "myList=[24, 25, 26, 27, 28, 29, 30]\n",
    "print(myList)"
   ]
  },
  {
   "cell_type": "code",
   "execution_count": 2,
   "id": "83783da8",
   "metadata": {
    "id": "83783da8",
    "outputId": "3f44ee7a-8062-4aca-d4b0-b9177902f181"
   },
   "outputs": [
    {
     "name": "stdout",
     "output_type": "stream",
     "text": [
      "['Dilli', 'Rolex', 'Rocky']\n"
     ]
    }
   ],
   "source": [
    "## String List Example\n",
    "myList2=[\"Dilli\", \"Rolex\",\"Rocky\"]\n",
    "print(myList2)"
   ]
  },
  {
   "cell_type": "code",
   "execution_count": 3,
   "id": "985bf6af",
   "metadata": {
    "id": "985bf6af",
    "outputId": "41a15683-7bf3-44f6-835d-ad273309fb50"
   },
   "outputs": [
    {
     "name": "stdout",
     "output_type": "stream",
     "text": [
      "[1, 'Dilli', 2.5, True]\n"
     ]
    }
   ],
   "source": [
    "## List with Mixed Types\n",
    "myList3=[1, \"Dilli\", 2.5, True]\n",
    "print(myList3)"
   ]
  },
  {
   "cell_type": "markdown",
   "id": "065b227f",
   "metadata": {
    "id": "065b227f"
   },
   "source": [
    "2. Access Values From A List"
   ]
  },
  {
   "cell_type": "code",
   "execution_count": 4,
   "id": "19459dc4",
   "metadata": {
    "id": "19459dc4",
    "outputId": "a1a194ad-912f-436f-e16e-76d7b3a1ef2a"
   },
   "outputs": [
    {
     "name": "stdout",
     "output_type": "stream",
     "text": [
      "Nathan\n",
      "Dilli\n",
      "Rolex\n",
      "Rocky\n",
      "----------------------\n",
      "Rocky\n",
      "Rolex\n",
      "Dilli\n",
      "Nathan\n"
     ]
    }
   ],
   "source": [
    "myList=[\"Nathan\", \"Dilli\", \"Rolex\", \"Rocky\"]\n",
    "print(myList[0])  # Accessing the first element\n",
    "print(myList[1])  # Accessing the second element\n",
    "print(myList[2])  # Accessing the third element\n",
    "print(myList[3])  # Accessing the fourth element\n",
    "## Accessing the last element\n",
    "print(\"----------------------\")\n",
    "print(myList[-1])  # Accessing the last element\n",
    "print(myList[-2])  # Accessing the second last element\n",
    "print(myList[-3])  # Accessing the third last element\n",
    "print(myList[-4])  # Accessing the fourth last element"
   ]
  },
  {
   "cell_type": "markdown",
   "id": "1837a6f4",
   "metadata": {
    "id": "1837a6f4"
   },
   "source": [
    "3. Update a List value"
   ]
  },
  {
   "cell_type": "code",
   "execution_count": 5,
   "id": "8970b4c9",
   "metadata": {
    "id": "8970b4c9",
    "outputId": "c54c5d3d-3c27-4203-ff49-539809cbed34"
   },
   "outputs": [
    {
     "name": "stdout",
     "output_type": "stream",
     "text": [
      "['Updated Name', 'Dilli', 'Rolex', 'Rocky']\n"
     ]
    }
   ],
   "source": [
    "myList=[\"Nathan\", \"Dilli\", \"Rolex\", \"Rocky\"]\n",
    "## Update a List value\n",
    "myList[0] = \"Updated Name\"  # Update the first element\n",
    "print(myList)"
   ]
  },
  {
   "cell_type": "markdown",
   "id": "d7ae565d",
   "metadata": {
    "id": "d7ae565d"
   },
   "source": [
    "4. Remove a List value"
   ]
  },
  {
   "cell_type": "code",
   "execution_count": 6,
   "id": "08e20ab5",
   "metadata": {
    "id": "08e20ab5",
    "outputId": "2ad0948d-1b11-4d40-e966-eea99dda0063"
   },
   "outputs": [
    {
     "name": "stdout",
     "output_type": "stream",
     "text": [
      "['Nathan', 'Dilli', 'Rocky']\n"
     ]
    }
   ],
   "source": [
    "myList=[\"Nathan\", \"Dilli\", \"Rolex\", \"Rocky\"]\n",
    "## Remove a List value\n",
    "myList.remove(\"Rolex\")  # Remove the element \"Rolex\"\n",
    "print(myList)"
   ]
  },
  {
   "cell_type": "markdown",
   "id": "e0e421c0",
   "metadata": {
    "id": "e0e421c0"
   },
   "source": [
    "5. Delete a List value"
   ]
  },
  {
   "cell_type": "code",
   "execution_count": 7,
   "id": "f31e90e2",
   "metadata": {
    "id": "f31e90e2",
    "outputId": "220f0c96-ef25-4462-a63a-811f9b8a627c"
   },
   "outputs": [
    {
     "name": "stdout",
     "output_type": "stream",
     "text": [
      "['Nathan', 'Rolex', 'Rocky']\n"
     ]
    }
   ],
   "source": [
    "myList=[\"Nathan\", \"Dilli\", \"Rolex\", \"Rocky\"]\n",
    "del myList[1]  # Delete the second element\n",
    "print(myList)  # Output: ['Nathan', 'Rolex', 'Rocky']"
   ]
  },
  {
   "cell_type": "markdown",
   "id": "884020a1",
   "metadata": {
    "id": "884020a1"
   },
   "source": [
    "6. Remove all the elements from the list"
   ]
  },
  {
   "cell_type": "code",
   "execution_count": 8,
   "id": "36c74ce4",
   "metadata": {
    "id": "36c74ce4",
    "outputId": "eb2b19a0-c5bf-4c3d-ebd7-ef885e60c974"
   },
   "outputs": [
    {
     "name": "stdout",
     "output_type": "stream",
     "text": [
      "Before Clearing: ['Nathan', 'Dilli', 'Rolex', 'Rocky']\n",
      "After Clearing: []\n"
     ]
    }
   ],
   "source": [
    "myList=[\"Nathan\", \"Dilli\", \"Rolex\", \"Rocky\"]\n",
    "print(f\"Before Clearing: {myList}\")\n",
    "myList.clear()  # Remove all elements from the list\n",
    "print(f\"After Clearing: {myList}\")  # Output: []"
   ]
  },
  {
   "cell_type": "markdown",
   "id": "3037e8be",
   "metadata": {
    "id": "3037e8be"
   },
   "source": [
    "7. Remove and return elements"
   ]
  },
  {
   "cell_type": "code",
   "execution_count": 9,
   "id": "e8edcc8a",
   "metadata": {
    "colab": {
     "base_uri": "https://localhost:8080/"
    },
    "executionInfo": {
     "elapsed": 40,
     "status": "ok",
     "timestamp": 1754247650370,
     "user": {
      "displayName": "Mahesh Kumar Pothu",
      "userId": "17719119500442372518"
     },
     "user_tz": -330
    },
    "id": "e8edcc8a",
    "outputId": "05fa7ec7-0a76-454d-dc22-d5cef2e96a73"
   },
   "outputs": [
    {
     "name": "stdout",
     "output_type": "stream",
     "text": [
      "Rocky\n",
      "['Nathan', 'Dilli', 'Rolex']\n",
      "Sagar\n",
      "['Stalin', 'Ravi']\n"
     ]
    }
   ],
   "source": [
    "myList=[\"Nathan\", \"Dilli\", \"Rolex\", \"Rocky\"]\n",
    "myList2=[\"Stalin\", \"Sagar\", \"Ravi\"]\n",
    "print(myList.pop())  # Remove and return the last element\n",
    "print(myList)  # Output: ['Nathan', 'Dilli', 'Rolex']\n",
    "print(myList2.pop(1))  # Remove and return the element at index 1\n",
    "print(myList2)  # Output: ['Stalin', 'Ravi']"
   ]
  },
  {
   "cell_type": "markdown",
   "id": "79eecd89",
   "metadata": {
    "id": "79eecd89"
   },
   "source": [
    "8. Remove multiple elements from a list"
   ]
  },
  {
   "cell_type": "code",
   "execution_count": 10,
   "id": "3d21b0ad",
   "metadata": {
    "id": "3d21b0ad",
    "outputId": "92105d58-304c-49b6-d313-5d6e3a882a05"
   },
   "outputs": [
    {
     "name": "stdout",
     "output_type": "stream",
     "text": [
      "Before Deletion:\n",
      "['Dilli', 'Rolex', 'Rocky', 'Muthu', 'Sagar']\n",
      "After Deletion:\n",
      "['Dilli', 'Muthu', 'Sagar']\n"
     ]
    }
   ],
   "source": [
    "myList=[\"Dilli\", \"Rolex\", \"Rocky\", \"Muthu\", \"Sagar\"]\n",
    "print(f\"Before Deletion:\\n{myList}\")\n",
    "del myList[1:3]  # Remove elements from index 1 to 2\n",
    "print(f\"After Deletion:\\n{myList}\")  # Output: ['Dilli', 'Muthu', 'Sagar']"
   ]
  },
  {
   "cell_type": "markdown",
   "id": "c5969c15",
   "metadata": {
    "id": "c5969c15"
   },
   "source": [
    "#### List Slicing"
   ]
  },
  {
   "cell_type": "markdown",
   "id": "71169f6c",
   "metadata": {
    "id": "71169f6c"
   },
   "source": [
    "1. Slicing"
   ]
  },
  {
   "cell_type": "code",
   "execution_count": 11,
   "id": "b5afebb5",
   "metadata": {
    "id": "b5afebb5",
    "outputId": "fb3b225c-9b66-472a-960e-b8178a4c77d7"
   },
   "outputs": [
    {
     "name": "stdout",
     "output_type": "stream",
     "text": [
      "Original List: ['Dilli', 'Rolex', 'Rocky', 'Muthu', 'Sagar']\n",
      "slice 1:3->['Rolex', 'Rocky']\n",
      "slice 0:4->['Dilli', 'Rolex', 'Rocky', 'Muthu']\n",
      "slice 2:->['Rocky', 'Muthu', 'Sagar']\n"
     ]
    }
   ],
   "source": [
    "myList=[\"Dilli\", \"Rolex\", \"Rocky\", \"Muthu\", \"Sagar\"]\n",
    "print(f\"Original List: {myList}\")\n",
    "print(f\"slice 1:3->{myList[1:3]}\")  # Output: ['Rolex', 'Rocky']\n",
    "print(f\"slice 0:4->{myList[0:4]}\")  # Output: ['Dilli', 'Rolex', 'Rocky', 'Muthu']\n",
    "print(f\"slice 2:->{myList[2:]}\")  # Output: ['Rocky', 'Muthu', 'Sagar']"
   ]
  },
  {
   "cell_type": "markdown",
   "id": "c2163ed7",
   "metadata": {
    "id": "c2163ed7"
   },
   "source": [
    "2. Iterate Through The List"
   ]
  },
  {
   "cell_type": "code",
   "execution_count": 12,
   "id": "e4d39826",
   "metadata": {
    "id": "e4d39826",
    "outputId": "a1de27e2-2efc-4cf9-d776-fe7d0936fe54"
   },
   "outputs": [
    {
     "name": "stdout",
     "output_type": "stream",
     "text": [
      "Original List: ['Dilli', 'Rolex', 'Rocky', 'Muthu', 'Sagar']\n",
      "- Dilli\n",
      "- Rolex\n",
      "- Rocky\n",
      "- Muthu\n",
      "- Sagar\n"
     ]
    }
   ],
   "source": [
    "myList=[\"Dilli\", \"Rolex\", \"Rocky\", \"Muthu\", \"Sagar\"]\n",
    "print(f\"Original List: {myList}\")\n",
    "for i in myList:\n",
    "    print(\"-\",i)"
   ]
  },
  {
   "cell_type": "markdown",
   "id": "8e398e85",
   "metadata": {
    "id": "8e398e85"
   },
   "source": [
    "3. Add elements to the list"
   ]
  },
  {
   "cell_type": "code",
   "execution_count": 13,
   "id": "556a2499",
   "metadata": {
    "id": "556a2499",
    "outputId": "e5cfabef-9d7e-48ab-fb2d-a7eba76545eb"
   },
   "outputs": [
    {
     "name": "stdout",
     "output_type": "stream",
     "text": [
      "Original List: ['Dilli', 'Rolex', 'Rocky']\n",
      "After Append: ['Dilli', 'Rolex', 'Rocky', 'Muthu']\n"
     ]
    }
   ],
   "source": [
    "myList=[\"Dilli\", \"Rolex\", \"Rocky\"]\n",
    "print(f\"Original List: {myList}\")\n",
    "myList.append(\"Muthu\")  # Add \"Muthu\" to the end of the list\n",
    "print(f\"After Append: {myList}\")  # Output: ['Dilli', 'Rolex', 'Rocky', 'Muthu']"
   ]
  },
  {
   "cell_type": "markdown",
   "id": "016422ab",
   "metadata": {
    "id": "016422ab"
   },
   "source": [
    "4. Insert elements to the list at a specific position(index)"
   ]
  },
  {
   "cell_type": "code",
   "execution_count": 14,
   "id": "93e99df1",
   "metadata": {
    "id": "93e99df1",
    "outputId": "0782360d-839d-44b9-8384-28d29d7aa130"
   },
   "outputs": [
    {
     "name": "stdout",
     "output_type": "stream",
     "text": [
      "Original List: ['Dilli', 'Rolex', 'Rocky']\n",
      "After Insert: ['Dilli', 'Muthu', 'Rolex', 'Rocky']\n"
     ]
    }
   ],
   "source": [
    "myList=[\"Dilli\", \"Rolex\", \"Rocky\"]\n",
    "print(f\"Original List: {myList}\")\n",
    "myList.insert(1, \"Muthu\")\n",
    "print(f\"After Insert: {myList}\")\n",
    "myList.insert(2, \"Mahesh\")"
   ]
  },
  {
   "cell_type": "markdown",
   "id": "11f9c2bd",
   "metadata": {
    "id": "11f9c2bd"
   },
   "source": [
    "5. Check if a specific element exists in the list"
   ]
  },
  {
   "cell_type": "code",
   "execution_count": 15,
   "id": "77647937",
   "metadata": {
    "id": "77647937",
    "outputId": "2b346640-6a26-419e-f8a3-7ce4b925f203"
   },
   "outputs": [
    {
     "name": "stdout",
     "output_type": "stream",
     "text": [
      "Original List: ['Dilli', 'Rolex', 'Rocky', 'Muthu']\n",
      "Muthu is in the list\n",
      "Sagar is not in the list\n"
     ]
    }
   ],
   "source": [
    "myList=[\"Dilli\", \"Rolex\", \"Rocky\", \"Muthu\"]\n",
    "print(f\"Original List: {myList}\")\n",
    "if \"Muthu\" in myList:\n",
    "    print(\"Muthu is in the list\")\n",
    "if \"Sagar\" not in myList:\n",
    "    print(\"Sagar is not in the list\")"
   ]
  },
  {
   "cell_type": "markdown",
   "id": "5226843a",
   "metadata": {
    "id": "5226843a"
   },
   "source": [
    "6. Find the length of the list"
   ]
  },
  {
   "cell_type": "code",
   "execution_count": 16,
   "id": "35c06895",
   "metadata": {
    "id": "35c06895",
    "outputId": "f71e2eb6-9251-4f31-aa79-034c8c09b0bd"
   },
   "outputs": [
    {
     "name": "stdout",
     "output_type": "stream",
     "text": [
      "4\n"
     ]
    }
   ],
   "source": [
    "print(len(myList))  # Output: 4"
   ]
  },
  {
   "cell_type": "markdown",
   "id": "09de2d06",
   "metadata": {
    "id": "09de2d06"
   },
   "source": [
    "8. Find Index of element"
   ]
  },
  {
   "cell_type": "code",
   "execution_count": 17,
   "id": "02139a67",
   "metadata": {
    "id": "02139a67",
    "outputId": "4432a919-2e39-4e30-bd7a-9841a696c52c"
   },
   "outputs": [
    {
     "name": "stdout",
     "output_type": "stream",
     "text": [
      "3\n"
     ]
    }
   ],
   "source": [
    "print(myList.index(\"Muthu\"))  # Output: 3"
   ]
  },
  {
   "cell_type": "markdown",
   "id": "ff5741f6",
   "metadata": {
    "id": "ff5741f6"
   },
   "source": [
    "9. Extend the list by adding another list to the end"
   ]
  },
  {
   "cell_type": "code",
   "execution_count": 18,
   "id": "463c3816",
   "metadata": {
    "id": "463c3816",
    "outputId": "388f774e-658f-4ab6-9924-3d0e2bfb7abd"
   },
   "outputs": [
    {
     "name": "stdout",
     "output_type": "stream",
     "text": [
      "List 1: [10, 20, 30, 40]\n",
      "List 2: [50, 60, 70, 80]\n",
      "Extended List:\n",
      "[10, 20, 30, 40, 50, 60, 70, 80]\n"
     ]
    }
   ],
   "source": [
    "myList1=[10, 20, 30, 40]\n",
    "myList2=[50, 60, 70, 80]\n",
    "print(f\"List 1: {myList1}\\nList 2: {myList2}\")\n",
    "extendedList=myList1.extend(myList2)  # Extend myList1 by adding elements from myList2\n",
    "print(f\"Extended List:\\n{myList1}\")"
   ]
  },
  {
   "cell_type": "markdown",
   "id": "ec9ea8b7",
   "metadata": {
    "id": "ec9ea8b7"
   },
   "source": [
    "10. Get maximum and minimum values from the list"
   ]
  },
  {
   "cell_type": "code",
   "execution_count": 19,
   "id": "baeb30f1",
   "metadata": {
    "id": "baeb30f1",
    "outputId": "c1536276-0d8d-49bb-f332-a92b75913605"
   },
   "outputs": [
    {
     "name": "stdout",
     "output_type": "stream",
     "text": [
      "Minimum Value: 10\n",
      "Maximum Value: 80\n"
     ]
    }
   ],
   "source": [
    "myList=[10, 20, 30, 40, 50, 60, 70, 80]\n",
    "minimunValue=min(myList)\n",
    "maximumValue=max(myList)\n",
    "print(f\"Minimum Value: {minimunValue}\")  # Output: 10\n",
    "print(f\"Maximum Value: {maximumValue}\")  # Output: 80"
   ]
  },
  {
   "cell_type": "markdown",
   "id": "fac69a95",
   "metadata": {
    "id": "fac69a95"
   },
   "source": [
    "11. Make a copy of the entire list"
   ]
  },
  {
   "cell_type": "code",
   "execution_count": 20,
   "id": "211e5c70",
   "metadata": {
    "id": "211e5c70",
    "outputId": "16c725ba-5284-4027-9272-17c9b732c90a"
   },
   "outputs": [
    {
     "name": "stdout",
     "output_type": "stream",
     "text": [
      "Original List: [10, 20, 30, 40, 50, 60, 70, 80]\n",
      "Copied List: [10, 20, 30, 40, 50, 60, 70, 80]\n",
      "Copied List is same as Original List: True\n",
      "Modified Copied List\n",
      "[100, 20, 30, 40, 50, 60, 70, 80]\n",
      "Original List remains unchanged [10, 20, 30, 40, 50, 60, 70, 80]\n"
     ]
    }
   ],
   "source": [
    "myList=[10, 20, 30, 40, 50, 60, 70, 80]\n",
    "print(f\"Original List: {myList}\")\n",
    "myList2=myList.copy()\n",
    "print(f\"Copied List: {myList2}\")\n",
    "print(f\"Copied List is same as Original List: {myList2 == myList}\")  # Output: True\n",
    "print(\"Modified Copied List\")\n",
    "myList2[0] = 100  # Modify the copied list\n",
    "print(myList2)\n",
    "print(\"Original List remains unchanged\",myList)"
   ]
  },
  {
   "cell_type": "markdown",
   "id": "a2e8cd7d",
   "metadata": {
    "id": "a2e8cd7d"
   },
   "source": [
    "12. Sort a list in python"
   ]
  },
  {
   "cell_type": "code",
   "execution_count": 21,
   "id": "1f3b3af3",
   "metadata": {
    "id": "1f3b3af3",
    "outputId": "f6a17dc8-216e-4e6e-fa3c-4adeef5db5d1"
   },
   "outputs": [
    {
     "name": "stdout",
     "output_type": "stream",
     "text": [
      "Original List: [80, 70, 60, 50, 40, 30, 20, 199, 10]\n",
      "Sorted List: [10, 20, 30, 40, 50, 60, 70, 80, 199]\n",
      "Sorted List in Descending Order: [199, 80, 70, 60, 50, 40, 30, 20, 10]\n"
     ]
    }
   ],
   "source": [
    "myList=[80, 70, 60, 50, 40, 30, 20, 199, 10]\n",
    "print(f\"Original List: {myList}\")\n",
    "myList.sort()  # Sort the list in ascending order\n",
    "print(f\"Sorted List: {myList}\")\n",
    "myList.sort(reverse=True)  # Sort the list in descending order\n",
    "print(f\"Sorted List in Descending Order: {myList}\")"
   ]
  },
  {
   "cell_type": "markdown",
   "id": "f1de40bb",
   "metadata": {
    "id": "f1de40bb"
   },
   "source": [
    "13. Reverse a list in python"
   ]
  },
  {
   "cell_type": "code",
   "execution_count": 22,
   "id": "e136a726",
   "metadata": {
    "id": "e136a726",
    "outputId": "000e2017-794b-4498-db00-c30b3193c44e"
   },
   "outputs": [
    {
     "name": "stdout",
     "output_type": "stream",
     "text": [
      "Original List: [80, 70, 60, 50, 40, 30, 20, 10, 44]\n",
      "Reversed List: [44, 10, 20, 30, 40, 50, 60, 70, 80]\n"
     ]
    }
   ],
   "source": [
    "myList=[80, 70, 60, 50, 40, 30, 20, 10, 44]\n",
    "print(f\"Original List: {myList}\")\n",
    "myList.reverse()  # Reverse the list\n",
    "print(f\"Reversed List: {myList}\")"
   ]
  },
  {
   "cell_type": "code",
   "execution_count": 23,
   "id": "OKFDqsarByW5",
   "metadata": {
    "colab": {
     "base_uri": "https://localhost:8080/"
    },
    "executionInfo": {
     "elapsed": 22,
     "status": "ok",
     "timestamp": 1754377190579,
     "user": {
      "displayName": "Mahesh Kumar Pothu",
      "userId": "17719119500442372518"
     },
     "user_tz": -330
    },
    "id": "OKFDqsarByW5",
    "outputId": "ab97bcda-a298-436f-f1fc-e7b817489c4e"
   },
   "outputs": [
    {
     "name": "stdout",
     "output_type": "stream",
     "text": [
      "mahesh\n"
     ]
    }
   ],
   "source": [
    "print(\"mahesh\")"
   ]
  },
  {
   "cell_type": "code",
   "execution_count": 24,
   "id": "mZf5C7w_BtXI",
   "metadata": {
    "colab": {
     "base_uri": "https://localhost:8080/"
    },
    "executionInfo": {
     "elapsed": 56,
     "status": "ok",
     "timestamp": 1754377466877,
     "user": {
      "displayName": "Mahesh Kumar Pothu",
      "userId": "17719119500442372518"
     },
     "user_tz": -330
    },
    "id": "mZf5C7w_BtXI",
    "outputId": "c7e5c842-a517-48be-c784-aae7af579c23"
   },
   "outputs": [
    {
     "name": "stdout",
     "output_type": "stream",
     "text": [
      "Original List: [80, 70, 60, 50, 40, 30, 20, 10, 44]\n",
      "Reversed List: [44, 10, 20, 30, 40, 50, 60, 70, 80]\n"
     ]
    }
   ],
   "source": [
    "mahesh=[80, 70, 60, 50, 40, 30, 20, 10, 44]\n",
    "print(f\"Original List: {mahesh}\")\n",
    "mahesh.reverse()  # Reverse the list\n",
    "print(f\"Reversed List: {mahesh}\")"
   ]
  },
  {
   "cell_type": "markdown",
   "id": "TMNeM7_JDSVP",
   "metadata": {
    "id": "TMNeM7_JDSVP"
   },
   "source": [
    "## List Exercise from GeeksForGeeks\n",
    "1. List Operations"
   ]
  },
  {
   "cell_type": "code",
   "execution_count": 25,
   "id": "ChUq43wNDtqZ",
   "metadata": {
    "colab": {
     "base_uri": "https://localhost:8080/"
    },
    "executionInfo": {
     "elapsed": 15,
     "status": "ok",
     "timestamp": 1754377786101,
     "user": {
      "displayName": "Mahesh Kumar Pothu",
      "userId": "17719119500442372518"
     },
     "user_tz": -330
    },
    "id": "ChUq43wNDtqZ",
    "outputId": "1f82015e-d03e-4d35-df79-7b7edc262e8f"
   },
   "outputs": [
    {
     "name": "stdout",
     "output_type": "stream",
     "text": [
      "10\n",
      "50\n"
     ]
    }
   ],
   "source": [
    "a=[10, 20, 30, 40, 50]\n",
    "# Access 1st element\n",
    "print(a[0])\n",
    "# Access last element\n",
    "print(a[-1])"
   ]
  },
  {
   "cell_type": "markdown",
   "id": "biOGDz09EP6m",
   "metadata": {
    "id": "biOGDz09EP6m"
   },
   "source": [
    "2. Using List Comprehension"
   ]
  },
  {
   "cell_type": "code",
   "execution_count": 26,
   "id": "R64cHQ-QEKI2",
   "metadata": {
    "colab": {
     "base_uri": "https://localhost:8080/"
    },
    "executionInfo": {
     "elapsed": 37,
     "status": "ok",
     "timestamp": 1754378129590,
     "user": {
      "displayName": "Mahesh Kumar Pothu",
      "userId": "17719119500442372518"
     },
     "user_tz": -330
    },
    "id": "R64cHQ-QEKI2",
    "outputId": "ce07e6e7-e629-4ae0-fb47-c52abb35d5b6"
   },
   "outputs": [
    {
     "name": "stdout",
     "output_type": "stream",
     "text": [
      "[30, 40, 50]\n"
     ]
    }
   ],
   "source": [
    "a=[10, 20, 30, 40, 50]\n",
    "# Create a new list wuth items greater than 20\n",
    "b=[item for item in a if item>20]\n",
    "print(b)"
   ]
  },
  {
   "cell_type": "markdown",
   "id": "4QyKDl90Fc7t",
   "metadata": {
    "id": "4QyKDl90Fc7t"
   },
   "source": [
    "3. Using List Slicing"
   ]
  },
  {
   "cell_type": "code",
   "execution_count": 27,
   "id": "1xicYZiMFzUF",
   "metadata": {
    "colab": {
     "base_uri": "https://localhost:8080/"
    },
    "executionInfo": {
     "elapsed": 37,
     "status": "ok",
     "timestamp": 1754378294891,
     "user": {
      "displayName": "Mahesh Kumar Pothu",
      "userId": "17719119500442372518"
     },
     "user_tz": -330
    },
    "id": "1xicYZiMFzUF",
    "outputId": "dc9c7168-2d6b-4fab-cc1e-7207a8ce3883"
   },
   "outputs": [
    {
     "name": "stdout",
     "output_type": "stream",
     "text": [
      "[20, 30, 40]\n"
     ]
    }
   ],
   "source": [
    "a=[10, 20, 30, 40, 50]\n",
    "# slice from index 1 to 3\n",
    "print(a[1:4]) # 1 inclusive, 4 Exclusive"
   ]
  },
  {
   "cell_type": "markdown",
   "id": "fvfLb4RDGFSg",
   "metadata": {
    "id": "fvfLb4RDGFSg"
   },
   "source": [
    "4. Using Looop\n",
    "  - To access all the elements"
   ]
  },
  {
   "cell_type": "code",
   "execution_count": 28,
   "id": "02K4YnZ1GqYz",
   "metadata": {
    "colab": {
     "base_uri": "https://localhost:8080/"
    },
    "executionInfo": {
     "elapsed": 51,
     "status": "ok",
     "timestamp": 1754378490780,
     "user": {
      "displayName": "Mahesh Kumar Pothu",
      "userId": "17719119500442372518"
     },
     "user_tz": -330
    },
    "id": "02K4YnZ1GqYz",
    "outputId": "98d6029e-5c40-4847-8e17-1b6203f29d59"
   },
   "outputs": [
    {
     "name": "stdout",
     "output_type": "stream",
     "text": [
      "10\n",
      "20\n",
      "30\n",
      "40\n",
      "50\n"
     ]
    }
   ],
   "source": [
    "a=[10, 20, 30, 40, 50]\n",
    "for item in a:\n",
    "  print(item)"
   ]
  },
  {
   "cell_type": "markdown",
   "id": "0mLjVw7AG1HB",
   "metadata": {
    "id": "0mLjVw7AG1HB"
   },
   "source": [
    "#### Changing List Items"
   ]
  },
  {
   "cell_type": "markdown",
   "id": "ZbXdbsjqHXZi",
   "metadata": {
    "id": "ZbXdbsjqHXZi"
   },
   "source": [
    "1. Using Indexing"
   ]
  },
  {
   "cell_type": "code",
   "execution_count": 29,
   "id": "e36bymbGHl_F",
   "metadata": {
    "colab": {
     "base_uri": "https://localhost:8080/"
    },
    "executionInfo": {
     "elapsed": 39,
     "status": "ok",
     "timestamp": 1754378811459,
     "user": {
      "displayName": "Mahesh Kumar Pothu",
      "userId": "17719119500442372518"
     },
     "user_tz": -330
    },
    "id": "e36bymbGHl_F",
    "outputId": "81d0810f-02e1-48d6-bcfd-daadf0c053aa"
   },
   "outputs": [
    {
     "name": "stdout",
     "output_type": "stream",
     "text": [
      "[10, 20, 30, 40, 50]\n",
      "[10, 25, 30, 40, 50]\n"
     ]
    }
   ],
   "source": [
    "a=[10, 20, 30, 40, 50]\n",
    "print(a)\n",
    "# change the list item at index 1\n",
    "a[1]=25\n",
    "print(a)"
   ]
  },
  {
   "cell_type": "markdown",
   "id": "UmGkDZb5IDaH",
   "metadata": {
    "id": "UmGkDZb5IDaH"
   },
   "source": [
    "2. Using Slicing for Multiple Items"
   ]
  },
  {
   "cell_type": "code",
   "execution_count": 30,
   "id": "AulVibOjIZO6",
   "metadata": {
    "colab": {
     "base_uri": "https://localhost:8080/"
    },
    "executionInfo": {
     "elapsed": 31,
     "status": "ok",
     "timestamp": 1754379067893,
     "user": {
      "displayName": "Mahesh Kumar Pothu",
      "userId": "17719119500442372518"
     },
     "user_tz": -330
    },
    "id": "AulVibOjIZO6",
    "outputId": "0cada03f-bd03-4deb-d57c-207fe2842ac6"
   },
   "outputs": [
    {
     "name": "stdout",
     "output_type": "stream",
     "text": [
      "[10, 21, 31, 40, 50]\n"
     ]
    }
   ],
   "source": [
    "a=[10, 20, 30, 40, 50]\n",
    "# replacing items at indices 1 and 2\n",
    "a[1:3]=[21,31]\n",
    "print(a)"
   ]
  },
  {
   "cell_type": "markdown",
   "id": "7OUo-N-HJCA_",
   "metadata": {
    "id": "7OUo-N-HJCA_"
   },
   "source": [
    "3. Using List Comprehension\n",
    "  - simplest way to update list based on condition"
   ]
  },
  {
   "cell_type": "code",
   "execution_count": 31,
   "id": "EV4KJD5pJwf-",
   "metadata": {
    "colab": {
     "base_uri": "https://localhost:8080/"
    },
    "executionInfo": {
     "elapsed": 38,
     "status": "ok",
     "timestamp": 1754384418003,
     "user": {
      "displayName": "Mahesh Kumar Pothu",
      "userId": "17719119500442372518"
     },
     "user_tz": -330
    },
    "id": "EV4KJD5pJwf-",
    "outputId": "5c298c33-75c0-44a0-9c6a-fac2f5315d4f"
   },
   "outputs": [
    {
     "name": "stdout",
     "output_type": "stream",
     "text": [
      "[20, 15, 40, 25]\n"
     ]
    }
   ],
   "source": [
    "a=[10, 15, 20, 25]\n",
    "# Double even unmber\n",
    "a=[x*2 if x%2==0 else x for x in a]\n",
    "print(a)"
   ]
  },
  {
   "cell_type": "markdown",
   "id": "MGsOyE5zKAFZ",
   "metadata": {
    "id": "MGsOyE5zKAFZ"
   },
   "source": [
    "4. Using loop with enumerate\n",
    "  - enumerate() allows us to iterate through the list while keeping track of indices"
   ]
  },
  {
   "cell_type": "code",
   "execution_count": 32,
   "id": "vzK4oNdmZ8Vp",
   "metadata": {
    "colab": {
     "base_uri": "https://localhost:8080/"
    },
    "executionInfo": {
     "elapsed": 33,
     "status": "ok",
     "timestamp": 1754383640624,
     "user": {
      "displayName": "Mahesh Kumar Pothu",
      "userId": "17719119500442372518"
     },
     "user_tz": -330
    },
    "id": "vzK4oNdmZ8Vp",
    "outputId": "7289adbf-0003-4428-a4c9-b74cf7d869d9"
   },
   "outputs": [
    {
     "name": "stdout",
     "output_type": "stream",
     "text": [
      "[10, 20, 20, 30]\n"
     ]
    }
   ],
   "source": [
    "a=[10, 15, 20, 25]\n",
    "# Adding 5 to odd numbers\n",
    "for i,x in enumerate(a):\n",
    "  if x % 2!=0:\n",
    "    a[i]+=5\n",
    "print(a)"
   ]
  },
  {
   "cell_type": "markdown",
   "id": "XZ745fIAacye",
   "metadata": {
    "id": "XZ745fIAacye"
   },
   "source": [
    "5. Using map()\n",
    "  - The map() function can be used for functional-style updates by applying a function to each element. We use map() to apply the function and convert the result back to a list."
   ]
  },
  {
   "cell_type": "code",
   "execution_count": 33,
   "id": "2GpV7PmBbLOO",
   "metadata": {
    "colab": {
     "base_uri": "https://localhost:8080/"
    },
    "executionInfo": {
     "elapsed": 57,
     "status": "ok",
     "timestamp": 1754383916483,
     "user": {
      "displayName": "Mahesh Kumar Pothu",
      "userId": "17719119500442372518"
     },
     "user_tz": -330
    },
    "id": "2GpV7PmBbLOO",
    "outputId": "82e8f794-cdab-4287-eb17-9449d3e3f4c4"
   },
   "outputs": [
    {
     "name": "stdout",
     "output_type": "stream",
     "text": [
      "[11, 21, 31]\n"
     ]
    }
   ],
   "source": [
    "# Example: Inrementing all numbers by 1\n",
    "a=[10, 20, 30]\n",
    "a=list(map(lambda x:x+1,a))\n",
    "print(a)"
   ]
  },
  {
   "cell_type": "markdown",
   "id": "RZgOVlVmbhvg",
   "metadata": {
    "id": "RZgOVlVmbhvg"
   },
   "source": [
    "#### Replacing values iin List"
   ]
  },
  {
   "cell_type": "markdown",
   "id": "-xWU2fW9celZ",
   "metadata": {
    "id": "-xWU2fW9celZ"
   },
   "source": [
    "1. Using Lambda Function"
   ]
  },
  {
   "cell_type": "code",
   "execution_count": 34,
   "id": "dj9tA4ONcn5Z",
   "metadata": {
    "colab": {
     "base_uri": "https://localhost:8080/"
    },
    "executionInfo": {
     "elapsed": 42,
     "status": "ok",
     "timestamp": 1754384288237,
     "user": {
      "displayName": "Mahesh Kumar Pothu",
      "userId": "17719119500442372518"
     },
     "user_tz": -330
    },
    "id": "dj9tA4ONcn5Z",
    "outputId": "e0bb0342-038f-4a07-ed97-e1b30f26ec24"
   },
   "outputs": [
    {
     "name": "stdout",
     "output_type": "stream",
     "text": [
      "[10, 20, 99, 40, 50]\n"
     ]
    }
   ],
   "source": [
    "a=[10, 20, 30, 40, 50]\n",
    "b=list(map(lambda x:99 if x == 30 else x, a))\n",
    "print(b)"
   ]
  },
  {
   "cell_type": "markdown",
   "id": "IuuHtxecc8gV",
   "metadata": {
    "id": "IuuHtxecc8gV"
   },
   "source": [
    "2. Using fo loop"
   ]
  },
  {
   "cell_type": "code",
   "execution_count": 35,
   "id": "rt6zdTsNdrWs",
   "metadata": {
    "colab": {
     "base_uri": "https://localhost:8080/"
    },
    "executionInfo": {
     "elapsed": 34,
     "status": "ok",
     "timestamp": 1754384549367,
     "user": {
      "displayName": "Mahesh Kumar Pothu",
      "userId": "17719119500442372518"
     },
     "user_tz": -330
    },
    "id": "rt6zdTsNdrWs",
    "outputId": "a57c55ae-db8e-45c6-e868-38a5bbc4db63"
   },
   "outputs": [
    {
     "name": "stdout",
     "output_type": "stream",
     "text": [
      "[10, 20, 99, 40, 50]\n"
     ]
    }
   ],
   "source": [
    "a=[10, 20, 30, 40, 50]\n",
    "for i in range(len(a)):\n",
    "  if a[i]==30:\n",
    "    a[i]=99\n",
    "print(a)"
   ]
  },
  {
   "cell_type": "markdown",
   "id": "CX0Du_5Wd8PV",
   "metadata": {
    "id": "CX0Du_5Wd8PV"
   },
   "source": [
    "3. Using while loop"
   ]
  },
  {
   "cell_type": "code",
   "execution_count": 36,
   "id": "l-wDk2X2eJUG",
   "metadata": {
    "colab": {
     "base_uri": "https://localhost:8080/"
    },
    "executionInfo": {
     "elapsed": 32,
     "status": "ok",
     "timestamp": 1754384691345,
     "user": {
      "displayName": "Mahesh Kumar Pothu",
      "userId": "17719119500442372518"
     },
     "user_tz": -330
    },
    "id": "l-wDk2X2eJUG",
    "outputId": "68f0622f-f547-45ac-d23d-5e5b67a7fefc"
   },
   "outputs": [
    {
     "name": "stdout",
     "output_type": "stream",
     "text": [
      "[10, 20, 99, 40, 50]\n"
     ]
    }
   ],
   "source": [
    "a=[10, 20, 30, 40, 50]\n",
    "i=0\n",
    "while i<len(a):\n",
    "  if a[i]==30:\n",
    "    a[i]=99\n",
    "  i+=1\n",
    "print(a)"
   ]
  },
  {
   "cell_type": "markdown",
   "id": "nSNguxaxee7A",
   "metadata": {
    "id": "nSNguxaxee7A"
   },
   "source": [
    "#### Append Items to a list"
   ]
  },
  {
   "cell_type": "markdown",
   "id": "buqBYlo0fncJ",
   "metadata": {
    "id": "buqBYlo0fncJ"
   },
   "source": [
    "  - append() method in Python is used to add a single item to the end of list. This method modifies the original list and does not return a new list. Let's look at an example to better understand this."
   ]
  },
  {
   "cell_type": "code",
   "execution_count": 37,
   "id": "-A3l1-V-gGhQ",
   "metadata": {
    "colab": {
     "base_uri": "https://localhost:8080/"
    },
    "executionInfo": {
     "elapsed": 16,
     "status": "ok",
     "timestamp": 1754385135570,
     "user": {
      "displayName": "Mahesh Kumar Pothu",
      "userId": "17719119500442372518"
     },
     "user_tz": -330
    },
    "id": "-A3l1-V-gGhQ",
    "outputId": "7507a5ba-a289-46c2-91c9-ae92f077179f"
   },
   "outputs": [
    {
     "name": "stdout",
     "output_type": "stream",
     "text": [
      "[2, 5, 6, 7, 8]\n"
     ]
    }
   ],
   "source": [
    "a = [2, 5, 6, 7]\n",
    "# Use append() to add the element 8 to the end of the list\n",
    "a.append(8)\n",
    "print(a)"
   ]
  },
  {
   "cell_type": "code",
   "execution_count": 38,
   "id": "UcDvrMjkgLWX",
   "metadata": {
    "colab": {
     "base_uri": "https://localhost:8080/"
    },
    "executionInfo": {
     "elapsed": 52,
     "status": "ok",
     "timestamp": 1754386747504,
     "user": {
      "displayName": "Mahesh Kumar Pothu",
      "userId": "17719119500442372518"
     },
     "user_tz": -330
    },
    "id": "UcDvrMjkgLWX",
    "outputId": "b8d916e1-0b4a-4c8b-fcbe-4b07ae09b41a"
   },
   "outputs": [
    {
     "name": "stdout",
     "output_type": "stream",
     "text": [
      "[1, 'hello', 3.14, True]\n"
     ]
    }
   ],
   "source": [
    "a=[1, \"hello\", 3.14]\n",
    "a.append(True)\n",
    "print(a)"
   ]
  },
  {
   "cell_type": "markdown",
   "id": "PQISTEIRmU6P",
   "metadata": {
    "id": "PQISTEIRmU6P"
   },
   "source": [
    "1. Appending List to List"
   ]
  },
  {
   "cell_type": "code",
   "execution_count": 39,
   "id": "tqNpsY6Smhsw",
   "metadata": {
    "colab": {
     "base_uri": "https://localhost:8080/"
    },
    "executionInfo": {
     "elapsed": 37,
     "status": "ok",
     "timestamp": 1754386830762,
     "user": {
      "displayName": "Mahesh Kumar Pothu",
      "userId": "17719119500442372518"
     },
     "user_tz": -330
    },
    "id": "tqNpsY6Smhsw",
    "outputId": "6d0e8d08-39ce-458f-f58b-014b3684a7e5"
   },
   "outputs": [
    {
     "name": "stdout",
     "output_type": "stream",
     "text": [
      "[1, 2, 3, [4, 5]]\n"
     ]
    }
   ],
   "source": [
    "a=[1, 2, 3]\n",
    "a.append([4, 5])\n",
    "print(a)"
   ]
  },
  {
   "cell_type": "markdown",
   "id": "H2c45jgOmpPO",
   "metadata": {
    "id": "H2c45jgOmpPO"
   },
   "source": [
    "2. Appending Using a Loop"
   ]
  },
  {
   "cell_type": "code",
   "execution_count": 40,
   "id": "R3i8DCPnmv7F",
   "metadata": {
    "colab": {
     "base_uri": "https://localhost:8080/"
    },
    "executionInfo": {
     "elapsed": 42,
     "status": "ok",
     "timestamp": 1754386924659,
     "user": {
      "displayName": "Mahesh Kumar Pothu",
      "userId": "17719119500442372518"
     },
     "user_tz": -330
    },
    "id": "R3i8DCPnmv7F",
    "outputId": "4d272691-2c05-4b28-feb9-a915e4ac6168"
   },
   "outputs": [
    {
     "name": "stdout",
     "output_type": "stream",
     "text": [
      "[0, 1, 2, 3, 4]\n"
     ]
    }
   ],
   "source": [
    "a=[]\n",
    "for i in range(5):\n",
    "  a.append(i)\n",
    "print(a)"
   ]
  },
  {
   "cell_type": "markdown",
   "id": "5yZEobBenmpB",
   "metadata": {
    "id": "5yZEobBenmpB"
   },
   "source": [
    "1. Append vs Extend vs Insert\n",
    "  - append(x):\n",
    "    Adds x as a single element at the end of the list.\n",
    "  - extend(iterable):\n",
    "    Adds all elements of iterable individually to the list.\n",
    "  - insert(index, x):\n",
    "    Inserts x at the specified index."
   ]
  },
  {
   "cell_type": "code",
   "execution_count": 41,
   "id": "PilltO0noCme",
   "metadata": {
    "colab": {
     "base_uri": "https://localhost:8080/"
    },
    "executionInfo": {
     "elapsed": 18,
     "status": "ok",
     "timestamp": 1754387324321,
     "user": {
      "displayName": "Mahesh Kumar Pothu",
      "userId": "17719119500442372518"
     },
     "user_tz": -330
    },
    "id": "PilltO0noCme",
    "outputId": "5cf03c05-1f9b-4c40-83ad-9dd2e6744121"
   },
   "outputs": [
    {
     "name": "stdout",
     "output_type": "stream",
     "text": [
      "[1, 2, 3, [4, 5]]\n",
      "[1, 2, 3, 4, 5]\n"
     ]
    }
   ],
   "source": [
    "a = [1, 2, 3]\n",
    "a.append([4, 5])\n",
    "print(a)\n",
    "\n",
    "b = [1, 2, 3]\n",
    "b.extend([4, 5])\n",
    "print(b)"
   ]
  },
  {
   "cell_type": "markdown",
   "id": "T6P0qJwCoSCg",
   "metadata": {
    "id": "T6P0qJwCoSCg"
   },
   "source": [
    "#### Python List insert() Method"
   ]
  },
  {
   "cell_type": "code",
   "execution_count": 42,
   "id": "9U9MN1mMpbDr",
   "metadata": {
    "colab": {
     "base_uri": "https://localhost:8080/"
    },
    "executionInfo": {
     "elapsed": 41,
     "status": "ok",
     "timestamp": 1754387712927,
     "user": {
      "displayName": "Mahesh Kumar Pothu",
      "userId": "17719119500442372518"
     },
     "user_tz": -330
    },
    "id": "9U9MN1mMpbDr",
    "outputId": "539ef2b0-d6b7-4998-9083-9168422508e2"
   },
   "outputs": [
    {
     "name": "stdout",
     "output_type": "stream",
     "text": [
      "[43, 45, 45, 99, 76]\n"
     ]
    }
   ],
   "source": [
    "# making a list\n",
    "score = [43,45,99,76]\n",
    "#inserting a new score at third position\n",
    "score.insert(2, 45)\n",
    "#printing new list\n",
    "print(score)"
   ]
  },
  {
   "cell_type": "code",
   "execution_count": 43,
   "id": "oBVQJOBiqDs9",
   "metadata": {
    "colab": {
     "base_uri": "https://localhost:8080/"
    },
    "executionInfo": {
     "elapsed": 22,
     "status": "ok",
     "timestamp": 1754387733326,
     "user": {
      "displayName": "Mahesh Kumar Pothu",
      "userId": "17719119500442372518"
     },
     "user_tz": -330
    },
    "id": "oBVQJOBiqDs9",
    "outputId": "b6c926e9-6664-4975-9368-6b7231d713ee"
   },
   "outputs": [
    {
     "name": "stdout",
     "output_type": "stream",
     "text": [
      "['The', 'Sun', 'rises', 'in', 'the', 'east']\n"
     ]
    }
   ],
   "source": [
    "list = ['Sun', 'rises', 'in', 'the', 'east']\n",
    "list.insert(0, \"The\")\n",
    "print(list)"
   ]
  },
  {
   "cell_type": "code",
   "execution_count": 44,
   "id": "fIJbhoocqLSC",
   "metadata": {
    "colab": {
     "base_uri": "https://localhost:8080/"
    },
    "executionInfo": {
     "elapsed": 40,
     "status": "ok",
     "timestamp": 1754387762347,
     "user": {
      "displayName": "Mahesh Kumar Pothu",
      "userId": "17719119500442372518"
     },
     "user_tz": -330
    },
    "id": "fIJbhoocqLSC",
    "outputId": "f5af1ecc-9618-4c4b-a320-f097f20164c7"
   },
   "outputs": [
    {
     "name": "stdout",
     "output_type": "stream",
     "text": [
      "[1, 2, 3, 4, 10, 5, 6, 7]\n"
     ]
    }
   ],
   "source": [
    "list1 = [ 1, 2, 3, 4, 5, 6, 7 ]\n",
    "# insert 10 at 4th index\n",
    "list1.insert(4, 10)\n",
    "print(list1)"
   ]
  },
  {
   "cell_type": "code",
   "execution_count": null,
   "id": "-wLznahoqRRz",
   "metadata": {
    "colab": {
     "base_uri": "https://localhost:8080/",
     "height": 193
    },
    "executionInfo": {
     "elapsed": 43,
     "status": "error",
     "timestamp": 1754387784828,
     "user": {
      "displayName": "Mahesh Kumar Pothu",
      "userId": "17719119500442372518"
     },
     "user_tz": -330
    },
    "id": "-wLznahoqRRz",
    "outputId": "150f9296-79bf-464d-cf12-1ff2969b2c54"
   },
   "outputs": [],
   "source": [
    "# attribute error\n",
    "string = \"1234567\"\n",
    "\n",
    "string.insert(10, 1)\n",
    "print(string)"
   ]
  },
  {
   "cell_type": "code",
   "execution_count": null,
   "id": "FcDnlyupqZNm",
   "metadata": {
    "colab": {
     "base_uri": "https://localhost:8080/"
    },
    "executionInfo": {
     "elapsed": 45,
     "status": "ok",
     "timestamp": 1754387816857,
     "user": {
      "displayName": "Mahesh Kumar Pothu",
      "userId": "17719119500442372518"
     },
     "user_tz": -330
    },
    "id": "FcDnlyupqZNm",
    "outputId": "3cf79bf1-1ed7-4b49-d5ca-92436716b553"
   },
   "outputs": [
    {
     "name": "stdout",
     "output_type": "stream",
     "text": [
      "[1, 2, 13, 3, 4, 5, 6]\n"
     ]
    }
   ],
   "source": [
    "# Python3 program for Insertion in a list\n",
    "# before any element using insert() method\n",
    "\n",
    "list1 = [ 1, 2, 3, 4, 5, 6 ]\n",
    "\n",
    "# Element to be inserted\n",
    "element = 13\n",
    "\n",
    "# Element to be inserted before 3\n",
    "beforeElement = 3\n",
    "\n",
    "# Find index\n",
    "index = list1.index(beforeElement)\n",
    "\n",
    "# Insert element at beforeElement\n",
    "list1.insert(index, element)\n",
    "print(list1)"
   ]
  },
  {
   "cell_type": "code",
   "execution_count": null,
   "id": "exw0bCq7qdTK",
   "metadata": {
    "colab": {
     "base_uri": "https://localhost:8080/"
    },
    "executionInfo": {
     "elapsed": 62,
     "status": "ok",
     "timestamp": 1754387904985,
     "user": {
      "displayName": "Mahesh Kumar Pothu",
      "userId": "17719119500442372518"
     },
     "user_tz": -330
    },
    "id": "exw0bCq7qdTK",
    "outputId": "be8b3c59-be48-42e2-a7e8-d10a344b603e"
   },
   "outputs": [
    {
     "name": "stdout",
     "output_type": "stream",
     "text": [
      "[1, 2, (4, 5, 6), 3, 4, 5, 6]\n"
     ]
    }
   ],
   "source": [
    "list1 = [ 1, 2, 3, 4, 5, 6 ]\n",
    "# tuple of numbers\n",
    "num_tuple = (4, 5, 6)\n",
    "# inserting a tuple to the list\n",
    "list1.insert(2, num_tuple)\n",
    "print(list1)"
   ]
  },
  {
   "cell_type": "code",
   "execution_count": null,
   "id": "uKOYctsRqvfU",
   "metadata": {
    "colab": {
     "base_uri": "https://localhost:8080/"
    },
    "executionInfo": {
     "elapsed": 16,
     "status": "ok",
     "timestamp": 1754387923021,
     "user": {
      "displayName": "Mahesh Kumar Pothu",
      "userId": "17719119500442372518"
     },
     "user_tz": -330
    },
    "id": "uKOYctsRqvfU",
    "outputId": "49e98ccc-07b7-47f9-ef58-07d0ffe2e074"
   },
   "outputs": [
    {
     "name": "stdout",
     "output_type": "stream",
     "text": [
      "['orange', 'apple', 'banana', 'cherry']\n"
     ]
    }
   ],
   "source": [
    "fruits = ['apple', 'banana', 'cherry']\n",
    "fruits.insert(0, 'orange')\n",
    "print(fruits)\n",
    " # Output: ['orange', 'apple', 'banana', 'cherry']"
   ]
  },
  {
   "cell_type": "code",
   "execution_count": null,
   "id": "u8qlgWRrqz5W",
   "metadata": {
    "colab": {
     "base_uri": "https://localhost:8080/"
    },
    "executionInfo": {
     "elapsed": 64,
     "status": "ok",
     "timestamp": 1754387937974,
     "user": {
      "displayName": "Mahesh Kumar Pothu",
      "userId": "17719119500442372518"
     },
     "user_tz": -330
    },
    "id": "u8qlgWRrqz5W",
    "outputId": "ee85f963-3807-49e3-b012-05d9b5cf219f"
   },
   "outputs": [
    {
     "name": "stdout",
     "output_type": "stream",
     "text": [
      "['apple', 'banana', 'orange', 'cherry']\n"
     ]
    }
   ],
   "source": [
    "fruits = ['apple', 'banana', 'cherry']\n",
    "fruits.insert(-1, 'orange')\n",
    "print(fruits)\n",
    "# Output: ['apple', 'banana', 'orange', 'cherry']"
   ]
  },
  {
   "cell_type": "code",
   "execution_count": null,
   "id": "dxGWtESIq3ij",
   "metadata": {
    "colab": {
     "base_uri": "https://localhost:8080/"
    },
    "executionInfo": {
     "elapsed": 68,
     "status": "ok",
     "timestamp": 1754387989279,
     "user": {
      "displayName": "Mahesh Kumar Pothu",
      "userId": "17719119500442372518"
     },
     "user_tz": -330
    },
    "id": "dxGWtESIq3ij",
    "outputId": "0978e06d-3359-4ab0-a606-1cd525c42585"
   },
   "outputs": [
    {
     "name": "stdout",
     "output_type": "stream",
     "text": [
      "[{'name': 'Alice', 'age': 30}, {'name': 'Bob', 'age': 25}, {'name': 'Charlie', 'age': 40}]\n"
     ]
    }
   ],
   "source": [
    "my_list = [{'name': 'Alice', 'age': 30},\n",
    "           {'name': 'Bob', 'age': 25}]\n",
    "new_dict = {'name': 'Charlie', 'age': 40}\n",
    "\n",
    "my_list.append(new_dict)\n",
    "\n",
    "print(my_list)"
   ]
  },
  {
   "cell_type": "code",
   "execution_count": null,
   "id": "mgB2BA9srEET",
   "metadata": {
    "colab": {
     "base_uri": "https://localhost:8080/"
    },
    "executionInfo": {
     "elapsed": 38,
     "status": "ok",
     "timestamp": 1754388144084,
     "user": {
      "displayName": "Mahesh Kumar Pothu",
      "userId": "17719119500442372518"
     },
     "user_tz": -330
    },
    "id": "mgB2BA9srEET",
    "outputId": "44885748-8ead-455e-c774-2b6a11b96303"
   },
   "outputs": [
    {
     "name": "stdout",
     "output_type": "stream",
     "text": [
      "[1, 2, 3, 4, 5, 6]\n"
     ]
    }
   ],
   "source": [
    "list1 = [1, 2, 3]\n",
    "list2 = [4, 5, 6]\n",
    "list1=list1+list2\n",
    "print(list1)"
   ]
  },
  {
   "cell_type": "code",
   "execution_count": null,
   "id": "DJG5g6hJrsuO",
   "metadata": {
    "colab": {
     "base_uri": "https://localhost:8080/"
    },
    "executionInfo": {
     "elapsed": 17,
     "status": "ok",
     "timestamp": 1754388163766,
     "user": {
      "displayName": "Mahesh Kumar Pothu",
      "userId": "17719119500442372518"
     },
     "user_tz": -330
    },
    "id": "DJG5g6hJrsuO",
    "outputId": "bd6ff212-1d26-474a-f118-44f21952ccd6"
   },
   "outputs": [
    {
     "name": "stdout",
     "output_type": "stream",
     "text": [
      "[1, 2, 3, {4, 5, 6}]\n"
     ]
    }
   ],
   "source": [
    "list1 = [1, 2, 3]\n",
    "s= {4,5,6}\n",
    "list1.insert(3,s)\n",
    "print(list1)"
   ]
  },
  {
   "cell_type": "code",
   "execution_count": null,
   "id": "uqx7LrSwrzf6",
   "metadata": {
    "colab": {
     "base_uri": "https://localhost:8080/"
    },
    "executionInfo": {
     "elapsed": 61,
     "status": "ok",
     "timestamp": 1754388189782,
     "user": {
      "displayName": "Mahesh Kumar Pothu",
      "userId": "17719119500442372518"
     },
     "user_tz": -330
    },
    "id": "uqx7LrSwrzf6",
    "outputId": "8ef08144-783b-4c6e-884f-75a4498645db"
   },
   "outputs": [
    {
     "name": "stdout",
     "output_type": "stream",
     "text": [
      "The number is 42\n"
     ]
    }
   ],
   "source": [
    "s = \"The number is \"\n",
    "n = 42\n",
    "\n",
    "res = s + str(n)\n",
    "\n",
    "print(res)"
   ]
  },
  {
   "cell_type": "markdown",
   "id": "SiJ2IfSGr1BD",
   "metadata": {
    "id": "SiJ2IfSGr1BD"
   },
   "source": [
    "1. Python program to insert an element into sorted list"
   ]
  },
  {
   "cell_type": "code",
   "execution_count": null,
   "id": "JrirxBC4sKna",
   "metadata": {
    "colab": {
     "base_uri": "https://localhost:8080/"
    },
    "executionInfo": {
     "elapsed": 28,
     "status": "ok",
     "timestamp": 1754388377093,
     "user": {
      "displayName": "Mahesh Kumar Pothu",
      "userId": "17719119500442372518"
     },
     "user_tz": -330
    },
    "id": "JrirxBC4sKna",
    "outputId": "e2c97ae5-e9ee-4b5a-c45b-b85c2df39112"
   },
   "outputs": [
    {
     "name": "stdout",
     "output_type": "stream",
     "text": [
      "[1, 3, 4, 7, 10]\n",
      "[1, 3, 4, 5, 7, 10]\n"
     ]
    }
   ],
   "source": [
    "import bisect\n",
    "a=[1, 3, 4, 7, 10]\n",
    "print(a)\n",
    "bisect.insort(a,5)\n",
    "print(a)"
   ]
  },
  {
   "cell_type": "markdown",
   "id": "gFFRgBa2siud",
   "metadata": {
    "id": "gFFRgBa2siud"
   },
   "source": [
    "- Using Loop"
   ]
  },
  {
   "cell_type": "code",
   "execution_count": null,
   "id": "KArWAcuzsdR0",
   "metadata": {
    "colab": {
     "base_uri": "https://localhost:8080/"
    },
    "executionInfo": {
     "elapsed": 37,
     "status": "ok",
     "timestamp": 1754388879808,
     "user": {
      "displayName": "Mahesh Kumar Pothu",
      "userId": "17719119500442372518"
     },
     "user_tz": -330
    },
    "id": "KArWAcuzsdR0",
    "outputId": "98670ee8-cf3b-4291-9bbf-6d6478ececae"
   },
   "outputs": [
    {
     "name": "stdout",
     "output_type": "stream",
     "text": [
      "[2, 5, 6, 8, 12]\n"
     ]
    }
   ],
   "source": [
    "a=[2, 5, 8, 12]\n",
    "# b=66\n",
    "b=6\n",
    "for i in range(len(a)):\n",
    "  if b < a[i]:\n",
    "    a.insert(i, b)\n",
    "    break\n",
    "else:\n",
    "  a.append(b)\n",
    "print(a)"
   ]
  },
  {
   "cell_type": "markdown",
   "id": "LT0lie7ntc4T",
   "metadata": {
    "id": "LT0lie7ntc4T"
   },
   "source": [
    "- Using List Comprehension"
   ]
  },
  {
   "cell_type": "code",
   "execution_count": null,
   "id": "PZLzinVaurB9",
   "metadata": {
    "colab": {
     "base_uri": "https://localhost:8080/"
    },
    "executionInfo": {
     "elapsed": 24,
     "status": "ok",
     "timestamp": 1754389307891,
     "user": {
      "displayName": "Mahesh Kumar Pothu",
      "userId": "17719119500442372518"
     },
     "user_tz": -330
    },
    "id": "PZLzinVaurB9",
    "outputId": "9920ba21-8c75-45e7-9eeb-1c7fa3d18c22"
   },
   "outputs": [
    {
     "name": "stdout",
     "output_type": "stream",
     "text": [
      "[3, 6, 8, 9, 15]\n"
     ]
    }
   ],
   "source": [
    "a = [3, 6, 9, 15]\n",
    "b=8\n",
    "new_list=[x for x in a if x<b]+[b]+[x for x in a if x>=b]\n",
    "print(new_list)"
   ]
  },
  {
   "cell_type": "code",
   "execution_count": null,
   "id": "t83StNp_vu2a",
   "metadata": {
    "colab": {
     "base_uri": "https://localhost:8080/"
    },
    "executionInfo": {
     "elapsed": 77,
     "status": "ok",
     "timestamp": 1754389373595,
     "user": {
      "displayName": "Mahesh Kumar Pothu",
      "userId": "17719119500442372518"
     },
     "user_tz": -330
    },
    "id": "t83StNp_vu2a",
    "outputId": "a3d5bf8f-5b8e-4bd6-e1ad-d17ce148bfe0"
   },
   "outputs": [
    {
     "name": "stdout",
     "output_type": "stream",
     "text": [
      "[4, 7, 9, 11, 14]\n"
     ]
    }
   ],
   "source": [
    "a = [4, 7, 11, 14]\n",
    "a.append(9)\n",
    "a.sort()\n",
    "print(a)"
   ]
  },
  {
   "cell_type": "markdown",
   "id": "fxHV9zT0wWBu",
   "metadata": {
    "id": "fxHV9zT0wWBu"
   },
   "source": [
    "#### Extending a list in Python"
   ]
  },
  {
   "cell_type": "markdown",
   "id": "t3e3n4ANw-Tf",
   "metadata": {
    "id": "t3e3n4ANw-Tf"
   },
   "source": [
    "1. Using extend()"
   ]
  },
  {
   "cell_type": "code",
   "execution_count": null,
   "id": "S2AHZuQaxTQ7",
   "metadata": {
    "colab": {
     "base_uri": "https://localhost:8080/"
    },
    "executionInfo": {
     "elapsed": 88,
     "status": "ok",
     "timestamp": 1754389915110,
     "user": {
      "displayName": "Mahesh Kumar Pothu",
      "userId": "17719119500442372518"
     },
     "user_tz": -330
    },
    "id": "S2AHZuQaxTQ7",
    "outputId": "1334524c-6809-41fe-a6e6-f181a14ac20b"
   },
   "outputs": [
    {
     "name": "stdout",
     "output_type": "stream",
     "text": [
      "[1, 2, 3, 4, 5, 6]\n"
     ]
    }
   ],
   "source": [
    "a=[1, 2, 3]\n",
    "n=[4, 5, 6]\n",
    "a.extend(n)\n",
    "print(a)"
   ]
  },
  {
   "cell_type": "markdown",
   "id": "ARXuOyDNyaO2",
   "metadata": {
    "id": "ARXuOyDNyaO2"
   },
   "source": [
    "2. Using the += Operator"
   ]
  },
  {
   "cell_type": "code",
   "execution_count": null,
   "id": "MioB3_CDyd0P",
   "metadata": {
    "colab": {
     "base_uri": "https://localhost:8080/"
    },
    "executionInfo": {
     "elapsed": 46,
     "status": "ok",
     "timestamp": 1754389981719,
     "user": {
      "displayName": "Mahesh Kumar Pothu",
      "userId": "17719119500442372518"
     },
     "user_tz": -330
    },
    "id": "MioB3_CDyd0P",
    "outputId": "e412ffe8-ecf9-46dd-aead-7e7d2b22b38d"
   },
   "outputs": [
    {
     "name": "stdout",
     "output_type": "stream",
     "text": [
      "[1, 2, 3, 4, 5, 6]\n"
     ]
    }
   ],
   "source": [
    "a=[1, 2, 3]\n",
    "n=[4, 5, 6]\n",
    "a +=n\n",
    "print(a)"
   ]
  },
  {
   "cell_type": "markdown",
   "id": "nai4VWyLyqf9",
   "metadata": {
    "id": "nai4VWyLyqf9"
   },
   "source": [
    "3. Using slicing"
   ]
  },
  {
   "cell_type": "code",
   "execution_count": 1,
   "id": "-BYmTkePzK70",
   "metadata": {
    "colab": {
     "base_uri": "https://localhost:8080/"
    },
    "executionInfo": {
     "elapsed": 46,
     "status": "ok",
     "timestamp": 1754390371530,
     "user": {
      "displayName": "Mahesh Kumar Pothu",
      "userId": "17719119500442372518"
     },
     "user_tz": -330
    },
    "id": "-BYmTkePzK70",
    "outputId": "297f0f7b-1cd3-4a82-9cd1-5f7c02206768"
   },
   "outputs": [
    {
     "name": "stdout",
     "output_type": "stream",
     "text": [
      "[1, 2, 3, 4, 5, 6]\n"
     ]
    }
   ],
   "source": [
    "a = [1, 2, 3]\n",
    "b = [4, 5, 6]\n",
    "\n",
    "# Extending list 'a' using slicing\n",
    "a[len(a):]=b\n",
    "print(a)"
   ]
  },
  {
   "cell_type": "markdown",
   "id": "hh-Vjg5Bzr7i",
   "metadata": {
    "id": "hh-Vjg5Bzr7i"
   },
   "source": [
    "4. Using itertools.chain()\n",
    "  - combines multiple iterables into one continuous sequence, which can be converted to a list or extended into an existing list."
   ]
  },
  {
   "cell_type": "code",
   "execution_count": 1,
   "id": "48629fcf",
   "metadata": {},
   "outputs": [
    {
     "name": "stdout",
     "output_type": "stream",
     "text": [
      "[1, 2, 3, 4, 5, 6]\n",
      "Mahesh\n"
     ]
    }
   ],
   "source": [
    "from itertools import chain\n",
    "\n",
    "a = [1, 2, 3]\n",
    "b = [4, 5, 6]\n",
    "\n",
    "# Correct way to combine lists using chain\n",
    "combined = list(chain(a, b))\n",
    "print(combined)  # Output: [1, 2, 3, 4, 5, 6]\n",
    "print(\"Mahesh\")"
   ]
  },
  {
   "cell_type": "markdown",
   "id": "12b6d372",
   "metadata": {},
   "source": [
    "#### Remove Item from a List in Python"
   ]
  },
  {
   "cell_type": "code",
   "execution_count": 2,
   "id": "8ed5c066",
   "metadata": {},
   "outputs": [
    {
     "name": "stdout",
     "output_type": "stream",
     "text": [
      "[10, 20, 40, 50]\n"
     ]
    }
   ],
   "source": [
    "a = [10, 20, 30, 40, 50]\n",
    "a.remove(30)\n",
    "print(a)"
   ]
  },
  {
   "cell_type": "markdown",
   "id": "77d24933",
   "metadata": {},
   "source": [
    "1.  Using remove() - remove item by value"
   ]
  },
  {
   "cell_type": "code",
   "execution_count": 3,
   "id": "379f5670",
   "metadata": {},
   "outputs": [
    {
     "name": "stdout",
     "output_type": "stream",
     "text": [
      "[10, 30, 20, 40, 50]\n"
     ]
    }
   ],
   "source": [
    "a = [10, 20, 30, 20, 40, 50]\n",
    "\n",
    "# Remove the first occurance of 20\n",
    "a.remove(20)\n",
    "print(a)"
   ]
  },
  {
   "cell_type": "markdown",
   "id": "fedd5c11",
   "metadata": {},
   "source": [
    "2.  Using pop() - remove item by Index"
   ]
  },
  {
   "cell_type": "code",
   "execution_count": 4,
   "id": "51458205",
   "metadata": {},
   "outputs": [
    {
     "name": "stdout",
     "output_type": "stream",
     "text": [
      "[10, 30, 40, 50]\n",
      "Removed Item: 20\n"
     ]
    }
   ],
   "source": [
    "a = [10, 20, 30, 40, 50]\n",
    "\n",
    "# Remove element at index 1 and return its value in val\n",
    "val = a.pop(1)\n",
    "print(a)\n",
    "print(\"Removed Item:\", val)"
   ]
  },
  {
   "cell_type": "markdown",
   "id": "873d7d1b",
   "metadata": {},
   "source": [
    "3.  If we do not specify the index then pop() method removes the last element."
   ]
  },
  {
   "cell_type": "code",
   "execution_count": 5,
   "id": "211abf6a",
   "metadata": {},
   "outputs": [
    {
     "name": "stdout",
     "output_type": "stream",
     "text": [
      "[10, 20, 30, 40]\n",
      "Removed Item: 50\n"
     ]
    }
   ],
   "source": [
    "a = [10, 20, 30, 40, 50]\n",
    "\n",
    "# This will remove the last element\n",
    "val = a.pop()\n",
    "print(a)\n",
    "print(\"Removed Item:\", val)"
   ]
  },
  {
   "cell_type": "markdown",
   "id": "2bc0e108",
   "metadata": {},
   "source": [
    "4.  Using del() - remove item by index"
   ]
  },
  {
   "cell_type": "code",
   "execution_count": 7,
   "id": "13d02c87",
   "metadata": {},
   "outputs": [
    {
     "name": "stdout",
     "output_type": "stream",
     "text": [
      "[10, 50, 60, 70]\n"
     ]
    }
   ],
   "source": [
    "a = [10, 20, 30, 40, 50, 60, 70]\n",
    "\n",
    "# Removes elements from index 1 to index 3 (which are 20, 30, 40)\n",
    "del a[1:4]\n",
    "print(a)"
   ]
  },
  {
   "cell_type": "markdown",
   "id": "ddba0626",
   "metadata": {},
   "source": [
    "5.  Removing multiple elements by index range."
   ]
  },
  {
   "cell_type": "code",
   "execution_count": 8,
   "id": "a8cacfd5",
   "metadata": {},
   "outputs": [
    {
     "name": "stdout",
     "output_type": "stream",
     "text": [
      "[10, 50, 60, 70]\n"
     ]
    }
   ],
   "source": [
    "a = [10, 20, 30, 40, 50, 60, 70]\n",
    "\n",
    "# Removes elements from index 1 to index 3 (which are 20, 30, 40)\n",
    "del a[1:4]\n",
    "print(a)"
   ]
  },
  {
   "cell_type": "markdown",
   "id": "e98d22fd",
   "metadata": {},
   "source": [
    "6.  Using clear() - remove all elements."
   ]
  },
  {
   "cell_type": "code",
   "execution_count": 10,
   "id": "db010e58",
   "metadata": {},
   "outputs": [
    {
     "name": "stdout",
     "output_type": "stream",
     "text": [
      "[10, 20, 30, 40]\n",
      "[]\n"
     ]
    }
   ],
   "source": [
    "a = [10, 20, 30, 40]\n",
    "print(a)\n",
    "# Empty a list entirely\n",
    "a.clear()\n",
    "print(a)"
   ]
  }
 ],
 "metadata": {
  "colab": {
   "collapsed_sections": [
    "b433e587",
    "c5969c15",
    "RZgOVlVmbhvg"
   ],
   "provenance": []
  },
  "kernelspec": {
   "display_name": "base",
   "language": "python",
   "name": "python3"
  },
  "language_info": {
   "codemirror_mode": {
    "name": "ipython",
    "version": 3
   },
   "file_extension": ".py",
   "mimetype": "text/x-python",
   "name": "python",
   "nbconvert_exporter": "python",
   "pygments_lexer": "ipython3",
   "version": "3.12.7"
  }
 },
 "nbformat": 4,
 "nbformat_minor": 5
}
