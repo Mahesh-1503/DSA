{
 "cells": [
  {
   "cell_type": "markdown",
   "id": "b7cf954d",
   "metadata": {},
   "source": [
    "#### The filter() Function in Python\n",
    "* The filter() function constructs an iterator from elements of an iterable for which a function returns true. It is used to filter out items from a list(or any other iterable) based on condition."
   ]
  },
  {
   "cell_type": "code",
   "execution_count": 1,
   "id": "60e1278e",
   "metadata": {},
   "outputs": [],
   "source": [
    "def even(num):\n",
    "    if num%2==0:\n",
    "        return True"
   ]
  },
  {
   "cell_type": "code",
   "execution_count": 2,
   "id": "c176b0b3",
   "metadata": {},
   "outputs": [
    {
     "data": {
      "text/plain": [
       "True"
      ]
     },
     "execution_count": 2,
     "metadata": {},
     "output_type": "execute_result"
    }
   ],
   "source": [
    "even(26)"
   ]
  },
  {
   "cell_type": "code",
   "execution_count": null,
   "id": "f43496bb",
   "metadata": {},
   "outputs": [
    {
     "name": "stdout",
     "output_type": "stream",
     "text": [
      "<filter object at 0x0000027D1466B1C0>\n"
     ]
    },
    {
     "data": {
      "text/plain": [
       "[2, 4, 6, 8, 10, 12, 14, 16, 18, 20]"
      ]
     },
     "execution_count": 4,
     "metadata": {},
     "output_type": "execute_result"
    }
   ],
   "source": [
    "lst = [1,2,3,4,5,6,7,8,9,10,11,12,13,14,15,16,17,18,19,20]\n",
    "print(filter(even,lst)) # filter object at <location>.\n",
    "list(filter(even,lst))\n",
    "#filter() function takes two arguments, a function and a list. The function is applied to all elements of the list and only the elements for which the function returns True are included in the output."
   ]
  },
  {
   "cell_type": "markdown",
   "id": "c2562bef",
   "metadata": {},
   "source": [
    "#### filter() with lambda function"
   ]
  },
  {
   "cell_type": "code",
   "execution_count": 6,
   "id": "c9d1be2e",
   "metadata": {},
   "outputs": [
    {
     "name": "stdout",
     "output_type": "stream",
     "text": [
      "[6, 7, 8, 9, 10]\n"
     ]
    }
   ],
   "source": [
    "numbers = [1,2,3,4,5,6,7,8,9,10]\n",
    "greater_than_5 = list(filter(lambda x:x>5, numbers))\n",
    "print(greater_than_5)"
   ]
  },
  {
   "cell_type": "markdown",
   "id": "724122eb",
   "metadata": {},
   "source": [
    "#### Filter with a lambda function and multiple conditions"
   ]
  },
  {
   "cell_type": "code",
   "execution_count": 7,
   "id": "b6131863",
   "metadata": {},
   "outputs": [
    {
     "name": "stdout",
     "output_type": "stream",
     "text": [
      "[6, 8, 10]\n"
     ]
    }
   ],
   "source": [
    "even_greater_than_5=list(filter(lambda x:x>5 and x%2==0,numbers))\n",
    "print(even_greater_than_5)"
   ]
  },
  {
   "cell_type": "code",
   "execution_count": 8,
   "id": "e9ecc9ab",
   "metadata": {},
   "outputs": [
    {
     "name": "stdout",
     "output_type": "stream",
     "text": [
      "[{'name': 'Bob', 'age': 30}]\n"
     ]
    }
   ],
   "source": [
    "## filter() to check if age is greater than 25 in dictionaries\n",
    "people=[\n",
    "    {\"name\":\"John\",\"age\":25},\n",
    "    {\"name\":\"Jane\",\"age\":22},\n",
    "    {\"name\":\"Bob\",\"age\":30},\n",
    "    {\"name\":\"Alice\",\"age\":20}\n",
    "]\n",
    "adults=list(filter(lambda x:x[\"age\"]>25,people))\n",
    "print(adults)"
   ]
  },
  {
   "cell_type": "code",
   "execution_count": 9,
   "id": "745e4a58",
   "metadata": {},
   "outputs": [
    {
     "name": "stdout",
     "output_type": "stream",
     "text": [
      "[{'name': 'Bob', 'age': 30}]\n"
     ]
    }
   ],
   "source": [
    "def age_greater_than_25(person):\n",
    "    return person['age']>25\n",
    "adults=list(filter(age_greater_than_25,people))\n",
    "print(adults)"
   ]
  },
  {
   "cell_type": "markdown",
   "id": "85251de8",
   "metadata": {},
   "source": [
    "### Conclusion:\n",
    "\n",
    "* The filter() function is a powerful tool for filtering elements from a list or any other iterable based on a condition,function. It is commonly used for data cleaning, filtering objects, and removing unwanted elements from  lists.\n",
    "By mastering filter(), You can write more concise and efficient code to process and manipulate data in Python."
   ]
  }
 ],
 "metadata": {
  "kernelspec": {
   "display_name": "Python 3",
   "language": "python",
   "name": "python3"
  },
  "language_info": {
   "codemirror_mode": {
    "name": "ipython",
    "version": 3
   },
   "file_extension": ".py",
   "mimetype": "text/x-python",
   "name": "python",
   "nbconvert_exporter": "python",
   "pygments_lexer": "ipython3",
   "version": "3.13.5"
  }
 },
 "nbformat": 4,
 "nbformat_minor": 5
}
