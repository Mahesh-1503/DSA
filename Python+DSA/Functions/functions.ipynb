{
 "cells": [
  {
   "cell_type": "markdown",
   "id": "97215851",
   "metadata": {},
   "source": [
    "#### Function Definition:\n",
    "* A function is a block of code which only runs when it is called.\n",
    "* Function helps in organizing code, reusing code, and improving readability."
   ]
  },
  {
   "attachments": {
    "image.png": {
     "image/png": "[encoded data removed]"
    }
   },
   "cell_type": "markdown",
   "id": "3b48f566",
   "metadata": {},
   "source": [
    "![image.png](attachment:image.png)"
   ]
  },
  {
   "cell_type": "code",
   "execution_count": 1,
   "id": "eeb08f0a",
   "metadata": {},
   "outputs": [],
   "source": [
    "## Syntax:\n",
    "def function_name(parameters):\n",
    "    \"\"\"Docstring: Description of the function.\"\"\"\n",
    "    # Function body\n",
    "    return value  # Optional return statement"
   ]
  },
  {
   "cell_type": "code",
   "execution_count": 2,
   "id": "72c4d9e4",
   "metadata": {},
   "outputs": [],
   "source": [
    "def even_or_odd(number):\n",
    "    \"\"\"Check if a number is even or odd.\"\"\"\n",
    "    if number % 2 == 0:\n",
    "        return \"Even\"\n",
    "    else:\n",
    "        return \"Odd\""
   ]
  },
  {
   "cell_type": "code",
   "execution_count": 6,
   "id": "86fce158",
   "metadata": {},
   "outputs": [
    {
     "name": "stdout",
     "output_type": "stream",
     "text": [
      "52 is Even\n"
     ]
    }
   ],
   "source": [
    "## take input from user and call the function\n",
    "user_input = int(input(\"Enter a number: \"))\n",
    "result = even_or_odd(user_input) # Call the function\n",
    "print(f\"{user_input} is {result}\")  # Print the result"
   ]
  },
  {
   "cell_type": "code",
   "execution_count": 7,
   "id": "ac0f5fcd",
   "metadata": {},
   "outputs": [
    {
     "name": "stdout",
     "output_type": "stream",
     "text": [
      "The sum of 50 and 50 is 100\n"
     ]
    }
   ],
   "source": [
    "## Function with multiple parameters:\n",
    "def add_numbers(a, b):\n",
    "    \"\"\"Add two numbers and return the result.\"\"\"\n",
    "    return a + b\n",
    "user_input1 = int(input(\"Enter first number: \"))\n",
    "user_input2 = int(input(\"Enter second number: \"))\n",
    "result_addition = add_numbers(user_input1, user_input2)  # Call the function\n",
    "print(f\"The sum of {user_input1} and {user_input2} is {result_addition}\")  # Print the result"
   ]
  },
  {
   "cell_type": "code",
   "execution_count": null,
   "id": "c80175c4",
   "metadata": {},
   "outputs": [
    {
     "name": "stdout",
     "output_type": "stream",
     "text": [
      "Hello, Guest!\n"
     ]
    }
   ],
   "source": [
    "## Default Parameters:\n",
    "def greet(name=\"Guest\"):\n",
    "    \"\"\"Greet the user with a default name.\"\"\"\n",
    "    return f\"Hello, {name}!\"\n",
    "# greet()  # Call the function without any arguments\n",
    "user_input= input(\"Enter your name (or press Enter for default): \")\n",
    "if user_input:\n",
    "    result_greeting = greet(user_input)  # Call the function with user input\n",
    "else:\n",
    "    result_greeting = greet()  # Call the function with default name\n",
    "print(result_greeting)  # Print the greeting message"
   ]
  },
  {
   "cell_type": "markdown",
   "id": "3f1080fb",
   "metadata": {},
   "source": [
    "#### Variable Length Arguments:"
   ]
  },
  {
   "cell_type": "code",
   "execution_count": 15,
   "id": "a74b8cf3",
   "metadata": {},
   "outputs": [
    {
     "name": "stdout",
     "output_type": "stream",
     "text": [
      "1\n",
      "2\n",
      "3\n",
      "4\n",
      "5\n",
      "Mahesh\n"
     ]
    }
   ],
   "source": [
    "## Variable Length Arguments:\n",
    "def variable_length_args(*args):\n",
    "    \"\"\"Print variable length arguments.\"\"\"\n",
    "    for arg in args:\n",
    "        print(arg)\n",
    "variable_length_args(1, 2, 3, 4, 5, 'Mahesh')  # Call the function with variable length arguments"
   ]
  },
  {
   "cell_type": "markdown",
   "id": "8252f036",
   "metadata": {},
   "source": [
    "#### Positional Arguments:"
   ]
  },
  {
   "cell_type": "code",
   "execution_count": 16,
   "id": "6910deb5",
   "metadata": {},
   "outputs": [
    {
     "name": "stdout",
     "output_type": "stream",
     "text": [
      "Argument 1: 10, Argument 2: 20, Argument 3: 30\n"
     ]
    }
   ],
   "source": [
    "## Positional Arguments:\n",
    "def positional_args(arg1, arg2, arg3):\n",
    "    \"\"\"Print positional arguments.\"\"\"\n",
    "    print(f\"Argument 1: {arg1}, Argument 2: {arg2}, Argument 3: {arg3}\")\n",
    "positional_args(10, 20, 30)  # Call the function with positional arguments"
   ]
  },
  {
   "cell_type": "markdown",
   "id": "97a59070",
   "metadata": {},
   "source": [
    "### Keyword Arguments:"
   ]
  },
  {
   "cell_type": "code",
   "execution_count": 17,
   "id": "6f7144f9",
   "metadata": {},
   "outputs": [
    {
     "name": "stdout",
     "output_type": "stream",
     "text": [
      "Argument 1: 10, Argument 2: 20, Argument 3: 30\n"
     ]
    }
   ],
   "source": [
    "## Keyword Arguments:\n",
    "def keyword_args(arg1, arg2, arg3):\n",
    "    \"\"\"Print keyword arguments.\"\"\"\n",
    "    print(f\"Argument 1: {arg1}, Argument 2: {arg2}, Argument 3: {arg3}\")\n",
    "keyword_args(arg1=10, arg2=20, arg3=30)  # Call the function with keyword arguments"
   ]
  },
  {
   "cell_type": "code",
   "execution_count": 24,
   "id": "4c05300b",
   "metadata": {},
   "outputs": [
    {
     "name": "stdout",
     "output_type": "stream",
     "text": [
      "name: Mahesh\n",
      "age: 20\n",
      "city: Hyderabad\n"
     ]
    }
   ],
   "source": [
    "## Keyword Arguments:\n",
    "def print_details(**args):\n",
    "    for key,value in args.items():\n",
    "        print(f\"{key}: {value}\")\n",
    "print_details(name=\"Mahesh\", age=20, city=\"Hyderabad\")  # Call the function with keyword arguments"
   ]
  },
  {
   "cell_type": "markdown",
   "id": "f981dd57",
   "metadata": {},
   "source": [
    "#### Difference between Variable Length Arguments, Positional Arguments and Keyword Arguments:\n",
    "* Variable Length Arguments: *args\n",
    "* Positional Arguments: arg1, arg2, arg3\n",
    "* Keyword Arguments: arg1=value1, arg2=value2, arg3=value3\n",
    "#### Docstring:\n",
    "* A docstring is a special kind of comment that is placed at the beginning of a function or module.\n",
    "* It provides a description of the function or module.\n",
    "* It can be accessed using the __doc__ attribute.\n",
    "def add_numbers(a, b):\n",
    "    \"\"\"Add two numbers and return the result.\"\"\"\n",
    "    return a + b\n",
    "print(add_numbers.__doc__)  # Print the docstring of the add_numbers function"
   ]
  },
  {
   "cell_type": "code",
   "execution_count": 19,
   "id": "dc8749ff",
   "metadata": {},
   "outputs": [
    {
     "name": "stdout",
     "output_type": "stream",
     "text": [
      "This is a sample function.\n"
     ]
    }
   ],
   "source": [
    "## Accessing Docstring:\n",
    "def sample_function():\n",
    "    \"\"\"This is a sample function.\"\"\"\n",
    "    pass\n",
    "print(sample_function.__doc__)  # Print the docstring of the sample_function"
   ]
  }
 ],
 "metadata": {
  "kernelspec": {
   "display_name": "Python 3",
   "language": "python",
   "name": "python3"
  },
  "language_info": {
   "codemirror_mode": {
    "name": "ipython",
    "version": 3
   },
   "file_extension": ".py",
   "mimetype": "text/x-python",
   "name": "python",
   "nbconvert_exporter": "python",
   "pygments_lexer": "ipython3",
   "version": "3.13.5"
  }
 },
 "nbformat": 4,
 "nbformat_minor": 5
}
