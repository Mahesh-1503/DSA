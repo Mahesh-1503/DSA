{
 "cells": [
  {
   "cell_type": "markdown",
   "id": "9f63d2f2",
   "metadata": {},
   "source": [
    "#### Function Examples"
   ]
  },
  {
   "cell_type": "markdown",
   "id": "914f4344",
   "metadata": {},
   "source": [
    "#### Example 1: Temperature Conversion"
   ]
  },
  {
   "cell_type": "code",
   "execution_count": null,
   "id": "12b2ddd7",
   "metadata": {},
   "outputs": [
    {
     "name": "stdout",
     "output_type": "stream",
     "text": [
      "25°C is equal to 77.0°F\n",
      "77°F is equal to 25.0°C\n"
     ]
    }
   ],
   "source": [
    "def convert_temperature(temp,unit):\n",
    "    \"\"\"This function converts temperature between Celsius and Fahrenheit.\"\"\"\n",
    "    if unit == 'C':\n",
    "        return (temp * 9/5) + 32  # Convert Celsius to Fahrenheit\n",
    "    elif unit == 'F':\n",
    "        return (temp -32) * 5/9  # Convert Fahrenheit to Celsius\n",
    "    else:\n",
    "        return \"Invalid unit! Please use 'C' for Celsius or 'F' for Fahrenheit.\"\n",
    "# Example usage\n",
    "celsius_temp = 25\n",
    "fahrenheit_temp = convert_temperature(celsius_temp, 'C')\n",
    "print(f\"{celsius_temp}°C is equal to {fahrenheit_temp}°F\")\n",
    "fahrenheit_temp = 77\n",
    "celsius_temp = convert_temperature(fahrenheit_temp, 'F')\n",
    "print(f\"{fahrenheit_temp}°F is equal to {celsius_temp}°C\")"
   ]
  },
  {
   "cell_type": "markdown",
   "id": "76720232",
   "metadata": {},
   "source": [
    "#### Example 2: Password Strength Checker"
   ]
  },
  {
   "cell_type": "code",
   "execution_count": 3,
   "id": "7c3c9d1f",
   "metadata": {},
   "outputs": [
    {
     "name": "stdout",
     "output_type": "stream",
     "text": [
      "Checking password strength...\n",
      "Strong password!\n"
     ]
    }
   ],
   "source": [
    "def strong_password(password):\n",
    "    \"\"\"This function checks if a password is strong or not.\"\"\"\n",
    "    if len(password) < 8:\n",
    "        return \"Password must be at least 8 characters long.\"\n",
    "    if not any(char.isdigit() for char in password):\n",
    "        return \"Password must contain at least one digit.\"\n",
    "    if not any(char.isupper() for char in password):\n",
    "        return \"Password must contain at least one uppercase letter.\"\n",
    "    if not any(char.islower() for char in password):\n",
    "        return \"Password must contain at least one lowercase letter.\"\n",
    "    if not any(char in \"!@#$%^&*()-_=+[]{}|;:,.<>?/\" for char in password):\n",
    "        return \"Password must contain at least one special character.\"\n",
    "    return \"Strong password!\"\n",
    "# Example usage\n",
    "print(\"Checking password strength...\")\n",
    "password = input(\"Enter a password: \")\n",
    "print(strong_password(password))\n",
    "    "
   ]
  },
  {
   "cell_type": "markdown",
   "id": "90aef58e",
   "metadata": {},
   "source": [
    "#### Example 3: Calculate The Total Cost Of Items In a Shopping Cart"
   ]
  },
  {
   "cell_type": "code",
   "execution_count": 12,
   "id": "a9db326c",
   "metadata": {},
   "outputs": [
    {
     "name": "stdout",
     "output_type": "stream",
     "text": [
      "Total cost of items in the cart: 113.25 Rs\n"
     ]
    }
   ],
   "source": [
    "def calculate_total_cost(cart):\n",
    "    \"\"\"this function will calculate the total cost of items in a shopping cart.\"\"\"\n",
    "    total_cost=0\n",
    "    for item in cart:\n",
    "        total_cost+=item['price']*item['quantity']\n",
    "    return total_cost\n",
    "# Example cart data\n",
    "cart=[\n",
    "    {'name': 'apple', 'price': 10.50, 'quantity': 4},\n",
    "    {'name': 'banana', 'price': 5.00, 'quantity': 6},\n",
    "    {'name': 'orange', 'price': 13.75, 'quantity': 3}\n",
    "]\n",
    "# Calculate total cost\n",
    "total_cost = calculate_total_cost(cart)\n",
    "print(f\"Total cost of items in the cart: {total_cost:.2f} Rs\")"
   ]
  },
  {
   "cell_type": "markdown",
   "id": "81038e0a",
   "metadata": {},
   "source": [
    "#### Example 4: Check If a String Is Palindrome"
   ]
  },
  {
   "cell_type": "code",
   "execution_count": 25,
   "id": "54523fbc",
   "metadata": {},
   "outputs": [
    {
     "name": "stdout",
     "output_type": "stream",
     "text": [
      "A man a plan a canal Panama: is a palindrome.\n"
     ]
    }
   ],
   "source": [
    "# Palindrome: a word, phrase, or sequence that reads the same backward as forward\n",
    "def is_palindrome(string):\n",
    "    \"\"\"This function checks if a string is a palindrome.\"\"\"\n",
    "    string=string.lower().replace(\" \",\"\")\n",
    "    return string==string[::-1]\n",
    "# Example usage\n",
    "stringInput=input(\"Enter a string to check if it's a palindrome: \")\n",
    "if is_palindrome(stringInput):\n",
    "    print(f\"{stringInput}: is a palindrome.\")\n",
    "else:\n",
    "    print(f\"{stringInput}: is not a palindrome.\")"
   ]
  },
  {
   "cell_type": "markdown",
   "id": "b603c0f8",
   "metadata": {},
   "source": [
    "#### Example 5: Calculate The Factorial Of a Number Using Recursion"
   ]
  },
  {
   "cell_type": "code",
   "execution_count": 3,
   "id": "7236e200",
   "metadata": {},
   "outputs": [
    {
     "name": "stdout",
     "output_type": "stream",
     "text": [
      "The factorial of 4 is 24\n"
     ]
    }
   ],
   "source": [
    "def factorial(n):\n",
    "    \"\"\"\n",
    "    Calculate the factorial of a non-negative integer using recursion.\n",
    "\n",
    "    Parameters:\n",
    "    n (int): A non-negative integer.\n",
    "\n",
    "    Returns:\n",
    "    int: Factorial of the number.\n",
    "\n",
    "    Raises:\n",
    "    ValueError: If n is negative.\n",
    "    \"\"\"\n",
    "    if n < 0:\n",
    "        raise ValueError()\n",
    "    if n == 0 or n == 1:\n",
    "        return 1\n",
    "    return n * factorial(n - 1)\n",
    "\n",
    "\n",
    "# Example usage\n",
    "try:\n",
    "    number = int(input(\"Enter a non-negative integer to calculate its factorial: \"))\n",
    "    if number < 0:\n",
    "        raise ValueError(\"Factorial is only defined for non-negative integers.\")\n",
    "    result = factorial(number)\n",
    "    print(f\"The factorial of {number} is {result}\")\n",
    "except ValueError as ve:\n",
    "    print(f\"Error: {ve}\")"
   ]
  },
  {
   "cell_type": "markdown",
   "id": "abf6d398",
   "metadata": {},
   "source": [
    "#### Example 6: A Function To Read A File and Count The Frequency Of Each Word"
   ]
  },
  {
   "cell_type": "code",
   "execution_count": 5,
   "id": "87554650",
   "metadata": {},
   "outputs": [
    {
     "name": "stdout",
     "output_type": "stream",
     "text": [
      "{'lorem': 4, 'ipsum': 4, 'is': 1, 'simply': 1, 'dummy': 2, 'text': 2, 'of': 4, 'the': 6, 'printing': 1, 'and': 3, 'typesetting': 2, 'industry': 1, 'has': 2, 'been': 1, \"industry's\": 1, 'standard': 1, 'ever': 1, 'since': 1, '1500s': 1, 'when': 1, 'an': 1, 'unknown': 1, 'printer': 1, 'took': 1, 'a': 2, 'galley': 1, 'type': 2, 'scrambled': 1, 'it': 3, 'to': 1, 'make': 1, 'specimen': 1, 'book': 1, 'survived': 1, 'not': 1, 'only': 1, 'five': 1, 'centuries': 1, 'but': 1, 'also': 1, 'leap': 1, 'into': 1, 'electronic': 1, 'remaining': 1, 'essentially': 1, 'unchanged': 1, 'was': 1, 'popularised': 1, 'in': 1, '1960s': 1, 'with': 2, 'release': 1, 'letraset': 1, 'sheets': 1, 'containing': 1, 'passages': 1, 'more': 1, 'recently': 1, 'desktop': 1, 'publishing': 1, 'software': 1, 'like': 1, 'aldus': 1, 'pagemaker': 1, 'including': 1, 'versions': 1}\n"
     ]
    }
   ],
   "source": [
    "def count_word_frequency(file_path):\n",
    "    \"\"\"This function reads a file and counts the frequency of each word.\"\"\"\n",
    "    word_count={}\n",
    "    with open(file_path, 'r') as file:\n",
    "        for line in file:\n",
    "            words=line.split()\n",
    "            for word in words:\n",
    "                word=word.lower().strip('.,!?;:\"\\'')\n",
    "                word_count[word]=word_count.get(word,0)+1\n",
    "    return word_count\n",
    "filepath='sample.txt'\n",
    "word_frequency=count_word_frequency(filepath)\n",
    "print(word_frequency)"
   ]
  },
  {
   "cell_type": "markdown",
   "id": "00e45d16",
   "metadata": {},
   "source": [
    "#### Example 7: Validate Email Address"
   ]
  },
  {
   "cell_type": "code",
   "execution_count": 8,
   "id": "72049e43",
   "metadata": {},
   "outputs": [
    {
     "name": "stdout",
     "output_type": "stream",
     "text": [
      "mahesh@gmail.com is a valid email address.\n"
     ]
    }
   ],
   "source": [
    "import re\n",
    "#Email validation function\n",
    "def validate_email(email):\n",
    "    \"\"\"This function validates an email address.\"\"\"\n",
    "    pattern = r'^[a-zA-Z0-9._%+-]+@[a-zA-Z0-9.-]+\\.[a-zA-Z0-9-.]+$'\n",
    "    return re.match(pattern, email) is not None\n",
    "# Example usage\n",
    "email = input(\"Enter an email address to validate: \")\n",
    "if validate_email(email):\n",
    "    print(f\"{email} is a valid email address.\")\n",
    "else:\n",
    "    print(f\"{email} is not a valid email address.\")"
   ]
  }
 ],
 "metadata": {
  "kernelspec": {
   "display_name": "Python 3",
   "language": "python",
   "name": "python3"
  },
  "language_info": {
   "codemirror_mode": {
    "name": "ipython",
    "version": 3
   },
   "file_extension": ".py",
   "mimetype": "text/x-python",
   "name": "python",
   "nbconvert_exporter": "python",
   "pygments_lexer": "ipython3",
   "version": "3.13.5"
  }
 },
 "nbformat": 4,
 "nbformat_minor": 5
}
