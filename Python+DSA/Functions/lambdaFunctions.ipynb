{
 "cells": [
  {
   "cell_type": "markdown",
   "id": "8329a47d",
   "metadata": {},
   "source": [
    "#### Lambda Functions In Python"
   ]
  },
  {
   "cell_type": "markdown",
   "id": "b3594421",
   "metadata": {},
   "source": [
    "* Lambda functions are small anonymous functions that are defined using the lambda keyword.\n",
    "* They can have any number of arguments but can ony have one expression.\n",
    "* Lambda functions are used for creating small, one-time use functions.\n",
    "* They are often used as arguments to higher-order functions, such as map(), filter(), and reduce()."
   ]
  },
  {
   "cell_type": "code",
   "execution_count": 2,
   "id": "a4dc3137",
   "metadata": {},
   "outputs": [
    {
     "name": "stdout",
     "output_type": "stream",
     "text": [
      "8\n",
      "15\n",
      "<class 'function'>\n",
      "<class 'function'>\n"
     ]
    }
   ],
   "source": [
    "# Syntax\n",
    "# lambda arguments: expression\n",
    "# Example\n",
    "add = lambda x, y: x + y\n",
    "print(add(5, 3))  # Output: 8\n",
    "# Example\n",
    "multiply = lambda x, y: x * y\n",
    "print(multiply(5, 3))  # Output: 15\n",
    "# Example\n",
    "square = lambda x: x ** 2\n",
    "# checking type\n",
    "print(type(add))\n",
    "print(type(square))"
   ]
  },
  {
   "cell_type": "code",
   "execution_count": 4,
   "id": "e5b58043",
   "metadata": {},
   "outputs": [
    {
     "name": "stdout",
     "output_type": "stream",
     "text": [
      "True\n",
      "False\n"
     ]
    }
   ],
   "source": [
    "# even or odd\n",
    "even=lambda x:x%2==0\n",
    "print(even(4))\n",
    "print(even(3))"
   ]
  },
  {
   "cell_type": "code",
   "execution_count": 5,
   "id": "07f81dbd",
   "metadata": {},
   "outputs": [
    {
     "name": "stdout",
     "output_type": "stream",
     "text": [
      "x + y + z = 110\n"
     ]
    }
   ],
   "source": [
    "addition1=lambda x,y,z:x+y+z\n",
    "x=int(input(\"Enter a number(x):\"))\n",
    "y=int(input(\"Enter a number(y):\"))\n",
    "z=int(input(\"Enter a number(z):\"))\n",
    "print(f'x + y + z = {addition1(x,y,z)}')"
   ]
  },
  {
   "cell_type": "code",
   "execution_count": 1,
   "id": "3e21adf9",
   "metadata": {},
   "outputs": [
    {
     "name": "stdout",
     "output_type": "stream",
     "text": [
      "[1, 4, 9, 16, 25]\n"
     ]
    }
   ],
   "source": [
    "## map()-> map() is a built-in function in Python that applies a given function to all items in an input list.\n",
    "numbers=[1,2,3,4,5]\n",
    "squares=lambda x:x**2\n",
    "print(list(map(squares,numbers)))\n",
    "\n"
   ]
  }
 ],
 "metadata": {
  "kernelspec": {
   "display_name": "Python 3",
   "language": "python",
   "name": "python3"
  },
  "language_info": {
   "codemirror_mode": {
    "name": "ipython",
    "version": 3
   },
   "file_extension": ".py",
   "mimetype": "text/x-python",
   "name": "python",
   "nbconvert_exporter": "python",
   "pygments_lexer": "ipython3",
   "version": "3.13.5"
  }
 },
 "nbformat": 4,
 "nbformat_minor": 5
}
