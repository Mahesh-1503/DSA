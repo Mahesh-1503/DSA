{
 "cells": [
  {
   "cell_type": "markdown",
   "id": "21759b5b",
   "metadata": {},
   "source": [
    "#### The map() function in Python:\n",
    "* The map() function applies a given function to all items in an input list(or any other iterable) and returns a map object (which is an iterable)."
   ]
  },
  {
   "cell_type": "code",
   "execution_count": 5,
   "id": "d3a35c4d",
   "metadata": {},
   "outputs": [
    {
     "name": "stdout",
     "output_type": "stream",
     "text": [
      "<map object at 0x0000021B17B78AC0>\n"
     ]
    },
    {
     "data": {
      "text/plain": [
       "[1, 4, 9, 16, 25, 36, 49, 64, 81, 100]"
      ]
     },
     "execution_count": 5,
     "metadata": {},
     "output_type": "execute_result"
    }
   ],
   "source": [
    "numbers=[1,2,3,4,5,6,7,8,9,10]\n",
    "squares=lambda x: x**2\n",
    "print(map(squares,numbers)) # map at <location>\n",
    "list(map(squares,numbers)) # [1, 4, 9, 16, 25, 36, 49, 64, 81, 100]"
   ]
  },
  {
   "cell_type": "code",
   "execution_count": 19,
   "id": "077bd679",
   "metadata": {},
   "outputs": [
    {
     "data": {
      "text/plain": [
       "[1, 4, 9, 16, 25, 36, 49, 64, 81, 100]"
      ]
     },
     "execution_count": 19,
     "metadata": {},
     "output_type": "execute_result"
    }
   ],
   "source": [
    "def sqrt(x):\n",
    "    return x**2\n",
    "list(map(sqrt,numbers)) # [1, 4, 9, 16, 25, 36, 49, 64, 81, 100]"
   ]
  },
  {
   "cell_type": "markdown",
   "id": "183db39c",
   "metadata": {},
   "source": [
    "#### map() multiple iterable"
   ]
  },
  {
   "cell_type": "code",
   "execution_count": 9,
   "id": "941eaec8",
   "metadata": {},
   "outputs": [
    {
     "name": "stdout",
     "output_type": "stream",
     "text": [
      "[5, 7, 9, 10]\n"
     ]
    }
   ],
   "source": [
    "### map multiple iterable\n",
    "numbers1=[1,2,3,3]\n",
    "numbers2=[4,5,6,7]\n",
    "added_numbers=list(map(lambda x,y:x+y,numbers1,numbers2))\n",
    "print(added_numbers)"
   ]
  },
  {
   "cell_type": "code",
   "execution_count": 13,
   "id": "1e418feb",
   "metadata": {},
   "outputs": [
    {
     "name": "stdout",
     "output_type": "stream",
     "text": [
      "[1, 2, 3, 4, 5]\n"
     ]
    }
   ],
   "source": [
    "# map() to convert a list of strings to integers\n",
    "# Use map to convert a list of strings to integers\n",
    "str_numbers=['1','2','3','4','5']\n",
    "int_numbers=list(map(int,str_numbers))\n",
    "print(int_numbers)"
   ]
  },
  {
   "cell_type": "code",
   "execution_count": 16,
   "id": "0f0fb8c9",
   "metadata": {},
   "outputs": [
    {
     "name": "stdout",
     "output_type": "stream",
     "text": [
      "['APPLE', 'BANANA', 'CHERRY']\n",
      "['Apple', 'Banana', 'Cherry']\n"
     ]
    }
   ],
   "source": [
    "words=['apple', 'banana', 'cherry']\n",
    "upper_words=list(map(str.upper,words))\n",
    "capital_words=list(map(str.capitalize,words))\n",
    "print(upper_words)\n",
    "print(capital_words)"
   ]
  },
  {
   "cell_type": "code",
   "execution_count": 28,
   "id": "854dd489",
   "metadata": {},
   "outputs": [
    {
     "data": {
      "text/plain": [
       "['Mahesh', 'Srikar']"
      ]
     },
     "execution_count": 28,
     "metadata": {},
     "output_type": "execute_result"
    }
   ],
   "source": [
    "def get_name(person):\n",
    "    return person['name']\n",
    "people=[\n",
    "    {'name':'Mahesh', 'age':20},\n",
    "    {'name':'Srikar', 'age':21},\n",
    "]\n",
    "list(map(get_name,people))"
   ]
  },
  {
   "cell_type": "code",
   "execution_count": 29,
   "id": "83a893b3",
   "metadata": {},
   "outputs": [
    {
     "data": {
      "text/plain": [
       "[('Mahesh', 20), ('Srikar', 21)]"
      ]
     },
     "execution_count": 29,
     "metadata": {},
     "output_type": "execute_result"
    }
   ],
   "source": [
    "def get_name(person):\n",
    "    return person['name'], person['age']\n",
    "people=[\n",
    "    {'name':'Mahesh', 'age':20},\n",
    "    {'name':'Srikar', 'age':21},\n",
    "]\n",
    "list(map(get_name,people))"
   ]
  }
 ],
 "metadata": {
  "kernelspec": {
   "display_name": "Python 3",
   "language": "python",
   "name": "python3"
  },
  "language_info": {
   "codemirror_mode": {
    "name": "ipython",
    "version": 3
   },
   "file_extension": ".py",
   "mimetype": "text/x-python",
   "name": "python",
   "nbconvert_exporter": "python",
   "pygments_lexer": "ipython3",
   "version": "3.13.5"
  }
 },
 "nbformat": 4,
 "nbformat_minor": 5
}
