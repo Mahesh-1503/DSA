{
 "cells": [
  {
   "cell_type": "markdown",
   "id": "f70c5e51",
   "metadata": {},
   "source": [
    "1.Introduction to Dictionaries<br/>\n",
    "2.Creating a dictionaries<br/>\n",
    "3.Accessing dictionary elements<br/>\n",
    "4.Modifying dictionary elements<br/>\n",
    "5.Dictionary methods<br/>\n",
    "6.Iterating over a dictionaries<br/>\n",
    "7.Nested Dictionaries<br/>\n",
    "8.Dictionary Comprehension<br/>\n",
    "9.Practical Examples and Common Errors"
   ]
  },
  {
   "cell_type": "markdown",
   "id": "69c1c135",
   "metadata": {},
   "source": [
    "<h3>Introduction to Dictionaries</h3>\n",
    "<p>What is a dictionary?</p>\n",
    "<p>A dictionary is a collection of key-value pairs. Each key-value pair maps the key to its associated value. The keys are unique in the dictionary and immutable, while values can be of any type.</p>"
   ]
  },
  {
   "cell_type": "code",
   "execution_count": 3,
   "id": "ce3216b9",
   "metadata": {},
   "outputs": [
    {
     "name": "stdout",
     "output_type": "stream",
     "text": [
      "{'key1': 1, 'key2': 3, 'key3': 3}\n",
      "<class 'dict'>\n",
      "{}\n"
     ]
    }
   ],
   "source": [
    "## Creating Dictionaries\n",
    "# A dictionary is created using curly braces `{}` with key-value pairs separated by commas. Each key is separated from its value by a colon `:`.\n",
    "# Here's an example of a simple dictionary:\n",
    "d = {\"key1\": 1, \"key2\": 3, \"key3\": 3}\n",
    "print(d)\n",
    "print(type(d))\n",
    "empty_dict = {}\n",
    "print(empty_dict)"
   ]
  },
  {
   "cell_type": "code",
   "execution_count": 4,
   "id": "02dfc0db",
   "metadata": {},
   "outputs": [
    {
     "name": "stdout",
     "output_type": "stream",
     "text": [
      "{'key1': 1, 'key2': 2, 'key3': 3}\n",
      "<class 'dict'>\n",
      "{}\n"
     ]
    }
   ],
   "source": [
    "## Other Ways to Create Dictionaries\n",
    "# You can also create dictionaries using the `dict()` constructor, which is useful for creating dictionaries from sequences of key-value pairs or from keyword arguments.\n",
    "# Here's an example using the `dict()` constructor:\n",
    "d = dict(key1=1, key2=2, key3=3)\n",
    "print(d)\n",
    "print(type(d))\n",
    "empty_dict = dict()\n",
    "print(empty_dict)"
   ]
  },
  {
   "cell_type": "code",
   "execution_count": 7,
   "id": "2f849628",
   "metadata": {},
   "outputs": [
    {
     "name": "stdout",
     "output_type": "stream",
     "text": [
      "{'name': 20, 'age': 20, 'grade': 'A'}\n"
     ]
    }
   ],
   "source": [
    "# Single Key-Value is always used\n",
    "student = {\"name\": \"John\", \"age\": 20, \"grade\": \"A\", \"name\": 20}\n",
    "print(student) ## This will overwrite the first \"name\" key with the new value 20\n"
   ]
  },
  {
   "cell_type": "code",
   "execution_count": 10,
   "id": "344d209d",
   "metadata": {},
   "outputs": [
    {
     "name": "stdout",
     "output_type": "stream",
     "text": [
      "1\n",
      "2\n",
      "3\n"
     ]
    },
    {
     "ename": "KeyError",
     "evalue": "'key4'",
     "output_type": "error",
     "traceback": [
      "\u001b[1;31m---------------------------------------------------------------------------\u001b[0m",
      "\u001b[1;31mKeyError\u001b[0m                                  Traceback (most recent call last)",
      "Cell \u001b[1;32mIn[10], line 8\u001b[0m\n\u001b[0;32m      6\u001b[0m \u001b[38;5;28mprint\u001b[39m(d[\u001b[38;5;124m\"\u001b[39m\u001b[38;5;124mkey2\u001b[39m\u001b[38;5;124m\"\u001b[39m])  \u001b[38;5;66;03m# Output: 2\u001b[39;00m\n\u001b[0;32m      7\u001b[0m \u001b[38;5;28mprint\u001b[39m(d[\u001b[38;5;124m\"\u001b[39m\u001b[38;5;124mkey3\u001b[39m\u001b[38;5;124m\"\u001b[39m])  \u001b[38;5;66;03m# Output: 3\u001b[39;00m\n\u001b[1;32m----> 8\u001b[0m \u001b[38;5;28mprint\u001b[39m(\u001b[43md\u001b[49m\u001b[43m[\u001b[49m\u001b[38;5;124;43m\"\u001b[39;49m\u001b[38;5;124;43mkey4\u001b[39;49m\u001b[38;5;124;43m\"\u001b[39;49m\u001b[43m]\u001b[49m)  \u001b[38;5;66;03m# Raises KeyError if \"key4\" does not exist\u001b[39;00m\n",
      "\u001b[1;31mKeyError\u001b[0m: 'key4'"
     ]
    }
   ],
   "source": [
    "## Accessing Values\n",
    "# You can access values in a dictionary using their keys. If the key exists, it returns the corresponding value; if not, it raises a `KeyError`.\n",
    "# Here's an example:\n",
    "d = {\"key1\": 1, \"key2\": 2, \"key3\": 3}\n",
    "print(d[\"key1\"])  # Output: 1\n",
    "print(d[\"key2\"])  # Output: 2\n",
    "print(d[\"key3\"])  # Output: 3\n",
    "print(d[\"key4\"])  # Raises KeyError if \"key4\" does not exist"
   ]
  },
  {
   "cell_type": "code",
   "execution_count": 12,
   "id": "42021764",
   "metadata": {},
   "outputs": [
    {
     "name": "stdout",
     "output_type": "stream",
     "text": [
      "1\n",
      "2\n",
      "3\n",
      "Key not found\n"
     ]
    }
   ],
   "source": [
    "## Accessing Values using get()\n",
    "# You can also use the `get()` method to access values in a dictionary. This method allows you to specify a default value to return if the key does not exist, preventing a `KeyError`.\n",
    "# Here's an example:\n",
    "print(d.get(\"key1\"))  # Output: 1\n",
    "print(d.get(\"key2\"))  # Output: 2\n",
    "print(d.get(\"key3\"))  # Output: 3\n",
    "## Default Value with get()\n",
    "print(d.get(\"key4\", \"Key not found\"))  # Output: Key not found\n"
   ]
  },
  {
   "cell_type": "code",
   "execution_count": 8,
   "id": "1fb82635",
   "metadata": {},
   "outputs": [
    {
     "name": "stdout",
     "output_type": "stream",
     "text": [
      "{'name': 'John', 'age': 20, 'grade': 'A'}\n",
      "{'name': 'John', 'age': 21, 'grade': 'A'}\n",
      "{'name': 'John', 'age': 21, 'grade': 'A', 'address': 'India,Hyderabad'}\n",
      "{'name': 'John', 'age': 21, 'address': 'India,Hyderabad'}\n"
     ]
    }
   ],
   "source": [
    "## Modifying Dictionary elements\n",
    "## Dictionaries are mutable, meaning you can change their contents after creation. You can add new key-value pairs, update existing ones, or remove them.\n",
    "# Here's an example of modifying a dictionary:\n",
    "student = {\"name\": \"John\", \"age\": 20, \"grade\": \"A\"}\n",
    "print(student)\n",
    "student[\"age\"] = 21  # Update existing key\n",
    "print(student)\n",
    "student[\"address\"] = \"India,Hyderabad\"  # Add new key-value pair\n",
    "print(student)\n",
    "del student[\"grade\"]  # Remove a key-value pair\n",
    "print(student)"
   ]
  },
  {
   "cell_type": "code",
   "execution_count": 5,
   "id": "27129607",
   "metadata": {},
   "outputs": [
    {
     "name": "stdout",
     "output_type": "stream",
     "text": [
      "dict_keys(['name', 'age', 'grade'])\n",
      "dict_values(['Mahesh', 20, 'A'])\n",
      "dict_items([('name', 'Mahesh'), ('age', 20), ('grade', 'A')])\n"
     ]
    }
   ],
   "source": [
    "## Dictionary Methods\n",
    "# Dictionaries have several built-in methods that allow you to perform various operations on them. Here are some commonly used methods:\n",
    "# 1. `keys()`: Returns a view object containing all the keys in the dictionary.\n",
    "# 2. `values()`: Returns a view object containing all the values in the dictionary.\n",
    "# Example:\n",
    "student = {\"name\": \"Mahesh\", \"age\": 20, \"grade\": \"A\"}\n",
    "print(student.keys())   # Output: dict_keys(['name', 'age', 'grade'])\n",
    "print(student.values()) # Output: dict_values(['Mahesh', 20, 'A'])\n",
    "print(student.items())  # Output: dict_items([('name', 'Mahesh'), ('age', 20), ('grade', 'A')])"
   ]
  },
  {
   "cell_type": "markdown",
   "id": "66b7ea07",
   "metadata": {},
   "source": [
    "### Shallow Copy"
   ]
  },
  {
   "cell_type": "code",
   "execution_count": 12,
   "id": "61b4cf3f",
   "metadata": {},
   "outputs": [
    {
     "name": "stdout",
     "output_type": "stream",
     "text": [
      "Original: {'name': 'Mahesh', 'age': 20, 'grade': 'A'}\n",
      "Copy: {'name': 'Mahesh', 'age': 20, 'grade': 'A'}\n",
      "After modifying copy: {'name': 'Arun', 'age': 20, 'grade': 'A'}\n",
      "After modifying copy, original remains unchanged: {'name': 'Mahesh', 'age': 20, 'grade': 'A'}\n",
      "False\n",
      "False\n"
     ]
    }
   ],
   "source": [
    "## Shallow Copying\n",
    "# You can create a shallow copy of a dictionary using the `copy()` method or the `copy` module. A shallow copy creates a new dictionary with the same keys and values, but it does not create copies of nested objects.\n",
    "# Here's an example:\n",
    "student_original = {\"name\": \"Mahesh\", \"age\": 20, \"grade\": \"A\"}\n",
    "print(f\"Original: {student_original}\")\n",
    "student_copy = student_original.copy()  # Shallow copy\n",
    "print(f\"Copy: {student_copy}\")\n",
    "student_copy[\"name\"] = \"Arun\"  # Modify the copy\n",
    "print(f\"After modifying copy: {student_copy}\")\n",
    "print(f\"After modifying copy, original remains unchanged: {student_original}\")\n",
    "print(student_original is student_copy)  # Output: False\n",
    "print(student_original == student_copy)  # Output: True"
   ]
  },
  {
   "cell_type": "markdown",
   "id": "edba8413",
   "metadata": {},
   "source": [
    "### Iterating over a dictionaries\n",
    "* You can use loops to iterate over the keys, values, or key-value pairs in a dictionary."
   ]
  },
  {
   "cell_type": "code",
   "execution_count": 13,
   "id": "741288f4",
   "metadata": {},
   "outputs": [
    {
     "name": "stdout",
     "output_type": "stream",
     "text": [
      "name\n",
      "age\n",
      "grade\n"
     ]
    }
   ],
   "source": [
    "## Iterating Over Keys\n",
    "student = {\"name\": \"Mahesh\", \"age\": 20, \"grade\": \"A\"}\n",
    "for keys in student.keys():\n",
    "    print(keys)  # Output: name, age, grade"
   ]
  },
  {
   "cell_type": "code",
   "execution_count": 14,
   "id": "1b3db429",
   "metadata": {},
   "outputs": [
    {
     "name": "stdout",
     "output_type": "stream",
     "text": [
      "Mahesh\n",
      "20\n",
      "A\n"
     ]
    }
   ],
   "source": [
    "## Iterating over Values\n",
    "for values in student.values():\n",
    "    print(values)  # Output: Mahesh, 20, A"
   ]
  },
  {
   "cell_type": "code",
   "execution_count": 15,
   "id": "6025a017",
   "metadata": {},
   "outputs": [
    {
     "name": "stdout",
     "output_type": "stream",
     "text": [
      "name: Mahesh\n",
      "age: 20\n",
      "grade: A\n"
     ]
    }
   ],
   "source": [
    "## Iterating over Key-Value Pairs\n",
    "for key, value in student.items():\n",
    "    print(f\"{key}: {value}\")  # Output: name: Mahesh, age: 20, grade: A"
   ]
  },
  {
   "cell_type": "code",
   "execution_count": 17,
   "id": "bdc9fdd6",
   "metadata": {},
   "outputs": [
    {
     "name": "stdout",
     "output_type": "stream",
     "text": [
      "{'student1': {'name': 'Mahesh', 'age': 20, 'grade': 'B', 'address': {'city': 'Hyderabad', 'state': 'Telangana', 'country': 'India'}}, 'student2': {'name': 'Arun', 'age': 22, 'grade': 'A', 'address': {'city': 'Bangalore', 'state': 'Karnataka', 'country': 'India'}}}\n",
      "Mahesh\n",
      "Hyderabad\n",
      "Arun\n",
      "Bangalore\n"
     ]
    }
   ],
   "source": [
    "## Nested Dictionaries\n",
    "# Dictionaries can contain other dictionaries as values, allowing you to create complex data structures. Here's an example of a nested dictionary:\n",
    "students = {\n",
    "    \"student1\":{\n",
    "        \"name\": \"Mahesh\",\n",
    "    \"age\": 20,\n",
    "    \"grade\": \"B\",\n",
    "    \"address\": {\n",
    "        \"city\": \"Hyderabad\",\n",
    "        \"state\": \"Telangana\",\n",
    "        \"country\": \"India\"\n",
    "    }},\n",
    "    \"student2\": {\n",
    "        \"name\": \"Arun\",\n",
    "        \"age\": 22,\n",
    "        \"grade\": \"A\",\n",
    "        \"address\": {\n",
    "            \"city\": \"Bangalore\",\n",
    "            \"state\": \"Karnataka\",\n",
    "            \"country\": \"India\"\n",
    "        }\n",
    "    }\n",
    "}\n",
    "print(students)\n",
    "print(students[\"student1\"][\"name\"])  # Output: Mahesh\n",
    "print(students[\"student1\"][\"address\"][\"city\"])  # Output: Hyderabad\n",
    "print(students[\"student2\"][\"name\"])  # Output: Arun\n",
    "print(students[\"student2\"][\"address\"][\"city\"])  # Output: Bangalore"
   ]
  },
  {
   "cell_type": "code",
   "execution_count": 23,
   "id": "70a815e2",
   "metadata": {},
   "outputs": [
    {
     "data": {
      "text/plain": [
       "dict_items([('student1', {'name': 'Mahesh', 'age': 20, 'grade': 'B', 'address': {'city': 'Hyderabad', 'state': 'Telangana', 'country': 'India'}}), ('student2', {'name': 'Arun', 'age': 22, 'grade': 'A', 'address': {'city': 'Bangalore', 'state': 'Karnataka', 'country': 'India'}})])"
      ]
     },
     "execution_count": 23,
     "metadata": {},
     "output_type": "execute_result"
    }
   ],
   "source": [
    "students.items() # Returns a view object containing key-value pairs of the outer dictionary"
   ]
  },
  {
   "cell_type": "code",
   "execution_count": 24,
   "id": "64a209ca",
   "metadata": {},
   "outputs": [
    {
     "name": "stdout",
     "output_type": "stream",
     "text": [
      "student1:{'name': 'Mahesh', 'age': 20, 'grade': 'B', 'address': {'city': 'Hyderabad', 'state': 'Telangana', 'country': 'India'}}\n",
      "name: Mahesh\n",
      "age: 20\n",
      "grade: B\n",
      "address: {'city': 'Hyderabad', 'state': 'Telangana', 'country': 'India'}\n",
      "student2:{'name': 'Arun', 'age': 22, 'grade': 'A', 'address': {'city': 'Bangalore', 'state': 'Karnataka', 'country': 'India'}}\n",
      "name: Arun\n",
      "age: 22\n",
      "grade: A\n",
      "address: {'city': 'Bangalore', 'state': 'Karnataka', 'country': 'India'}\n"
     ]
    }
   ],
   "source": [
    "## Iterating Over nested Dictionaries\n",
    "for student_id, student_info in students.items():\n",
    "    print(f\"{student_id}:{student_info}\")\n",
    "    for key, value in student_info.items():\n",
    "        print(f\"{key}: {value}\")"
   ]
  },
  {
   "cell_type": "markdown",
   "id": "6ff7d4b7",
   "metadata": {},
   "source": [
    "### Dictionary Comprehensions"
   ]
  },
  {
   "cell_type": "code",
   "execution_count": null,
   "id": "d64d48a1",
   "metadata": {},
   "outputs": [
    {
     "name": "stdout",
     "output_type": "stream",
     "text": [
      "{0: 0, 1: 1, 2: 4, 3: 9, 4: 16, 5: 25, 6: 36, 7: 49, 8: 64, 9: 81}\n"
     ]
    }
   ],
   "source": [
    "squares={x:x**2 for x in range(11)}\n",
    "print(squares)"
   ]
  },
  {
   "cell_type": "code",
   "execution_count": 32,
   "id": "7bc03046",
   "metadata": {},
   "outputs": [
    {
     "name": "stdout",
     "output_type": "stream",
     "text": [
      "{0, 64, 4, 36, 100, 16}\n"
     ]
    }
   ],
   "source": [
    "## conditional dictionary comprehension\n",
    "squares_even = {x**2 for x in range(11) if x % 2 == 0}\n",
    "print(squares_even)  # Output: {0: 0, 2: 4, 4: 16, 6: 36, 8: 64, 10: 100}"
   ]
  },
  {
   "cell_type": "code",
   "execution_count": null,
   "id": "04ab5ef0",
   "metadata": {},
   "outputs": [],
   "source": []
  }
 ],
 "metadata": {
  "kernelspec": {
   "display_name": "Python 3",
   "language": "python",
   "name": "python3"
  },
  "language_info": {
   "codemirror_mode": {
    "name": "ipython",
    "version": 3
   },
   "file_extension": ".py",
   "mimetype": "text/x-python",
   "name": "python",
   "nbconvert_exporter": "python",
   "pygments_lexer": "ipython3",
   "version": "3.13.5"
  }
 },
 "nbformat": 4,
 "nbformat_minor": 5
}
