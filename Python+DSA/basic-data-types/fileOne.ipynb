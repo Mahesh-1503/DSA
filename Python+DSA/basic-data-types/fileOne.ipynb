{
 "cells": [
  {
   "cell_type": "code",
   "execution_count": 1,
   "id": "52f8b990",
   "metadata": {},
   "outputs": [
    {
     "data": {
      "text/plain": [
       "int"
      ]
     },
     "execution_count": 1,
     "metadata": {},
     "output_type": "execute_result"
    }
   ],
   "source": [
    "## Integers Examples\n",
    "\n",
    "age = 35\n",
    "type(age)"
   ]
  },
  {
   "cell_type": "code",
   "execution_count": 3,
   "id": "6ca849c7",
   "metadata": {},
   "outputs": [
    {
     "name": "stdout",
     "output_type": "stream",
     "text": [
      "5.11\n",
      "<class 'float'>\n"
     ]
    }
   ],
   "source": [
    "## floating point numbers Examples\n",
    "\n",
    "height=5.11\n",
    "print(height)\n",
    "print(type(height))"
   ]
  },
  {
   "cell_type": "code",
   "execution_count": 4,
   "id": "cbfbed12",
   "metadata": {},
   "outputs": [
    {
     "name": "stdout",
     "output_type": "stream",
     "text": [
      "Mahesh\n",
      "<class 'str'>\n"
     ]
    }
   ],
   "source": [
    "## String data type Examples\n",
    "\n",
    "name = \"Mahesh\"\n",
    "print(name)\n",
    "print(type(name))"
   ]
  },
  {
   "cell_type": "code",
   "execution_count": null,
   "id": "8e2ab900",
   "metadata": {},
   "outputs": [
    {
     "name": "stdout",
     "output_type": "stream",
     "text": [
      "True\n",
      "<class 'bool'>\n"
     ]
    }
   ],
   "source": [
    "## Boolean data type Examples(True/False)\n",
    "is_student = True\n",
    "print(is_student)\n",
    "print(type(is_student))"
   ]
  },
  {
   "cell_type": "code",
   "execution_count": 2,
   "id": "35cfffd4",
   "metadata": {},
   "outputs": [
    {
     "name": "stdout",
     "output_type": "stream",
     "text": [
      "False\n",
      "<class 'bool'>\n"
     ]
    },
    {
     "data": {
      "text/plain": [
       "False"
      ]
     },
     "execution_count": 2,
     "metadata": {},
     "output_type": "execute_result"
    }
   ],
   "source": [
    "## default it is false\n",
    "is_teacher = False\n",
    "print(is_teacher)\n",
    "print(type(is_teacher))\n",
    "bool()"
   ]
  },
  {
   "cell_type": "code",
   "execution_count": 9,
   "id": "23de1b79",
   "metadata": {},
   "outputs": [
    {
     "name": "stdout",
     "output_type": "stream",
     "text": [
      "False\n",
      "True\n",
      "False\n",
      "True\n",
      "False\n",
      "True\n",
      "<class 'bool'>\n"
     ]
    }
   ],
   "source": [
    "a = 10\n",
    "b = 20\n",
    "print(a == b)  # False\n",
    "print(a != b)  # True\n",
    "print(a > b)  # False\n",
    "print(a < b)  # True\n",
    "print(a >= b)  # False\n",
    "print(a <= b)  # True\n",
    "print(type(a == b))  # <class 'bool'>"
   ]
  },
  {
   "cell_type": "code",
   "execution_count": 11,
   "id": "43111c8c",
   "metadata": {},
   "outputs": [
    {
     "ename": "TypeError",
     "evalue": "can only concatenate str (not \"int\") to str",
     "output_type": "error",
     "traceback": [
      "\u001b[1;31m---------------------------------------------------------------------------\u001b[0m",
      "\u001b[1;31mTypeError\u001b[0m                                 Traceback (most recent call last)",
      "Cell \u001b[1;32mIn[11], line 3\u001b[0m\n\u001b[0;32m      1\u001b[0m \u001b[38;5;66;03m## common errors\u001b[39;00m\n\u001b[1;32m----> 3\u001b[0m result \u001b[38;5;241m=\u001b[39m \u001b[38;5;124;43m\"\u001b[39;49m\u001b[38;5;124;43mHello\u001b[39;49m\u001b[38;5;124;43m\"\u001b[39;49m\u001b[43m \u001b[49m\u001b[38;5;241;43m+\u001b[39;49m\u001b[43m \u001b[49m\u001b[38;5;241;43m5\u001b[39;49m\n",
      "\u001b[1;31mTypeError\u001b[0m: can only concatenate str (not \"int\") to str"
     ]
    }
   ],
   "source": [
    "## common errors\n",
    "\n",
    "result = \"Hello\" + 5"
   ]
  },
  {
   "cell_type": "code",
   "execution_count": 13,
   "id": "a42de826",
   "metadata": {},
   "outputs": [
    {
     "name": "stdout",
     "output_type": "stream",
     "text": [
      "Hello5\n"
     ]
    }
   ],
   "source": [
    "result = \"Hello\" + str(5)\n",
    "print(result)  # Hello5"
   ]
  },
  {
   "cell_type": "markdown",
   "id": "21355fdc",
   "metadata": {},
   "source": [
    "#### Assignment Operators"
   ]
  },
  {
   "cell_type": "code",
   "execution_count": 4,
   "id": "40dce883",
   "metadata": {},
   "outputs": [
    {
     "name": "stdout",
     "output_type": "stream",
     "text": [
      "Initial value of a: 20\n",
      "After 'a += 5': 25\n",
      "After 'a -= 10': 15\n",
      "After 'a *= 2': 30\n",
      "After 'a /= 4': 7.5\n",
      "After 'a %= 7' (from a=30): 2\n",
      "After 'a **= 3': 8\n",
      "After 'a //= 5' (from a=17): 3\n"
     ]
    }
   ],
   "source": [
    "# assignment_operators_demo.py\n",
    "\n",
    "# 1. Simple Assignment (=)\n",
    "# Assign the value 20 to the variable 'a'\n",
    "a = 20\n",
    "print(f\"Initial value of a: {a}\") # Output: 20\n",
    "\n",
    "# 2. Addition Assignment (+=)\n",
    "# This is equivalent to: a = a + 5\n",
    "a += 5\n",
    "print(f\"After 'a += 5': {a}\") # Output: 25\n",
    "\n",
    "# 3. Subtraction Assignment (-=)\n",
    "# This is equivalent to: a = a - 10\n",
    "a -= 10\n",
    "print(f\"After 'a -= 10': {a}\") # Output: 15\n",
    "\n",
    "# 4. Multiplication Assignment (*=)\n",
    "# This is equivalent to: a = a * 2\n",
    "a *= 2\n",
    "print(f\"After 'a *= 2': {a}\") # Output: 30\n",
    "\n",
    "# 5. Division Assignment (/=)\n",
    "# This is equivalent to: a = a / 4. Note the result is a float.\n",
    "a /= 4\n",
    "print(f\"After 'a /= 4': {a}\") # Output: 7.5\n",
    "\n",
    "# 6. Modulus Assignment (%=)\n",
    "# Let's reset 'a' to an integer for a clearer modulus example\n",
    "a = 30\n",
    "# This is equivalent to: a = a % 7 (30 divided by 7 is 4 with a remainder of 2)\n",
    "a %= 7\n",
    "print(f\"After 'a %= 7' (from a=30): {a}\") # Output: 2\n",
    "\n",
    "# 7. Exponentiation Assignment (**=)\n",
    "# This is equivalent to: a = a ** 3 (2 to the power of 3)\n",
    "a **= 3\n",
    "print(f\"After 'a **= 3': {a}\") # Output: 8\n",
    "\n",
    "# 8. Floor Division Assignment (//=)\n",
    "# Let's reset 'a' again for a clearer floor division example\n",
    "a = 17\n",
    "# This is equivalent to: a = a // 5 (17 divided by 5 is 3.4, floor is 3)\n",
    "a //= 5\n",
    "print(f\"After 'a //= 5' (from a=17): {a}\") # Output: 3"
   ]
  },
  {
   "cell_type": "markdown",
   "id": "9e902472",
   "metadata": {},
   "source": [
    "#### Identity Operators ==> is, is not"
   ]
  },
  {
   "cell_type": "code",
   "execution_count": 5,
   "id": "4f7cf04c",
   "metadata": {},
   "outputs": [
    {
     "name": "stdout",
     "output_type": "stream",
     "text": [
      "list_a is list_b: False\n",
      "list_a is list_c: True\n"
     ]
    }
   ],
   "source": [
    "list_a = [1, 2, 3]\n",
    "list_b = [1, 2, 3]\n",
    "list_c = list_a # list_c now points to the same object as list_a\n",
    "\n",
    "# Check for IDENTITY\n",
    "print(f\"list_a is list_b: {list_a is list_b}\") # False, because they are two different objects\n",
    "\n",
    "print(f\"list_a is list_c: {list_a is list_c}\") # True, because they point to the exact same object"
   ]
  },
  {
   "cell_type": "code",
   "execution_count": 6,
   "id": "3c0b23a7",
   "metadata": {},
   "outputs": [
    {
     "name": "stdout",
     "output_type": "stream",
     "text": [
      "list_a is not list_b: True\n",
      "list_a is not list_c: False\n"
     ]
    }
   ],
   "source": [
    "list_a = [1, 2, 3]\n",
    "list_b = [1, 2, 3]\n",
    "list_c = list_a\n",
    "\n",
    "# Check for non-identity\n",
    "print(f\"list_a is not list_b: {list_a is not list_b}\") # True, they are different objects\n",
    "\n",
    "print(f\"list_a is not list_c: {list_a is not list_c}\") # False, they are the same object"
   ]
  },
  {
   "cell_type": "code",
   "execution_count": 7,
   "id": "feb4e9e0",
   "metadata": {},
   "outputs": [
    {
     "name": "stdout",
     "output_type": "stream",
     "text": [
      "list_a is list_b: False\n",
      "list_a == list_b: True\n"
     ]
    }
   ],
   "source": [
    "list_a = [10, 20, 30]\n",
    "list_b = [10, 20, 30]\n",
    "\n",
    "# IDENTITY check (are they the same object?)\n",
    "print(f\"list_a is list_b: {list_a is list_b}\") # False\n",
    "\n",
    "# EQUALITY check (do they have the same content?)\n",
    "print(f\"list_a == list_b: {list_a == list_b}\") # True"
   ]
  },
  {
   "cell_type": "code",
   "execution_count": 10,
   "id": "73ba7821",
   "metadata": {},
   "outputs": [
    {
     "name": "stdout",
     "output_type": "stream",
     "text": [
      "The variable is None.\n"
     ]
    }
   ],
   "source": [
    "my_variable = None # Change this to test different scenarios\n",
    "\n",
    "if my_variable is None:\n",
    "    print(\"The variable is None.\")\n",
    "\n",
    "if my_variable is not None:\n",
    "    print(\"The variable is not None.\")"
   ]
  }
 ],
 "metadata": {
  "kernelspec": {
   "display_name": "Python 3",
   "language": "python",
   "name": "python3"
  },
  "language_info": {
   "codemirror_mode": {
    "name": "ipython",
    "version": 3
   },
   "file_extension": ".py",
   "mimetype": "text/x-python",
   "name": "python",
   "nbconvert_exporter": "python",
   "pygments_lexer": "ipython3",
   "version": "3.13.5"
  }
 },
 "nbformat": 4,
 "nbformat_minor": 5
}
