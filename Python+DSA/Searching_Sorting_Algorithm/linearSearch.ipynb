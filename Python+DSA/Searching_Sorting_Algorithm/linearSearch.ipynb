{
 "cells": [
  {
   "cell_type": "markdown",
   "id": "59c20114",
   "metadata": {},
   "source": [
    "#### Linear Search"
   ]
  },
  {
   "cell_type": "markdown",
   "id": "657cc8af",
   "metadata": {},
   "source": [
    "1. It is the simplest searching algorithm.\n",
    "2. It is also called as sequential search.\n",
    "3. It is used to search a key element from the given array/list by checking every element of the array/list.\n",
    "4. It is not efficient for large data sets.\n",
    "5. It is used when the array/list is unsorted.\n",
    "6. It is used when the array/list is small."
   ]
  },
  {
   "cell_type": "markdown",
   "id": "ff6c8360",
   "metadata": {},
   "source": [
    "0. Algorithm:\n",
    "1. arr, target\n",
    "2. for i in range(len(arr)):\n",
    "3.     if arr[i] == target:\n",
    "4.         return i\n",
    "5. return -1"
   ]
  },
  {
   "cell_type": "code",
   "execution_count": 11,
   "id": "72a7a0f6",
   "metadata": {},
   "outputs": [
    {
     "name": "stdout",
     "output_type": "stream",
     "text": [
      "3\n"
     ]
    }
   ],
   "source": [
    "def linear_search(arr, target):\n",
    "    for index in range(len(arr)):\n",
    "        if arr[index]==target:\n",
    "            return index\n",
    "    return -1\n",
    "\n",
    "my_list=[10, 23, 45, 70, 11]\n",
    "target=70\n",
    "result=linear_search(my_list, target)\n",
    "print(result)"
   ]
  },
  {
   "cell_type": "code",
   "execution_count": 4,
   "id": "b18cb47a",
   "metadata": {},
   "outputs": [
    {
     "name": "stdout",
     "output_type": "stream",
     "text": [
      "3\n"
     ]
    }
   ],
   "source": [
    "def linear_search(arr, target):\n",
    "    \"\"\"\n",
    "    Perform a linear search for the target in the array using built-ins.\n",
    "    \n",
    "    Parameters:\n",
    "    arr (list): The list to search through.\n",
    "    target: The value to search for.\n",
    "    \n",
    "    Returns:\n",
    "    int: The index of the target if found, otherwise -1.\n",
    "    \"\"\"\n",
    "    try:\n",
    "        return arr.index(target)\n",
    "    except ValueError:\n",
    "        return -1\n",
    "\n",
    "my_list = [10, 23, 45, 70, 11]\n",
    "target = 70\n",
    "result = linear_search(my_list, target)\n",
    "print(result)  # Output: 3"
   ]
  },
  {
   "cell_type": "code",
   "execution_count": 9,
   "id": "cbd056e6",
   "metadata": {},
   "outputs": [
    {
     "name": "stdout",
     "output_type": "stream",
     "text": [
      "[3]\n"
     ]
    }
   ],
   "source": [
    "my_list = [10, 23, 45, 70, 11]\n",
    "target = 70\n",
    "result = [i for i, x in enumerate(my_list) if x == target]\n",
    "print(result)  # Output: [3]"
   ]
  }
 ],
 "metadata": {
  "kernelspec": {
   "display_name": "Python 3",
   "language": "python",
   "name": "python3"
  },
  "language_info": {
   "codemirror_mode": {
    "name": "ipython",
    "version": 3
   },
   "file_extension": ".py",
   "mimetype": "text/x-python",
   "name": "python",
   "nbconvert_exporter": "python",
   "pygments_lexer": "ipython3",
   "version": "3.13.5"
  }
 },
 "nbformat": 4,
 "nbformat_minor": 5
}
