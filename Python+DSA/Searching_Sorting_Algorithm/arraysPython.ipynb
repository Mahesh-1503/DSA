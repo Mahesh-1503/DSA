{
 "cells": [
  {
   "cell_type": "markdown",
   "id": "b18c30fe",
   "metadata": {},
   "source": [
    "#### Arrays"
   ]
  },
  {
   "cell_type": "markdown",
   "id": "a51199b0",
   "metadata": {},
   "source": [
    "1. An array is a collection of items stored at contiguous memory locations.\n",
    "2. All elements in an array must be of the same data type.\n",
    "3. Arrays allow for efficient access and manipulation of data.\n",
    "4. Array.\n",
    "   - fixed size arr[6]\n",
    "   - homogenous data type example: int, float, char"
   ]
  },
  {
   "cell_type": "code",
   "execution_count": 2,
   "id": "a35475a4",
   "metadata": {},
   "outputs": [
    {
     "name": "stdout",
     "output_type": "stream",
     "text": [
      "[1, 1.5, 'python']\n",
      "1\n"
     ]
    }
   ],
   "source": [
    "l1=[]\n",
    "l1.append(1)\n",
    "l1.append(1.5)\n",
    "l1.append(\"python\")\n",
    "print(l1)\n",
    "print(l1[0])"
   ]
  },
  {
   "cell_type": "markdown",
   "id": "d2922ae5",
   "metadata": {},
   "source": [
    "In python we use list instead of arrays as they provide more felxibility. However, python provide ability to use array via libraries such as numpy and array."
   ]
  },
  {
   "cell_type": "code",
   "execution_count": 2,
   "id": "6b86f7c1",
   "metadata": {},
   "outputs": [
    {
     "name": "stdout",
     "output_type": "stream",
     "text": [
      "array('i', [1, 2, 3, 4, 5])\n"
     ]
    }
   ],
   "source": [
    "import array as array\n",
    "# Creating an array of integers\n",
    "nums=array.array('i', [1, 2, 3, 4, 5])\n",
    "print(nums)    "
   ]
  },
  {
   "cell_type": "code",
   "execution_count": 6,
   "id": "468187bc",
   "metadata": {},
   "outputs": [
    {
     "name": "stdout",
     "output_type": "stream",
     "text": [
      "array('b', [109, 97, 104, 101, 115, 104])\n",
      "mahesh\n"
     ]
    }
   ],
   "source": [
    "import array as arr\n",
    "nums = arr.array('b', [ord(c) for c in ['m', 'a', 'h', 'e', 's', 'h']])\n",
    "print(nums)  # This will print ASCII codes\n",
    "print(''.join(chr(c) for c in nums))  # To get back the original string"
   ]
  },
  {
   "cell_type": "markdown",
   "id": "cb120b27",
   "metadata": {},
   "source": [
    "Differences between list and array\n",
    "1. Lists are more flexible than arrays as they can store different data types and can be resized dynamically.\n",
    "2. Arrays are more efficient in terms of memory usage and access time as they store data in contiguous memory locations.\n",
    "3. Lists are easier to use and understand, while arrays require more knowledge of memory management and data structures.\n",
    "4. Lists are suitable for general-purpose programming, while arrays are more commonly used in scientific computing and numerical analysis.\n",
    "5. Lists are more versatile and can be used to implement complex data structures such as stacks, queues, and trees, while arrays are more limited in their applications.\n",
    "6. Lists are more commonly used in Python programming, while arrays are more commonly used in other programming languages such as C and C++."
   ]
  }
 ],
 "metadata": {
  "kernelspec": {
   "display_name": "Python 3",
   "language": "python",
   "name": "python3"
  },
  "language_info": {
   "codemirror_mode": {
    "name": "ipython",
    "version": 3
   },
   "file_extension": ".py",
   "mimetype": "text/x-python",
   "name": "python",
   "nbconvert_exporter": "python",
   "pygments_lexer": "ipython3",
   "version": "3.13.5"
  }
 },
 "nbformat": 4,
 "nbformat_minor": 5
}
