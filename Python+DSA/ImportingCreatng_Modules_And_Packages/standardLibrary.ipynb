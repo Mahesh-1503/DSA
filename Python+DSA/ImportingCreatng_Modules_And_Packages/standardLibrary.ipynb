{
 "cells": [
  {
   "cell_type": "markdown",
   "id": "a33d63b0",
   "metadata": {},
   "source": [
    "#### Standard Library Overview"
   ]
  },
  {
   "cell_type": "markdown",
   "id": "0aec9583",
   "metadata": {},
   "source": [
    "Python's Standard Library is a collection of modules and packages that come bundled with python, providing a wide range of functionalities out of the box. Here's an overview of, some of the most commonly used modules and packages in the Python Standard Library."
   ]
  },
  {
   "cell_type": "code",
   "execution_count": 2,
   "id": "40ff5df1",
   "metadata": {},
   "outputs": [
    {
     "name": "stdout",
     "output_type": "stream",
     "text": [
      "array('i', [1, 2, 3, 4])\n"
     ]
    }
   ],
   "source": [
    "import array\n",
    "arr=array.array('i',[1, 2, 3, 4])\n",
    "print(arr)"
   ]
  },
  {
   "cell_type": "code",
   "execution_count": 4,
   "id": "de982039",
   "metadata": {},
   "outputs": [
    {
     "name": "stdout",
     "output_type": "stream",
     "text": [
      "4.0\n",
      "3.141592653589793\n"
     ]
    }
   ],
   "source": [
    "import math\n",
    "print(math.sqrt(16))\n",
    "print(math.pi)"
   ]
  },
  {
   "cell_type": "markdown",
   "id": "d5538c99",
   "metadata": {},
   "source": [
    "- - random"
   ]
  },
  {
   "cell_type": "code",
   "execution_count": 18,
   "id": "c431fad9",
   "metadata": {},
   "outputs": [
    {
     "name": "stdout",
     "output_type": "stream",
     "text": [
      "3\n",
      "5.20939272632296\n",
      "0.03782430182751384\n",
      "apple\n"
     ]
    }
   ],
   "source": [
    "import random\n",
    "print(random.randint(1, 10))  # Random integer between 1 and 10\n",
    "print(random.uniform(1, 10))  # Random float between 1 and 10\n",
    "print(random.random())  # Random float between 0 and 1\n",
    "print(random.choice(['apple', 'banana', 'cherry']))  # Random choice from a list"
   ]
  },
  {
   "cell_type": "markdown",
   "id": "1f49f848",
   "metadata": {},
   "source": [
    "- - File And Directory Access"
   ]
  },
  {
   "cell_type": "code",
   "execution_count": 22,
   "id": "7693a66b",
   "metadata": {},
   "outputs": [
    {
     "name": "stdout",
     "output_type": "stream",
     "text": [
      "e:\\DSA\\Python+DSA\\ImportingCreatng_Modules_And_Packages\n",
      "['Import_ModulesPackages.ipynb', 'package', 'standardLibrary.ipynb', 'test.py']\n",
      "False\n",
      "False\n",
      "False\n",
      "2025-08-21 23:41:12.246972\n"
     ]
    }
   ],
   "source": [
    "import os\n",
    "import datetime\n",
    "print(os.getcwd())  # Get current working directory\n",
    "print(os.listdir())  # List all files and directories in the current working directory\n",
    "print(os.path.exists('file.txt'))  # Check if a file exists\n",
    "print(os.path.isfile('file.txt'))  # Check if a file is a file\n",
    "print(os.path.isdir('directory'))  # Check if a file is a directory\n",
    "print(datetime.datetime.now())  # Get current date and time\n"
   ]
  },
  {
   "cell_type": "code",
   "execution_count": 28,
   "id": "e0c28020",
   "metadata": {},
   "outputs": [],
   "source": [
    "os.mkdir('new_directory')  # Create a new directory"
   ]
  },
  {
   "cell_type": "code",
   "execution_count": null,
   "id": "33882411",
   "metadata": {},
   "outputs": [],
   "source": [
    "os.rename('old_name.txt', 'new_name.txt')  # Rename a file"
   ]
  },
  {
   "cell_type": "code",
   "execution_count": null,
   "id": "4097a43c",
   "metadata": {},
   "outputs": [],
   "source": [
    "os.remove('file_to_delete.txt')  # Delete a file"
   ]
  },
  {
   "cell_type": "markdown",
   "id": "d4ef4db9",
   "metadata": {},
   "source": [
    "- - High level operations on files and collection of files"
   ]
  },
  {
   "cell_type": "code",
   "execution_count": 29,
   "id": "d834d84e",
   "metadata": {},
   "outputs": [
    {
     "data": {
      "text/plain": [
       "'destination.txt'"
      ]
     },
     "execution_count": 29,
     "metadata": {},
     "output_type": "execute_result"
    }
   ],
   "source": [
    "import shutil\n",
    "shutil.copy('source.txt', 'destination.txt')"
   ]
  },
  {
   "cell_type": "markdown",
   "id": "ffc6ac3a",
   "metadata": {},
   "source": [
    "- - Data Serialization"
   ]
  },
  {
   "cell_type": "code",
   "execution_count": 32,
   "id": "041139f8",
   "metadata": {},
   "outputs": [
    {
     "name": "stdout",
     "output_type": "stream",
     "text": [
      "{\"name\": \"Mahesh\", \"age\": 20}\n",
      "<class 'str'>\n",
      "-------------------------------\n",
      "{'name': 'Mahesh', 'age': 20}\n",
      "<class 'dict'>\n"
     ]
    }
   ],
   "source": [
    "import json\n",
    "data={'name':'Mahesh', 'age':20}\n",
    "json_string=json.dumps(data)  # Convert Python object to JSON string\n",
    "print(json_string)\n",
    "print(type(json_string))  # Check type of json_string\n",
    "\n",
    "print(\"-------------------------------\")\n",
    "\n",
    "parsed_data=json.loads(json_string)  # Convert JSON string back to Python object\n",
    "print(parsed_data)\n",
    "print(type(parsed_data))  # Check type of parsed_data"
   ]
  },
  {
   "cell_type": "markdown",
   "id": "fcf1563c",
   "metadata": {},
   "source": [
    "- - CSV"
   ]
  },
  {
   "cell_type": "code",
   "execution_count": 34,
   "id": "943786df",
   "metadata": {},
   "outputs": [
    {
     "name": "stdout",
     "output_type": "stream",
     "text": [
      "['Name', 'Age']\n",
      "['Mahesh', '20']\n"
     ]
    }
   ],
   "source": [
    "import csv\n",
    "with open('example.csv', mode='w', newline='') as file:\n",
    "    writer=csv.writer(file)\n",
    "    writer.writerow(['Name', 'Age'])\n",
    "    writer.writerow(['Mahesh', 20])\n",
    "with open('example.csv', mode='r') as file:\n",
    "    reader=csv.reader(file)\n",
    "    for row in reader:\n",
    "        print(row)  # Print each row in the CSV file"
   ]
  },
  {
   "cell_type": "markdown",
   "id": "ec11faae",
   "metadata": {},
   "source": [
    "- - datetime timedelta"
   ]
  },
  {
   "cell_type": "code",
   "execution_count": 36,
   "id": "395e113e",
   "metadata": {},
   "outputs": [
    {
     "name": "stdout",
     "output_type": "stream",
     "text": [
      "2025-08-22 00:01:40.951771\n",
      "2025-08-21 00:01:40.951771\n"
     ]
    }
   ],
   "source": [
    "from datetime import datetime, timedelta\n",
    "now = datetime.now()  # Get current date and time\n",
    "print(now)\n",
    "yesterday = now - timedelta(days=1)  # Subtract one day from the current date and time\n",
    "print(yesterday)  # Print yesterday's date and time"
   ]
  },
  {
   "cell_type": "code",
   "execution_count": 40,
   "id": "1440cca8",
   "metadata": {},
   "outputs": [
    {
     "name": "stdout",
     "output_type": "stream",
     "text": [
      "2025-08-22\n"
     ]
    }
   ],
   "source": [
    "from datetime import date\n",
    "\n",
    "# Get today's date as a date object\n",
    "today = date.today()\n",
    "\n",
    "# Convert the date object to a string in YYYY-MM-DD format\n",
    "date_string = today.strftime(\"%Y-%m-%d\")\n",
    "\n",
    "print(date_string)"
   ]
  },
  {
   "cell_type": "markdown",
   "id": "eb2c6947",
   "metadata": {},
   "source": [
    "- - time"
   ]
  },
  {
   "cell_type": "code",
   "execution_count": 37,
   "id": "dbbf1d73",
   "metadata": {},
   "outputs": [
    {
     "name": "stdout",
     "output_type": "stream",
     "text": [
      "1755801204.5807478\n",
      "Fri Aug 22 00:03:26 2025\n",
      "time.struct_time(tm_year=2025, tm_mon=8, tm_mday=22, tm_hour=0, tm_min=3, tm_sec=26, tm_wday=4, tm_yday=234, tm_isdst=0)\n"
     ]
    }
   ],
   "source": [
    "import time\n",
    "print(time.time())  # Get current time in seconds since the epoch\n",
    "time.sleep(2)  # Sleep for 2 seconds\n",
    "print(time.ctime())  # Get current time as a string\n",
    "print(time.localtime())  # Get current local time"
   ]
  },
  {
   "cell_type": "markdown",
   "id": "07b9ddf7",
   "metadata": {},
   "source": [
    "- - Regular Expressions"
   ]
  },
  {
   "cell_type": "code",
   "execution_count": 49,
   "id": "2a2d28a3",
   "metadata": {},
   "outputs": [
    {
     "name": "stdout",
     "output_type": "stream",
     "text": [
      "123\n"
     ]
    }
   ],
   "source": [
    "import re\n",
    "pattern=r'\\d+'\n",
    "text='There are 123 apples and 456 oranges.'\n",
    "natch=re.search(pattern, text)\n",
    "print(natch.group())  # Print the matched substring"
   ]
  },
  {
   "cell_type": "markdown",
   "id": "c9a64bee",
   "metadata": {},
   "source": [
    "- - Conclusion\n",
    " - Python's Standard Library is extensive and provides     tools for almost any task you can think of, from file\n",
    "handling to web services, from data serialization to concurrent execution. Familiarizing yourself with the\n",
    "modules and packages available in the Standard Library can significantly enhance your ability to write efficient\n",
    "and effective Python programs."
   ]
  }
 ],
 "metadata": {
  "kernelspec": {
   "display_name": "Python 3",
   "language": "python",
   "name": "python3"
  },
  "language_info": {
   "codemirror_mode": {
    "name": "ipython",
    "version": 3
   },
   "file_extension": ".py",
   "mimetype": "text/x-python",
   "name": "python",
   "nbconvert_exporter": "python",
   "pygments_lexer": "ipython3",
   "version": "3.13.5"
  }
 },
 "nbformat": 4,
 "nbformat_minor": 5
}
