{
 "cells": [
  {
   "cell_type": "markdown",
   "id": "17cb7703",
   "metadata": {},
   "source": [
    "#### Importing Modules In Python: Modules and Packages"
   ]
  },
  {
   "cell_type": "markdown",
   "id": "e54e3f96",
   "metadata": {},
   "source": [
    "In python, modules and packages help organize and reuse code. Here's a comprehensive guide on how to import them."
   ]
  },
  {
   "cell_type": "code",
   "execution_count": 10,
   "id": "17ebc899",
   "metadata": {},
   "outputs": [
    {
     "name": "stdout",
     "output_type": "stream",
     "text": [
      "4.0\n",
      "8.0\n",
      "120\n",
      "6\n",
      "60\n",
      "1.0\n",
      "3.141592653589793\n",
      "3.14\n"
     ]
    }
   ],
   "source": [
    "import math\n",
    "a=math.pi\n",
    "print(math.sqrt(16))\n",
    "print(math.pow(2, 3))\n",
    "print(math.factorial(5))\n",
    "print(math.gcd(48, 18))\n",
    "print(math.lcm(12, 15))\n",
    "print(math.sin(math.pi / 2))\n",
    "print(math.pi)\n",
    "print(f\"{a:.2f}\")"
   ]
  },
  {
   "cell_type": "code",
   "execution_count": 12,
   "id": "bda78b5b",
   "metadata": {},
   "outputs": [
    {
     "name": "stdout",
     "output_type": "stream",
     "text": [
      "5.0\n",
      "3.14\n"
     ]
    }
   ],
   "source": [
    "from math import sqrt, pi\n",
    "print(sqrt(25))\n",
    "print(f\"{pi:.2f}\")"
   ]
  },
  {
   "cell_type": "code",
   "execution_count": 17,
   "id": "040ea01e",
   "metadata": {},
   "outputs": [
    {
     "name": "stdout",
     "output_type": "stream",
     "text": [
      "6.0\n"
     ]
    }
   ],
   "source": [
    "from math import * ## Import all functions from the math module\n",
    "print(sqrt(36))"
   ]
  },
  {
   "cell_type": "code",
   "execution_count": null,
   "id": "6c325549",
   "metadata": {},
   "outputs": [
    {
     "name": "stdout",
     "output_type": "stream",
     "text": [
      "6.0\n"
     ]
    }
   ],
   "source": [
    "import numpy as np\n",
    "print(np.sqrt(36))"
   ]
  },
  {
   "cell_type": "code",
   "execution_count": 16,
   "id": "b7e17ebd",
   "metadata": {},
   "outputs": [
    {
     "name": "stdout",
     "output_type": "stream",
     "text": [
      "[1 2 3 4 5]\n",
      "[0 2 4 6 8]\n"
     ]
    }
   ],
   "source": [
    "print(np.array([1, 2, 3, 4, 5]))\n",
    "print(np.arange(0, 10, 2))"
   ]
  },
  {
   "cell_type": "markdown",
   "id": "866f9534",
   "metadata": {},
   "source": [
    "#### Implementation of custom modules and packages \n",
    "- location \"package\" folder(package-> package/__init__.py -> package/math.py)"
   ]
  },
  {
   "cell_type": "code",
   "execution_count": 18,
   "id": "30c6d72a",
   "metadata": {},
   "outputs": [
    {
     "name": "stdout",
     "output_type": "stream",
     "text": [
      "15\n"
     ]
    }
   ],
   "source": [
    "from package.math import addition\n",
    "print(addition(5, 10))"
   ]
  },
  {
   "cell_type": "code",
   "execution_count": 20,
   "id": "d13e00cd",
   "metadata": {},
   "outputs": [
    {
     "name": "stdout",
     "output_type": "stream",
     "text": [
      "20\n"
     ]
    }
   ],
   "source": [
    "from package import math\n",
    "print(math.addition(5, 15))"
   ]
  }
 ],
 "metadata": {
  "kernelspec": {
   "display_name": "Python 3",
   "language": "python",
   "name": "python3"
  },
  "language_info": {
   "codemirror_mode": {
    "name": "ipython",
    "version": 3
   },
   "file_extension": ".py",
   "mimetype": "text/x-python",
   "name": "python",
   "nbconvert_exporter": "python",
   "pygments_lexer": "ipython3",
   "version": "3.13.5"
  }
 },
 "nbformat": 4,
 "nbformat_minor": 5
}
