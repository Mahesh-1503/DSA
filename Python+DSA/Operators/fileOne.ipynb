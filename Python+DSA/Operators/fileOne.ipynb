{
 "cells": [
  {
   "cell_type": "code",
   "execution_count": 1,
   "id": "f5c170ca",
   "metadata": {},
   "outputs": [
    {
     "name": "stdout",
     "output_type": "stream",
     "text": [
      "Addition: 15\n",
      "Subtraction: 5\n",
      "Multiplication: 50\n",
      "Division: 2.0\n",
      "Modulus: 0\n",
      "Exponentiation: 100000\n",
      "Floor Division: 2\n"
     ]
    }
   ],
   "source": [
    "## Arithmetic Operations\n",
    "a = 10\n",
    "b = 5\n",
    "# Addition\n",
    "addition = a + b\n",
    "# Subtraction\n",
    "subtraction = a - b\n",
    "# Multiplication\n",
    "multiplication = a * b\n",
    "# Division\n",
    "division = a / b\n",
    "# Modulus\n",
    "modulus = a % b\n",
    "# Exponentiation\n",
    "exponentiation = a ** b\n",
    "\n",
    "print(\"Addition:\", addition)\n",
    "print(\"Subtraction:\", subtraction)\n",
    "print(\"Multiplication:\", multiplication)\n",
    "print(\"Division:\", division)\n",
    "print(\"Modulus:\", modulus)\n",
    "print(\"Exponentiation:\", exponentiation)\n",
    "# Floor Division\n",
    "floor_division = a // b\n",
    "print(\"Floor Division:\", floor_division)"
   ]
  },
  {
   "cell_type": "code",
   "execution_count": 2,
   "id": "7f25695b",
   "metadata": {},
   "outputs": [
    {
     "name": "stdout",
     "output_type": "stream",
     "text": [
      "False\n",
      "True\n",
      "True\n",
      "False\n",
      "True\n",
      "False\n"
     ]
    }
   ],
   "source": [
    "## Comparison Operations\n",
    "## ==, !=, >, <, >=, <=\n",
    "a = 10\n",
    "b = 5\n",
    "print(a == b)  # False\n",
    "print(a != b)  # True\n",
    "print(a > b)  # True\n",
    "print(a < b)  # False\n",
    "print(a >= b)  # True\n",
    "print(a <= b)  # False"
   ]
  },
  {
   "cell_type": "code",
   "execution_count": 3,
   "id": "907936e0",
   "metadata": {},
   "outputs": [
    {
     "data": {
      "text/plain": [
       "False"
      ]
     },
     "execution_count": 3,
     "metadata": {},
     "output_type": "execute_result"
    }
   ],
   "source": [
    "str1 = \"Mahesh\"\n",
    "str2 = \"Kumar\"\n",
    "str1 == str2  # False"
   ]
  },
  {
   "cell_type": "markdown",
   "id": "98002324",
   "metadata": {},
   "source": [
    "### Logical Operations"
   ]
  },
  {
   "cell_type": "code",
   "execution_count": 1,
   "id": "ba206f36",
   "metadata": {},
   "outputs": [
    {
     "name": "stdout",
     "output_type": "stream",
     "text": [
      "X and Y: True\n"
     ]
    }
   ],
   "source": [
    "## And, Not, Or\n",
    "X = True\n",
    "Y = True\n",
    "result = X and Y\n",
    "print(\"X and Y:\", result)  # True"
   ]
  },
  {
   "cell_type": "code",
   "execution_count": 3,
   "id": "2d633bb4",
   "metadata": {},
   "outputs": [
    {
     "name": "stdout",
     "output_type": "stream",
     "text": [
      "X and Y: False\n"
     ]
    }
   ],
   "source": [
    "X = True\n",
    "Y = False\n",
    "result = X and Y\n",
    "print(\"X and Y:\", result)  # False"
   ]
  },
  {
   "cell_type": "code",
   "execution_count": 4,
   "id": "110d25fc",
   "metadata": {},
   "outputs": [
    {
     "name": "stdout",
     "output_type": "stream",
     "text": [
      "X or Y: True\n"
     ]
    }
   ],
   "source": [
    "## OR\n",
    "X = True\n",
    "Y = False\n",
    "result = X or Y\n",
    "print(\"X or Y:\", result)  # True"
   ]
  },
  {
   "cell_type": "code",
   "execution_count": 5,
   "id": "28e1f563",
   "metadata": {},
   "outputs": [
    {
     "name": "stdout",
     "output_type": "stream",
     "text": [
      "X or Y: True\n"
     ]
    }
   ],
   "source": [
    "X = True\n",
    "Y = True\n",
    "result = X or Y\n",
    "print(\"X or Y:\", result)  # True"
   ]
  },
  {
   "cell_type": "code",
   "execution_count": 7,
   "id": "4c007cf9",
   "metadata": {},
   "outputs": [
    {
     "name": "stdout",
     "output_type": "stream",
     "text": [
      "not X: False\n",
      "not Y: True\n"
     ]
    }
   ],
   "source": [
    "## NOT operator\n",
    "X = True\n",
    "Y = False\n",
    "result = not X\n",
    "result2 = not Y\n",
    "print(\"not X:\", result)  # False\n",
    "print(\"not Y:\", result2)  # True\n"
   ]
  },
  {
   "cell_type": "code",
   "execution_count": null,
   "id": "fa93caab",
   "metadata": {},
   "outputs": [],
   "source": []
  }
 ],
 "metadata": {
  "kernelspec": {
   "display_name": "base",
   "language": "python",
   "name": "python3"
  },
  "language_info": {
   "codemirror_mode": {
    "name": "ipython",
    "version": 3
   },
   "file_extension": ".py",
   "mimetype": "text/x-python",
   "name": "python",
   "nbconvert_exporter": "python",
   "pygments_lexer": "ipython3",
   "version": "3.12.7"
  }
 },
 "nbformat": 4,
 "nbformat_minor": 5
}
