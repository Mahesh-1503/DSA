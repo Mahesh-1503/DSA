{
 "cells": [
  {
   "cell_type": "code",
   "execution_count": 1,
   "id": "f5c170ca",
   "metadata": {},
   "outputs": [
    {
     "name": "stdout",
     "output_type": "stream",
     "text": [
      "Addition: 15\n",
      "Subtraction: 5\n",
      "Multiplication: 50\n",
      "Division: 2.0\n",
      "Modulus: 0\n",
      "Exponentiation: 100000\n",
      "Floor Division: 2\n"
     ]
    }
   ],
   "source": [
    "## Arithmetic Operations\n",
    "a = 10\n",
    "b = 5\n",
    "# Addition\n",
    "addition = a + b\n",
    "# Subtraction\n",
    "subtraction = a - b\n",
    "# Multiplication\n",
    "multiplication = a * b\n",
    "# Division\n",
    "division = a / b\n",
    "# Modulus\n",
    "modulus = a % b\n",
    "# Exponentiation\n",
    "exponentiation = a ** b\n",
    "\n",
    "print(\"Addition:\", addition)\n",
    "print(\"Subtraction:\", subtraction)\n",
    "print(\"Multiplication:\", multiplication)\n",
    "print(\"Division:\", division)\n",
    "print(\"Modulus:\", modulus)\n",
    "print(\"Exponentiation:\", exponentiation)\n",
    "# Floor Division\n",
    "floor_division = a // b\n",
    "print(\"Floor Division:\", floor_division)"
   ]
  },
  {
   "cell_type": "code",
   "execution_count": 2,
   "id": "7f25695b",
   "metadata": {},
   "outputs": [
    {
     "name": "stdout",
     "output_type": "stream",
     "text": [
      "False\n",
      "True\n",
      "True\n",
      "False\n",
      "True\n",
      "False\n"
     ]
    }
   ],
   "source": [
    "## Comparison Operations\n",
    "## ==, !=, >, <, >=, <=\n",
    "a = 10\n",
    "b = 5\n",
    "print(a == b)  # False\n",
    "print(a != b)  # True\n",
    "print(a > b)  # True\n",
    "print(a < b)  # False\n",
    "print(a >= b)  # True\n",
    "print(a <= b)  # False"
   ]
  },
  {
   "cell_type": "code",
   "execution_count": 3,
   "id": "907936e0",
   "metadata": {},
   "outputs": [
    {
     "data": {
      "text/plain": [
       "False"
      ]
     },
     "execution_count": 3,
     "metadata": {},
     "output_type": "execute_result"
    }
   ],
   "source": [
    "str1 = \"Mahesh\"\n",
    "str2 = \"Kumar\"\n",
    "str1 == str2  # False"
   ]
  },
  {
   "cell_type": "markdown",
   "id": "98002324",
   "metadata": {},
   "source": [
    "### Logical Operations"
   ]
  },
  {
   "cell_type": "code",
   "execution_count": 1,
   "id": "ba206f36",
   "metadata": {},
   "outputs": [
    {
     "name": "stdout",
     "output_type": "stream",
     "text": [
      "X and Y: True\n"
     ]
    }
   ],
   "source": [
    "## And, Not, Or\n",
    "X = True\n",
    "Y = True\n",
    "result = X and Y\n",
    "print(\"X and Y:\", result)  # True"
   ]
  },
  {
   "cell_type": "code",
   "execution_count": 3,
   "id": "2d633bb4",
   "metadata": {},
   "outputs": [
    {
     "name": "stdout",
     "output_type": "stream",
     "text": [
      "X and Y: False\n"
     ]
    }
   ],
   "source": [
    "X = True\n",
    "Y = False\n",
    "result = X and Y\n",
    "print(\"X and Y:\", result)  # False"
   ]
  },
  {
   "cell_type": "code",
   "execution_count": 4,
   "id": "110d25fc",
   "metadata": {},
   "outputs": [
    {
     "name": "stdout",
     "output_type": "stream",
     "text": [
      "X or Y: True\n"
     ]
    }
   ],
   "source": [
    "## OR\n",
    "X = True\n",
    "Y = False\n",
    "result = X or Y\n",
    "print(\"X or Y:\", result)  # True"
   ]
  },
  {
   "cell_type": "code",
   "execution_count": 5,
   "id": "28e1f563",
   "metadata": {},
   "outputs": [
    {
     "name": "stdout",
     "output_type": "stream",
     "text": [
      "X or Y: True\n"
     ]
    }
   ],
   "source": [
    "X = True\n",
    "Y = True\n",
    "result = X or Y\n",
    "print(\"X or Y:\", result)  # True"
   ]
  },
  {
   "cell_type": "code",
   "execution_count": 7,
   "id": "4c007cf9",
   "metadata": {},
   "outputs": [
    {
     "name": "stdout",
     "output_type": "stream",
     "text": [
      "not X: False\n",
      "not Y: True\n"
     ]
    }
   ],
   "source": [
    "## NOT operator\n",
    "X = True\n",
    "Y = False\n",
    "result = not X\n",
    "result2 = not Y\n",
    "print(\"not X:\", result)  # False\n",
    "print(\"not Y:\", result2)  # True\n"
   ]
  },
  {
   "cell_type": "markdown",
   "id": "64df3831",
   "metadata": {},
   "source": [
    "#### Assignment Operators"
   ]
  },
  {
   "cell_type": "code",
   "execution_count": 1,
   "id": "fa93caab",
   "metadata": {},
   "outputs": [
    {
     "name": "stdout",
     "output_type": "stream",
     "text": [
      "Initial value of a: 20\n",
      "After 'a += 5': 25\n",
      "After 'a -= 10': 15\n",
      "After 'a *= 2': 30\n",
      "After 'a /= 4': 7.5\n",
      "After 'a %= 7' (from a=30): 2\n",
      "After 'a **= 3': 8\n",
      "After 'a //= 5' (from a=17): 3\n"
     ]
    }
   ],
   "source": [
    "# assignment_operators_demo.py\n",
    "\n",
    "# 1. Simple Assignment (=)\n",
    "# Assign the value 20 to the variable 'a'\n",
    "a = 20\n",
    "print(f\"Initial value of a: {a}\") # Output: 20\n",
    "\n",
    "# 2. Addition Assignment (+=)\n",
    "# This is equivalent to: a = a + 5\n",
    "a += 5\n",
    "print(f\"After 'a += 5': {a}\") # Output: 25\n",
    "\n",
    "# 3. Subtraction Assignment (-=)\n",
    "# This is equivalent to: a = a - 10\n",
    "a -= 10\n",
    "print(f\"After 'a -= 10': {a}\") # Output: 15\n",
    "\n",
    "# 4. Multiplication Assignment (*=)\n",
    "# This is equivalent to: a = a * 2\n",
    "a *= 2\n",
    "print(f\"After 'a *= 2': {a}\") # Output: 30\n",
    "\n",
    "# 5. Division Assignment (/=)\n",
    "# This is equivalent to: a = a / 4. Note the result is a float.\n",
    "a /= 4\n",
    "print(f\"After 'a /= 4': {a}\") # Output: 7.5\n",
    "\n",
    "# 6. Modulus Assignment (%=)\n",
    "# Let's reset 'a' to an integer for a clearer modulus example\n",
    "a = 30\n",
    "# This is equivalent to: a = a % 7 (30 divided by 7 is 4 with a remainder of 2)\n",
    "a %= 7\n",
    "print(f\"After 'a %= 7' (from a=30): {a}\") # Output: 2\n",
    "\n",
    "# 7. Exponentiation Assignment (**=)\n",
    "# This is equivalent to: a = a ** 3 (2 to the power of 3)\n",
    "a **= 3\n",
    "print(f\"After 'a **= 3': {a}\") # Output: 8\n",
    "\n",
    "# 8. Floor Division Assignment (//=)\n",
    "# Let's reset 'a' again for a clearer floor division example\n",
    "a = 17\n",
    "# This is equivalent to: a = a // 5 (17 divided by 5 is 3.4, floor is 3)\n",
    "a //= 5\n",
    "print(f\"After 'a //= 5' (from a=17): {a}\") # Output: 3"
   ]
  },
  {
   "cell_type": "markdown",
   "id": "2f12e3b1",
   "metadata": {},
   "source": [
    "#### Identity Operators ==> is, is not"
   ]
  },
  {
   "cell_type": "code",
   "execution_count": 2,
   "id": "17ea2917",
   "metadata": {},
   "outputs": [
    {
     "name": "stdout",
     "output_type": "stream",
     "text": [
      "list_a is list_b: False\n",
      "list_a is list_c: True\n"
     ]
    }
   ],
   "source": [
    "list_a = [1, 2, 3]\n",
    "list_b = [1, 2, 3]\n",
    "list_c = list_a # list_c now points to the same object as list_a\n",
    "\n",
    "# Check for IDENTITY\n",
    "print(f\"list_a is list_b: {list_a is list_b}\") # False, because they are two different objects\n",
    "\n",
    "print(f\"list_a is list_c: {list_a is list_c}\") # True, because they point to the exact same object"
   ]
  },
  {
   "cell_type": "code",
   "execution_count": 3,
   "id": "f6a2c30d",
   "metadata": {},
   "outputs": [
    {
     "name": "stdout",
     "output_type": "stream",
     "text": [
      "list_a is not list_b: True\n",
      "list_a is not list_c: False\n"
     ]
    }
   ],
   "source": [
    "list_a = [1, 2, 3]\n",
    "list_b = [1, 2, 3]\n",
    "list_c = list_a\n",
    "\n",
    "# Check for non-identity\n",
    "print(f\"list_a is not list_b: {list_a is not list_b}\") # True, they are different objects\n",
    "\n",
    "print(f\"list_a is not list_c: {list_a is not list_c}\") # False, they are the same object"
   ]
  },
  {
   "cell_type": "code",
   "execution_count": 4,
   "id": "73c15b56",
   "metadata": {},
   "outputs": [
    {
     "name": "stdout",
     "output_type": "stream",
     "text": [
      "list_a is list_b: False\n",
      "list_a == list_b: True\n"
     ]
    }
   ],
   "source": [
    "list_a = [10, 20, 30]\n",
    "list_b = [10, 20, 30]\n",
    "\n",
    "# IDENTITY check (are they the same object?)\n",
    "print(f\"list_a is list_b: {list_a is list_b}\") # False\n",
    "\n",
    "# EQUALITY check (do they have the same content?)\n",
    "print(f\"list_a == list_b: {list_a == list_b}\") # True"
   ]
  },
  {
   "cell_type": "code",
   "execution_count": 5,
   "id": "1b55afae",
   "metadata": {},
   "outputs": [
    {
     "name": "stdout",
     "output_type": "stream",
     "text": [
      "The variable is None.\n"
     ]
    }
   ],
   "source": [
    "my_variable = None # Change this to test different scenarios\n",
    "\n",
    "if my_variable is None:\n",
    "    print(\"The variable is None.\")\n",
    "\n",
    "if my_variable is not None:\n",
    "    print(\"The variable is not None.\")"
   ]
  },
  {
   "cell_type": "code",
   "execution_count": 6,
   "id": "3b537d69",
   "metadata": {},
   "outputs": [
    {
     "name": "stdout",
     "output_type": "stream",
     "text": [
      "True\n",
      "False\n",
      "False\n",
      "True\n",
      "True\n"
     ]
    }
   ],
   "source": [
    "## Membership Operators\n",
    "# membership_operators_demo.py\n",
    "\n",
    "# Define a list of fruits\n",
    "fruits = ['apple', 'banana', 'cherry']\n",
    "\n",
    "# Check if 'apple' is in the list\n",
    "print('apple' in fruits)  # Output: True\n",
    "\n",
    "# Check if 'orange' is in the list\n",
    "print('orange' in fruits)  # Output: False\n",
    "# Check if 'banana' is not in the list\n",
    "print('banana' not in fruits)  # Output: False\n",
    "# Check if 'grape' is not in the list\n",
    "print('grape' not in fruits)  # Output: True\n",
    "# Define a string\n",
    "greeting = \"Hello, welcome to Python programming!\"\n",
    "# Check if 'Python' is in the string\n",
    "print('Python' in greeting)  # Output: True"
   ]
  }
 ],
 "metadata": {
  "kernelspec": {
   "display_name": "Python 3",
   "language": "python",
   "name": "python3"
  },
  "language_info": {
   "codemirror_mode": {
    "name": "ipython",
    "version": 3
   },
   "file_extension": ".py",
   "mimetype": "text/x-python",
   "name": "python",
   "nbconvert_exporter": "python",
   "pygments_lexer": "ipython3",
   "version": "3.13.5"
  }
 },
 "nbformat": 4,
 "nbformat_minor": 5
}
