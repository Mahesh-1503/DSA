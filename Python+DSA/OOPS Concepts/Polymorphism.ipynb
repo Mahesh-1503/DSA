{
 "cells": [
  {
   "cell_type": "markdown",
   "id": "994721b3",
   "metadata": {},
   "source": [
    "#### Polymorphism"
   ]
  },
  {
   "cell_type": "markdown",
   "id": "da1486ec",
   "metadata": {},
   "source": [
    "Polymorphism is a concept in object-oriented programming that allows objects of different classes to be treated as objects of a common superclass. It enables us to perform a single action in different ways. Polymorphism is typically achieved through method overriding and interfaces"
   ]
  },
  {
   "cell_type": "markdown",
   "id": "fe01c332",
   "metadata": {},
   "source": [
    "#### Method Overriding"
   ]
  },
  {
   "cell_type": "markdown",
   "id": "9522e644",
   "metadata": {},
   "source": [
    "Method overriding allows a child class to provide a specific implementation of a method that is already defined in its parent class. This allows us to override the behavior of a method in a subclass while still maintaining the same method signature as the parent class."
   ]
  },
  {
   "cell_type": "code",
   "execution_count": null,
   "id": "86b38b42",
   "metadata": {},
   "outputs": [
    {
     "name": "stdout",
     "output_type": "stream",
     "text": [
      "Hello!\n",
      "Hello, Alice!\n",
      "Hello, Bob! You are 30 years old.\n"
     ]
    }
   ],
   "source": [
    "class Greeter:\n",
    "    def greet(self, *args):\n",
    "        if len(args) == 0:\n",
    "            print(\"Hello!\")\n",
    "        elif len(args) == 1:\n",
    "            print(f\"Hello, {args[0]}!\")\n",
    "        elif len(args) == 2:\n",
    "            print(f\"Hello, {args[0]}! You are {args[1]} years old.\")\n",
    "\n",
    "greeter = Greeter()\n",
    "greeter.greet()\n",
    "greeter.greet(\"Alice\")\n",
    "greeter.greet(\"Bob\", 30)"
   ]
  },
  {
   "cell_type": "markdown",
   "id": "fcb13c5b",
   "metadata": {},
   "source": [
    "Method Overriding Example"
   ]
  },
  {
   "cell_type": "code",
   "execution_count": 9,
   "id": "dba547e6",
   "metadata": {},
   "outputs": [
    {
     "name": "stdout",
     "output_type": "stream",
     "text": [
      "Sound of the animal.\n",
      "Dog---->Bow.\n",
      "Cat---->Meow.\n"
     ]
    }
   ],
   "source": [
    "## Base Class\n",
    "class Animal:\n",
    "    def speak(self):\n",
    "        return \"Sound of the animal.\"\n",
    "## Derived Class\n",
    "class Dog(Animal):\n",
    "    def speak(self):\n",
    "        return \"Dog---->Bow.\"\n",
    "## Derived Class\n",
    "class Cat(Animal):\n",
    "    def speak(self):\n",
    "        return \"Cat---->Meow.\"\n",
    "## Usage\n",
    "def display(animal):\n",
    "    print(animal.speak())\n",
    "if __name__ == \"__main__\":\n",
    "    base_class=Animal()\n",
    "    display(base_class)\n",
    "    dog = Dog()\n",
    "    cat = Cat()\n",
    "    display(dog)\n",
    "    display(cat)"
   ]
  },
  {
   "cell_type": "markdown",
   "id": "73e3815a",
   "metadata": {},
   "source": [
    "#### Polymorphism with Functions and Methods"
   ]
  },
  {
   "cell_type": "code",
   "execution_count": null,
   "id": "bc4edd27",
   "metadata": {},
   "outputs": [],
   "source": [
    "## Base Class\n",
    "class Shape:\n",
    "    def area(self):\n",
    "        return \"The area of the figure.\"\n",
    "    "
   ]
  }
 ],
 "metadata": {
  "kernelspec": {
   "display_name": "Python 3",
   "language": "python",
   "name": "python3"
  },
  "language_info": {
   "codemirror_mode": {
    "name": "ipython",
    "version": 3
   },
   "file_extension": ".py",
   "mimetype": "text/x-python",
   "name": "python",
   "nbconvert_exporter": "python",
   "pygments_lexer": "ipython3",
   "version": "3.13.5"
  }
 },
 "nbformat": 4,
 "nbformat_minor": 5
}
