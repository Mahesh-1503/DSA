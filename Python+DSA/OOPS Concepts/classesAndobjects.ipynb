{
 "cells": [
  {
   "cell_type": "markdown",
   "id": "f01ca7dd",
   "metadata": {},
   "source": [
    "#### Classes and Objects"
   ]
  },
  {
   "cell_type": "markdown",
   "id": "c592cc63",
   "metadata": {},
   "source": [
    "Object-Oriented Programming (OOP) is a programming paradigm that uses \"objects\" to design applications and computer programs. OOP allows for modeling real-world scenarios using classes and objects. This lesson covers the basics of creating classes and objects including instance variables, methods."
   ]
  },
  {
   "cell_type": "markdown",
   "id": "d82d7320",
   "metadata": {},
   "source": [
    "A class is a blue print for creating objects. Attributes, methods"
   ]
  },
  {
   "cell_type": "code",
   "execution_count": 5,
   "id": "46f5603f",
   "metadata": {},
   "outputs": [
    {
     "name": "stdout",
     "output_type": "stream",
     "text": [
      "<class '__main__.Car'>\n",
      "<class '__main__.Car'>\n"
     ]
    }
   ],
   "source": [
    "class Car:\n",
    "    pass\n",
    "audi=Car()\n",
    "bmw=Car()\n",
    "print(type(audi))\n",
    "print(type(bmw))"
   ]
  },
  {
   "cell_type": "code",
   "execution_count": 6,
   "id": "d7ad5a23",
   "metadata": {},
   "outputs": [
    {
     "name": "stdout",
     "output_type": "stream",
     "text": [
      "<__main__.Car object at 0x000001EA934CC2F0>\n",
      "<__main__.Car object at 0x000001EA932D74D0>\n"
     ]
    }
   ],
   "source": [
    "print(audi)\n",
    "print(bmw)"
   ]
  },
  {
   "cell_type": "code",
   "execution_count": 8,
   "id": "ca4d4ca4",
   "metadata": {},
   "outputs": [
    {
     "data": {
      "text/plain": [
       "['__class__',\n",
       " '__delattr__',\n",
       " '__dict__',\n",
       " '__dir__',\n",
       " '__doc__',\n",
       " '__eq__',\n",
       " '__firstlineno__',\n",
       " '__format__',\n",
       " '__ge__',\n",
       " '__getattribute__',\n",
       " '__getstate__',\n",
       " '__gt__',\n",
       " '__hash__',\n",
       " '__init__',\n",
       " '__init_subclass__',\n",
       " '__le__',\n",
       " '__lt__',\n",
       " '__module__',\n",
       " '__ne__',\n",
       " '__new__',\n",
       " '__reduce__',\n",
       " '__reduce_ex__',\n",
       " '__repr__',\n",
       " '__setattr__',\n",
       " '__sizeof__',\n",
       " '__static_attributes__',\n",
       " '__str__',\n",
       " '__subclasshook__',\n",
       " '__weakref__',\n",
       " 'color',\n",
       " 'milage']"
      ]
     },
     "execution_count": 8,
     "metadata": {},
     "output_type": "execute_result"
    }
   ],
   "source": [
    "dir(audi)"
   ]
  },
  {
   "cell_type": "markdown",
   "id": "855f9546",
   "metadata": {},
   "source": [
    "Instance Variables and Methods"
   ]
  },
  {
   "cell_type": "code",
   "execution_count": 11,
   "id": "db507f88",
   "metadata": {},
   "outputs": [
    {
     "name": "stdout",
     "output_type": "stream",
     "text": [
      "Tommy\n",
      "Bruno\n",
      "Bulldog\n",
      "German Shepherd\n",
      "<__main__.Dog object at 0x000001EA934CDD30>\n"
     ]
    }
   ],
   "source": [
    "class Dog:\n",
    "    ## constructor\n",
    "    def __init__(self,name,breed):\n",
    "        self.name=name\n",
    "        self.breed=breed\n",
    "## Creating objects\n",
    "dog1=Dog(\"Tommy\",\"Bulldog\")\n",
    "dog2=Dog(\"Bruno\",\"German Shepherd\")\n",
    "print(dog1.name)\n",
    "print(dog2.name)\n",
    "print(dog1.breed)\n",
    "print(dog2.breed)\n",
    "print(dog1)"
   ]
  },
  {
   "cell_type": "markdown",
   "id": "34cb1993",
   "metadata": {},
   "source": [
    "Define a class with instance methods"
   ]
  },
  {
   "cell_type": "code",
   "execution_count": 17,
   "id": "a64a404e",
   "metadata": {},
   "outputs": [
    {
     "name": "stdout",
     "output_type": "stream",
     "text": [
      "Tommy says Woof! and is of breed Bulldog\n",
      "Bruno says Woof! and is of breed German Shepherd\n"
     ]
    }
   ],
   "source": [
    "class Dog:\n",
    "    def __init__(self,name,breed):\n",
    "        self.name=name\n",
    "        self.breed=breed\n",
    "    def bark(self):\n",
    "        return f\"{self.name} says Woof! and is of breed {self.breed}\"\n",
    "dog1=Dog(\"Tommy\",\"Bulldog\")\n",
    "dog2=Dog(\"Bruno\",\"German Shepherd\")\n",
    "print(dog1.bark())\n",
    "print(dog2.bark())"
   ]
  },
  {
   "cell_type": "markdown",
   "id": "54ef87b4",
   "metadata": {},
   "source": [
    "Modeling a Bank Account"
   ]
  },
  {
   "cell_type": "code",
   "execution_count": null,
   "id": "ecff4320",
   "metadata": {},
   "outputs": [
    {
     "name": "stdout",
     "output_type": "stream",
     "text": [
      "500 deposited.\n",
      "New balance is 100500\n",
      "2000 withdrawn.\n",
      "New balance is 98500\n",
      "Account balance is 98500\n"
     ]
    }
   ],
   "source": [
    "# Define a Class for bank account\n",
    "class BankAccount:\n",
    "    def __init__(self,owner,balance=0):\n",
    "        self.owner=owner\n",
    "        self.balance=balance\n",
    "    def deposit(self,amount):\n",
    "        self.balance+=amount\n",
    "        return f\"{amount} deposited.\\nNew balance is {self.balance}\"\n",
    "    def withdraw(self,amount):\n",
    "        if amount>self.balance:\n",
    "            return \"Insufficient balance\"\n",
    "        else:\n",
    "            self.balance-=amount\n",
    "            return f\"{amount} withdrawn.\\nNew balance is {self.balance}\"\n",
    "    def get_balance(self):\n",
    "        return f\"Account balance is {self.balance}\"\n",
    "account1=BankAccount(\"Tommy\",100000)\n",
    "print(account1.deposit(500))\n",
    "print(account1.withdraw(2000))\n",
    "print(account1.get_balance())"
   ]
  }
 ],
 "metadata": {
  "kernelspec": {
   "display_name": "Python 3",
   "language": "python",
   "name": "python3"
  },
  "language_info": {
   "codemirror_mode": {
    "name": "ipython",
    "version": 3
   },
   "file_extension": ".py",
   "mimetype": "text/x-python",
   "name": "python",
   "nbconvert_exporter": "python",
   "pygments_lexer": "ipython3",
   "version": "3.13.5"
  }
 },
 "nbformat": 4,
 "nbformat_minor": 5
}
