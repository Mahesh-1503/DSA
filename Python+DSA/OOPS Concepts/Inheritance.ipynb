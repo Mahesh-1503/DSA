{
 "cells": [
  {
   "cell_type": "markdown",
   "id": "11fc4362",
   "metadata": {},
   "source": [
    "#### Inheritance In Python"
   ]
  },
  {
   "cell_type": "markdown",
   "id": "42648229",
   "metadata": {},
   "source": [
    "Inheritance is a fundamental concept in Object-Oriented Programming (OOP) that allows a class to inherit attributes and methods from another class. This lesson covers single inheritance and multiple inheritance, demonstrating how to create and use them in python."
   ]
  },
  {
   "cell_type": "code",
   "execution_count": 2,
   "id": "0b8f4524",
   "metadata": {},
   "outputs": [],
   "source": [
    "## Parent Class\n",
    "class Car:\n",
    "    def __init__(self, windows, doors, engineType):\n",
    "        self.windows = windows\n",
    "        self.doors = doors\n",
    "        self.engineType = engineType\n",
    "    def drive(self):\n",
    "        print(f\"The person will drive the {self.engineType} car\")"
   ]
  },
  {
   "cell_type": "code",
   "execution_count": 3,
   "id": "2b896841",
   "metadata": {},
   "outputs": [
    {
     "name": "stdout",
     "output_type": "stream",
     "text": [
      "The person will drive the Petrol car\n"
     ]
    }
   ],
   "source": [
    "car1=Car(4, 4, \"Petrol\")\n",
    "car1.drive()"
   ]
  },
  {
   "cell_type": "code",
   "execution_count": 17,
   "id": "4a4f8244",
   "metadata": {},
   "outputs": [
    {
     "name": "stdout",
     "output_type": "stream",
     "text": [
      "The person will drive the Electric car\n",
      "Tesla supports autopilot: True\n",
      "The person will drive the Electric car\n",
      "Tesla supports autopilot: False\n"
     ]
    }
   ],
   "source": [
    "## Child Class\n",
    "class Tesla(Car):\n",
    "    def __init__(self, windows, doors, engineType, autopilot):\n",
    "        super().__init__(windows, doors, engineType)\n",
    "        self.autopilot = autopilot\n",
    "    def autoDrive(self):\n",
    "        print(f\"Tesla supports autopilot: {self.autopilot}\")\n",
    "tesla1 = Tesla(4, 4, \"Electric\", True)\n",
    "tesla1.drive()\n",
    "tesla1.autoDrive()\n",
    "teslaOlder = Tesla(4, 4, \"Electric\", False)\n",
    "teslaOlder.drive()\n",
    "teslaOlder.autoDrive()"
   ]
  },
  {
   "cell_type": "code",
   "execution_count": 28,
   "id": "fc96c41f",
   "metadata": {},
   "outputs": [
    {
     "name": "stdout",
     "output_type": "stream",
     "text": [
      "Hi, I am Mahesh and I have 1 heart.\n",
      "I have 1 nose and 2 eyes.\n",
      "My abilities:\n",
      "I'm human, I eat food\n",
      "I can work\n",
      "I can code\n",
      "I can flirt\n"
     ]
    }
   ],
   "source": [
    "##Code 2\n",
    "class Human:\n",
    "    def __init__(self, num_heart):\n",
    "        self.num_heart = num_heart\n",
    "        self.num_nose = 1\n",
    "        self.num_eyes = 2\n",
    "    def eat(self):\n",
    "        print(\"I'm human, I eat food\")\n",
    "    def work(self):\n",
    "        print(\"I can work\")\n",
    "class Male(Human):\n",
    "    def __init__(self, name, num_heart):\n",
    "        super().__init__(num_heart) # Call the parent class constructor\n",
    "        self.name = name\n",
    "    def flirt(self):\n",
    "        print(\"I can flirt\")\n",
    "    def work(self):\n",
    "        super().work() # Call the parent class method\n",
    "        print(\"I can code\") # Overriding the work method\n",
    "    def display(self):\n",
    "        print(f\"Hi, I am {self.name} and I have {self.num_heart} heart.\")\n",
    "        print(f\"I have {self.num_nose} nose and {self.num_eyes} eyes.\")\n",
    "        print(\"My abilities:\")\n",
    "        self.eat()\n",
    "        self.work()\n",
    "        self.flirt()\n",
    "        \n",
    "\n",
    "male_1=Male(\"Mahesh\", 1)\n",
    "male_1.display()"
   ]
  },
  {
   "cell_type": "markdown",
   "id": "c092f3c9",
   "metadata": {},
   "source": [
    "#### Multiple Inheritance"
   ]
  },
  {
   "cell_type": "markdown",
   "id": "9a05494c",
   "metadata": {},
   "source": [
    "Multiple inheritance is a feature in object-oriented programming that allows a class to inherit from more than one parent class. This can be useful when a class needs to inherit attributes and methods from multiple sources."
   ]
  },
  {
   "cell_type": "code",
   "execution_count": 29,
   "id": "5c4f6adf",
   "metadata": {},
   "outputs": [
    {
     "name": "stdout",
     "output_type": "stream",
     "text": [
      "Buddy makes a sound\n",
      "This pet is owned by John\n",
      "Buddy barks\n",
      "+++++++++++++++++++++++++++\n",
      "Dog Name: Buddy\n",
      "Dog Owner: John\n",
      "Dog Breed: Golden Retriever\n",
      "(<class '__main__.Dog'>, <class '__main__.Animal'>, <class '__main__.Pet'>, <class 'object'>)\n"
     ]
    }
   ],
   "source": [
    "## Base Class 1\n",
    "class Animal:\n",
    "    def __init__(self, name):\n",
    "        self.name = name\n",
    "    def speak(self):\n",
    "        print(f\"{self.name} makes a sound\")\n",
    "## Base Class 2\n",
    "class Pet:\n",
    "    def __init__(self, owner):\n",
    "        self.owner = owner\n",
    "    def showOwner(self):\n",
    "        print(f\"This pet is owned by {self.owner}\")\n",
    "        \n",
    "#### Multiple Inheritance Derived Class\n",
    "class Dog(Animal, Pet):\n",
    "    def __init__(self, name, owner, breed):\n",
    "        Animal.__init__(self, name)\n",
    "        Pet.__init__(self, owner)\n",
    "        self.breed = breed\n",
    "    def bark(self):\n",
    "        print(f\"{self.name} barks\")\n",
    "dog1 = Dog(\"Buddy\", \"John\", \"Golden Retriever\")\n",
    "dog1.speak()\n",
    "dog1.showOwner()\n",
    "dog1.bark()\n",
    "print(\"+++++++++++++++++++++++++++\")\n",
    "print(f\"Dog Name: {dog1.name}\")\n",
    "print(f\"Dog Owner: {dog1.owner}\")\n",
    "print(f\"Dog Breed: {dog1.breed}\")\n",
    "print(Dog.__mro__)  # Method Resolution Order"
   ]
  },
  {
   "cell_type": "code",
   "execution_count": 58,
   "id": "7d72b752",
   "metadata": {},
   "outputs": [
    {
     "name": "stdout",
     "output_type": "stream",
     "text": [
      "I can eat\n",
      "I can flirt\n",
      "I can test\n",
      "I can code\n",
      "I can work\n",
      "(<class '__main__.Boy'>, <class '__main__.Human'>, <class '__main__.Male'>, <class 'object'>)\n",
      "[<class '__main__.Boy'>, <class '__main__.Human'>, <class '__main__.Male'>, <class 'object'>]\n",
      "--------------------------\n",
      "1\n",
      "Mahesh\n",
      "1\n",
      "+++++++++++++++++++++++++++\n",
      "Hi, I am Mahesh and I have 1 heart.\n",
      "I have 1 nose and 2 eyes.\n",
      "My favourite programming language is Python\n",
      "My abilities:\n",
      "I can eat\n",
      "I can test\n",
      "I can flirt\n",
      "I can sleep\n"
     ]
    }
   ],
   "source": [
    "class Human:\n",
    "    def __init__(self,num_heart):\n",
    "        # print(\"init of Human class\")\n",
    "        self.num_eyes = 2\n",
    "        self.num_nose = 1\n",
    "        self.num_heart = num_heart\n",
    "    def eat(self):\n",
    "        print(\"I can eat\")\n",
    "    def work(self):\n",
    "        print(\"I can work\")\n",
    "    \n",
    "class Male:\n",
    "    def __init__(self, name):\n",
    "        # print(\"init from Male class\")\n",
    "        self.name = name\n",
    "    def flirt(self):\n",
    "        print(\"I can flirt\")\n",
    "    def work(self):\n",
    "        print(\"I can code\")\n",
    "\n",
    "class Boy(Human, Male):\n",
    "    def __init__(self, name, num_heart,language):\n",
    "        self.language = language\n",
    "        # print(\"init from Boy class\")\n",
    "        Human.__init__(self, num_heart) # Call the parent class constructor\n",
    "        Male.__init__(self,name) # Call the parent class constructor\n",
    "    def sleep(self):\n",
    "        print(\"I can sleep\")\n",
    "    def work(self):\n",
    "        print(\"I can test\")\n",
    "    def display(self):\n",
    "        print(f\"Hi, I am {self.name} and I have {self.num_heart} heart.\")\n",
    "        print(f\"I have {self.num_nose} nose and {self.num_eyes} eyes.\")\n",
    "        print(f\"My favourite programming language is {self.language}\")\n",
    "        print(\"My abilities:\")\n",
    "        self.eat()\n",
    "        self.work()\n",
    "        self.flirt()\n",
    "        self.sleep()\n",
    "\n",
    "\n",
    "\n",
    "boy1=Boy(\"Mahesh\", 1, \"Python\")\n",
    "boy1.eat()\n",
    "boy1.flirt()\n",
    "boy1.work() # Calling work method from Boy class\n",
    "Male.work(boy1) # Calling work method from Male class\n",
    "Human.work(boy1) # Calling work method from Human class\n",
    "print(Boy.__mro__)  # Method Resolution Order\n",
    "print(Boy.mro())  # Method Resolution Order\n",
    "\n",
    "print(\"--------------------------\")\n",
    "\n",
    "print(boy1.num_nose)\n",
    "print(boy1.name)\n",
    "print(boy1.num_heart)\n",
    "\n",
    "print(\"+++++++++++++++++++++++++++\")\n",
    "boy1.display()"
   ]
  }
 ],
 "metadata": {
  "kernelspec": {
   "display_name": "Python 3",
   "language": "python",
   "name": "python3"
  },
  "language_info": {
   "codemirror_mode": {
    "name": "ipython",
    "version": 3
   },
   "file_extension": ".py",
   "mimetype": "text/x-python",
   "name": "python",
   "nbconvert_exporter": "python",
   "pygments_lexer": "ipython3",
   "version": "3.13.5"
  }
 },
 "nbformat": 4,
 "nbformat_minor": 5
}
