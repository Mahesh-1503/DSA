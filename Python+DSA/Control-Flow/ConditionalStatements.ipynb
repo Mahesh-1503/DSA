{
 "cells": [
  {
   "cell_type": "markdown",
   "id": "e73377f2",
   "metadata": {},
   "source": [
    "* if statement\n",
    "* else statement\n",
    "* elif statement\n",
    "* nested conditional statements\n",
    "* common errors best practices"
   ]
  },
  {
   "cell_type": "code",
   "execution_count": 1,
   "id": "f3425160",
   "metadata": {},
   "outputs": [
    {
     "name": "stdout",
     "output_type": "stream",
     "text": [
      "You are eligible to vote\n"
     ]
    }
   ],
   "source": [
    "## if statement\n",
    "age = 20\n",
    "if age >= 18:\n",
    "    print(\"You are eligible to vote\")"
   ]
  },
  {
   "cell_type": "code",
   "execution_count": 3,
   "id": "a2428ea4",
   "metadata": {},
   "outputs": [
    {
     "name": "stdout",
     "output_type": "stream",
     "text": [
      "You are not eligible to vote Mr.Minor\n"
     ]
    }
   ],
   "source": [
    "## else\n",
    "## The else statement is used to execute a block of code when the condition in the if statement is false.\n",
    "age = 16\n",
    "if age >= 18:\n",
    "    print(\"You are eligible to vote\")\n",
    "else:\n",
    "    print(\"You are not eligible to vote Mr.Minor\")\n",
    "    "
   ]
  },
  {
   "cell_type": "code",
   "execution_count": 4,
   "id": "00aca97b",
   "metadata": {},
   "outputs": [
    {
     "name": "stdout",
     "output_type": "stream",
     "text": [
      "You are eligible to drive\n"
     ]
    }
   ],
   "source": [
    "## elif\n",
    "## The elif statement is used to check multiple conditions in a sequence.\n",
    "age = 16\n",
    "if age >= 18:\n",
    "    print(\"You are eligible to vote\")\n",
    "elif age >= 16:\n",
    "    print(\"You are eligible to drive\")\n",
    "else:       \n",
    "    print(\"You are not eligible to vote or drive Mr.Minor\")"
   ]
  },
  {
   "cell_type": "code",
   "execution_count": null,
   "id": "dd433f3e",
   "metadata": {},
   "outputs": [
    {
     "name": "stdout",
     "output_type": "stream",
     "text": [
      "Ticket is 20rs!\n"
     ]
    }
   ],
   "source": [
    "## Nested Conditional Statements\n",
    "## The nested conditional statements are used to check multiple conditions in a sequence.\n",
    "age = int(input(\"Enter your age: \"))\n",
    "\n",
    "if age >= 0:\n",
    "    if age < 5: # nested condition 1\n",
    "        print(\"Ticket is free!\")\n",
    "    elif age <= 12: # nested condition 2\n",
    "        print(\"Ticket is 10rs!\")\n",
    "    elif age <= 60: # nested condition 3\n",
    "        print(\"Ticket is 20rs!\")\n",
    "    else: # nested condition 4\n",
    "        print(\"Ticket is 30rs!\")\n",
    "else:\n",
    "    print(\"Invalid age entered!\")"
   ]
  },
  {
   "cell_type": "code",
   "execution_count": 14,
   "id": "17a769f8",
   "metadata": {},
   "outputs": [
    {
     "name": "stdout",
     "output_type": "stream",
     "text": [
      "2024 is a leap year.\n"
     ]
    }
   ],
   "source": [
    "## Practical Examples\n",
    "## Example 1: Determine if a year is a leap year\n",
    "'''Leap Year Rules\n",
    "A year is a leap year if divisible by 4.\n",
    "\n",
    "But if it's divisible by 100, it's not a leap year.\n",
    "\n",
    "Unless it's also divisible by 400, then it is a leap year.'''\n",
    "year = int(input(\"Enter a year: \"))\n",
    "if year % 4 == 0:\n",
    "    if year % 100 == 0:\n",
    "        if year % 400 == 0:\n",
    "            print(year, \"is a leap year.\")\n",
    "        else:\n",
    "            print(year, \"is not a leap year.\")\n",
    "    else:\n",
    "        print(year, \"is a leap year.\")\n",
    "else:\n",
    "    print(year, \"is not a leap year.\")"
   ]
  },
  {
   "cell_type": "code",
   "execution_count": 1,
   "id": "c9391ee1",
   "metadata": {},
   "outputs": [
    {
     "name": "stdout",
     "output_type": "stream",
     "text": [
      "100\n"
     ]
    }
   ],
   "source": [
    "## Assignment: Simple Calculator\n",
    "## Write a program that performs basic arithmetic operations (+, -, *, /) on two numbers provided by the user.\n",
    "num1 = int(input(\"Enter the first number: \"))\n",
    "num2 = int(input(\"Enter the second number: \"))\n",
    "operation = input(\"Enter the operation (+, -, *, /): \")\n",
    "\n",
    "if operation == \"+\":\n",
    "    print(num1 + num2)\n",
    "elif operation == \"-\":\n",
    "    print(num1 - num2)\n",
    "elif operation == \"*\":\n",
    "    print(num1 * num2)\n",
    "elif operation == \"/\":\n",
    "    print(num1 / num2)\n",
    "else:\n",
    "    print(\"Invalid operation. Please enter +, -, *, or /.\")\n",
    "    "
   ]
  }
 ],
 "metadata": {
  "kernelspec": {
   "display_name": "base",
   "language": "python",
   "name": "python3"
  },
  "language_info": {
   "codemirror_mode": {
    "name": "ipython",
    "version": 3
   },
   "file_extension": ".py",
   "mimetype": "text/x-python",
   "name": "python",
   "nbconvert_exporter": "python",
   "pygments_lexer": "ipython3",
   "version": "3.12.7"
  }
 },
 "nbformat": 4,
 "nbformat_minor": 5
}
